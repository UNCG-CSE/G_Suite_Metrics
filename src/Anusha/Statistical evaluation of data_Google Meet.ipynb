{
 "cells": [
  {
   "cell_type": "code",
   "execution_count": 1,
   "metadata": {},
   "outputs": [],
   "source": [
    "import pandas as pd\n",
    "import matplotlib.pyplot as plt\n",
    "import numpy as np\n",
    "data_path = \"C:/Users/ventraak/Documents/Fall 2019/Data Science/Project/20150323-20190817-google-metrics-export - 20150323-20190817-google-metrics-export.csv\"\n",
    "data = pd.read_csv(data_path)"
   ]
  },
  {
   "cell_type": "markdown",
   "metadata": {},
   "source": [
    "Exracting Google Meet related metrics"
   ]
  },
  {
   "cell_type": "code",
   "execution_count": 19,
   "metadata": {
    "scrolled": false
   },
   "outputs": [
    {
     "data": {
      "text/html": [
       "<div>\n",
       "<style scoped>\n",
       "    .dataframe tbody tr th:only-of-type {\n",
       "        vertical-align: middle;\n",
       "    }\n",
       "\n",
       "    .dataframe tbody tr th {\n",
       "        vertical-align: top;\n",
       "    }\n",
       "\n",
       "    .dataframe thead th {\n",
       "        text-align: right;\n",
       "    }\n",
       "</style>\n",
       "<table border=\"1\" class=\"dataframe\">\n",
       "  <thead>\n",
       "    <tr style=\"text-align: right;\">\n",
       "      <th></th>\n",
       "      <th>time</th>\n",
       "      <th>metric_name</th>\n",
       "      <th>metric_value</th>\n",
       "    </tr>\n",
       "  </thead>\n",
       "  <tbody>\n",
       "    <tr>\n",
       "      <th>318219</th>\n",
       "      <td>2018-01-14T00:00:00.000-0500</td>\n",
       "      <td>google.meet:average_meeting_minutes</td>\n",
       "      <td>0</td>\n",
       "    </tr>\n",
       "    <tr>\n",
       "      <th>318220</th>\n",
       "      <td>2018-01-14T00:00:00.000-0500</td>\n",
       "      <td>google.meet:average_meeting_minutes_with_11_to...</td>\n",
       "      <td>0</td>\n",
       "    </tr>\n",
       "    <tr>\n",
       "      <th>318221</th>\n",
       "      <td>2018-01-14T00:00:00.000-0500</td>\n",
       "      <td>google.meet:average_meeting_minutes_with_16_to...</td>\n",
       "      <td>0</td>\n",
       "    </tr>\n",
       "    <tr>\n",
       "      <th>318222</th>\n",
       "      <td>2018-01-14T00:00:00.000-0500</td>\n",
       "      <td>google.meet:average_meeting_minutes_with_26_to...</td>\n",
       "      <td>0</td>\n",
       "    </tr>\n",
       "    <tr>\n",
       "      <th>318223</th>\n",
       "      <td>2018-01-14T00:00:00.000-0500</td>\n",
       "      <td>google.meet:average_meeting_minutes_with_2_calls</td>\n",
       "      <td>0</td>\n",
       "    </tr>\n",
       "  </tbody>\n",
       "</table>\n",
       "</div>"
      ],
      "text/plain": [
       "                                time  \\\n",
       "318219  2018-01-14T00:00:00.000-0500   \n",
       "318220  2018-01-14T00:00:00.000-0500   \n",
       "318221  2018-01-14T00:00:00.000-0500   \n",
       "318222  2018-01-14T00:00:00.000-0500   \n",
       "318223  2018-01-14T00:00:00.000-0500   \n",
       "\n",
       "                                              metric_name  metric_value  \n",
       "318219                google.meet:average_meeting_minutes             0  \n",
       "318220  google.meet:average_meeting_minutes_with_11_to...             0  \n",
       "318221  google.meet:average_meeting_minutes_with_16_to...             0  \n",
       "318222  google.meet:average_meeting_minutes_with_26_to...             0  \n",
       "318223   google.meet:average_meeting_minutes_with_2_calls             0  "
      ]
     },
     "execution_count": 19,
     "metadata": {},
     "output_type": "execute_result"
    }
   ],
   "source": [
    "Meet = data[data['metric_name'].str.startswith('google.meet')]\n",
    "Meet.head()"
   ]
  },
  {
   "cell_type": "markdown",
   "metadata": {},
   "source": [
    "Shape Of Data"
   ]
  },
  {
   "cell_type": "code",
   "execution_count": 20,
   "metadata": {},
   "outputs": [
    {
     "data": {
      "text/plain": [
       "(29434, 3)"
      ]
     },
     "execution_count": 20,
     "metadata": {},
     "output_type": "execute_result"
    }
   ],
   "source": [
    "Meet.shape"
   ]
  },
  {
   "cell_type": "markdown",
   "metadata": {},
   "source": [
    "Number of Metric names related to Google Meet"
   ]
  },
  {
   "cell_type": "code",
   "execution_count": 10,
   "metadata": {},
   "outputs": [
    {
     "data": {
      "text/plain": [
       "55"
      ]
     },
     "execution_count": 10,
     "metadata": {},
     "output_type": "execute_result"
    }
   ],
   "source": [
    "meet_group_names = Meet.metric_name.unique()\n",
    "len(meet_group_names)"
   ]
  },
  {
   "cell_type": "code",
   "execution_count": 15,
   "metadata": {
    "scrolled": true
   },
   "outputs": [
    {
     "data": {
      "text/plain": [
       "array(['google.meet:average_meeting_minutes',\n",
       "       'google.meet:average_meeting_minutes_with_11_to_15_calls',\n",
       "       'google.meet:average_meeting_minutes_with_16_to_25_calls',\n",
       "       'google.meet:average_meeting_minutes_with_26_to_50_calls',\n",
       "       'google.meet:average_meeting_minutes_with_2_calls',\n",
       "       'google.meet:average_meeting_minutes_with_3_to_5_calls',\n",
       "       'google.meet:average_meeting_minutes_with_6_to_10_calls',\n",
       "       'google.meet:lonely_meetings',\n",
       "       'google.meet:max_concurrent_usage_chromebase',\n",
       "       'google.meet:max_concurrent_usage_chromebox',\n",
       "       'google.meet:num_1day_active_users',\n",
       "       'google.meet:num_30day_active_users',\n",
       "       'google.meet:num_7day_active_users', 'google.meet:num_calls',\n",
       "       'google.meet:num_calls_android',\n",
       "       'google.meet:num_calls_by_external_users',\n",
       "       'google.meet:num_calls_by_internal_users',\n",
       "       'google.meet:num_calls_by_pstn_in_users',\n",
       "       'google.meet:num_calls_chromebase',\n",
       "       'google.meet:num_calls_chromebox', 'google.meet:num_calls_ios',\n",
       "       'google.meet:num_calls_jamboard',\n",
       "       'google.meet:num_calls_unknown_client',\n",
       "       'google.meet:num_calls_web', 'google.meet:num_meetings',\n",
       "       'google.meet:num_meetings_android',\n",
       "       'google.meet:num_meetings_chromebase',\n",
       "       'google.meet:num_meetings_chromebox',\n",
       "       'google.meet:num_meetings_ios',\n",
       "       'google.meet:num_meetings_jamboard',\n",
       "       'google.meet:num_meetings_unknown_client',\n",
       "       'google.meet:num_meetings_web',\n",
       "       'google.meet:num_meetings_with_11_to_15_calls',\n",
       "       'google.meet:num_meetings_with_16_to_25_calls',\n",
       "       'google.meet:num_meetings_with_26_to_50_calls',\n",
       "       'google.meet:num_meetings_with_2_calls',\n",
       "       'google.meet:num_meetings_with_3_to_5_calls',\n",
       "       'google.meet:num_meetings_with_6_to_10_calls',\n",
       "       'google.meet:num_meetings_with_external_users',\n",
       "       'google.meet:num_meetings_with_pstn_in_users',\n",
       "       'google.meet:total_call_minutes',\n",
       "       'google.meet:total_call_minutes_android',\n",
       "       'google.meet:total_call_minutes_by_external_users',\n",
       "       'google.meet:total_call_minutes_by_internal_users',\n",
       "       'google.meet:total_call_minutes_by_pstn_in_users',\n",
       "       'google.meet:total_call_minutes_chromebase',\n",
       "       'google.meet:total_call_minutes_chromebox',\n",
       "       'google.meet:total_call_minutes_ios',\n",
       "       'google.meet:total_call_minutes_jamboard',\n",
       "       'google.meet:total_call_minutes_unknown_client',\n",
       "       'google.meet:total_call_minutes_web',\n",
       "       'google.meet:total_meeting_minutes',\n",
       "       'google.meet:num_calls_by_pstn_out_users',\n",
       "       'google.meet:num_meetings_with_pstn_out_users',\n",
       "       'google.meet:total_call_minutes_by_pstn_out_users'], dtype=object)"
      ]
     },
     "execution_count": 15,
     "metadata": {},
     "output_type": "execute_result"
    }
   ],
   "source": [
    "meet_group_names"
   ]
  },
  {
   "cell_type": "markdown",
   "metadata": {},
   "source": [
    "Metric Names and the number of metric values associated with the corresponding metric name. Number of times a metric name appeared in the data set"
   ]
  },
  {
   "cell_type": "code",
   "execution_count": 17,
   "metadata": {},
   "outputs": [
    {
     "data": {
      "text/plain": [
       "google.meet:num_meetings_with_pstn_in_users         541\n",
       "google.meet:num_calls_by_pstn_in_users              541\n",
       "google.meet:num_calls_ios                           541\n",
       "google.meet:num_calls_by_internal_users             541\n",
       "google.meet:num_30day_active_users                  538\n",
       "google.meet:num_7day_active_users                   538\n",
       "google.meet:num_1day_active_users                   535\n",
       "google.meet:total_call_minutes_by_pstn_out_users    438\n",
       "google.meet:num_meetings_with_pstn_out_users        438\n",
       "google.meet:num_calls_by_pstn_out_users             438\n",
       "Name: metric_name, dtype: int64"
      ]
     },
     "execution_count": 17,
     "metadata": {},
     "output_type": "execute_result"
    }
   ],
   "source": [
    "counts = Meet['metric_name'].value_counts()\n",
    "counts.tail(10)"
   ]
  },
  {
   "cell_type": "markdown",
   "metadata": {},
   "source": [
    "Value counts is used to find the number of observations with metric value as 0,1,..\n",
    "There are 18775 observations with metric value as 0"
   ]
  },
  {
   "cell_type": "code",
   "execution_count": 22,
   "metadata": {},
   "outputs": [
    {
     "data": {
      "text/plain": [
       "0    18775\n",
       "1     1219\n",
       "2      793\n",
       "3      548\n",
       "4      370\n",
       "Name: metric_value, dtype: int64"
      ]
     },
     "execution_count": 22,
     "metadata": {},
     "output_type": "execute_result"
    }
   ],
   "source": [
    "x = Meet.metric_value.value_counts()\n",
    "x.head()"
   ]
  },
  {
   "cell_type": "markdown",
   "metadata": {},
   "source": [
    "Finding number of negative metric_values using mask. There are no negative values"
   ]
  },
  {
   "cell_type": "code",
   "execution_count": 27,
   "metadata": {},
   "outputs": [
    {
     "data": {
      "text/html": [
       "<div>\n",
       "<style scoped>\n",
       "    .dataframe tbody tr th:only-of-type {\n",
       "        vertical-align: middle;\n",
       "    }\n",
       "\n",
       "    .dataframe tbody tr th {\n",
       "        vertical-align: top;\n",
       "    }\n",
       "\n",
       "    .dataframe thead th {\n",
       "        text-align: right;\n",
       "    }\n",
       "</style>\n",
       "<table border=\"1\" class=\"dataframe\">\n",
       "  <thead>\n",
       "    <tr style=\"text-align: right;\">\n",
       "      <th></th>\n",
       "      <th>time</th>\n",
       "      <th>metric_name</th>\n",
       "      <th>metric_value</th>\n",
       "    </tr>\n",
       "  </thead>\n",
       "  <tbody>\n",
       "  </tbody>\n",
       "</table>\n",
       "</div>"
      ],
      "text/plain": [
       "Empty DataFrame\n",
       "Columns: [time, metric_name, metric_value]\n",
       "Index: []"
      ]
     },
     "execution_count": 27,
     "metadata": {},
     "output_type": "execute_result"
    }
   ],
   "source": [
    "mask = (Meet.metric_value < 0)\n",
    "Meet[mask].head()"
   ]
  },
  {
   "cell_type": "code",
   "execution_count": null,
   "metadata": {},
   "outputs": [],
   "source": []
  }
 ],
 "metadata": {
  "kernelspec": {
   "display_name": "Python 3",
   "language": "python",
   "name": "python3"
  },
  "language_info": {
   "codemirror_mode": {
    "name": "ipython",
    "version": 3
   },
   "file_extension": ".py",
   "mimetype": "text/x-python",
   "name": "python",
   "nbconvert_exporter": "python",
   "pygments_lexer": "ipython3",
   "version": "3.7.3"
  }
 },
 "nbformat": 4,
 "nbformat_minor": 2
}
