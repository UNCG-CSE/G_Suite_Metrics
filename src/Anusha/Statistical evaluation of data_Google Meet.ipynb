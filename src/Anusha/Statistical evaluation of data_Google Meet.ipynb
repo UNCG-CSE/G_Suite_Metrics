{
 "cells": [
  {
   "cell_type": "code",
   "execution_count": 1,
   "metadata": {},
   "outputs": [],
   "source": [
    "import pandas as pd\n",
    "import matplotlib.pyplot as plt\n",
    "import numpy as np\n",
    "data_path = \"C:/Users/Anusha/Documents/Copied on 9_26_19/Fall 2019/Data Science/Project/20150323-20190817-google-metrics-export - 20150323-20190817-google-metrics-export.csv\"\n",
    "data = pd.read_csv(data_path)"
   ]
  },
  {
   "cell_type": "markdown",
   "metadata": {},
   "source": [
    "Exracting Google Meet related metrics"
   ]
  },
  {
   "cell_type": "code",
   "execution_count": 2,
   "metadata": {
    "scrolled": false
   },
   "outputs": [
    {
     "data": {
      "text/html": [
       "<div>\n",
       "<style scoped>\n",
       "    .dataframe tbody tr th:only-of-type {\n",
       "        vertical-align: middle;\n",
       "    }\n",
       "\n",
       "    .dataframe tbody tr th {\n",
       "        vertical-align: top;\n",
       "    }\n",
       "\n",
       "    .dataframe thead th {\n",
       "        text-align: right;\n",
       "    }\n",
       "</style>\n",
       "<table border=\"1\" class=\"dataframe\">\n",
       "  <thead>\n",
       "    <tr style=\"text-align: right;\">\n",
       "      <th></th>\n",
       "      <th>time</th>\n",
       "      <th>metric_name</th>\n",
       "      <th>metric_value</th>\n",
       "    </tr>\n",
       "  </thead>\n",
       "  <tbody>\n",
       "    <tr>\n",
       "      <th>318219</th>\n",
       "      <td>2018-01-14T00:00:00.000-0500</td>\n",
       "      <td>google.meet:average_meeting_minutes</td>\n",
       "      <td>0</td>\n",
       "    </tr>\n",
       "    <tr>\n",
       "      <th>318220</th>\n",
       "      <td>2018-01-14T00:00:00.000-0500</td>\n",
       "      <td>google.meet:average_meeting_minutes_with_11_to...</td>\n",
       "      <td>0</td>\n",
       "    </tr>\n",
       "    <tr>\n",
       "      <th>318221</th>\n",
       "      <td>2018-01-14T00:00:00.000-0500</td>\n",
       "      <td>google.meet:average_meeting_minutes_with_16_to...</td>\n",
       "      <td>0</td>\n",
       "    </tr>\n",
       "    <tr>\n",
       "      <th>318222</th>\n",
       "      <td>2018-01-14T00:00:00.000-0500</td>\n",
       "      <td>google.meet:average_meeting_minutes_with_26_to...</td>\n",
       "      <td>0</td>\n",
       "    </tr>\n",
       "    <tr>\n",
       "      <th>318223</th>\n",
       "      <td>2018-01-14T00:00:00.000-0500</td>\n",
       "      <td>google.meet:average_meeting_minutes_with_2_calls</td>\n",
       "      <td>0</td>\n",
       "    </tr>\n",
       "  </tbody>\n",
       "</table>\n",
       "</div>"
      ],
      "text/plain": [
       "                                time  \\\n",
       "318219  2018-01-14T00:00:00.000-0500   \n",
       "318220  2018-01-14T00:00:00.000-0500   \n",
       "318221  2018-01-14T00:00:00.000-0500   \n",
       "318222  2018-01-14T00:00:00.000-0500   \n",
       "318223  2018-01-14T00:00:00.000-0500   \n",
       "\n",
       "                                              metric_name  metric_value  \n",
       "318219                google.meet:average_meeting_minutes             0  \n",
       "318220  google.meet:average_meeting_minutes_with_11_to...             0  \n",
       "318221  google.meet:average_meeting_minutes_with_16_to...             0  \n",
       "318222  google.meet:average_meeting_minutes_with_26_to...             0  \n",
       "318223   google.meet:average_meeting_minutes_with_2_calls             0  "
      ]
     },
     "execution_count": 2,
     "metadata": {},
     "output_type": "execute_result"
    }
   ],
   "source": [
    "Meet = data[data['metric_name'].str.startswith('google.meet')]\n",
    "Meet.head()"
   ]
  },
  {
   "cell_type": "code",
   "execution_count": 34,
   "metadata": {},
   "outputs": [],
   "source": [
    "Meet.to_csv('GoogleMeet.csv')"
   ]
  },
  {
   "cell_type": "markdown",
   "metadata": {},
   "source": [
    "Shape Of Data"
   ]
  },
  {
   "cell_type": "code",
   "execution_count": 3,
   "metadata": {},
   "outputs": [
    {
     "data": {
      "text/plain": [
       "(29434, 3)"
      ]
     },
     "execution_count": 3,
     "metadata": {},
     "output_type": "execute_result"
    }
   ],
   "source": [
    "Meet.shape"
   ]
  },
  {
   "cell_type": "markdown",
   "metadata": {},
   "source": [
    "Number of Metric names related to Google Meet"
   ]
  },
  {
   "cell_type": "code",
   "execution_count": 4,
   "metadata": {},
   "outputs": [
    {
     "data": {
      "text/plain": [
       "55"
      ]
     },
     "execution_count": 4,
     "metadata": {},
     "output_type": "execute_result"
    }
   ],
   "source": [
    "meet_group_names = Meet.metric_name.unique()\n",
    "len(meet_group_names)"
   ]
  },
  {
   "cell_type": "code",
   "execution_count": 5,
   "metadata": {
    "scrolled": true
   },
   "outputs": [
    {
     "data": {
      "text/plain": [
       "array(['google.meet:average_meeting_minutes',\n",
       "       'google.meet:average_meeting_minutes_with_11_to_15_calls',\n",
       "       'google.meet:average_meeting_minutes_with_16_to_25_calls',\n",
       "       'google.meet:average_meeting_minutes_with_26_to_50_calls',\n",
       "       'google.meet:average_meeting_minutes_with_2_calls',\n",
       "       'google.meet:average_meeting_minutes_with_3_to_5_calls',\n",
       "       'google.meet:average_meeting_minutes_with_6_to_10_calls',\n",
       "       'google.meet:lonely_meetings',\n",
       "       'google.meet:max_concurrent_usage_chromebase',\n",
       "       'google.meet:max_concurrent_usage_chromebox',\n",
       "       'google.meet:num_1day_active_users',\n",
       "       'google.meet:num_30day_active_users',\n",
       "       'google.meet:num_7day_active_users', 'google.meet:num_calls',\n",
       "       'google.meet:num_calls_android',\n",
       "       'google.meet:num_calls_by_external_users',\n",
       "       'google.meet:num_calls_by_internal_users',\n",
       "       'google.meet:num_calls_by_pstn_in_users',\n",
       "       'google.meet:num_calls_chromebase',\n",
       "       'google.meet:num_calls_chromebox', 'google.meet:num_calls_ios',\n",
       "       'google.meet:num_calls_jamboard',\n",
       "       'google.meet:num_calls_unknown_client',\n",
       "       'google.meet:num_calls_web', 'google.meet:num_meetings',\n",
       "       'google.meet:num_meetings_android',\n",
       "       'google.meet:num_meetings_chromebase',\n",
       "       'google.meet:num_meetings_chromebox',\n",
       "       'google.meet:num_meetings_ios',\n",
       "       'google.meet:num_meetings_jamboard',\n",
       "       'google.meet:num_meetings_unknown_client',\n",
       "       'google.meet:num_meetings_web',\n",
       "       'google.meet:num_meetings_with_11_to_15_calls',\n",
       "       'google.meet:num_meetings_with_16_to_25_calls',\n",
       "       'google.meet:num_meetings_with_26_to_50_calls',\n",
       "       'google.meet:num_meetings_with_2_calls',\n",
       "       'google.meet:num_meetings_with_3_to_5_calls',\n",
       "       'google.meet:num_meetings_with_6_to_10_calls',\n",
       "       'google.meet:num_meetings_with_external_users',\n",
       "       'google.meet:num_meetings_with_pstn_in_users',\n",
       "       'google.meet:total_call_minutes',\n",
       "       'google.meet:total_call_minutes_android',\n",
       "       'google.meet:total_call_minutes_by_external_users',\n",
       "       'google.meet:total_call_minutes_by_internal_users',\n",
       "       'google.meet:total_call_minutes_by_pstn_in_users',\n",
       "       'google.meet:total_call_minutes_chromebase',\n",
       "       'google.meet:total_call_minutes_chromebox',\n",
       "       'google.meet:total_call_minutes_ios',\n",
       "       'google.meet:total_call_minutes_jamboard',\n",
       "       'google.meet:total_call_minutes_unknown_client',\n",
       "       'google.meet:total_call_minutes_web',\n",
       "       'google.meet:total_meeting_minutes',\n",
       "       'google.meet:num_calls_by_pstn_out_users',\n",
       "       'google.meet:num_meetings_with_pstn_out_users',\n",
       "       'google.meet:total_call_minutes_by_pstn_out_users'], dtype=object)"
      ]
     },
     "execution_count": 5,
     "metadata": {},
     "output_type": "execute_result"
    }
   ],
   "source": [
    "meet_group_names"
   ]
  },
  {
   "cell_type": "markdown",
   "metadata": {},
   "source": [
    "Metric Names and the number of metric values associated with the corresponding metric name. Number of times a metric name appeared in the data set"
   ]
  },
  {
   "cell_type": "code",
   "execution_count": 6,
   "metadata": {},
   "outputs": [
    {
     "data": {
      "text/plain": [
       "google.meet:num_meetings_with_3_to_5_calls          541\n",
       "google.meet:total_call_minutes_chromebox            541\n",
       "google.meet:total_call_minutes                      541\n",
       "google.meet:num_meetings_chromebox                  541\n",
       "google.meet:num_7day_active_users                   538\n",
       "google.meet:num_30day_active_users                  538\n",
       "google.meet:num_1day_active_users                   535\n",
       "google.meet:num_calls_by_pstn_out_users             438\n",
       "google.meet:num_meetings_with_pstn_out_users        438\n",
       "google.meet:total_call_minutes_by_pstn_out_users    438\n",
       "Name: metric_name, dtype: int64"
      ]
     },
     "execution_count": 6,
     "metadata": {},
     "output_type": "execute_result"
    }
   ],
   "source": [
    "counts = Meet['metric_name'].value_counts()\n",
    "counts.tail(10)"
   ]
  },
  {
   "cell_type": "markdown",
   "metadata": {},
   "source": [
    "Value counts is used to find the number of observations with metric value as 0,1,..\n",
    "There are 18775 observations with metric value as 0"
   ]
  },
  {
   "cell_type": "code",
   "execution_count": 7,
   "metadata": {},
   "outputs": [
    {
     "data": {
      "text/plain": [
       "0    18775\n",
       "1     1219\n",
       "2      793\n",
       "3      548\n",
       "4      370\n",
       "Name: metric_value, dtype: int64"
      ]
     },
     "execution_count": 7,
     "metadata": {},
     "output_type": "execute_result"
    }
   ],
   "source": [
    "x = Meet.metric_value.value_counts()\n",
    "x.head()"
   ]
  },
  {
   "cell_type": "markdown",
   "metadata": {},
   "source": [
    "Finding number of negative metric_values using mask. There are no negative values"
   ]
  },
  {
   "cell_type": "code",
   "execution_count": 8,
   "metadata": {},
   "outputs": [
    {
     "data": {
      "text/html": [
       "<div>\n",
       "<style scoped>\n",
       "    .dataframe tbody tr th:only-of-type {\n",
       "        vertical-align: middle;\n",
       "    }\n",
       "\n",
       "    .dataframe tbody tr th {\n",
       "        vertical-align: top;\n",
       "    }\n",
       "\n",
       "    .dataframe thead th {\n",
       "        text-align: right;\n",
       "    }\n",
       "</style>\n",
       "<table border=\"1\" class=\"dataframe\">\n",
       "  <thead>\n",
       "    <tr style=\"text-align: right;\">\n",
       "      <th></th>\n",
       "      <th>time</th>\n",
       "      <th>metric_name</th>\n",
       "      <th>metric_value</th>\n",
       "    </tr>\n",
       "  </thead>\n",
       "  <tbody>\n",
       "  </tbody>\n",
       "</table>\n",
       "</div>"
      ],
      "text/plain": [
       "Empty DataFrame\n",
       "Columns: [time, metric_name, metric_value]\n",
       "Index: []"
      ]
     },
     "execution_count": 8,
     "metadata": {},
     "output_type": "execute_result"
    }
   ],
   "source": [
    "mask = (Meet.metric_value < 0)\n",
    "Meet[mask].head()"
   ]
  },
  {
   "cell_type": "markdown",
   "metadata": {},
   "source": [
    "Sorting using metric values in ascending order."
   ]
  },
  {
   "cell_type": "code",
   "execution_count": 9,
   "metadata": {},
   "outputs": [
    {
     "data": {
      "text/plain": [
       "318219    0\n",
       "482202    0\n",
       "482200    0\n",
       "482197    0\n",
       "482194    0\n",
       "482193    0\n",
       "482192    0\n",
       "482190    0\n",
       "482189    0\n",
       "482188    0\n",
       "Name: metric_value, dtype: int64"
      ]
     },
     "execution_count": 9,
     "metadata": {},
     "output_type": "execute_result"
    }
   ],
   "source": [
    "Meet.metric_value.sort_values().head(10)"
   ]
  },
  {
   "cell_type": "markdown",
   "metadata": {},
   "source": [
    "describe is used to detect non-numeric data to get some useful information like number of unique metric names and highest metric name"
   ]
  },
  {
   "cell_type": "code",
   "execution_count": 10,
   "metadata": {},
   "outputs": [
    {
     "data": {
      "text/plain": [
       "count                             29434\n",
       "unique                               55\n",
       "top       google.meet:num_calls_android\n",
       "freq                                541\n",
       "Name: metric_name, dtype: object"
      ]
     },
     "execution_count": 10,
     "metadata": {},
     "output_type": "execute_result"
    }
   ],
   "source": [
    "Meet.metric_name.describe()"
   ]
  },
  {
   "cell_type": "markdown",
   "metadata": {},
   "source": [
    "Maximum value in dataframe"
   ]
  },
  {
   "cell_type": "code",
   "execution_count": 11,
   "metadata": {},
   "outputs": [
    {
     "data": {
      "text/plain": [
       "time              2019-07-01T00:00:00.000-0400\n",
       "metric_name     google.meet:total_call_minutes\n",
       "metric_value                              7623\n",
       "Name: 589423, dtype: object"
      ]
     },
     "execution_count": 11,
     "metadata": {},
     "output_type": "execute_result"
    }
   ],
   "source": [
    "Meet.loc[Meet['metric_value'].idxmax()]"
   ]
  },
  {
   "cell_type": "markdown",
   "metadata": {},
   "source": [
    "Minimun value in dataframe"
   ]
  },
  {
   "cell_type": "code",
   "execution_count": 12,
   "metadata": {},
   "outputs": [
    {
     "data": {
      "text/plain": [
       "time                   2018-01-14T00:00:00.000-0500\n",
       "metric_name     google.meet:average_meeting_minutes\n",
       "metric_value                                      0\n",
       "Name: 318219, dtype: object"
      ]
     },
     "execution_count": 12,
     "metadata": {},
     "output_type": "execute_result"
    }
   ],
   "source": [
    "Meet.loc[Meet['metric_value'].idxmin()]"
   ]
  },
  {
   "cell_type": "code",
   "execution_count": 13,
   "metadata": {},
   "outputs": [
    {
     "data": {
      "text/plain": [
       "dtype('O')"
      ]
     },
     "execution_count": 13,
     "metadata": {},
     "output_type": "execute_result"
    }
   ],
   "source": [
    "Meet.time.dtype"
   ]
  },
  {
   "cell_type": "code",
   "execution_count": 14,
   "metadata": {},
   "outputs": [
    {
     "data": {
      "text/plain": [
       "datetime.datetime(2015, 3, 23, 0, 0, tzinfo=datetime.timezone(datetime.timedelta(days=-1, seconds=72000)))"
      ]
     },
     "execution_count": 14,
     "metadata": {},
     "output_type": "execute_result"
    }
   ],
   "source": [
    "from datetime import datetime\n",
    "datetime.strptime(\"2015-03-23T00:00:00.000-0400\", \"%Y-%m-%dT%H:%M:%S.%f%z\")"
   ]
  },
  {
   "cell_type": "markdown",
   "metadata": {},
   "source": [
    "converting all the dates of time column by using the apply method."
   ]
  },
  {
   "cell_type": "code",
   "execution_count": 15,
   "metadata": {},
   "outputs": [
    {
     "name": "stderr",
     "output_type": "stream",
     "text": [
      "C:\\ProgramData\\Anaconda3\\lib\\site-packages\\pandas\\core\\generic.py:4405: SettingWithCopyWarning: \n",
      "A value is trying to be set on a copy of a slice from a DataFrame.\n",
      "Try using .loc[row_indexer,col_indexer] = value instead\n",
      "\n",
      "See the caveats in the documentation: http://pandas.pydata.org/pandas-docs/stable/indexing.html#indexing-view-versus-copy\n",
      "  self[name] = value\n"
     ]
    }
   ],
   "source": [
    "Meet.time = Meet.time.apply(lambda d: datetime.strptime(d, \"%Y-%m-%dT%H:%M:%S.%f%z\"))   "
   ]
  },
  {
   "cell_type": "code",
   "execution_count": 16,
   "metadata": {},
   "outputs": [
    {
     "data": {
      "text/plain": [
       "318219    2018-01-14 00:00:00-05:00\n",
       "318220    2018-01-14 00:00:00-05:00\n",
       "318221    2018-01-14 00:00:00-05:00\n",
       "318222    2018-01-14 00:00:00-05:00\n",
       "318223    2018-01-14 00:00:00-05:00\n",
       "Name: time, dtype: object"
      ]
     },
     "execution_count": 16,
     "metadata": {},
     "output_type": "execute_result"
    }
   ],
   "source": [
    "time = Meet.time\n",
    "time.head()"
   ]
  },
  {
   "cell_type": "code",
   "execution_count": 17,
   "metadata": {},
   "outputs": [],
   "source": [
    "Meet.time = Meet['time'].apply(lambda x: pd.to_datetime(x).tz_convert('US/Eastern'))"
   ]
  },
  {
   "cell_type": "markdown",
   "metadata": {},
   "source": [
    "Extracting date from time stamp"
   ]
  },
  {
   "cell_type": "code",
   "execution_count": 18,
   "metadata": {},
   "outputs": [
    {
     "name": "stderr",
     "output_type": "stream",
     "text": [
      "C:\\ProgramData\\Anaconda3\\lib\\site-packages\\ipykernel_launcher.py:1: SettingWithCopyWarning: \n",
      "A value is trying to be set on a copy of a slice from a DataFrame.\n",
      "Try using .loc[row_indexer,col_indexer] = value instead\n",
      "\n",
      "See the caveats in the documentation: http://pandas.pydata.org/pandas-docs/stable/indexing.html#indexing-view-versus-copy\n",
      "  \"\"\"Entry point for launching an IPython kernel.\n"
     ]
    }
   ],
   "source": [
    "Meet['date'] = pd.DatetimeIndex(Meet['time']).date"
   ]
  },
  {
   "cell_type": "code",
   "execution_count": 19,
   "metadata": {},
   "outputs": [
    {
     "data": {
      "text/html": [
       "<div>\n",
       "<style scoped>\n",
       "    .dataframe tbody tr th:only-of-type {\n",
       "        vertical-align: middle;\n",
       "    }\n",
       "\n",
       "    .dataframe tbody tr th {\n",
       "        vertical-align: top;\n",
       "    }\n",
       "\n",
       "    .dataframe thead th {\n",
       "        text-align: right;\n",
       "    }\n",
       "</style>\n",
       "<table border=\"1\" class=\"dataframe\">\n",
       "  <thead>\n",
       "    <tr style=\"text-align: right;\">\n",
       "      <th></th>\n",
       "      <th>time</th>\n",
       "      <th>metric_name</th>\n",
       "      <th>metric_value</th>\n",
       "      <th>date</th>\n",
       "    </tr>\n",
       "  </thead>\n",
       "  <tbody>\n",
       "    <tr>\n",
       "      <th>318219</th>\n",
       "      <td>2018-01-14 00:00:00-05:00</td>\n",
       "      <td>google.meet:average_meeting_minutes</td>\n",
       "      <td>0</td>\n",
       "      <td>2018-01-14</td>\n",
       "    </tr>\n",
       "    <tr>\n",
       "      <th>318220</th>\n",
       "      <td>2018-01-14 00:00:00-05:00</td>\n",
       "      <td>google.meet:average_meeting_minutes_with_11_to...</td>\n",
       "      <td>0</td>\n",
       "      <td>2018-01-14</td>\n",
       "    </tr>\n",
       "    <tr>\n",
       "      <th>318221</th>\n",
       "      <td>2018-01-14 00:00:00-05:00</td>\n",
       "      <td>google.meet:average_meeting_minutes_with_16_to...</td>\n",
       "      <td>0</td>\n",
       "      <td>2018-01-14</td>\n",
       "    </tr>\n",
       "    <tr>\n",
       "      <th>318222</th>\n",
       "      <td>2018-01-14 00:00:00-05:00</td>\n",
       "      <td>google.meet:average_meeting_minutes_with_26_to...</td>\n",
       "      <td>0</td>\n",
       "      <td>2018-01-14</td>\n",
       "    </tr>\n",
       "    <tr>\n",
       "      <th>318223</th>\n",
       "      <td>2018-01-14 00:00:00-05:00</td>\n",
       "      <td>google.meet:average_meeting_minutes_with_2_calls</td>\n",
       "      <td>0</td>\n",
       "      <td>2018-01-14</td>\n",
       "    </tr>\n",
       "  </tbody>\n",
       "</table>\n",
       "</div>"
      ],
      "text/plain": [
       "                            time  \\\n",
       "318219 2018-01-14 00:00:00-05:00   \n",
       "318220 2018-01-14 00:00:00-05:00   \n",
       "318221 2018-01-14 00:00:00-05:00   \n",
       "318222 2018-01-14 00:00:00-05:00   \n",
       "318223 2018-01-14 00:00:00-05:00   \n",
       "\n",
       "                                              metric_name  metric_value  \\\n",
       "318219                google.meet:average_meeting_minutes             0   \n",
       "318220  google.meet:average_meeting_minutes_with_11_to...             0   \n",
       "318221  google.meet:average_meeting_minutes_with_16_to...             0   \n",
       "318222  google.meet:average_meeting_minutes_with_26_to...             0   \n",
       "318223   google.meet:average_meeting_minutes_with_2_calls             0   \n",
       "\n",
       "              date  \n",
       "318219  2018-01-14  \n",
       "318220  2018-01-14  \n",
       "318221  2018-01-14  \n",
       "318222  2018-01-14  \n",
       "318223  2018-01-14  "
      ]
     },
     "execution_count": 19,
     "metadata": {},
     "output_type": "execute_result"
    }
   ],
   "source": [
    "Meet.head()"
   ]
  },
  {
   "cell_type": "markdown",
   "metadata": {},
   "source": [
    "Extracting date from time stamp"
   ]
  },
  {
   "cell_type": "code",
   "execution_count": 20,
   "metadata": {},
   "outputs": [
    {
     "name": "stderr",
     "output_type": "stream",
     "text": [
      "C:\\ProgramData\\Anaconda3\\lib\\site-packages\\ipykernel_launcher.py:1: SettingWithCopyWarning: \n",
      "A value is trying to be set on a copy of a slice from a DataFrame.\n",
      "Try using .loc[row_indexer,col_indexer] = value instead\n",
      "\n",
      "See the caveats in the documentation: http://pandas.pydata.org/pandas-docs/stable/indexing.html#indexing-view-versus-copy\n",
      "  \"\"\"Entry point for launching an IPython kernel.\n"
     ]
    }
   ],
   "source": [
    "Meet['year'] = pd.DatetimeIndex(Meet['time']).year"
   ]
  },
  {
   "cell_type": "code",
   "execution_count": 21,
   "metadata": {},
   "outputs": [
    {
     "data": {
      "text/html": [
       "<div>\n",
       "<style scoped>\n",
       "    .dataframe tbody tr th:only-of-type {\n",
       "        vertical-align: middle;\n",
       "    }\n",
       "\n",
       "    .dataframe tbody tr th {\n",
       "        vertical-align: top;\n",
       "    }\n",
       "\n",
       "    .dataframe thead th {\n",
       "        text-align: right;\n",
       "    }\n",
       "</style>\n",
       "<table border=\"1\" class=\"dataframe\">\n",
       "  <thead>\n",
       "    <tr style=\"text-align: right;\">\n",
       "      <th></th>\n",
       "      <th>time</th>\n",
       "      <th>metric_name</th>\n",
       "      <th>metric_value</th>\n",
       "      <th>date</th>\n",
       "      <th>year</th>\n",
       "    </tr>\n",
       "  </thead>\n",
       "  <tbody>\n",
       "    <tr>\n",
       "      <th>318219</th>\n",
       "      <td>2018-01-14 00:00:00-05:00</td>\n",
       "      <td>google.meet:average_meeting_minutes</td>\n",
       "      <td>0</td>\n",
       "      <td>2018-01-14</td>\n",
       "      <td>2018</td>\n",
       "    </tr>\n",
       "    <tr>\n",
       "      <th>318220</th>\n",
       "      <td>2018-01-14 00:00:00-05:00</td>\n",
       "      <td>google.meet:average_meeting_minutes_with_11_to...</td>\n",
       "      <td>0</td>\n",
       "      <td>2018-01-14</td>\n",
       "      <td>2018</td>\n",
       "    </tr>\n",
       "    <tr>\n",
       "      <th>318221</th>\n",
       "      <td>2018-01-14 00:00:00-05:00</td>\n",
       "      <td>google.meet:average_meeting_minutes_with_16_to...</td>\n",
       "      <td>0</td>\n",
       "      <td>2018-01-14</td>\n",
       "      <td>2018</td>\n",
       "    </tr>\n",
       "    <tr>\n",
       "      <th>318222</th>\n",
       "      <td>2018-01-14 00:00:00-05:00</td>\n",
       "      <td>google.meet:average_meeting_minutes_with_26_to...</td>\n",
       "      <td>0</td>\n",
       "      <td>2018-01-14</td>\n",
       "      <td>2018</td>\n",
       "    </tr>\n",
       "    <tr>\n",
       "      <th>318223</th>\n",
       "      <td>2018-01-14 00:00:00-05:00</td>\n",
       "      <td>google.meet:average_meeting_minutes_with_2_calls</td>\n",
       "      <td>0</td>\n",
       "      <td>2018-01-14</td>\n",
       "      <td>2018</td>\n",
       "    </tr>\n",
       "  </tbody>\n",
       "</table>\n",
       "</div>"
      ],
      "text/plain": [
       "                            time  \\\n",
       "318219 2018-01-14 00:00:00-05:00   \n",
       "318220 2018-01-14 00:00:00-05:00   \n",
       "318221 2018-01-14 00:00:00-05:00   \n",
       "318222 2018-01-14 00:00:00-05:00   \n",
       "318223 2018-01-14 00:00:00-05:00   \n",
       "\n",
       "                                              metric_name  metric_value  \\\n",
       "318219                google.meet:average_meeting_minutes             0   \n",
       "318220  google.meet:average_meeting_minutes_with_11_to...             0   \n",
       "318221  google.meet:average_meeting_minutes_with_16_to...             0   \n",
       "318222  google.meet:average_meeting_minutes_with_26_to...             0   \n",
       "318223   google.meet:average_meeting_minutes_with_2_calls             0   \n",
       "\n",
       "              date  year  \n",
       "318219  2018-01-14  2018  \n",
       "318220  2018-01-14  2018  \n",
       "318221  2018-01-14  2018  \n",
       "318222  2018-01-14  2018  \n",
       "318223  2018-01-14  2018  "
      ]
     },
     "execution_count": 21,
     "metadata": {},
     "output_type": "execute_result"
    }
   ],
   "source": [
    "Meet.head()"
   ]
  },
  {
   "cell_type": "code",
   "execution_count": 24,
   "metadata": {},
   "outputs": [
    {
     "data": {
      "text/html": [
       "<div>\n",
       "<style scoped>\n",
       "    .dataframe tbody tr th:only-of-type {\n",
       "        vertical-align: middle;\n",
       "    }\n",
       "\n",
       "    .dataframe tbody tr th {\n",
       "        vertical-align: top;\n",
       "    }\n",
       "\n",
       "    .dataframe thead th {\n",
       "        text-align: right;\n",
       "    }\n",
       "</style>\n",
       "<table border=\"1\" class=\"dataframe\">\n",
       "  <thead>\n",
       "    <tr style=\"text-align: right;\">\n",
       "      <th></th>\n",
       "      <th></th>\n",
       "      <th>time</th>\n",
       "      <th>metric_value</th>\n",
       "      <th>date</th>\n",
       "    </tr>\n",
       "    <tr>\n",
       "      <th>metric_name</th>\n",
       "      <th>year</th>\n",
       "      <th></th>\n",
       "      <th></th>\n",
       "      <th></th>\n",
       "    </tr>\n",
       "  </thead>\n",
       "  <tbody>\n",
       "    <tr>\n",
       "      <th rowspan=\"2\" valign=\"top\">google.meet:average_meeting_minutes</th>\n",
       "      <th>2018</th>\n",
       "      <td>328</td>\n",
       "      <td>328</td>\n",
       "      <td>328</td>\n",
       "    </tr>\n",
       "    <tr>\n",
       "      <th>2019</th>\n",
       "      <td>213</td>\n",
       "      <td>213</td>\n",
       "      <td>213</td>\n",
       "    </tr>\n",
       "    <tr>\n",
       "      <th rowspan=\"2\" valign=\"top\">google.meet:average_meeting_minutes_with_11_to_15_calls</th>\n",
       "      <th>2018</th>\n",
       "      <td>328</td>\n",
       "      <td>328</td>\n",
       "      <td>328</td>\n",
       "    </tr>\n",
       "    <tr>\n",
       "      <th>2019</th>\n",
       "      <td>213</td>\n",
       "      <td>213</td>\n",
       "      <td>213</td>\n",
       "    </tr>\n",
       "    <tr>\n",
       "      <th rowspan=\"2\" valign=\"top\">google.meet:average_meeting_minutes_with_16_to_25_calls</th>\n",
       "      <th>2018</th>\n",
       "      <td>328</td>\n",
       "      <td>328</td>\n",
       "      <td>328</td>\n",
       "    </tr>\n",
       "    <tr>\n",
       "      <th>2019</th>\n",
       "      <td>213</td>\n",
       "      <td>213</td>\n",
       "      <td>213</td>\n",
       "    </tr>\n",
       "    <tr>\n",
       "      <th rowspan=\"2\" valign=\"top\">google.meet:average_meeting_minutes_with_26_to_50_calls</th>\n",
       "      <th>2018</th>\n",
       "      <td>328</td>\n",
       "      <td>328</td>\n",
       "      <td>328</td>\n",
       "    </tr>\n",
       "    <tr>\n",
       "      <th>2019</th>\n",
       "      <td>213</td>\n",
       "      <td>213</td>\n",
       "      <td>213</td>\n",
       "    </tr>\n",
       "    <tr>\n",
       "      <th rowspan=\"2\" valign=\"top\">google.meet:average_meeting_minutes_with_2_calls</th>\n",
       "      <th>2018</th>\n",
       "      <td>328</td>\n",
       "      <td>328</td>\n",
       "      <td>328</td>\n",
       "    </tr>\n",
       "    <tr>\n",
       "      <th>2019</th>\n",
       "      <td>213</td>\n",
       "      <td>213</td>\n",
       "      <td>213</td>\n",
       "    </tr>\n",
       "  </tbody>\n",
       "</table>\n",
       "</div>"
      ],
      "text/plain": [
       "                                                         time  metric_value  \\\n",
       "metric_name                                        year                       \n",
       "google.meet:average_meeting_minutes                2018   328           328   \n",
       "                                                   2019   213           213   \n",
       "google.meet:average_meeting_minutes_with_11_to_... 2018   328           328   \n",
       "                                                   2019   213           213   \n",
       "google.meet:average_meeting_minutes_with_16_to_... 2018   328           328   \n",
       "                                                   2019   213           213   \n",
       "google.meet:average_meeting_minutes_with_26_to_... 2018   328           328   \n",
       "                                                   2019   213           213   \n",
       "google.meet:average_meeting_minutes_with_2_calls   2018   328           328   \n",
       "                                                   2019   213           213   \n",
       "\n",
       "                                                         date  \n",
       "metric_name                                        year        \n",
       "google.meet:average_meeting_minutes                2018   328  \n",
       "                                                   2019   213  \n",
       "google.meet:average_meeting_minutes_with_11_to_... 2018   328  \n",
       "                                                   2019   213  \n",
       "google.meet:average_meeting_minutes_with_16_to_... 2018   328  \n",
       "                                                   2019   213  \n",
       "google.meet:average_meeting_minutes_with_26_to_... 2018   328  \n",
       "                                                   2019   213  \n",
       "google.meet:average_meeting_minutes_with_2_calls   2018   328  \n",
       "                                                   2019   213  "
      ]
     },
     "execution_count": 24,
     "metadata": {},
     "output_type": "execute_result"
    }
   ],
   "source": [
    "Meet.groupby(['metric_name', 'year']).count().head(10)"
   ]
  },
  {
   "cell_type": "markdown",
   "metadata": {},
   "source": [
    "Number of observations for each year"
   ]
  },
  {
   "cell_type": "code",
   "execution_count": 25,
   "metadata": {},
   "outputs": [
    {
     "data": {
      "text/plain": [
       "2018    17731\n",
       "2019    11703\n",
       "Name: year, dtype: int64"
      ]
     },
     "execution_count": 25,
     "metadata": {},
     "output_type": "execute_result"
    }
   ],
   "source": [
    "Meet.year.value_counts()"
   ]
  },
  {
   "cell_type": "markdown",
   "metadata": {},
   "source": [
    "Number of Metric Names based on year. We have same metric names in both years and there are no new metrics added in 2019."
   ]
  },
  {
   "cell_type": "code",
   "execution_count": 26,
   "metadata": {},
   "outputs": [
    {
     "data": {
      "text/plain": [
       "nunique       55\n",
       "size       17731\n",
       "Name: metric_name, dtype: int64"
      ]
     },
     "execution_count": 26,
     "metadata": {},
     "output_type": "execute_result"
    }
   ],
   "source": [
    "Meet.query('year == \"2018\"')['metric_name'].agg(['nunique','size'])"
   ]
  },
  {
   "cell_type": "code",
   "execution_count": 27,
   "metadata": {},
   "outputs": [
    {
     "data": {
      "text/plain": [
       "nunique       55\n",
       "size       11703\n",
       "Name: metric_name, dtype: int64"
      ]
     },
     "execution_count": 27,
     "metadata": {},
     "output_type": "execute_result"
    }
   ],
   "source": [
    "Meet.query('year == \"2019\"')['metric_name'].agg(['nunique','size'])"
   ]
  },
  {
   "cell_type": "markdown",
   "metadata": {},
   "source": [
    "Number of Observations count over the years"
   ]
  },
  {
   "cell_type": "code",
   "execution_count": 28,
   "metadata": {},
   "outputs": [
    {
     "data": {
      "text/plain": [
       "<matplotlib.axes._subplots.AxesSubplot at 0x1830d3ccb00>"
      ]
     },
     "execution_count": 28,
     "metadata": {},
     "output_type": "execute_result"
    },
    {
     "data": {
      "image/png": "[encoded data removed]",
      "text/plain": [
       "<Figure size 1224x360 with 1 Axes>"
      ]
     },
     "metadata": {
      "needs_background": "light"
     },
     "output_type": "display_data"
    }
   ],
   "source": [
    "import matplotlib as plt\n",
    "fig, ax = plt.pyplot.subplots(figsize=(17,5))\n",
    "Meet.groupby(['year']).count()['metric_name'].plot(ax=ax)"
   ]
  },
  {
   "cell_type": "markdown",
   "metadata": {},
   "source": [
    "Finding the metric value by passing quantile value. In the lowest quantile values are negative. "
   ]
  },
  {
   "cell_type": "code",
   "execution_count": 29,
   "metadata": {},
   "outputs": [
    {
     "data": {
      "text/plain": [
       "0.0"
      ]
     },
     "execution_count": 29,
     "metadata": {},
     "output_type": "execute_result"
    }
   ],
   "source": [
    "Meet['metric_value'].quantile(0)"
   ]
  },
  {
   "cell_type": "markdown",
   "metadata": {},
   "source": [
    "Median of metric values"
   ]
  },
  {
   "cell_type": "code",
   "execution_count": 30,
   "metadata": {},
   "outputs": [
    {
     "data": {
      "text/plain": [
       "0.0"
      ]
     },
     "execution_count": 30,
     "metadata": {},
     "output_type": "execute_result"
    }
   ],
   "source": [
    "Meet['metric_value'].quantile(0.5)"
   ]
  },
  {
   "cell_type": "markdown",
   "metadata": {},
   "source": [
    "Highest Metric values are around 7623"
   ]
  },
  {
   "cell_type": "code",
   "execution_count": 31,
   "metadata": {},
   "outputs": [
    {
     "data": {
      "text/plain": [
       "7623.0"
      ]
     },
     "execution_count": 31,
     "metadata": {},
     "output_type": "execute_result"
    }
   ],
   "source": [
    "Meet['metric_value'].quantile(1.0)"
   ]
  },
  {
   "cell_type": "markdown",
   "metadata": {},
   "source": [
    "Mean value is far away from median as our data is not homogeneous. Metric values in google meet can represent any of the following like\n",
    "\n",
    "1. Number of minutes spent in a meeting\n",
    "2. Number of active users in google meet\n",
    "3. Number of meetings"
   ]
  },
  {
   "cell_type": "code",
   "execution_count": 33,
   "metadata": {},
   "outputs": [
    {
     "data": {
      "text/plain": [
       "78.57729156757492"
      ]
     },
     "execution_count": 33,
     "metadata": {},
     "output_type": "execute_result"
    }
   ],
   "source": [
    "Meet.metric_value.mean()"
   ]
  },
  {
   "cell_type": "code",
   "execution_count": null,
   "metadata": {},
   "outputs": [],
   "source": []
  }
 ],
 "metadata": {
  "kernelspec": {
   "display_name": "Python 3",
   "language": "python",
   "name": "python3"
  },
  "language_info": {
   "codemirror_mode": {
    "name": "ipython",
    "version": 3
   },
   "file_extension": ".py",
   "mimetype": "text/x-python",
   "name": "python",
   "nbconvert_exporter": "python",
   "pygments_lexer": "ipython3",
   "version": "3.7.1"
  }
 },
 "nbformat": 4,
 "nbformat_minor": 2
}
