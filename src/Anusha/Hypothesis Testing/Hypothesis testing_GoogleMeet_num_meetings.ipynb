{
 "cells": [
  {
   "cell_type": "markdown",
   "metadata": {},
   "source": [
    "During Statistical evaluation, observed that Number of meetings are more in the month of March 2019. I wanted to know whether the mean of March month in 2019 is more than the Mean of all months in 2019."
   ]
  },
  {
   "cell_type": "markdown",
   "metadata": {},
   "source": [
    "Hypothesis Testing - Test whether the mean of number of meetings for Google Meet in the month of March 2019 differs from the mean of Number of meetings for Google meet in Year 2019\n",
    "Null Hypothesis H0 - 'Mean of number of meetings in March 2019 is similar to Mean of all months in 2019'\n",
    "Alternative Hypothesis H1 - 'Mean of number of meetings in March 2019 is different from Mean of all months in 2019'"
   ]
  },
  {
   "cell_type": "code",
   "execution_count": 1,
   "metadata": {},
   "outputs": [],
   "source": [
    "import numpy as np\n",
    "import pandas as pd\n",
    "import scipy.stats as stats\n",
    "import matplotlib.pyplot as plt\n",
    "import math"
   ]
  },
  {
   "cell_type": "code",
   "execution_count": 2,
   "metadata": {},
   "outputs": [],
   "source": [
    "data_path3 = \"C:/Users/Anusha/Documents/Copied on 9_26_19/Fall 2019/Data Science/Project/GoogleMeet.csv\"\n",
    "df = pd.read_csv(data_path3)"
   ]
  },
  {
   "cell_type": "code",
   "execution_count": 35,
   "metadata": {},
   "outputs": [],
   "source": [
    "data = df[df['year'] == 2019]\n",
    "data1 = data[data['month'] == 3]\n",
    "num_meetings_2019 = data['num_meetings']\n",
    "num_meetings_march = data1['num_meetings']"
   ]
  },
  {
   "cell_type": "code",
   "execution_count": 36,
   "metadata": {},
   "outputs": [
    {
     "data": {
      "text/plain": [
       "328     0\n",
       "329     9\n",
       "330     8\n",
       "331     9\n",
       "332     0\n",
       "333     0\n",
       "334    12\n",
       "335    22\n",
       "336     6\n",
       "337     9\n",
       "Name: num_meetings, dtype: int64"
      ]
     },
     "execution_count": 36,
     "metadata": {},
     "output_type": "execute_result"
    }
   ],
   "source": [
    "num_meetings_2019.head(10)"
   ]
  },
  {
   "cell_type": "code",
   "execution_count": 13,
   "metadata": {},
   "outputs": [
    {
     "data": {
      "text/plain": [
       "386    20\n",
       "387     2\n",
       "388     4\n",
       "389    12\n",
       "390     9\n",
       "391    15\n",
       "392    22\n",
       "393    14\n",
       "394     1\n",
       "395    10\n",
       "396    20\n",
       "397    25\n",
       "398    14\n",
       "399    17\n",
       "400    15\n",
       "401     6\n",
       "402     8\n",
       "403    15\n",
       "404    13\n",
       "405    27\n",
       "406    39\n",
       "407    15\n",
       "408     9\n",
       "409    17\n",
       "410    19\n",
       "411    33\n",
       "412    25\n",
       "413    24\n",
       "414    10\n",
       "415     9\n",
       "416    14\n",
       "Name: num_meetings, dtype: int64"
      ]
     },
     "execution_count": 13,
     "metadata": {},
     "output_type": "execute_result"
    }
   ],
   "source": [
    "num_meetings_march"
   ]
  },
  {
   "cell_type": "markdown",
   "metadata": {},
   "source": [
    "Plotting 2019 data"
   ]
  },
  {
   "cell_type": "code",
   "execution_count": 8,
   "metadata": {
    "scrolled": false
   },
   "outputs": [
    {
     "data": {
      "text/plain": [
       "<matplotlib.lines.Line2D at 0x1a991465940>"
      ]
     },
     "execution_count": 8,
     "metadata": {},
     "output_type": "execute_result"
    },
    {
     "data": {
      "image/png": "[encoded data removed]",
      "text/plain": [
       "<Figure size 864x576 with 1 Axes>"
      ]
     },
     "metadata": {
      "needs_background": "light"
     },
     "output_type": "display_data"
    }
   ],
   "source": [
    "plt.figure(figsize=(12,8))\n",
    "plt.hist(num_meetings_2019, bins=20, edgecolor='k', alpha=0.65)\n",
    "plt.axvline(num_meetings_2019.mean(), color='r', linestyle='dashed', linewidth=1)"
   ]
  },
  {
   "cell_type": "markdown",
   "metadata": {},
   "source": [
    "Plotting March 2019 data"
   ]
  },
  {
   "cell_type": "code",
   "execution_count": 9,
   "metadata": {},
   "outputs": [
    {
     "data": {
      "text/plain": [
       "<matplotlib.lines.Line2D at 0x1a99187af28>"
      ]
     },
     "execution_count": 9,
     "metadata": {},
     "output_type": "execute_result"
    },
    {
     "data": {
      "image/png": "[encoded data removed]",
      "text/plain": [
       "<Figure size 864x576 with 1 Axes>"
      ]
     },
     "metadata": {
      "needs_background": "light"
     },
     "output_type": "display_data"
    }
   ],
   "source": [
    "plt.figure(figsize=(12,8))\n",
    "plt.hist(num_meetings_march, bins=20, edgecolor='k', alpha=0.65)\n",
    "plt.axvline(num_meetings_march.mean(), color='r', linestyle='dashed', linewidth=1)"
   ]
  },
  {
   "cell_type": "markdown",
   "metadata": {},
   "source": [
    "Mean of number of meetings in Year 2019\n",
    "Mean of number of meetings in the month of March in Year 2019"
   ]
  },
  {
   "cell_type": "code",
   "execution_count": 37,
   "metadata": {},
   "outputs": [
    {
     "name": "stdout",
     "output_type": "stream",
     "text": [
      "13.413953488372092\n",
      "15.580645161290322\n"
     ]
    }
   ],
   "source": [
    "print(num_meetings_2019.mean())\n",
    "print(num_meetings_march.mean())"
   ]
  },
  {
   "cell_type": "markdown",
   "metadata": {},
   "source": [
    "so we know that the two means are different.\n",
    "A one-sample t-test checks whether a sample mean(March month) differs from the population mean(All months of Year 2019)"
   ]
  },
  {
   "cell_type": "code",
   "execution_count": 38,
   "metadata": {},
   "outputs": [
    {
     "data": {
      "text/plain": [
       "Ttest_1sampResult(statistic=1.3999902631885508, pvalue=0.17177339793916663)"
      ]
     },
     "execution_count": 38,
     "metadata": {},
     "output_type": "execute_result"
    }
   ],
   "source": [
    "stats.ttest_1samp(a= num_meetings_march,               # March month data\n",
    "                 popmean= num_meetings_2019.mean())  # Pop mean"
   ]
  },
  {
   "cell_type": "markdown",
   "metadata": {},
   "source": [
    "Here, pvalue is 0.17177339793916663 which is greater than 0.05.\n",
    "So, we fail to reject the null hypothesis."
   ]
  },
  {
   "cell_type": "markdown",
   "metadata": {},
   "source": [
    "Hypothesis Testing - Test whether the Mean of number of meetings in google meet is similar to the Mean of number of meetings in google meet using iOS or Android\n",
    "Null hypothesis is that the means of both groups are the same."
   ]
  },
  {
   "cell_type": "code",
   "execution_count": 25,
   "metadata": {},
   "outputs": [],
   "source": [
    "Numberofmeetings_android = df['num_meetings_android']\n",
    "Numberofmeetings = df['num_meetings']\n",
    "Numberofmeetings_ios = df['num_meetings_ios']"
   ]
  },
  {
   "cell_type": "markdown",
   "metadata": {},
   "source": [
    "Plotting iOS mean"
   ]
  },
  {
   "cell_type": "code",
   "execution_count": 26,
   "metadata": {},
   "outputs": [
    {
     "data": {
      "text/plain": [
       "<matplotlib.lines.Line2D at 0x190972836a0>"
      ]
     },
     "execution_count": 26,
     "metadata": {},
     "output_type": "execute_result"
    },
    {
     "data": {
      "image/png": "[encoded data removed]",
      "text/plain": [
       "<Figure size 864x576 with 1 Axes>"
      ]
     },
     "metadata": {
      "needs_background": "light"
     },
     "output_type": "display_data"
    }
   ],
   "source": [
    "plt.figure(figsize=(12,8))\n",
    "plt.hist(Numberofmeetings_ios, bins=20, edgecolor='k', alpha=0.65)\n",
    "plt.axvline(Numberofmeetings_ios.mean(), color='r', linestyle='dashed', linewidth=1)"
   ]
  },
  {
   "cell_type": "markdown",
   "metadata": {},
   "source": [
    "Plotting android mean"
   ]
  },
  {
   "cell_type": "code",
   "execution_count": 21,
   "metadata": {
    "scrolled": true
   },
   "outputs": [
    {
     "data": {
      "text/plain": [
       "<matplotlib.lines.Line2D at 0x190994860f0>"
      ]
     },
     "execution_count": 21,
     "metadata": {},
     "output_type": "execute_result"
    },
    {
     "data": {
      "image/png": "[encoded data removed]",
      "text/plain": [
       "<Figure size 864x576 with 1 Axes>"
      ]
     },
     "metadata": {
      "needs_background": "light"
     },
     "output_type": "display_data"
    }
   ],
   "source": [
    "plt.figure(figsize=(12,8))\n",
    "plt.hist(Numberofmeetings_android, bins=20, edgecolor='k', alpha=0.65)\n",
    "plt.axvline(Numberofmeetings_android.mean(), color='r', linestyle='dashed', linewidth=1)"
   ]
  },
  {
   "cell_type": "markdown",
   "metadata": {},
   "source": [
    "Plotting total call minutes mean for all devices"
   ]
  },
  {
   "cell_type": "code",
   "execution_count": 22,
   "metadata": {},
   "outputs": [
    {
     "data": {
      "text/plain": [
       "<matplotlib.lines.Line2D at 0x190975c0d68>"
      ]
     },
     "execution_count": 22,
     "metadata": {},
     "output_type": "execute_result"
    },
    {
     "data": {
      "image/png": "[encoded data removed]",
      "text/plain": [
       "<Figure size 864x576 with 1 Axes>"
      ]
     },
     "metadata": {
      "needs_background": "light"
     },
     "output_type": "display_data"
    }
   ],
   "source": [
    "plt.figure(figsize=(12,8))\n",
    "plt.hist(Numberofmeetings, bins=20, edgecolor='k', alpha=0.65)\n",
    "plt.axvline(Numberofmeetings.mean(), color='r', linestyle='dashed', linewidth=1)"
   ]
  },
  {
   "cell_type": "code",
   "execution_count": 27,
   "metadata": {},
   "outputs": [
    {
     "name": "stdout",
     "output_type": "stream",
     "text": [
      "0.5174953959484346\n",
      "1.2136279926335174\n",
      "8.58195211786372\n"
     ]
    }
   ],
   "source": [
    "print(Numberofmeetings_android.mean())\n",
    "print(Numberofmeetings_ios.mean())\n",
    "print(Numberofmeetings.mean())"
   ]
  },
  {
   "cell_type": "code",
   "execution_count": 29,
   "metadata": {},
   "outputs": [
    {
     "data": {
      "text/plain": [
       "Ttest_indResult(statistic=21.401810164727586, pvalue=1.6830567402034316e-74)"
      ]
     },
     "execution_count": 29,
     "metadata": {},
     "output_type": "execute_result"
    }
   ],
   "source": [
    "stats.ttest_ind(a= Numberofmeetings,\n",
    "                b= Numberofmeetings_android,\n",
    "                equal_var=False)"
   ]
  },
  {
   "cell_type": "code",
   "execution_count": 69,
   "metadata": {},
   "outputs": [
    {
     "data": {
      "text/plain": [
       "Ttest_indResult(statistic=19.29756772067468, pvalue=1.55921483505873e-64)"
      ]
     },
     "execution_count": 69,
     "metadata": {},
     "output_type": "execute_result"
    }
   ],
   "source": [
    "stats.ttest_ind(a= Numberofmeetings,\n",
    "                b= Numberofmeetings_ios,\n",
    "                equal_var=False)"
   ]
  },
  {
   "cell_type": "markdown",
   "metadata": {},
   "source": [
    "Here, pvalue is less than 0.05. So, we reject the null hypothesis using a 95% confidence level.\n",
    "So, The Mean of number of meetings in google meet is different from Mean of number of meetings in google meet using iOS as well as Android"
   ]
  }
 ],
 "metadata": {
  "kernelspec": {
   "display_name": "Python 3",
   "language": "python",
   "name": "python3"
  },
  "language_info": {
   "codemirror_mode": {
    "name": "ipython",
    "version": 3
   },
   "file_extension": ".py",
   "mimetype": "text/x-python",
   "name": "python",
   "nbconvert_exporter": "python",
   "pygments_lexer": "ipython3",
   "version": "3.7.1"
  }
 },
 "nbformat": 4,
 "nbformat_minor": 2
}
