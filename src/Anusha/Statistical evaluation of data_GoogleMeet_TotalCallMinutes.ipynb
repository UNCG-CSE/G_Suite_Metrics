{
 "cells": [
  {
   "cell_type": "code",
   "execution_count": 155,
   "metadata": {},
   "outputs": [],
   "source": [
    "import pandas as pd\n",
    "import matplotlib.pyplot as plt\n",
    "import numpy as np\n",
    "data_path = \"C:/Users/Anusha/Documents/Copied on 9_26_19/Fall 2019/Data Science/Project/GoogleMeetUpdated.csv\"\n",
    "data = pd.read_csv(data_path)"
   ]
  },
  {
   "cell_type": "markdown",
   "metadata": {},
   "source": [
    "Exracting Google Meet Total call minutes related metrics"
   ]
  },
  {
   "cell_type": "code",
   "execution_count": 157,
   "metadata": {},
   "outputs": [
    {
     "data": {
      "text/html": [
       "<div>\n",
       "<style scoped>\n",
       "    .dataframe tbody tr th:only-of-type {\n",
       "        vertical-align: middle;\n",
       "    }\n",
       "\n",
       "    .dataframe tbody tr th {\n",
       "        vertical-align: top;\n",
       "    }\n",
       "\n",
       "    .dataframe thead th {\n",
       "        text-align: right;\n",
       "    }\n",
       "</style>\n",
       "<table border=\"1\" class=\"dataframe\">\n",
       "  <thead>\n",
       "    <tr style=\"text-align: right;\">\n",
       "      <th></th>\n",
       "      <th>TotalCallMinutes</th>\n",
       "      <th>time</th>\n",
       "      <th>date</th>\n",
       "      <th>year</th>\n",
       "      <th>month</th>\n",
       "    </tr>\n",
       "  </thead>\n",
       "  <tbody>\n",
       "    <tr>\n",
       "      <th>0</th>\n",
       "      <td>0.0</td>\n",
       "      <td>2018-01-14T00:00:00.000-0500</td>\n",
       "      <td>2018-01-14</td>\n",
       "      <td>2018</td>\n",
       "      <td>1</td>\n",
       "    </tr>\n",
       "    <tr>\n",
       "      <th>1</th>\n",
       "      <td>0.0</td>\n",
       "      <td>2018-01-15T00:00:00.000-0500</td>\n",
       "      <td>2018-01-15</td>\n",
       "      <td>2018</td>\n",
       "      <td>1</td>\n",
       "    </tr>\n",
       "    <tr>\n",
       "      <th>2</th>\n",
       "      <td>0.0</td>\n",
       "      <td>2018-01-16T00:00:00.000-0500</td>\n",
       "      <td>2018-01-16</td>\n",
       "      <td>2018</td>\n",
       "      <td>1</td>\n",
       "    </tr>\n",
       "    <tr>\n",
       "      <th>3</th>\n",
       "      <td>0.0</td>\n",
       "      <td>2018-01-17T00:00:00.000-0500</td>\n",
       "      <td>2018-01-17</td>\n",
       "      <td>2018</td>\n",
       "      <td>1</td>\n",
       "    </tr>\n",
       "    <tr>\n",
       "      <th>4</th>\n",
       "      <td>0.0</td>\n",
       "      <td>2018-01-18T00:00:00.000-0500</td>\n",
       "      <td>2018-01-18</td>\n",
       "      <td>2018</td>\n",
       "      <td>1</td>\n",
       "    </tr>\n",
       "    <tr>\n",
       "      <th>5</th>\n",
       "      <td>0.0</td>\n",
       "      <td>2018-01-19T00:00:00.000-0500</td>\n",
       "      <td>2018-01-19</td>\n",
       "      <td>2018</td>\n",
       "      <td>1</td>\n",
       "    </tr>\n",
       "    <tr>\n",
       "      <th>6</th>\n",
       "      <td>0.0</td>\n",
       "      <td>2018-01-20T00:00:00.000-0500</td>\n",
       "      <td>2018-01-20</td>\n",
       "      <td>2018</td>\n",
       "      <td>1</td>\n",
       "    </tr>\n",
       "    <tr>\n",
       "      <th>7</th>\n",
       "      <td>0.0</td>\n",
       "      <td>2018-01-21T00:00:00.000-0500</td>\n",
       "      <td>2018-01-21</td>\n",
       "      <td>2018</td>\n",
       "      <td>1</td>\n",
       "    </tr>\n",
       "    <tr>\n",
       "      <th>8</th>\n",
       "      <td>0.0</td>\n",
       "      <td>2018-01-22T00:00:00.000-0500</td>\n",
       "      <td>2018-01-22</td>\n",
       "      <td>2018</td>\n",
       "      <td>1</td>\n",
       "    </tr>\n",
       "    <tr>\n",
       "      <th>9</th>\n",
       "      <td>0.0</td>\n",
       "      <td>2018-01-23T00:00:00.000-0500</td>\n",
       "      <td>2018-01-23</td>\n",
       "      <td>2018</td>\n",
       "      <td>1</td>\n",
       "    </tr>\n",
       "  </tbody>\n",
       "</table>\n",
       "</div>"
      ],
      "text/plain": [
       "   TotalCallMinutes                          time        date  year  month\n",
       "0               0.0  2018-01-14T00:00:00.000-0500  2018-01-14  2018      1\n",
       "1               0.0  2018-01-15T00:00:00.000-0500  2018-01-15  2018      1\n",
       "2               0.0  2018-01-16T00:00:00.000-0500  2018-01-16  2018      1\n",
       "3               0.0  2018-01-17T00:00:00.000-0500  2018-01-17  2018      1\n",
       "4               0.0  2018-01-18T00:00:00.000-0500  2018-01-18  2018      1\n",
       "5               0.0  2018-01-19T00:00:00.000-0500  2018-01-19  2018      1\n",
       "6               0.0  2018-01-20T00:00:00.000-0500  2018-01-20  2018      1\n",
       "7               0.0  2018-01-21T00:00:00.000-0500  2018-01-21  2018      1\n",
       "8               0.0  2018-01-22T00:00:00.000-0500  2018-01-22  2018      1\n",
       "9               0.0  2018-01-23T00:00:00.000-0500  2018-01-23  2018      1"
      ]
     },
     "execution_count": 157,
     "metadata": {},
     "output_type": "execute_result"
    }
   ],
   "source": [
    "Callmin = data[[\"google.meet:total_call_minutes\",\"time\",\"date\",\"year\",\"month\"]].rename(columns = {\"google.meet:total_call_minutes\": \"TotalCallMinutes\"}) \n",
    "Callmin.head(10)"
   ]
  },
  {
   "cell_type": "markdown",
   "metadata": {},
   "source": [
    "Shape Of Data"
   ]
  },
  {
   "cell_type": "code",
   "execution_count": 158,
   "metadata": {},
   "outputs": [
    {
     "data": {
      "text/plain": [
       "(543, 5)"
      ]
     },
     "execution_count": 158,
     "metadata": {},
     "output_type": "execute_result"
    }
   ],
   "source": [
    "Callmin.shape"
   ]
  },
  {
   "cell_type": "markdown",
   "metadata": {},
   "source": [
    "Value counts is used to find the number of observations with metric value as 0,1,..\n",
    "There are 155 observations with metric value as 0"
   ]
  },
  {
   "cell_type": "code",
   "execution_count": 159,
   "metadata": {},
   "outputs": [
    {
     "data": {
      "text/plain": [
       "0.0       155\n",
       "2299.0      2\n",
       "478.0       2\n",
       "468.0       2\n",
       "1631.0      2\n",
       "883.0       2\n",
       "1871.0      2\n",
       "555.0       2\n",
       "112.0       2\n",
       "369.0       2\n",
       "Name: TotalCallMinutes, dtype: int64"
      ]
     },
     "execution_count": 159,
     "metadata": {},
     "output_type": "execute_result"
    }
   ],
   "source": [
    "counts = Callmin.TotalCallMinutes.value_counts()\n",
    "counts.head(10)"
   ]
  },
  {
   "cell_type": "markdown",
   "metadata": {},
   "source": [
    "Finding number of negative metric_values using mask. There are no negative values"
   ]
  },
  {
   "cell_type": "code",
   "execution_count": 160,
   "metadata": {},
   "outputs": [
    {
     "data": {
      "text/html": [
       "<div>\n",
       "<style scoped>\n",
       "    .dataframe tbody tr th:only-of-type {\n",
       "        vertical-align: middle;\n",
       "    }\n",
       "\n",
       "    .dataframe tbody tr th {\n",
       "        vertical-align: top;\n",
       "    }\n",
       "\n",
       "    .dataframe thead th {\n",
       "        text-align: right;\n",
       "    }\n",
       "</style>\n",
       "<table border=\"1\" class=\"dataframe\">\n",
       "  <thead>\n",
       "    <tr style=\"text-align: right;\">\n",
       "      <th></th>\n",
       "      <th>TotalCallMinutes</th>\n",
       "      <th>time</th>\n",
       "      <th>date</th>\n",
       "      <th>year</th>\n",
       "      <th>month</th>\n",
       "    </tr>\n",
       "  </thead>\n",
       "  <tbody>\n",
       "  </tbody>\n",
       "</table>\n",
       "</div>"
      ],
      "text/plain": [
       "Empty DataFrame\n",
       "Columns: [TotalCallMinutes, time, date, year, month]\n",
       "Index: []"
      ]
     },
     "execution_count": 160,
     "metadata": {},
     "output_type": "execute_result"
    }
   ],
   "source": [
    "mask = (Callmin.TotalCallMinutes< 0)\n",
    "Callmin[mask].head()"
   ]
  },
  {
   "cell_type": "markdown",
   "metadata": {},
   "source": [
    "Sorting using metric values in ascending order."
   ]
  },
  {
   "cell_type": "code",
   "execution_count": 161,
   "metadata": {},
   "outputs": [
    {
     "data": {
      "text/plain": [
       "0      0.0\n",
       "101    0.0\n",
       "102    0.0\n",
       "103    0.0\n",
       "104    0.0\n",
       "106    0.0\n",
       "107    0.0\n",
       "108    0.0\n",
       "109    0.0\n",
       "110    0.0\n",
       "Name: TotalCallMinutes, dtype: float64"
      ]
     },
     "execution_count": 161,
     "metadata": {},
     "output_type": "execute_result"
    }
   ],
   "source": [
    "Callmin.TotalCallMinutes.sort_values().head(10)"
   ]
  },
  {
   "cell_type": "markdown",
   "metadata": {},
   "source": [
    "describe is used to get some useful information like number of metric values and least, highest metric value"
   ]
  },
  {
   "cell_type": "code",
   "execution_count": 162,
   "metadata": {},
   "outputs": [
    {
     "data": {
      "text/plain": [
       "count     541.000000\n",
       "mean     1152.295749\n",
       "std      1309.325413\n",
       "min         0.000000\n",
       "25%         0.000000\n",
       "50%       782.000000\n",
       "75%      1861.000000\n",
       "max      7623.000000\n",
       "Name: TotalCallMinutes, dtype: float64"
      ]
     },
     "execution_count": 162,
     "metadata": {},
     "output_type": "execute_result"
    }
   ],
   "source": [
    "Callmin.TotalCallMinutes.describe()"
   ]
  },
  {
   "cell_type": "markdown",
   "metadata": {},
   "source": [
    "Maximum number of total_call_minutes"
   ]
  },
  {
   "cell_type": "code",
   "execution_count": 163,
   "metadata": {},
   "outputs": [
    {
     "data": {
      "text/plain": [
       "TotalCallMinutes                            7623\n",
       "time                2019-07-01T00:00:00.000-0400\n",
       "date                                  2019-07-01\n",
       "year                                        2019\n",
       "month                                          7\n",
       "Name: 497, dtype: object"
      ]
     },
     "execution_count": 163,
     "metadata": {},
     "output_type": "execute_result"
    }
   ],
   "source": [
    "Callmin.loc[Callmin.TotalCallMinutes.idxmax()]"
   ]
  },
  {
   "cell_type": "markdown",
   "metadata": {},
   "source": [
    "Minimun value in dataframe"
   ]
  },
  {
   "cell_type": "code",
   "execution_count": 164,
   "metadata": {},
   "outputs": [
    {
     "data": {
      "text/plain": [
       "TotalCallMinutes                               0\n",
       "time                2018-01-14T00:00:00.000-0500\n",
       "date                                  2018-01-14\n",
       "year                                        2018\n",
       "month                                          1\n",
       "Name: 0, dtype: object"
      ]
     },
     "execution_count": 164,
     "metadata": {},
     "output_type": "execute_result"
    }
   ],
   "source": [
    "Callmin.loc[Callmin.TotalCallMinutes.idxmin()]"
   ]
  },
  {
   "cell_type": "code",
   "execution_count": 165,
   "metadata": {},
   "outputs": [
    {
     "data": {
      "text/html": [
       "<div>\n",
       "<style scoped>\n",
       "    .dataframe tbody tr th:only-of-type {\n",
       "        vertical-align: middle;\n",
       "    }\n",
       "\n",
       "    .dataframe tbody tr th {\n",
       "        vertical-align: top;\n",
       "    }\n",
       "\n",
       "    .dataframe thead th {\n",
       "        text-align: right;\n",
       "    }\n",
       "</style>\n",
       "<table border=\"1\" class=\"dataframe\">\n",
       "  <thead>\n",
       "    <tr style=\"text-align: right;\">\n",
       "      <th></th>\n",
       "      <th></th>\n",
       "      <th></th>\n",
       "      <th></th>\n",
       "      <th></th>\n",
       "    </tr>\n",
       "    <tr>\n",
       "      <th>TotalCallMinutes</th>\n",
       "      <th>date</th>\n",
       "      <th>time</th>\n",
       "      <th>year</th>\n",
       "      <th>month</th>\n",
       "    </tr>\n",
       "  </thead>\n",
       "  <tbody>\n",
       "    <tr>\n",
       "      <th>5175.0</th>\n",
       "      <th>2018-10-03</th>\n",
       "      <th>2018-10-03T00:00:00.000-0400</th>\n",
       "      <th>2018</th>\n",
       "      <th>10</th>\n",
       "    </tr>\n",
       "    <tr>\n",
       "      <th>5257.0</th>\n",
       "      <th>2019-03-12</th>\n",
       "      <th>2019-03-12T00:00:00.000-0400</th>\n",
       "      <th>2019</th>\n",
       "      <th>3</th>\n",
       "    </tr>\n",
       "    <tr>\n",
       "      <th>5308.0</th>\n",
       "      <th>2019-02-13</th>\n",
       "      <th>2019-02-13T00:00:00.000-0500</th>\n",
       "      <th>2019</th>\n",
       "      <th>2</th>\n",
       "    </tr>\n",
       "    <tr>\n",
       "      <th>5472.0</th>\n",
       "      <th>2019-08-07</th>\n",
       "      <th>2019-08-07T00:00:00.000-0400</th>\n",
       "      <th>2019</th>\n",
       "      <th>8</th>\n",
       "    </tr>\n",
       "    <tr>\n",
       "      <th>5562.0</th>\n",
       "      <th>2018-12-10</th>\n",
       "      <th>2018-12-10T00:00:00.000-0500</th>\n",
       "      <th>2018</th>\n",
       "      <th>12</th>\n",
       "    </tr>\n",
       "    <tr>\n",
       "      <th>5617.0</th>\n",
       "      <th>2019-02-12</th>\n",
       "      <th>2019-02-12T00:00:00.000-0500</th>\n",
       "      <th>2019</th>\n",
       "      <th>2</th>\n",
       "    </tr>\n",
       "    <tr>\n",
       "      <th>5708.0</th>\n",
       "      <th>2019-03-26</th>\n",
       "      <th>2019-03-26T00:00:00.000-0400</th>\n",
       "      <th>2019</th>\n",
       "      <th>3</th>\n",
       "    </tr>\n",
       "    <tr>\n",
       "      <th>7274.0</th>\n",
       "      <th>2019-03-27</th>\n",
       "      <th>2019-03-27T00:00:00.000-0400</th>\n",
       "      <th>2019</th>\n",
       "      <th>3</th>\n",
       "    </tr>\n",
       "    <tr>\n",
       "      <th>7297.0</th>\n",
       "      <th>2018-12-11</th>\n",
       "      <th>2018-12-11T00:00:00.000-0500</th>\n",
       "      <th>2018</th>\n",
       "      <th>12</th>\n",
       "    </tr>\n",
       "    <tr>\n",
       "      <th>7623.0</th>\n",
       "      <th>2019-07-01</th>\n",
       "      <th>2019-07-01T00:00:00.000-0400</th>\n",
       "      <th>2019</th>\n",
       "      <th>7</th>\n",
       "    </tr>\n",
       "  </tbody>\n",
       "</table>\n",
       "</div>"
      ],
      "text/plain": [
       "Empty DataFrame\n",
       "Columns: []\n",
       "Index: [(5175.0, 2018-10-03, 2018-10-03T00:00:00.000-0400, 2018, 10), (5257.0, 2019-03-12, 2019-03-12T00:00:00.000-0400, 2019, 3), (5308.0, 2019-02-13, 2019-02-13T00:00:00.000-0500, 2019, 2), (5472.0, 2019-08-07, 2019-08-07T00:00:00.000-0400, 2019, 8), (5562.0, 2018-12-10, 2018-12-10T00:00:00.000-0500, 2018, 12), (5617.0, 2019-02-12, 2019-02-12T00:00:00.000-0500, 2019, 2), (5708.0, 2019-03-26, 2019-03-26T00:00:00.000-0400, 2019, 3), (7274.0, 2019-03-27, 2019-03-27T00:00:00.000-0400, 2019, 3), (7297.0, 2018-12-11, 2018-12-11T00:00:00.000-0500, 2018, 12), (7623.0, 2019-07-01, 2019-07-01T00:00:00.000-0400, 2019, 7)]"
      ]
     },
     "execution_count": 165,
     "metadata": {},
     "output_type": "execute_result"
    }
   ],
   "source": [
    "Callmin.groupby(['TotalCallMinutes', 'date' , 'time' , 'year','month']).count().tail(10)"
   ]
  },
  {
   "cell_type": "markdown",
   "metadata": {},
   "source": [
    "Number of observations for each year"
   ]
  },
  {
   "cell_type": "code",
   "execution_count": 168,
   "metadata": {},
   "outputs": [
    {
     "data": {
      "text/plain": [
       "2018    328\n",
       "2019    215\n",
       "Name: year, dtype: int64"
      ]
     },
     "execution_count": 168,
     "metadata": {},
     "output_type": "execute_result"
    }
   ],
   "source": [
    "Callmin.year.value_counts()"
   ]
  },
  {
   "cell_type": "markdown",
   "metadata": {},
   "source": [
    "Number of observations for each year"
   ]
  },
  {
   "cell_type": "code",
   "execution_count": 169,
   "metadata": {},
   "outputs": [
    {
     "data": {
      "text/plain": [
       "4     60\n",
       "3     60\n",
       "6     54\n",
       "5     54\n",
       "2     53\n",
       "7     51\n",
       "1     49\n",
       "8     41\n",
       "12    31\n",
       "10    31\n",
       "11    30\n",
       "9     29\n",
       "Name: month, dtype: int64"
      ]
     },
     "execution_count": 169,
     "metadata": {},
     "output_type": "execute_result"
    }
   ],
   "source": [
    "Callmin.month.value_counts()"
   ]
  },
  {
   "cell_type": "raw",
   "metadata": {},
   "source": [
    "Finding the metric value by passing quantile value. In the lowest quantile values are zero. "
   ]
  },
  {
   "cell_type": "code",
   "execution_count": 170,
   "metadata": {},
   "outputs": [
    {
     "data": {
      "text/plain": [
       "0.0"
      ]
     },
     "execution_count": 170,
     "metadata": {},
     "output_type": "execute_result"
    }
   ],
   "source": [
    "Callmin['TotalCallMinutes'].quantile(0)"
   ]
  },
  {
   "cell_type": "markdown",
   "metadata": {},
   "source": [
    "Median of metric values"
   ]
  },
  {
   "cell_type": "code",
   "execution_count": 171,
   "metadata": {},
   "outputs": [
    {
     "data": {
      "text/plain": [
       "782.0"
      ]
     },
     "execution_count": 171,
     "metadata": {},
     "output_type": "execute_result"
    }
   ],
   "source": [
    "Callmin['TotalCallMinutes'].quantile(0.5)"
   ]
  },
  {
   "cell_type": "markdown",
   "metadata": {},
   "source": [
    "Highest Metric values are around 7623"
   ]
  },
  {
   "cell_type": "code",
   "execution_count": 172,
   "metadata": {},
   "outputs": [
    {
     "data": {
      "text/plain": [
       "7623.0"
      ]
     },
     "execution_count": 172,
     "metadata": {},
     "output_type": "execute_result"
    }
   ],
   "source": [
    "Callmin['TotalCallMinutes'].quantile(1.0)"
   ]
  },
  {
   "cell_type": "markdown",
   "metadata": {},
   "source": [
    "Mean value is far away from median as we have extreme values for total call minutes for few days.\n",
    "Eg: There are 7623 minutes on 2019-07-01"
   ]
  },
  {
   "cell_type": "code",
   "execution_count": 173,
   "metadata": {},
   "outputs": [
    {
     "data": {
      "text/plain": [
       "1152.2957486136784"
      ]
     },
     "execution_count": 173,
     "metadata": {},
     "output_type": "execute_result"
    }
   ],
   "source": [
    "Callmin['TotalCallMinutes'].mean()"
   ]
  },
  {
   "cell_type": "markdown",
   "metadata": {},
   "source": [
    "Mode of metric values. Total call minutes are zero for most of the days"
   ]
  },
  {
   "cell_type": "code",
   "execution_count": 174,
   "metadata": {},
   "outputs": [
    {
     "data": {
      "text/plain": [
       "0    0.0\n",
       "dtype: float64"
      ]
     },
     "execution_count": 174,
     "metadata": {},
     "output_type": "execute_result"
    }
   ],
   "source": [
    "Callmin['TotalCallMinutes'].mode()"
   ]
  },
  {
   "cell_type": "markdown",
   "metadata": {},
   "source": [
    "Quartile\n",
    "\n",
    "minimum value (0th percentile),\n",
    "first quartile (25th percentile),\n",
    "the median - second quartile (50th percentile),\n",
    "third quartile(75th percentile), and\n",
    "maximum value (100th percentile)\n",
    "using the quantile() function:"
   ]
  },
  {
   "cell_type": "code",
   "execution_count": 175,
   "metadata": {},
   "outputs": [
    {
     "data": {
      "text/plain": [
       "[0.0, 0.0, 782.0, 1861.0, 7623.0]"
      ]
     },
     "execution_count": 175,
     "metadata": {},
     "output_type": "execute_result"
    }
   ],
   "source": [
    "five_num = [Callmin['TotalCallMinutes'].quantile(0),   \n",
    "            Callmin['TotalCallMinutes'].quantile(0.25),\n",
    "            Callmin['TotalCallMinutes'].quantile(0.50),\n",
    "            Callmin['TotalCallMinutes'].quantile(0.75),\n",
    "            Callmin['TotalCallMinutes'].quantile(1)]\n",
    "\n",
    "five_num"
   ]
  },
  {
   "cell_type": "markdown",
   "metadata": {},
   "source": [
    "Interquartile (IQR) range - distance between the 3rd quartile and the 1st quartile"
   ]
  },
  {
   "cell_type": "code",
   "execution_count": 176,
   "metadata": {},
   "outputs": [
    {
     "data": {
      "text/plain": [
       "1861.0"
      ]
     },
     "execution_count": 176,
     "metadata": {},
     "output_type": "execute_result"
    }
   ],
   "source": [
    "Callmin['TotalCallMinutes'].quantile(0.75) - Callmin['TotalCallMinutes'].quantile(0.25)"
   ]
  },
  {
   "cell_type": "markdown",
   "metadata": {},
   "source": [
    "Plotted all quartile values which are calculated above using box plots\n",
    "\n",
    "We can see the highest values, there are around 12 values greater than 4400 "
   ]
  },
  {
   "cell_type": "code",
   "execution_count": 177,
   "metadata": {},
   "outputs": [
    {
     "data": {
      "text/plain": [
       "Text(0.7, 1861, 'IQR')"
      ]
     },
     "execution_count": 177,
     "metadata": {},
     "output_type": "execute_result"
    },
    {
     "data": {
      "image/png": "[encoded data removed]",
      "text/plain": [
       "<Figure size 720x720 with 1 Axes>"
      ]
     },
     "metadata": {
      "needs_background": "light"
     },
     "output_type": "display_data"
    }
   ],
   "source": [
    "from matplotlib.figure import Figure\n",
    "Callmin.boxplot(column=\"TotalCallMinutes\",\n",
    "               return_type='axes',\n",
    "               figsize=(10,10))\n",
    "\n",
    "plt.text(x=0.74, y=1861, s=\"3rd Quartile\")\n",
    "plt.text(x=0.8, y=782, s=\"Median\")\n",
    "plt.text(x=0.75, y=0, s=\"1st Quartile\")\n",
    "plt.text(x=0.9, y=0, s=\"Min\")\n",
    "plt.text(x=0.9, y=7623, s=\"Max\")\n",
    "plt.text(x=0.7, y=1861, s=\"IQR\", rotation=90, size=15)"
   ]
  },
  {
   "cell_type": "markdown",
   "metadata": {},
   "source": [
    "The variance of a distribution is the average of the squared deviations (differences) from the mean."
   ]
  },
  {
   "cell_type": "code",
   "execution_count": 178,
   "metadata": {},
   "outputs": [
    {
     "data": {
      "text/plain": [
       "1714333.0382967067"
      ]
     },
     "execution_count": 178,
     "metadata": {},
     "output_type": "execute_result"
    }
   ],
   "source": [
    "Callmin['TotalCallMinutes'].var()"
   ]
  },
  {
   "cell_type": "markdown",
   "metadata": {},
   "source": [
    "Standard Deviation - square root of the variance."
   ]
  },
  {
   "cell_type": "code",
   "execution_count": 179,
   "metadata": {},
   "outputs": [
    {
     "data": {
      "text/plain": [
       "1309.325413446446"
      ]
     },
     "execution_count": 179,
     "metadata": {},
     "output_type": "execute_result"
    }
   ],
   "source": [
    "Callmin['TotalCallMinutes'].std()"
   ]
  },
  {
   "cell_type": "markdown",
   "metadata": {},
   "source": [
    "Variance and Standard Deviation are not the right measures of spread as our data is having extreme values. So, they are susceptible to the influence of data skew and outliers as both of them are derived from the mean.\n",
    "\n",
    "Median absolute deviation is an alternative measure of spread based on the median, which inherits the median's robustness against the influence of skew and outliers. It is the median of the absolute value of the deviations from the median"
   ]
  },
  {
   "cell_type": "markdown",
   "metadata": {},
   "source": [
    "Median absolute deviation is the right measure of spread for TotalCallMinutes metric"
   ]
  },
  {
   "cell_type": "code",
   "execution_count": 180,
   "metadata": {},
   "outputs": [
    {
     "data": {
      "text/plain": [
       "1159.3932"
      ]
     },
     "execution_count": 180,
     "metadata": {},
     "output_type": "execute_result"
    }
   ],
   "source": [
    "abs_median_devs = abs(Callmin['TotalCallMinutes']- Callmin['TotalCallMinutes'].median())\n",
    "\n",
    "abs_median_devs.median() * 1.4826"
   ]
  }
 ],
 "metadata": {
  "kernelspec": {
   "display_name": "Python 3",
   "language": "python",
   "name": "python3"
  },
  "language_info": {
   "codemirror_mode": {
    "name": "ipython",
    "version": 3
   },
   "file_extension": ".py",
   "mimetype": "text/x-python",
   "name": "python",
   "nbconvert_exporter": "python",
   "pygments_lexer": "ipython3",
   "version": "3.7.1"
  }
 },
 "nbformat": 4,
 "nbformat_minor": 2
}
