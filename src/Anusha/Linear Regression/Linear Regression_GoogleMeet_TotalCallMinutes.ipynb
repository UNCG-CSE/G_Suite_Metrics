{
 "cells": [
  {
   "cell_type": "markdown",
   "metadata": {},
   "source": [
    "Is there a relationship between total_call_minutes and total_call_minutes_ios?"
   ]
  },
  {
   "cell_type": "markdown",
   "metadata": {},
   "source": [
    "Simple linear regression is a statistical method that allows us to summarize and study relationships between two continuous (quantitative) variables: One variable, denoted x, is regarded as the predictor, explanatory, or independent variable.\n",
    "x is total_call_minutes_ios(feature)\n",
    "y is total_call_minutes(response)"
   ]
  },
  {
   "cell_type": "code",
   "execution_count": 29,
   "metadata": {},
   "outputs": [],
   "source": [
    "import numpy as np\n",
    "import pandas as pd\n",
    "import scipy.stats as stats\n",
    "import matplotlib.pyplot as plt\n",
    "import math\n",
    "import statsmodels.formula.api as smf"
   ]
  },
  {
   "cell_type": "code",
   "execution_count": 30,
   "metadata": {},
   "outputs": [],
   "source": [
    "data_path3 = \"C:/Users/Anusha/Documents/Copied on 9_26_19/Fall 2019/Data Science/Project/GoogleMeet.csv\"\n",
    "df = pd.read_csv(data_path3)"
   ]
  },
  {
   "cell_type": "code",
   "execution_count": 31,
   "metadata": {},
   "outputs": [
    {
     "data": {
      "text/plain": [
       "Intercept                 816.809365\n",
       "total_call_minutes_ios      5.612873\n",
       "dtype: float64"
      ]
     },
     "execution_count": 31,
     "metadata": {},
     "output_type": "execute_result"
    }
   ],
   "source": [
    "lm = smf.ols(formula='total_call_minutes ~ total_call_minutes_ios', data=df).fit()\n",
    "lm.params"
   ]
  },
  {
   "cell_type": "markdown",
   "metadata": {},
   "source": [
    "Interpreting Model Coefficients\n",
    "How do we interpret the total_call_minutes_ios coefficient ( 𝛽1 )?\n",
    "A \"unit\" increase in total_call_minutes_ios is associated with a 5.612873 \"unit\" increase in total_call_minutes."
   ]
  },
  {
   "cell_type": "markdown",
   "metadata": {},
   "source": [
    "Using the Model for Prediction\n",
    "Let's say that UNCG is purchasing 10000 licenses for iOS devices. We can predict the number of call minutes which are made especially using iOS devices\n",
    "\n",
    "𝑦=𝛽0+𝛽1𝑥\n",
    " \n",
    "𝑦=816.809365+5.612873×10"
   ]
  },
  {
   "cell_type": "code",
   "execution_count": 33,
   "metadata": {},
   "outputs": [
    {
     "data": {
      "text/plain": [
       "872.938095"
      ]
     },
     "execution_count": 33,
     "metadata": {},
     "output_type": "execute_result"
    }
   ],
   "source": [
    "816.809365+5.612873*10"
   ]
  },
  {
   "cell_type": "markdown",
   "metadata": {},
   "source": [
    "Thus, we would predict total call minutes of 872.938095 in UNCG.\n",
    "\n",
    "Using Statsmodels to make the prediction:"
   ]
  },
  {
   "cell_type": "code",
   "execution_count": 34,
   "metadata": {},
   "outputs": [
    {
     "data": {
      "text/html": [
       "<div>\n",
       "<style scoped>\n",
       "    .dataframe tbody tr th:only-of-type {\n",
       "        vertical-align: middle;\n",
       "    }\n",
       "\n",
       "    .dataframe tbody tr th {\n",
       "        vertical-align: top;\n",
       "    }\n",
       "\n",
       "    .dataframe thead th {\n",
       "        text-align: right;\n",
       "    }\n",
       "</style>\n",
       "<table border=\"1\" class=\"dataframe\">\n",
       "  <thead>\n",
       "    <tr style=\"text-align: right;\">\n",
       "      <th></th>\n",
       "      <th>total_call_minutes_ios</th>\n",
       "    </tr>\n",
       "  </thead>\n",
       "  <tbody>\n",
       "    <tr>\n",
       "      <th>0</th>\n",
       "      <td>10</td>\n",
       "    </tr>\n",
       "  </tbody>\n",
       "</table>\n",
       "</div>"
      ],
      "text/plain": [
       "   total_call_minutes_ios\n",
       "0                      10"
      ]
     },
     "execution_count": 34,
     "metadata": {},
     "output_type": "execute_result"
    }
   ],
   "source": [
    "# you have to create a DataFrame since the Statsmodels formula interface expects it\n",
    "X_new = pd.DataFrame({'total_call_minutes_ios': [10]})\n",
    "X_new.head()"
   ]
  },
  {
   "cell_type": "code",
   "execution_count": 35,
   "metadata": {},
   "outputs": [
    {
     "data": {
      "text/plain": [
       "0    872.938095\n",
       "dtype: float64"
      ]
     },
     "execution_count": 35,
     "metadata": {},
     "output_type": "execute_result"
    }
   ],
   "source": [
    "# use the model to make predictions on a new value\n",
    "lm.predict(X_new)"
   ]
  },
  {
   "cell_type": "markdown",
   "metadata": {},
   "source": [
    "Plotting the Least Squares Line\n",
    "\n",
    "Let's make predictions for the smallest and largest observed values of x, and then use the predicted values to plot the least squares line:"
   ]
  },
  {
   "cell_type": "code",
   "execution_count": 36,
   "metadata": {},
   "outputs": [
    {
     "data": {
      "text/html": [
       "<div>\n",
       "<style scoped>\n",
       "    .dataframe tbody tr th:only-of-type {\n",
       "        vertical-align: middle;\n",
       "    }\n",
       "\n",
       "    .dataframe tbody tr th {\n",
       "        vertical-align: top;\n",
       "    }\n",
       "\n",
       "    .dataframe thead th {\n",
       "        text-align: right;\n",
       "    }\n",
       "</style>\n",
       "<table border=\"1\" class=\"dataframe\">\n",
       "  <thead>\n",
       "    <tr style=\"text-align: right;\">\n",
       "      <th></th>\n",
       "      <th>total_call_minutes_ios</th>\n",
       "    </tr>\n",
       "  </thead>\n",
       "  <tbody>\n",
       "    <tr>\n",
       "      <th>0</th>\n",
       "      <td>0</td>\n",
       "    </tr>\n",
       "    <tr>\n",
       "      <th>1</th>\n",
       "      <td>1534</td>\n",
       "    </tr>\n",
       "  </tbody>\n",
       "</table>\n",
       "</div>"
      ],
      "text/plain": [
       "   total_call_minutes_ios\n",
       "0                       0\n",
       "1                    1534"
      ]
     },
     "execution_count": 36,
     "metadata": {},
     "output_type": "execute_result"
    }
   ],
   "source": [
    "X_new = pd.DataFrame({'total_call_minutes_ios': [df.total_call_minutes_ios.min(), df.total_call_minutes_ios.max()]})\n",
    "X_new.head()"
   ]
  },
  {
   "cell_type": "code",
   "execution_count": 37,
   "metadata": {},
   "outputs": [
    {
     "data": {
      "text/plain": [
       "0     816.809365\n",
       "1    9426.956532\n",
       "dtype: float64"
      ]
     },
     "execution_count": 37,
     "metadata": {},
     "output_type": "execute_result"
    }
   ],
   "source": [
    "preds = lm.predict(X_new)\n",
    "preds"
   ]
  },
  {
   "cell_type": "code",
   "execution_count": 38,
   "metadata": {},
   "outputs": [
    {
     "data": {
      "text/plain": [
       "[<matplotlib.lines.Line2D at 0x2436ca14a90>]"
      ]
     },
     "execution_count": 38,
     "metadata": {},
     "output_type": "execute_result"
    },
    {
     "data": {
      "image/png": "[encoded data removed]",
      "text/plain": [
       "<Figure size 432x288 with 1 Axes>"
      ]
     },
     "metadata": {
      "needs_background": "light"
     },
     "output_type": "display_data"
    }
   ],
   "source": [
    "# first, plot the observed data\n",
    "df.plot(kind='scatter', x='total_call_minutes_ios', y='total_call_minutes')\n",
    "\n",
    "# then, plot the least squares line\n",
    "plt.plot(X_new, preds, c='red', linewidth=2)"
   ]
  },
  {
   "cell_type": "code",
   "execution_count": 39,
   "metadata": {},
   "outputs": [
    {
     "data": {
      "text/html": [
       "<div>\n",
       "<style scoped>\n",
       "    .dataframe tbody tr th:only-of-type {\n",
       "        vertical-align: middle;\n",
       "    }\n",
       "\n",
       "    .dataframe tbody tr th {\n",
       "        vertical-align: top;\n",
       "    }\n",
       "\n",
       "    .dataframe thead th {\n",
       "        text-align: right;\n",
       "    }\n",
       "</style>\n",
       "<table border=\"1\" class=\"dataframe\">\n",
       "  <thead>\n",
       "    <tr style=\"text-align: right;\">\n",
       "      <th></th>\n",
       "      <th>0</th>\n",
       "      <th>1</th>\n",
       "    </tr>\n",
       "  </thead>\n",
       "  <tbody>\n",
       "    <tr>\n",
       "      <th>Intercept</th>\n",
       "      <td>710.180460</td>\n",
       "      <td>923.438270</td>\n",
       "    </tr>\n",
       "    <tr>\n",
       "      <th>total_call_minutes_ios</th>\n",
       "      <td>4.802785</td>\n",
       "      <td>6.422961</td>\n",
       "    </tr>\n",
       "  </tbody>\n",
       "</table>\n",
       "</div>"
      ],
      "text/plain": [
       "                                 0           1\n",
       "Intercept               710.180460  923.438270\n",
       "total_call_minutes_ios    4.802785    6.422961"
      ]
     },
     "execution_count": 39,
     "metadata": {},
     "output_type": "execute_result"
    }
   ],
   "source": [
    "# print the confidence intervals for the model coefficients\n",
    "lm.conf_int()"
   ]
  },
  {
   "cell_type": "markdown",
   "metadata": {},
   "source": [
    "As it relates to model coefficients, here is the conventional hypothesis test:\n",
    "\n",
    "null hypothesis: There is no relationship between total_call_minutes_ios and total_call_minutes (and thus  𝛽1  equals zero)\n",
    "alternative hypothesis: There is a relationship between total_call_minutes_ios and total_call_minutes (and thus  𝛽1  is not equal to zero)\n",
    "How do we test this hypothesis? Intuitively, we reject the null (and thus believe the alternative) if the 95% confidence interval does not include zero. Conversely, the p-value represents the probability that the coefficient is actually zero:"
   ]
  },
  {
   "cell_type": "code",
   "execution_count": 40,
   "metadata": {},
   "outputs": [
    {
     "data": {
      "text/plain": [
       "Intercept                 5.311861e-43\n",
       "total_call_minutes_ios    1.723082e-36\n",
       "dtype: float64"
      ]
     },
     "execution_count": 40,
     "metadata": {},
     "output_type": "execute_result"
    }
   ],
   "source": [
    "# print the p-values for the model coefficients\n",
    "lm.pvalues"
   ]
  },
  {
   "cell_type": "markdown",
   "metadata": {},
   "source": [
    "In this case, the p-value for total_call_minutes_ios is far less than 0.05, we reject the null hypothesis and so we believe that there is a relationship between total_call_minutes_ios and total_call_minutes."
   ]
  },
  {
   "cell_type": "markdown",
   "metadata": {},
   "source": [
    "How Well Does the Model Fit the data?\n",
    "The most common way to evaluate the overall fit of a linear model is by the R-squared value.\n",
    "\n",
    "\n",
    "R-squared is the proportion of variance explained, meaning the proportion of variance in the observed data that is explained by the model, or the reduction in error over the null model.\n",
    "The null model just predicts the mean of the observed response, and thus it has an intercept and no slope.\n",
    "\n",
    "R-squared is between 0 and 1, and higher is better because it means that more variance is explained by the model."
   ]
  },
  {
   "cell_type": "code",
   "execution_count": 41,
   "metadata": {},
   "outputs": [
    {
     "data": {
      "text/plain": [
       "0.25507273021955723"
      ]
     },
     "execution_count": 41,
     "metadata": {},
     "output_type": "execute_result"
    }
   ],
   "source": [
    "# print the R-squared value for the model\n",
    "lm.rsquared"
   ]
  },
  {
   "cell_type": "code",
   "execution_count": 42,
   "metadata": {},
   "outputs": [
    {
     "data": {
      "text/plain": [
       "<matplotlib.legend.Legend at 0x24369a7c048>"
      ]
     },
     "execution_count": 42,
     "metadata": {},
     "output_type": "execute_result"
    },
    {
     "data": {
      "image/png": "[encoded data removed]",
      "text/plain": [
       "<Figure size 931.968x576 with 1 Axes>"
      ]
     },
     "metadata": {
      "needs_background": "light"
     },
     "output_type": "display_data"
    }
   ],
   "source": [
    "plt.figure(figsize=(8 * 1.618, 8))\n",
    "\n",
    "plt.scatter(df.total_call_minutes_ios, df.total_call_minutes)\n",
    "\n",
    "df1 = df\n",
    "\n",
    "poly_1 = smf.ols(formula='total_call_minutes ~ 1 + total_call_minutes_ios', data=df).fit()\n",
    "\n",
    "x = pd.DataFrame({'total_call_minutes_ios': np.linspace(df.total_call_minutes_ios.min(), df.total_call_minutes_ios.max(), 200)})\n",
    "\n",
    "\n",
    "plt.plot(x.total_call_minutes_ios, poly_1.predict(x), 'b-', label='Poly n=1 $R^2$=%.2f' % poly_1.rsquared, alpha=0.9)\n",
    "\n",
    "# 2-nd order polynomial\n",
    "poly_2 = smf.ols(formula='total_call_minutes ~ 1 + total_call_minutes_ios + I(total_call_minutes_ios ** 2.0)', data=df).fit()\n",
    "plt.plot(x.total_call_minutes_ios, poly_2.predict(x), 'g-', label='Poly n=2 $R^2$=%.2f' % poly_2.rsquared, alpha=0.9)\n",
    "\n",
    "# 3-rd order polynomial\n",
    "poly_3 = smf.ols(formula='total_call_minutes ~ 1 + total_call_minutes_ios + I(total_call_minutes_ios ** 2.0) + I(total_call_minutes_ios ** 3.0)', data=df).fit()\n",
    "plt.plot(x.total_call_minutes_ios, poly_3.predict(x), 'r-', alpha=0.9, label='Poly n=3 $R^2$=%.2f' % poly_3.rsquared)\n",
    "\n",
    "plt.legend()"
   ]
  },
  {
   "cell_type": "markdown",
   "metadata": {},
   "source": [
    "Multiple Linear Regression\n",
    "Simple linear regression can easily be extended to include multiple features.\n",
    "\n",
    "This is called multiple linear regression:"
   ]
  },
  {
   "cell_type": "code",
   "execution_count": 43,
   "metadata": {},
   "outputs": [],
   "source": [
    "# create a fitted model with all five features\n",
    "lm = smf.ols(formula='total_call_minutes ~ total_call_minutes_ios + total_call_minutes_android + total_call_minutes_jamboard', data=df).fit()"
   ]
  },
  {
   "cell_type": "code",
   "execution_count": 44,
   "metadata": {},
   "outputs": [
    {
     "data": {
      "text/plain": [
       "Intercept                      766.546506\n",
       "total_call_minutes_ios           5.438388\n",
       "total_call_minutes_android       1.833887\n",
       "total_call_minutes_jamboard     24.503599\n",
       "dtype: float64"
      ]
     },
     "execution_count": 44,
     "metadata": {},
     "output_type": "execute_result"
    }
   ],
   "source": [
    "# print the coefficients\n",
    "lm.params"
   ]
  },
  {
   "cell_type": "code",
   "execution_count": 45,
   "metadata": {},
   "outputs": [
    {
     "data": {
      "text/html": [
       "<table class=\"simpletable\">\n",
       "<caption>OLS Regression Results</caption>\n",
       "<tr>\n",
       "  <th>Dep. Variable:</th>    <td>total_call_minutes</td> <th>  R-squared:         </th> <td>   0.299</td>\n",
       "</tr>\n",
       "<tr>\n",
       "  <th>Model:</th>                    <td>OLS</td>        <th>  Adj. R-squared:    </th> <td>   0.296</td>\n",
       "</tr>\n",
       "<tr>\n",
       "  <th>Method:</th>              <td>Least Squares</td>   <th>  F-statistic:       </th> <td>   76.80</td>\n",
       "</tr>\n",
       "<tr>\n",
       "  <th>Date:</th>              <td>Fri, 15 Nov 2019</td>  <th>  Prob (F-statistic):</th> <td>2.26e-41</td>\n",
       "</tr>\n",
       "<tr>\n",
       "  <th>Time:</th>                  <td>20:00:06</td>      <th>  Log-Likelihood:    </th> <td> -4570.4</td>\n",
       "</tr>\n",
       "<tr>\n",
       "  <th>No. Observations:</th>       <td>   543</td>       <th>  AIC:               </th> <td>   9149.</td>\n",
       "</tr>\n",
       "<tr>\n",
       "  <th>Df Residuals:</th>           <td>   539</td>       <th>  BIC:               </th> <td>   9166.</td>\n",
       "</tr>\n",
       "<tr>\n",
       "  <th>Df Model:</th>               <td>     3</td>       <th>                     </th>     <td> </td>   \n",
       "</tr>\n",
       "<tr>\n",
       "  <th>Covariance Type:</th>       <td>nonrobust</td>     <th>                     </th>     <td> </td>   \n",
       "</tr>\n",
       "</table>\n",
       "<table class=\"simpletable\">\n",
       "<tr>\n",
       "               <td></td>                  <th>coef</th>     <th>std err</th>      <th>t</th>      <th>P>|t|</th>  <th>[0.025</th>    <th>0.975]</th>  \n",
       "</tr>\n",
       "<tr>\n",
       "  <th>Intercept</th>                   <td>  766.5465</td> <td>   53.448</td> <td>   14.342</td> <td> 0.000</td> <td>  661.555</td> <td>  871.538</td>\n",
       "</tr>\n",
       "<tr>\n",
       "  <th>total_call_minutes_ios</th>      <td>    5.4384</td> <td>    0.402</td> <td>   13.530</td> <td> 0.000</td> <td>    4.649</td> <td>    6.228</td>\n",
       "</tr>\n",
       "<tr>\n",
       "  <th>total_call_minutes_android</th>  <td>    1.8339</td> <td>    0.344</td> <td>    5.329</td> <td> 0.000</td> <td>    1.158</td> <td>    2.510</td>\n",
       "</tr>\n",
       "<tr>\n",
       "  <th>total_call_minutes_jamboard</th> <td>   24.5036</td> <td>   10.487</td> <td>    2.337</td> <td> 0.020</td> <td>    3.903</td> <td>   45.104</td>\n",
       "</tr>\n",
       "</table>\n",
       "<table class=\"simpletable\">\n",
       "<tr>\n",
       "  <th>Omnibus:</th>       <td>187.705</td> <th>  Durbin-Watson:     </th> <td>   1.318</td> \n",
       "</tr>\n",
       "<tr>\n",
       "  <th>Prob(Omnibus):</th> <td> 0.000</td>  <th>  Jarque-Bera (JB):  </th> <td> 916.040</td> \n",
       "</tr>\n",
       "<tr>\n",
       "  <th>Skew:</th>          <td> 1.461</td>  <th>  Prob(JB):          </th> <td>1.21e-199</td>\n",
       "</tr>\n",
       "<tr>\n",
       "  <th>Kurtosis:</th>      <td> 8.652</td>  <th>  Cond. No.          </th> <td>    168.</td> \n",
       "</tr>\n",
       "</table><br/><br/>Warnings:<br/>[1] Standard Errors assume that the covariance matrix of the errors is correctly specified."
      ],
      "text/plain": [
       "<class 'statsmodels.iolib.summary.Summary'>\n",
       "\"\"\"\n",
       "                            OLS Regression Results                            \n",
       "==============================================================================\n",
       "Dep. Variable:     total_call_minutes   R-squared:                       0.299\n",
       "Model:                            OLS   Adj. R-squared:                  0.296\n",
       "Method:                 Least Squares   F-statistic:                     76.80\n",
       "Date:                Fri, 15 Nov 2019   Prob (F-statistic):           2.26e-41\n",
       "Time:                        20:00:06   Log-Likelihood:                -4570.4\n",
       "No. Observations:                 543   AIC:                             9149.\n",
       "Df Residuals:                     539   BIC:                             9166.\n",
       "Df Model:                           3                                         \n",
       "Covariance Type:            nonrobust                                         \n",
       "===============================================================================================\n",
       "                                  coef    std err          t      P>|t|      [0.025      0.975]\n",
       "-----------------------------------------------------------------------------------------------\n",
       "Intercept                     766.5465     53.448     14.342      0.000     661.555     871.538\n",
       "total_call_minutes_ios          5.4384      0.402     13.530      0.000       4.649       6.228\n",
       "total_call_minutes_android      1.8339      0.344      5.329      0.000       1.158       2.510\n",
       "total_call_minutes_jamboard    24.5036     10.487      2.337      0.020       3.903      45.104\n",
       "==============================================================================\n",
       "Omnibus:                      187.705   Durbin-Watson:                   1.318\n",
       "Prob(Omnibus):                  0.000   Jarque-Bera (JB):              916.040\n",
       "Skew:                           1.461   Prob(JB):                    1.21e-199\n",
       "Kurtosis:                       8.652   Cond. No.                         168.\n",
       "==============================================================================\n",
       "\n",
       "Warnings:\n",
       "[1] Standard Errors assume that the covariance matrix of the errors is correctly specified.\n",
       "\"\"\""
      ]
     },
     "execution_count": 45,
     "metadata": {},
     "output_type": "execute_result"
    }
   ],
   "source": [
    "# print a summary of the fitted model\n",
    "lm.summary()"
   ]
  },
  {
   "cell_type": "markdown",
   "metadata": {},
   "source": [
    "What are a few key things we learn from this output?\n",
    "\n",
    "total_call_minutes_ios, total_call_minutes_android and total_call_minutes_jamboard have significant p-values.\n",
    "Thus we reject the null hypothesis for all of them (that there is no association between those features and total_call_minutes).\n",
    "\n",
    "total_call_minutes_ios, total_call_minutes_android and total_call_minutes_jamboard are positively associated with total_call_minutes.\n",
    "This model has a higher R-squared (0.299) than the previous model(0.25507273021955723), which means that this model provides a better fit to the data than a model that only includes total_call_minutes_ios."
   ]
  },
  {
   "cell_type": "code",
   "execution_count": 46,
   "metadata": {},
   "outputs": [
    {
     "data": {
      "text/plain": [
       "0.25507273021955723"
      ]
     },
     "execution_count": 46,
     "metadata": {},
     "output_type": "execute_result"
    }
   ],
   "source": [
    "# only include TV and Radio in the model\n",
    "lm = smf.ols(formula='total_call_minutes ~ total_call_minutes_ios', data=df).fit()\n",
    "lm.rsquared"
   ]
  },
  {
   "cell_type": "code",
   "execution_count": 47,
   "metadata": {},
   "outputs": [
    {
     "data": {
      "text/plain": [
       "0.29235942484123034"
      ]
     },
     "execution_count": 47,
     "metadata": {},
     "output_type": "execute_result"
    }
   ],
   "source": [
    "# only include TV and Radio in the model\n",
    "lm = smf.ols(formula='total_call_minutes ~ total_call_minutes_ios + total_call_minutes_android', data=df).fit()\n",
    "lm.rsquared"
   ]
  },
  {
   "cell_type": "code",
   "execution_count": 48,
   "metadata": {},
   "outputs": [
    {
     "data": {
      "text/plain": [
       "0.2994553613448113"
      ]
     },
     "execution_count": 48,
     "metadata": {},
     "output_type": "execute_result"
    }
   ],
   "source": [
    "lm = smf.ols(formula='total_call_minutes ~ total_call_minutes_ios + total_call_minutes_android+total_call_minutes_jamboard', data=df).fit()\n",
    "lm.rsquared"
   ]
  }
 ],
 "metadata": {
  "kernelspec": {
   "display_name": "Python 3",
   "language": "python",
   "name": "python3"
  },
  "language_info": {
   "codemirror_mode": {
    "name": "ipython",
    "version": 3
   },
   "file_extension": ".py",
   "mimetype": "text/x-python",
   "name": "python",
   "nbconvert_exporter": "python",
   "pygments_lexer": "ipython3",
   "version": "3.7.1"
  }
 },
 "nbformat": 4,
 "nbformat_minor": 2
}
