{
 "cells": [
  {
   "cell_type": "code",
   "execution_count": 2,
   "metadata": {},
   "outputs": [],
   "source": [
    "import pandas as pd\n",
    "import matplotlib.pyplot as plt\n",
    "import numpy as np\n",
    "data_path = \"C:/Users/Anusha/Documents/Copied on 9_26_19/Fall 2019/Data Science/Project/GoogleMeetUpdated.csv\"\n",
    "data = pd.read_csv(data_path)"
   ]
  },
  {
   "cell_type": "markdown",
   "metadata": {},
   "source": [
    "Exracting Google Meet Number of Meetings related metrics"
   ]
  },
  {
   "cell_type": "code",
   "execution_count": 3,
   "metadata": {},
   "outputs": [
    {
     "data": {
      "text/html": [
       "<div>\n",
       "<style scoped>\n",
       "    .dataframe tbody tr th:only-of-type {\n",
       "        vertical-align: middle;\n",
       "    }\n",
       "\n",
       "    .dataframe tbody tr th {\n",
       "        vertical-align: top;\n",
       "    }\n",
       "\n",
       "    .dataframe thead th {\n",
       "        text-align: right;\n",
       "    }\n",
       "</style>\n",
       "<table border=\"1\" class=\"dataframe\">\n",
       "  <thead>\n",
       "    <tr style=\"text-align: right;\">\n",
       "      <th></th>\n",
       "      <th>MeetingsNumber</th>\n",
       "      <th>time</th>\n",
       "      <th>date</th>\n",
       "      <th>year</th>\n",
       "      <th>month</th>\n",
       "    </tr>\n",
       "  </thead>\n",
       "  <tbody>\n",
       "    <tr>\n",
       "      <th>0</th>\n",
       "      <td>0.0</td>\n",
       "      <td>2018-01-14T00:00:00.000-0500</td>\n",
       "      <td>2018-01-14</td>\n",
       "      <td>2018</td>\n",
       "      <td>1</td>\n",
       "    </tr>\n",
       "    <tr>\n",
       "      <th>1</th>\n",
       "      <td>0.0</td>\n",
       "      <td>2018-01-15T00:00:00.000-0500</td>\n",
       "      <td>2018-01-15</td>\n",
       "      <td>2018</td>\n",
       "      <td>1</td>\n",
       "    </tr>\n",
       "    <tr>\n",
       "      <th>2</th>\n",
       "      <td>0.0</td>\n",
       "      <td>2018-01-16T00:00:00.000-0500</td>\n",
       "      <td>2018-01-16</td>\n",
       "      <td>2018</td>\n",
       "      <td>1</td>\n",
       "    </tr>\n",
       "    <tr>\n",
       "      <th>3</th>\n",
       "      <td>0.0</td>\n",
       "      <td>2018-01-17T00:00:00.000-0500</td>\n",
       "      <td>2018-01-17</td>\n",
       "      <td>2018</td>\n",
       "      <td>1</td>\n",
       "    </tr>\n",
       "    <tr>\n",
       "      <th>4</th>\n",
       "      <td>0.0</td>\n",
       "      <td>2018-01-18T00:00:00.000-0500</td>\n",
       "      <td>2018-01-18</td>\n",
       "      <td>2018</td>\n",
       "      <td>1</td>\n",
       "    </tr>\n",
       "    <tr>\n",
       "      <th>5</th>\n",
       "      <td>0.0</td>\n",
       "      <td>2018-01-19T00:00:00.000-0500</td>\n",
       "      <td>2018-01-19</td>\n",
       "      <td>2018</td>\n",
       "      <td>1</td>\n",
       "    </tr>\n",
       "    <tr>\n",
       "      <th>6</th>\n",
       "      <td>0.0</td>\n",
       "      <td>2018-01-20T00:00:00.000-0500</td>\n",
       "      <td>2018-01-20</td>\n",
       "      <td>2018</td>\n",
       "      <td>1</td>\n",
       "    </tr>\n",
       "    <tr>\n",
       "      <th>7</th>\n",
       "      <td>0.0</td>\n",
       "      <td>2018-01-21T00:00:00.000-0500</td>\n",
       "      <td>2018-01-21</td>\n",
       "      <td>2018</td>\n",
       "      <td>1</td>\n",
       "    </tr>\n",
       "    <tr>\n",
       "      <th>8</th>\n",
       "      <td>0.0</td>\n",
       "      <td>2018-01-22T00:00:00.000-0500</td>\n",
       "      <td>2018-01-22</td>\n",
       "      <td>2018</td>\n",
       "      <td>1</td>\n",
       "    </tr>\n",
       "    <tr>\n",
       "      <th>9</th>\n",
       "      <td>0.0</td>\n",
       "      <td>2018-01-23T00:00:00.000-0500</td>\n",
       "      <td>2018-01-23</td>\n",
       "      <td>2018</td>\n",
       "      <td>1</td>\n",
       "    </tr>\n",
       "  </tbody>\n",
       "</table>\n",
       "</div>"
      ],
      "text/plain": [
       "   MeetingsNumber                          time        date  year  month\n",
       "0             0.0  2018-01-14T00:00:00.000-0500  2018-01-14  2018      1\n",
       "1             0.0  2018-01-15T00:00:00.000-0500  2018-01-15  2018      1\n",
       "2             0.0  2018-01-16T00:00:00.000-0500  2018-01-16  2018      1\n",
       "3             0.0  2018-01-17T00:00:00.000-0500  2018-01-17  2018      1\n",
       "4             0.0  2018-01-18T00:00:00.000-0500  2018-01-18  2018      1\n",
       "5             0.0  2018-01-19T00:00:00.000-0500  2018-01-19  2018      1\n",
       "6             0.0  2018-01-20T00:00:00.000-0500  2018-01-20  2018      1\n",
       "7             0.0  2018-01-21T00:00:00.000-0500  2018-01-21  2018      1\n",
       "8             0.0  2018-01-22T00:00:00.000-0500  2018-01-22  2018      1\n",
       "9             0.0  2018-01-23T00:00:00.000-0500  2018-01-23  2018      1"
      ]
     },
     "execution_count": 3,
     "metadata": {},
     "output_type": "execute_result"
    }
   ],
   "source": [
    "MeetingsNo= data[[\"google.meet:num_meetings\",\"time\",\"date\",\"year\",\"month\"]].rename(columns = {\"google.meet:num_meetings\": \"MeetingsNumber\"}) \n",
    "MeetingsNo.head(10)"
   ]
  },
  {
   "cell_type": "markdown",
   "metadata": {},
   "source": [
    "Shape Of Data"
   ]
  },
  {
   "cell_type": "code",
   "execution_count": 3,
   "metadata": {},
   "outputs": [
    {
     "data": {
      "text/plain": [
       "(543, 5)"
      ]
     },
     "execution_count": 3,
     "metadata": {},
     "output_type": "execute_result"
    }
   ],
   "source": [
    "MeetingsNo.shape"
   ]
  },
  {
   "cell_type": "markdown",
   "metadata": {},
   "source": [
    "Value counts is used to find the number of observations with metric value as 0,1,..\n",
    "There are 159 observations with metric value as 0"
   ]
  },
  {
   "cell_type": "code",
   "execution_count": 4,
   "metadata": {},
   "outputs": [
    {
     "data": {
      "text/plain": [
       "0.0     159\n",
       "1.0      28\n",
       "2.0      24\n",
       "9.0      23\n",
       "14.0     22\n",
       "3.0      18\n",
       "17.0     18\n",
       "7.0      17\n",
       "15.0     17\n",
       "13.0     16\n",
       "Name: MeetingsNumber, dtype: int64"
      ]
     },
     "execution_count": 4,
     "metadata": {},
     "output_type": "execute_result"
    }
   ],
   "source": [
    "counts = MeetingsNo.MeetingsNumber.value_counts()\n",
    "counts.head(10)"
   ]
  },
  {
   "cell_type": "markdown",
   "metadata": {},
   "source": [
    "Finding number of negative metric_values using mask. There are no negative values"
   ]
  },
  {
   "cell_type": "code",
   "execution_count": 5,
   "metadata": {},
   "outputs": [
    {
     "data": {
      "text/html": [
       "<div>\n",
       "<style scoped>\n",
       "    .dataframe tbody tr th:only-of-type {\n",
       "        vertical-align: middle;\n",
       "    }\n",
       "\n",
       "    .dataframe tbody tr th {\n",
       "        vertical-align: top;\n",
       "    }\n",
       "\n",
       "    .dataframe thead th {\n",
       "        text-align: right;\n",
       "    }\n",
       "</style>\n",
       "<table border=\"1\" class=\"dataframe\">\n",
       "  <thead>\n",
       "    <tr style=\"text-align: right;\">\n",
       "      <th></th>\n",
       "      <th>MeetingsNumber</th>\n",
       "      <th>time</th>\n",
       "      <th>date</th>\n",
       "      <th>year</th>\n",
       "      <th>month</th>\n",
       "    </tr>\n",
       "  </thead>\n",
       "  <tbody>\n",
       "  </tbody>\n",
       "</table>\n",
       "</div>"
      ],
      "text/plain": [
       "Empty DataFrame\n",
       "Columns: [MeetingsNumber, time, date, year, month]\n",
       "Index: []"
      ]
     },
     "execution_count": 5,
     "metadata": {},
     "output_type": "execute_result"
    }
   ],
   "source": [
    "mask = (MeetingsNo.MeetingsNumber< 0)\n",
    "MeetingsNo[mask].head()"
   ]
  },
  {
   "cell_type": "markdown",
   "metadata": {},
   "source": [
    "Sorting using metric values in ascending order."
   ]
  },
  {
   "cell_type": "code",
   "execution_count": 6,
   "metadata": {},
   "outputs": [
    {
     "data": {
      "text/plain": [
       "0      0.0\n",
       "103    0.0\n",
       "104    0.0\n",
       "106    0.0\n",
       "107    0.0\n",
       "108    0.0\n",
       "109    0.0\n",
       "110    0.0\n",
       "102    0.0\n",
       "111    0.0\n",
       "Name: MeetingsNumber, dtype: float64"
      ]
     },
     "execution_count": 6,
     "metadata": {},
     "output_type": "execute_result"
    }
   ],
   "source": [
    "MeetingsNo.MeetingsNumber.sort_values().head(10)"
   ]
  },
  {
   "cell_type": "markdown",
   "metadata": {},
   "source": [
    "describe is used to get some useful information like number of metric values and least, highest metric value"
   ]
  },
  {
   "cell_type": "code",
   "execution_count": 7,
   "metadata": {},
   "outputs": [
    {
     "data": {
      "text/plain": [
       "count    541.000000\n",
       "mean       8.613678\n",
       "std        8.734379\n",
       "min        0.000000\n",
       "25%        0.000000\n",
       "50%        7.000000\n",
       "75%       15.000000\n",
       "max       39.000000\n",
       "Name: MeetingsNumber, dtype: float64"
      ]
     },
     "execution_count": 7,
     "metadata": {},
     "output_type": "execute_result"
    }
   ],
   "source": [
    "MeetingsNo.MeetingsNumber.describe()"
   ]
  },
  {
   "cell_type": "markdown",
   "metadata": {},
   "source": [
    "Maximum number of Meetings count"
   ]
  },
  {
   "cell_type": "code",
   "execution_count": 8,
   "metadata": {},
   "outputs": [
    {
     "data": {
      "text/plain": [
       "MeetingsNumber                              39\n",
       "time              2019-03-21T00:00:00.000-0400\n",
       "date                                2019-03-21\n",
       "year                                      2019\n",
       "month                                        3\n",
       "Name: 406, dtype: object"
      ]
     },
     "execution_count": 8,
     "metadata": {},
     "output_type": "execute_result"
    }
   ],
   "source": [
    "MeetingsNo.loc[MeetingsNo.MeetingsNumber.idxmax()]"
   ]
  },
  {
   "cell_type": "markdown",
   "metadata": {},
   "source": [
    "Minimun value in dataframe"
   ]
  },
  {
   "cell_type": "code",
   "execution_count": 9,
   "metadata": {},
   "outputs": [
    {
     "data": {
      "text/plain": [
       "MeetingsNumber                               0\n",
       "time              2018-01-14T00:00:00.000-0500\n",
       "date                                2018-01-14\n",
       "year                                      2018\n",
       "month                                        1\n",
       "Name: 0, dtype: object"
      ]
     },
     "execution_count": 9,
     "metadata": {},
     "output_type": "execute_result"
    }
   ],
   "source": [
    "MeetingsNo.loc[MeetingsNo.MeetingsNumber.idxmin()]"
   ]
  },
  {
   "cell_type": "code",
   "execution_count": 10,
   "metadata": {},
   "outputs": [
    {
     "data": {
      "text/html": [
       "<div>\n",
       "<style scoped>\n",
       "    .dataframe tbody tr th:only-of-type {\n",
       "        vertical-align: middle;\n",
       "    }\n",
       "\n",
       "    .dataframe tbody tr th {\n",
       "        vertical-align: top;\n",
       "    }\n",
       "\n",
       "    .dataframe thead th {\n",
       "        text-align: right;\n",
       "    }\n",
       "</style>\n",
       "<table border=\"1\" class=\"dataframe\">\n",
       "  <thead>\n",
       "    <tr style=\"text-align: right;\">\n",
       "      <th></th>\n",
       "      <th></th>\n",
       "      <th></th>\n",
       "      <th></th>\n",
       "      <th></th>\n",
       "    </tr>\n",
       "    <tr>\n",
       "      <th>MeetingsNumber</th>\n",
       "      <th>date</th>\n",
       "      <th>time</th>\n",
       "      <th>year</th>\n",
       "      <th>month</th>\n",
       "    </tr>\n",
       "  </thead>\n",
       "  <tbody>\n",
       "    <tr>\n",
       "      <th rowspan=\"2\" valign=\"top\">30.0</th>\n",
       "      <th>2019-02-20</th>\n",
       "      <th>2019-02-20T00:00:00.000-0500</th>\n",
       "      <th>2019</th>\n",
       "      <th>2</th>\n",
       "    </tr>\n",
       "    <tr>\n",
       "      <th>2019-06-26</th>\n",
       "      <th>2019-06-26T00:00:00.000-0400</th>\n",
       "      <th>2019</th>\n",
       "      <th>6</th>\n",
       "    </tr>\n",
       "    <tr>\n",
       "      <th>31.0</th>\n",
       "      <th>2019-04-04</th>\n",
       "      <th>2019-04-04T00:00:00.000-0400</th>\n",
       "      <th>2019</th>\n",
       "      <th>4</th>\n",
       "    </tr>\n",
       "    <tr>\n",
       "      <th rowspan=\"2\" valign=\"top\">32.0</th>\n",
       "      <th>2019-04-03</th>\n",
       "      <th>2019-04-03T00:00:00.000-0400</th>\n",
       "      <th>2019</th>\n",
       "      <th>4</th>\n",
       "    </tr>\n",
       "    <tr>\n",
       "      <th>2019-06-27</th>\n",
       "      <th>2019-06-27T00:00:00.000-0400</th>\n",
       "      <th>2019</th>\n",
       "      <th>6</th>\n",
       "    </tr>\n",
       "    <tr>\n",
       "      <th rowspan=\"2\" valign=\"top\">33.0</th>\n",
       "      <th>2019-02-05</th>\n",
       "      <th>2019-02-05T00:00:00.000-0500</th>\n",
       "      <th>2019</th>\n",
       "      <th>2</th>\n",
       "    </tr>\n",
       "    <tr>\n",
       "      <th>2019-03-26</th>\n",
       "      <th>2019-03-26T00:00:00.000-0400</th>\n",
       "      <th>2019</th>\n",
       "      <th>3</th>\n",
       "    </tr>\n",
       "    <tr>\n",
       "      <th>34.0</th>\n",
       "      <th>2019-05-23</th>\n",
       "      <th>2019-05-23T00:00:00.000-0400</th>\n",
       "      <th>2019</th>\n",
       "      <th>5</th>\n",
       "    </tr>\n",
       "    <tr>\n",
       "      <th>38.0</th>\n",
       "      <th>2019-06-17</th>\n",
       "      <th>2019-06-17T00:00:00.000-0400</th>\n",
       "      <th>2019</th>\n",
       "      <th>6</th>\n",
       "    </tr>\n",
       "    <tr>\n",
       "      <th>39.0</th>\n",
       "      <th>2019-03-21</th>\n",
       "      <th>2019-03-21T00:00:00.000-0400</th>\n",
       "      <th>2019</th>\n",
       "      <th>3</th>\n",
       "    </tr>\n",
       "  </tbody>\n",
       "</table>\n",
       "</div>"
      ],
      "text/plain": [
       "Empty DataFrame\n",
       "Columns: []\n",
       "Index: [(30.0, 2019-02-20, 2019-02-20T00:00:00.000-0500, 2019, 2), (30.0, 2019-06-26, 2019-06-26T00:00:00.000-0400, 2019, 6), (31.0, 2019-04-04, 2019-04-04T00:00:00.000-0400, 2019, 4), (32.0, 2019-04-03, 2019-04-03T00:00:00.000-0400, 2019, 4), (32.0, 2019-06-27, 2019-06-27T00:00:00.000-0400, 2019, 6), (33.0, 2019-02-05, 2019-02-05T00:00:00.000-0500, 2019, 2), (33.0, 2019-03-26, 2019-03-26T00:00:00.000-0400, 2019, 3), (34.0, 2019-05-23, 2019-05-23T00:00:00.000-0400, 2019, 5), (38.0, 2019-06-17, 2019-06-17T00:00:00.000-0400, 2019, 6), (39.0, 2019-03-21, 2019-03-21T00:00:00.000-0400, 2019, 3)]"
      ]
     },
     "execution_count": 10,
     "metadata": {},
     "output_type": "execute_result"
    }
   ],
   "source": [
    "MeetingsNo.groupby(['MeetingsNumber', 'date' , 'time' , 'year','month']).count().tail(10)"
   ]
  },
  {
   "cell_type": "markdown",
   "metadata": {},
   "source": [
    "Number of observations for each year"
   ]
  },
  {
   "cell_type": "code",
   "execution_count": 11,
   "metadata": {},
   "outputs": [
    {
     "data": {
      "text/plain": [
       "2018    328\n",
       "2019    215\n",
       "Name: year, dtype: int64"
      ]
     },
     "execution_count": 11,
     "metadata": {},
     "output_type": "execute_result"
    }
   ],
   "source": [
    "MeetingsNo.year.value_counts()"
   ]
  },
  {
   "cell_type": "markdown",
   "metadata": {},
   "source": [
    "Number of observations for each year"
   ]
  },
  {
   "cell_type": "code",
   "execution_count": 12,
   "metadata": {},
   "outputs": [
    {
     "data": {
      "text/plain": [
       "4     60\n",
       "3     60\n",
       "6     54\n",
       "5     54\n",
       "2     53\n",
       "7     51\n",
       "1     49\n",
       "8     41\n",
       "12    31\n",
       "10    31\n",
       "11    30\n",
       "9     29\n",
       "Name: month, dtype: int64"
      ]
     },
     "execution_count": 12,
     "metadata": {},
     "output_type": "execute_result"
    }
   ],
   "source": [
    "MeetingsNo.month.value_counts()"
   ]
  },
  {
   "cell_type": "raw",
   "metadata": {},
   "source": [
    "Finding the metric value by passing quantile value. In the lowest quantile values are zero. "
   ]
  },
  {
   "cell_type": "code",
   "execution_count": 13,
   "metadata": {},
   "outputs": [
    {
     "data": {
      "text/plain": [
       "0.0"
      ]
     },
     "execution_count": 13,
     "metadata": {},
     "output_type": "execute_result"
    }
   ],
   "source": [
    "MeetingsNo['MeetingsNumber'].quantile(0)"
   ]
  },
  {
   "cell_type": "markdown",
   "metadata": {},
   "source": [
    "Median of metric values"
   ]
  },
  {
   "cell_type": "code",
   "execution_count": 15,
   "metadata": {},
   "outputs": [
    {
     "data": {
      "text/plain": [
       "7.0"
      ]
     },
     "execution_count": 15,
     "metadata": {},
     "output_type": "execute_result"
    }
   ],
   "source": [
    "MeetingsNo['MeetingsNumber'].quantile(0.5)"
   ]
  },
  {
   "cell_type": "markdown",
   "metadata": {},
   "source": [
    "Highest Metric values are around 39. Highest Number of Meetings in a day are 39 "
   ]
  },
  {
   "cell_type": "code",
   "execution_count": 16,
   "metadata": {},
   "outputs": [
    {
     "data": {
      "text/plain": [
       "39.0"
      ]
     },
     "execution_count": 16,
     "metadata": {},
     "output_type": "execute_result"
    }
   ],
   "source": [
    "MeetingsNo['MeetingsNumber'].quantile(1.0)"
   ]
  },
  {
   "cell_type": "markdown",
   "metadata": {},
   "source": [
    "Mean value is higher than median as we have maximum outliers"
   ]
  },
  {
   "cell_type": "code",
   "execution_count": 17,
   "metadata": {},
   "outputs": [
    {
     "data": {
      "text/plain": [
       "8.613678373382625"
      ]
     },
     "execution_count": 17,
     "metadata": {},
     "output_type": "execute_result"
    }
   ],
   "source": [
    "MeetingsNo['MeetingsNumber'].mean()"
   ]
  },
  {
   "cell_type": "markdown",
   "metadata": {},
   "source": [
    "Mode of metric values. Total number of meetings are zero for most of the days"
   ]
  },
  {
   "cell_type": "code",
   "execution_count": 18,
   "metadata": {},
   "outputs": [
    {
     "data": {
      "text/plain": [
       "0    0.0\n",
       "dtype: float64"
      ]
     },
     "execution_count": 18,
     "metadata": {},
     "output_type": "execute_result"
    }
   ],
   "source": [
    "MeetingsNo['MeetingsNumber'].mode()"
   ]
  },
  {
   "cell_type": "markdown",
   "metadata": {},
   "source": [
    "Quartile\n",
    "\n",
    "minimum value (0th percentile),\n",
    "first quartile (25th percentile),\n",
    "the median - second quartile (50th percentile),\n",
    "third quartile(75th percentile), and\n",
    "maximum value (100th percentile)\n",
    "using the quantile() function:"
   ]
  },
  {
   "cell_type": "code",
   "execution_count": 20,
   "metadata": {},
   "outputs": [
    {
     "data": {
      "text/plain": [
       "[0.0, 0.0, 7.0, 15.0, 39.0]"
      ]
     },
     "execution_count": 20,
     "metadata": {},
     "output_type": "execute_result"
    }
   ],
   "source": [
    "five_num = [MeetingsNo['MeetingsNumber'].quantile(0),   \n",
    "            MeetingsNo['MeetingsNumber'].quantile(0.25),\n",
    "            MeetingsNo['MeetingsNumber'].quantile(0.50),\n",
    "            MeetingsNo['MeetingsNumber'].quantile(0.75),\n",
    "            MeetingsNo['MeetingsNumber'].quantile(1)]\n",
    "\n",
    "five_num"
   ]
  },
  {
   "cell_type": "markdown",
   "metadata": {},
   "source": [
    "Interquartile (IQR) range - distance between the 3rd quartile and the 1st quartile"
   ]
  },
  {
   "cell_type": "code",
   "execution_count": 21,
   "metadata": {},
   "outputs": [
    {
     "data": {
      "text/plain": [
       "15.0"
      ]
     },
     "execution_count": 21,
     "metadata": {},
     "output_type": "execute_result"
    }
   ],
   "source": [
    "MeetingsNo['MeetingsNumber'].quantile(0.75) - MeetingsNo['MeetingsNumber'].quantile(0.25)"
   ]
  },
  {
   "cell_type": "markdown",
   "metadata": {},
   "source": [
    "Plotted all quartile values which are calculated above using box plots\n",
    "\n",
    "We can see the highest values, there are around 2 values greater than 34 "
   ]
  },
  {
   "cell_type": "code",
   "execution_count": 4,
   "metadata": {},
   "outputs": [
    {
     "data": {
      "text/plain": [
       "<matplotlib.axes._subplots.AxesSubplot at 0x1fbc4dcf208>"
      ]
     },
     "execution_count": 4,
     "metadata": {},
     "output_type": "execute_result"
    },
    {
     "data": {
      "image/png": "[encoded data removed]",
      "text/plain": [
       "<Figure size 432x288 with 1 Axes>"
      ]
     },
     "metadata": {
      "needs_background": "light"
     },
     "output_type": "display_data"
    }
   ],
   "source": [
    "MeetingsNo.boxplot(by ='year', column =['MeetingsNumber'], grid = False)"
   ]
  },
  {
   "cell_type": "code",
   "execution_count": 23,
   "metadata": {},
   "outputs": [
    {
     "data": {
      "text/plain": [
       "76.28936811117958"
      ]
     },
     "execution_count": 23,
     "metadata": {},
     "output_type": "execute_result"
    }
   ],
   "source": [
    "MeetingsNo['MeetingsNumber'].var()"
   ]
  },
  {
   "cell_type": "markdown",
   "metadata": {},
   "source": [
    "Standard Deviation - square root of the variance."
   ]
  },
  {
   "cell_type": "code",
   "execution_count": 24,
   "metadata": {},
   "outputs": [
    {
     "data": {
      "text/plain": [
       "8.734378518886137"
      ]
     },
     "execution_count": 24,
     "metadata": {},
     "output_type": "execute_result"
    }
   ],
   "source": [
    "MeetingsNo['MeetingsNumber'].std()"
   ]
  },
  {
   "cell_type": "markdown",
   "metadata": {},
   "source": [
    "Variance and Standard Deviation are not the right measures of spread as our data is having extreme values. So, they are susceptible to the influence of data skew and outliers as both of them are derived from the mean.\n",
    "\n",
    "Median absolute deviation is an alternative measure of spread based on the median, which inherits the median's robustness against the influence of skew and outliers. It is the median of the absolute value of the deviations from the median"
   ]
  },
  {
   "cell_type": "markdown",
   "metadata": {},
   "source": [
    "Median absolute deviation is the right measure of spread for Number Of meetings metric"
   ]
  },
  {
   "cell_type": "code",
   "execution_count": 26,
   "metadata": {},
   "outputs": [
    {
     "data": {
      "text/plain": [
       "10.3782"
      ]
     },
     "execution_count": 26,
     "metadata": {},
     "output_type": "execute_result"
    }
   ],
   "source": [
    "abs_median_devs = abs(MeetingsNo['MeetingsNumber']- MeetingsNo['MeetingsNumber'].median())\n",
    "\n",
    "abs_median_devs.median() * 1.4826"
   ]
  },
  {
   "cell_type": "code",
   "execution_count": null,
   "metadata": {},
   "outputs": [],
   "source": []
  }
 ],
 "metadata": {
  "kernelspec": {
   "display_name": "Python 3",
   "language": "python",
   "name": "python3"
  },
  "language_info": {
   "codemirror_mode": {
    "name": "ipython",
    "version": 3
   },
   "file_extension": ".py",
   "mimetype": "text/x-python",
   "name": "python",
   "nbconvert_exporter": "python",
   "pygments_lexer": "ipython3",
   "version": "3.7.1"
  }
 },
 "nbformat": 4,
 "nbformat_minor": 2
}
