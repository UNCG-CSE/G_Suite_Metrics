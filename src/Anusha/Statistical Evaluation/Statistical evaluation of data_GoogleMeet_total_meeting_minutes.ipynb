{
 "cells": [
  {
   "cell_type": "code",
   "execution_count": 1,
   "metadata": {},
   "outputs": [],
   "source": [
    "import pandas as pd\n",
    "import matplotlib.pyplot as plt\n",
    "import numpy as np\n",
    "data_path = \"C:/Users/Anusha/Documents/Copied on 9_26_19/Fall 2019/Data Science/Project/GoogleMeetUpdated.csv\"\n",
    "data = pd.read_csv(data_path)"
   ]
  },
  {
   "cell_type": "markdown",
   "metadata": {},
   "source": [
    "Exracting Google Meet Total meeting minutes related metrics"
   ]
  },
  {
   "cell_type": "code",
   "execution_count": 2,
   "metadata": {},
   "outputs": [
    {
     "data": {
      "text/html": [
       "<div>\n",
       "<style scoped>\n",
       "    .dataframe tbody tr th:only-of-type {\n",
       "        vertical-align: middle;\n",
       "    }\n",
       "\n",
       "    .dataframe tbody tr th {\n",
       "        vertical-align: top;\n",
       "    }\n",
       "\n",
       "    .dataframe thead th {\n",
       "        text-align: right;\n",
       "    }\n",
       "</style>\n",
       "<table border=\"1\" class=\"dataframe\">\n",
       "  <thead>\n",
       "    <tr style=\"text-align: right;\">\n",
       "      <th></th>\n",
       "      <th>TotalMeetingMinutes</th>\n",
       "      <th>time</th>\n",
       "      <th>date</th>\n",
       "      <th>year</th>\n",
       "      <th>month</th>\n",
       "    </tr>\n",
       "  </thead>\n",
       "  <tbody>\n",
       "    <tr>\n",
       "      <th>0</th>\n",
       "      <td>0.0</td>\n",
       "      <td>2018-01-14T00:00:00.000-0500</td>\n",
       "      <td>2018-01-14</td>\n",
       "      <td>2018</td>\n",
       "      <td>1</td>\n",
       "    </tr>\n",
       "    <tr>\n",
       "      <th>1</th>\n",
       "      <td>0.0</td>\n",
       "      <td>2018-01-15T00:00:00.000-0500</td>\n",
       "      <td>2018-01-15</td>\n",
       "      <td>2018</td>\n",
       "      <td>1</td>\n",
       "    </tr>\n",
       "    <tr>\n",
       "      <th>2</th>\n",
       "      <td>0.0</td>\n",
       "      <td>2018-01-16T00:00:00.000-0500</td>\n",
       "      <td>2018-01-16</td>\n",
       "      <td>2018</td>\n",
       "      <td>1</td>\n",
       "    </tr>\n",
       "    <tr>\n",
       "      <th>3</th>\n",
       "      <td>0.0</td>\n",
       "      <td>2018-01-17T00:00:00.000-0500</td>\n",
       "      <td>2018-01-17</td>\n",
       "      <td>2018</td>\n",
       "      <td>1</td>\n",
       "    </tr>\n",
       "    <tr>\n",
       "      <th>4</th>\n",
       "      <td>0.0</td>\n",
       "      <td>2018-01-18T00:00:00.000-0500</td>\n",
       "      <td>2018-01-18</td>\n",
       "      <td>2018</td>\n",
       "      <td>1</td>\n",
       "    </tr>\n",
       "    <tr>\n",
       "      <th>5</th>\n",
       "      <td>0.0</td>\n",
       "      <td>2018-01-19T00:00:00.000-0500</td>\n",
       "      <td>2018-01-19</td>\n",
       "      <td>2018</td>\n",
       "      <td>1</td>\n",
       "    </tr>\n",
       "    <tr>\n",
       "      <th>6</th>\n",
       "      <td>0.0</td>\n",
       "      <td>2018-01-20T00:00:00.000-0500</td>\n",
       "      <td>2018-01-20</td>\n",
       "      <td>2018</td>\n",
       "      <td>1</td>\n",
       "    </tr>\n",
       "    <tr>\n",
       "      <th>7</th>\n",
       "      <td>0.0</td>\n",
       "      <td>2018-01-21T00:00:00.000-0500</td>\n",
       "      <td>2018-01-21</td>\n",
       "      <td>2018</td>\n",
       "      <td>1</td>\n",
       "    </tr>\n",
       "    <tr>\n",
       "      <th>8</th>\n",
       "      <td>0.0</td>\n",
       "      <td>2018-01-22T00:00:00.000-0500</td>\n",
       "      <td>2018-01-22</td>\n",
       "      <td>2018</td>\n",
       "      <td>1</td>\n",
       "    </tr>\n",
       "    <tr>\n",
       "      <th>9</th>\n",
       "      <td>0.0</td>\n",
       "      <td>2018-01-23T00:00:00.000-0500</td>\n",
       "      <td>2018-01-23</td>\n",
       "      <td>2018</td>\n",
       "      <td>1</td>\n",
       "    </tr>\n",
       "  </tbody>\n",
       "</table>\n",
       "</div>"
      ],
      "text/plain": [
       "   TotalMeetingMinutes                          time        date  year  month\n",
       "0                  0.0  2018-01-14T00:00:00.000-0500  2018-01-14  2018      1\n",
       "1                  0.0  2018-01-15T00:00:00.000-0500  2018-01-15  2018      1\n",
       "2                  0.0  2018-01-16T00:00:00.000-0500  2018-01-16  2018      1\n",
       "3                  0.0  2018-01-17T00:00:00.000-0500  2018-01-17  2018      1\n",
       "4                  0.0  2018-01-18T00:00:00.000-0500  2018-01-18  2018      1\n",
       "5                  0.0  2018-01-19T00:00:00.000-0500  2018-01-19  2018      1\n",
       "6                  0.0  2018-01-20T00:00:00.000-0500  2018-01-20  2018      1\n",
       "7                  0.0  2018-01-21T00:00:00.000-0500  2018-01-21  2018      1\n",
       "8                  0.0  2018-01-22T00:00:00.000-0500  2018-01-22  2018      1\n",
       "9                  0.0  2018-01-23T00:00:00.000-0500  2018-01-23  2018      1"
      ]
     },
     "execution_count": 2,
     "metadata": {},
     "output_type": "execute_result"
    }
   ],
   "source": [
    "Meetingmin = data[[\"google.meet:total_meeting_minutes\",\"time\",\"date\",\"year\",\"month\"]].rename(columns = {\"google.meet:total_meeting_minutes\": \"TotalMeetingMinutes\"}) \n",
    "Meetingmin.head(10)"
   ]
  },
  {
   "cell_type": "markdown",
   "metadata": {},
   "source": [
    "Shape Of Data"
   ]
  },
  {
   "cell_type": "code",
   "execution_count": 3,
   "metadata": {},
   "outputs": [
    {
     "data": {
      "text/plain": [
       "(543, 5)"
      ]
     },
     "execution_count": 3,
     "metadata": {},
     "output_type": "execute_result"
    }
   ],
   "source": [
    "Meetingmin.shape"
   ]
  },
  {
   "cell_type": "markdown",
   "metadata": {},
   "source": [
    "Value counts is used to find the number of observations with metric value as 0,1,..\n",
    "There are 160 observations with metric value as 0"
   ]
  },
  {
   "cell_type": "code",
   "execution_count": 29,
   "metadata": {},
   "outputs": [
    {
     "data": {
      "text/plain": [
       "0.0      160\n",
       "719.0      6\n",
       "433.0      4\n",
       "706.0      3\n",
       "328.0      3\n",
       "96.0       3\n",
       "611.0      3\n",
       "368.0      3\n",
       "228.0      3\n",
       "746.0      2\n",
       "Name: TotalMeetingMinutes, dtype: int64"
      ]
     },
     "execution_count": 29,
     "metadata": {},
     "output_type": "execute_result"
    }
   ],
   "source": [
    "counts = Meetingmin.TotalMeetingMinutes.value_counts()\n",
    "counts.head(10)"
   ]
  },
  {
   "cell_type": "markdown",
   "metadata": {},
   "source": [
    "Finding number of negative metric_values using mask. There are no negative values"
   ]
  },
  {
   "cell_type": "code",
   "execution_count": 28,
   "metadata": {},
   "outputs": [
    {
     "data": {
      "text/html": [
       "<div>\n",
       "<style scoped>\n",
       "    .dataframe tbody tr th:only-of-type {\n",
       "        vertical-align: middle;\n",
       "    }\n",
       "\n",
       "    .dataframe tbody tr th {\n",
       "        vertical-align: top;\n",
       "    }\n",
       "\n",
       "    .dataframe thead th {\n",
       "        text-align: right;\n",
       "    }\n",
       "</style>\n",
       "<table border=\"1\" class=\"dataframe\">\n",
       "  <thead>\n",
       "    <tr style=\"text-align: right;\">\n",
       "      <th></th>\n",
       "      <th>TotalMeetingMinutes</th>\n",
       "      <th>time</th>\n",
       "      <th>date</th>\n",
       "      <th>year</th>\n",
       "      <th>month</th>\n",
       "    </tr>\n",
       "  </thead>\n",
       "  <tbody>\n",
       "  </tbody>\n",
       "</table>\n",
       "</div>"
      ],
      "text/plain": [
       "Empty DataFrame\n",
       "Columns: [TotalMeetingMinutes, time, date, year, month]\n",
       "Index: []"
      ]
     },
     "execution_count": 28,
     "metadata": {},
     "output_type": "execute_result"
    }
   ],
   "source": [
    "mask = (Meetingmin.TotalMeetingMinutes< 0)\n",
    "Meetingmin[mask].head()"
   ]
  },
  {
   "cell_type": "markdown",
   "metadata": {},
   "source": [
    "Sorting using metric values in ascending order."
   ]
  },
  {
   "cell_type": "code",
   "execution_count": 6,
   "metadata": {},
   "outputs": [
    {
     "data": {
      "text/plain": [
       "0      0.0\n",
       "103    0.0\n",
       "104    0.0\n",
       "106    0.0\n",
       "107    0.0\n",
       "108    0.0\n",
       "109    0.0\n",
       "110    0.0\n",
       "102    0.0\n",
       "111    0.0\n",
       "Name: TotalMeetingMinutes, dtype: float64"
      ]
     },
     "execution_count": 6,
     "metadata": {},
     "output_type": "execute_result"
    }
   ],
   "source": [
    "Meetingmin.TotalMeetingMinutes.sort_values().head(10)"
   ]
  },
  {
   "cell_type": "markdown",
   "metadata": {},
   "source": [
    "describe is used to get some useful information like number of metric values and least, highest metric value"
   ]
  },
  {
   "cell_type": "code",
   "execution_count": 7,
   "metadata": {},
   "outputs": [
    {
     "data": {
      "text/plain": [
       "count     541.000000\n",
       "mean      322.367837\n",
       "std       328.563906\n",
       "min         0.000000\n",
       "25%         0.000000\n",
       "50%       242.000000\n",
       "75%       563.000000\n",
       "max      1358.000000\n",
       "Name: TotalMeetingMinutes, dtype: float64"
      ]
     },
     "execution_count": 7,
     "metadata": {},
     "output_type": "execute_result"
    }
   ],
   "source": [
    "Meetingmin.TotalMeetingMinutes.describe()"
   ]
  },
  {
   "cell_type": "markdown",
   "metadata": {},
   "source": [
    "Maximum number of total_meeting_minutes"
   ]
  },
  {
   "cell_type": "code",
   "execution_count": 8,
   "metadata": {},
   "outputs": [
    {
     "data": {
      "text/plain": [
       "TotalMeetingMinutes                            1358\n",
       "time                   2018-12-11T00:00:00.000-0500\n",
       "date                                     2018-12-11\n",
       "year                                           2018\n",
       "month                                            12\n",
       "Name: 307, dtype: object"
      ]
     },
     "execution_count": 8,
     "metadata": {},
     "output_type": "execute_result"
    }
   ],
   "source": [
    "Meetingmin.loc[Meetingmin.TotalMeetingMinutes.idxmax()]"
   ]
  },
  {
   "cell_type": "markdown",
   "metadata": {},
   "source": [
    "Minimun value in dataframe"
   ]
  },
  {
   "cell_type": "code",
   "execution_count": 9,
   "metadata": {},
   "outputs": [
    {
     "data": {
      "text/plain": [
       "TotalMeetingMinutes                               0\n",
       "time                   2018-01-14T00:00:00.000-0500\n",
       "date                                     2018-01-14\n",
       "year                                           2018\n",
       "month                                             1\n",
       "Name: 0, dtype: object"
      ]
     },
     "execution_count": 9,
     "metadata": {},
     "output_type": "execute_result"
    }
   ],
   "source": [
    "Meetingmin.loc[Meetingmin.TotalMeetingMinutes.idxmin()]"
   ]
  },
  {
   "cell_type": "code",
   "execution_count": 11,
   "metadata": {},
   "outputs": [
    {
     "data": {
      "text/html": [
       "<div>\n",
       "<style scoped>\n",
       "    .dataframe tbody tr th:only-of-type {\n",
       "        vertical-align: middle;\n",
       "    }\n",
       "\n",
       "    .dataframe tbody tr th {\n",
       "        vertical-align: top;\n",
       "    }\n",
       "\n",
       "    .dataframe thead th {\n",
       "        text-align: right;\n",
       "    }\n",
       "</style>\n",
       "<table border=\"1\" class=\"dataframe\">\n",
       "  <thead>\n",
       "    <tr style=\"text-align: right;\">\n",
       "      <th></th>\n",
       "      <th></th>\n",
       "      <th></th>\n",
       "      <th></th>\n",
       "      <th></th>\n",
       "    </tr>\n",
       "    <tr>\n",
       "      <th>TotalMeetingMinutes</th>\n",
       "      <th>date</th>\n",
       "      <th>time</th>\n",
       "      <th>year</th>\n",
       "      <th>month</th>\n",
       "    </tr>\n",
       "  </thead>\n",
       "  <tbody>\n",
       "    <tr>\n",
       "      <th>1141.0</th>\n",
       "      <th>2019-02-13</th>\n",
       "      <th>2019-02-13T00:00:00.000-0500</th>\n",
       "      <th>2019</th>\n",
       "      <th>2</th>\n",
       "    </tr>\n",
       "    <tr>\n",
       "      <th>1149.0</th>\n",
       "      <th>2019-04-16</th>\n",
       "      <th>2019-04-16T00:00:00.000-0400</th>\n",
       "      <th>2019</th>\n",
       "      <th>4</th>\n",
       "    </tr>\n",
       "    <tr>\n",
       "      <th>1179.0</th>\n",
       "      <th>2019-03-20</th>\n",
       "      <th>2019-03-20T00:00:00.000-0400</th>\n",
       "      <th>2019</th>\n",
       "      <th>3</th>\n",
       "    </tr>\n",
       "    <tr>\n",
       "      <th>1188.0</th>\n",
       "      <th>2019-02-20</th>\n",
       "      <th>2019-02-20T00:00:00.000-0500</th>\n",
       "      <th>2019</th>\n",
       "      <th>2</th>\n",
       "    </tr>\n",
       "    <tr>\n",
       "      <th>1192.0</th>\n",
       "      <th>2019-03-21</th>\n",
       "      <th>2019-03-21T00:00:00.000-0400</th>\n",
       "      <th>2019</th>\n",
       "      <th>3</th>\n",
       "    </tr>\n",
       "    <tr>\n",
       "      <th>1204.0</th>\n",
       "      <th>2019-03-12</th>\n",
       "      <th>2019-03-12T00:00:00.000-0400</th>\n",
       "      <th>2019</th>\n",
       "      <th>3</th>\n",
       "    </tr>\n",
       "    <tr>\n",
       "      <th>1232.0</th>\n",
       "      <th>2018-09-13</th>\n",
       "      <th>2018-09-13T00:00:00.000-0400</th>\n",
       "      <th>2018</th>\n",
       "      <th>9</th>\n",
       "    </tr>\n",
       "    <tr>\n",
       "      <th>1265.0</th>\n",
       "      <th>2019-02-21</th>\n",
       "      <th>2019-02-21T00:00:00.000-0500</th>\n",
       "      <th>2019</th>\n",
       "      <th>2</th>\n",
       "    </tr>\n",
       "    <tr>\n",
       "      <th>1284.0</th>\n",
       "      <th>2019-04-03</th>\n",
       "      <th>2019-04-03T00:00:00.000-0400</th>\n",
       "      <th>2019</th>\n",
       "      <th>4</th>\n",
       "    </tr>\n",
       "    <tr>\n",
       "      <th>1358.0</th>\n",
       "      <th>2018-12-11</th>\n",
       "      <th>2018-12-11T00:00:00.000-0500</th>\n",
       "      <th>2018</th>\n",
       "      <th>12</th>\n",
       "    </tr>\n",
       "  </tbody>\n",
       "</table>\n",
       "</div>"
      ],
      "text/plain": [
       "Empty DataFrame\n",
       "Columns: []\n",
       "Index: [(1141.0, 2019-02-13, 2019-02-13T00:00:00.000-0500, 2019, 2), (1149.0, 2019-04-16, 2019-04-16T00:00:00.000-0400, 2019, 4), (1179.0, 2019-03-20, 2019-03-20T00:00:00.000-0400, 2019, 3), (1188.0, 2019-02-20, 2019-02-20T00:00:00.000-0500, 2019, 2), (1192.0, 2019-03-21, 2019-03-21T00:00:00.000-0400, 2019, 3), (1204.0, 2019-03-12, 2019-03-12T00:00:00.000-0400, 2019, 3), (1232.0, 2018-09-13, 2018-09-13T00:00:00.000-0400, 2018, 9), (1265.0, 2019-02-21, 2019-02-21T00:00:00.000-0500, 2019, 2), (1284.0, 2019-04-03, 2019-04-03T00:00:00.000-0400, 2019, 4), (1358.0, 2018-12-11, 2018-12-11T00:00:00.000-0500, 2018, 12)]"
      ]
     },
     "execution_count": 11,
     "metadata": {},
     "output_type": "execute_result"
    }
   ],
   "source": [
    "Meetingmin.groupby(['TotalMeetingMinutes', 'date' , 'time' , 'year','month']).count().tail(10)"
   ]
  },
  {
   "cell_type": "markdown",
   "metadata": {},
   "source": [
    "Number of observations for each year"
   ]
  },
  {
   "cell_type": "code",
   "execution_count": 12,
   "metadata": {},
   "outputs": [
    {
     "data": {
      "text/plain": [
       "2018    328\n",
       "2019    215\n",
       "Name: year, dtype: int64"
      ]
     },
     "execution_count": 12,
     "metadata": {},
     "output_type": "execute_result"
    }
   ],
   "source": [
    "Meetingmin.year.value_counts()"
   ]
  },
  {
   "cell_type": "markdown",
   "metadata": {},
   "source": [
    "Number of observations for each month"
   ]
  },
  {
   "cell_type": "code",
   "execution_count": 13,
   "metadata": {},
   "outputs": [
    {
     "data": {
      "text/plain": [
       "4     60\n",
       "3     60\n",
       "6     54\n",
       "5     54\n",
       "2     53\n",
       "7     51\n",
       "1     49\n",
       "8     41\n",
       "12    31\n",
       "10    31\n",
       "11    30\n",
       "9     29\n",
       "Name: month, dtype: int64"
      ]
     },
     "execution_count": 13,
     "metadata": {},
     "output_type": "execute_result"
    }
   ],
   "source": [
    "Meetingmin.month.value_counts()"
   ]
  },
  {
   "cell_type": "raw",
   "metadata": {},
   "source": [
    "Finding the metric value by passing quantile value. In the lowest quantile values are zero. "
   ]
  },
  {
   "cell_type": "code",
   "execution_count": 14,
   "metadata": {},
   "outputs": [
    {
     "data": {
      "text/plain": [
       "0.0"
      ]
     },
     "execution_count": 14,
     "metadata": {},
     "output_type": "execute_result"
    }
   ],
   "source": [
    "Meetingmin['TotalMeetingMinutes'].quantile(0)"
   ]
  },
  {
   "cell_type": "markdown",
   "metadata": {},
   "source": [
    "Median of metric values"
   ]
  },
  {
   "cell_type": "code",
   "execution_count": 15,
   "metadata": {},
   "outputs": [
    {
     "data": {
      "text/plain": [
       "242.0"
      ]
     },
     "execution_count": 15,
     "metadata": {},
     "output_type": "execute_result"
    }
   ],
   "source": [
    "Meetingmin['TotalMeetingMinutes'].quantile(0.5)"
   ]
  },
  {
   "cell_type": "markdown",
   "metadata": {},
   "source": [
    "Highest Metric values are around 1358"
   ]
  },
  {
   "cell_type": "code",
   "execution_count": 16,
   "metadata": {},
   "outputs": [
    {
     "data": {
      "text/plain": [
       "1358.0"
      ]
     },
     "execution_count": 16,
     "metadata": {},
     "output_type": "execute_result"
    }
   ],
   "source": [
    "Meetingmin['TotalMeetingMinutes'].quantile(1.0)"
   ]
  },
  {
   "cell_type": "markdown",
   "metadata": {},
   "source": [
    "Mean value is far away from median as we have extreme values in the higher end for total meeting minutes for few days.\n",
    "Eg: There are 1358 minutes on 2018-12-11"
   ]
  },
  {
   "cell_type": "code",
   "execution_count": 17,
   "metadata": {},
   "outputs": [
    {
     "data": {
      "text/plain": [
       "322.36783733826246"
      ]
     },
     "execution_count": 17,
     "metadata": {},
     "output_type": "execute_result"
    }
   ],
   "source": [
    "Meetingmin['TotalMeetingMinutes'].mean()"
   ]
  },
  {
   "cell_type": "markdown",
   "metadata": {},
   "source": [
    "Mode of metric values. Total meeting minutes are zero for most of the days"
   ]
  },
  {
   "cell_type": "code",
   "execution_count": 18,
   "metadata": {},
   "outputs": [
    {
     "data": {
      "text/plain": [
       "0    0.0\n",
       "dtype: float64"
      ]
     },
     "execution_count": 18,
     "metadata": {},
     "output_type": "execute_result"
    }
   ],
   "source": [
    "Meetingmin['TotalMeetingMinutes'].mode()"
   ]
  },
  {
   "cell_type": "markdown",
   "metadata": {},
   "source": [
    "Quartile\n",
    "\n",
    "minimum value (0th percentile),\n",
    "first quartile (25th percentile),\n",
    "the median - second quartile (50th percentile),\n",
    "third quartile(75th percentile), and\n",
    "maximum value (100th percentile)\n",
    "using the quantile() function:"
   ]
  },
  {
   "cell_type": "code",
   "execution_count": 19,
   "metadata": {},
   "outputs": [
    {
     "data": {
      "text/plain": [
       "[0.0, 0.0, 242.0, 563.0, 1358.0]"
      ]
     },
     "execution_count": 19,
     "metadata": {},
     "output_type": "execute_result"
    }
   ],
   "source": [
    "five_num = [Meetingmin['TotalMeetingMinutes'].quantile(0),   \n",
    "            Meetingmin['TotalMeetingMinutes'].quantile(0.25),\n",
    "            Meetingmin['TotalMeetingMinutes'].quantile(0.50),\n",
    "            Meetingmin['TotalMeetingMinutes'].quantile(0.75),\n",
    "            Meetingmin['TotalMeetingMinutes'].quantile(1)]\n",
    "\n",
    "five_num"
   ]
  },
  {
   "cell_type": "markdown",
   "metadata": {},
   "source": [
    "Interquartile (IQR) range - distance between the 3rd quartile and the 1st quartile"
   ]
  },
  {
   "cell_type": "code",
   "execution_count": 20,
   "metadata": {},
   "outputs": [
    {
     "data": {
      "text/plain": [
       "563.0"
      ]
     },
     "execution_count": 20,
     "metadata": {},
     "output_type": "execute_result"
    }
   ],
   "source": [
    "Meetingmin['TotalMeetingMinutes'].quantile(0.75) - Meetingmin['TotalMeetingMinutes'].quantile(0.25)"
   ]
  },
  {
   "cell_type": "markdown",
   "metadata": {},
   "source": [
    "Box Plots based on year. Maximum outliers are present in year 2018"
   ]
  },
  {
   "cell_type": "code",
   "execution_count": 34,
   "metadata": {},
   "outputs": [
    {
     "data": {
      "text/plain": [
       "<matplotlib.axes._subplots.AxesSubplot at 0x15a15f5ca58>"
      ]
     },
     "execution_count": 34,
     "metadata": {},
     "output_type": "execute_result"
    },
    {
     "data": {
      "image/png": "[encoded data removed]",
      "text/plain": [
       "<Figure size 432x288 with 1 Axes>"
      ]
     },
     "metadata": {
      "needs_background": "light"
     },
     "output_type": "display_data"
    }
   ],
   "source": [
    "Meetingmin.boxplot(by ='year', column =['TotalMeetingMinutes'], grid = False) "
   ]
  },
  {
   "cell_type": "markdown",
   "metadata": {},
   "source": [
    "The variance of a distribution is the average of the squared deviations (differences) from the mean."
   ]
  },
  {
   "cell_type": "code",
   "execution_count": 23,
   "metadata": {},
   "outputs": [
    {
     "data": {
      "text/plain": [
       "107954.24037105497"
      ]
     },
     "execution_count": 23,
     "metadata": {},
     "output_type": "execute_result"
    }
   ],
   "source": [
    "Meetingmin['TotalMeetingMinutes'].var()"
   ]
  },
  {
   "cell_type": "markdown",
   "metadata": {},
   "source": [
    "Standard Deviation - square root of the variance."
   ]
  },
  {
   "cell_type": "code",
   "execution_count": 24,
   "metadata": {},
   "outputs": [
    {
     "data": {
      "text/plain": [
       "328.5639060685987"
      ]
     },
     "execution_count": 24,
     "metadata": {},
     "output_type": "execute_result"
    }
   ],
   "source": [
    "Meetingmin['TotalMeetingMinutes'].std()"
   ]
  },
  {
   "cell_type": "markdown",
   "metadata": {},
   "source": [
    "Variance and Standard Deviation are not the right measures of spread as our data is having extreme values. So, they are susceptible to the influence of data skew and outliers as both of them are derived from the mean.\n",
    "\n",
    "Median absolute deviation is an alternative measure of spread based on the median, which inherits the median's robustness against the influence of skew and outliers. It is the median of the absolute value of the deviations from the median"
   ]
  },
  {
   "cell_type": "markdown",
   "metadata": {},
   "source": [
    "Median absolute deviation is the right measure of spread for TotalMeetingMinutes metric"
   ]
  },
  {
   "cell_type": "code",
   "execution_count": 30,
   "metadata": {},
   "outputs": [
    {
     "data": {
      "text/plain": [
       "358.7892"
      ]
     },
     "execution_count": 30,
     "metadata": {},
     "output_type": "execute_result"
    }
   ],
   "source": [
    "abs_median_devs = abs(Meetingmin['TotalMeetingMinutes']- Meetingmin['TotalMeetingMinutes'].median())\n",
    "\n",
    "abs_median_devs.median() * 1.4826"
   ]
  }
 ],
 "metadata": {
  "kernelspec": {
   "display_name": "Python 3",
   "language": "python",
   "name": "python3"
  },
  "language_info": {
   "codemirror_mode": {
    "name": "ipython",
    "version": 3
   },
   "file_extension": ".py",
   "mimetype": "text/x-python",
   "name": "python",
   "nbconvert_exporter": "python",
   "pygments_lexer": "ipython3",
   "version": "3.7.1"
  }
 },
 "nbformat": 4,
 "nbformat_minor": 2
}
