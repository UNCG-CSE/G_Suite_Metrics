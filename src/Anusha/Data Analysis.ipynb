{
 "cells": [
  {
   "cell_type": "markdown",
   "metadata": {},
   "source": [
    "Raw data extraction to Pandas dataframes."
   ]
  },
  {
   "cell_type": "code",
   "execution_count": 82,
   "metadata": {},
   "outputs": [],
   "source": [
    "import matplotlib.pyplot as plt\n",
    "import pandas as pd\n",
    "import numpy as np\n",
    "data_path = \"20150323-20190817-google-metrics-export - 20150323-20190817-google-metrics-export.csv\"\n",
    "data = pd.read_csv(data_path)"
   ]
  },
  {
   "cell_type": "markdown",
   "metadata": {},
   "source": [
    "Number of Metric names in total from Year 2015 to Year 2019"
   ]
  },
  {
   "cell_type": "code",
   "execution_count": 85,
   "metadata": {},
   "outputs": [
    {
     "data": {
      "text/plain": [
       "649"
      ]
     },
     "execution_count": 85,
     "metadata": {},
     "output_type": "execute_result"
    }
   ],
   "source": [
    "group_names = data.metric_name.unique()\n",
    "len(group_names)"
   ]
  },
  {
   "cell_type": "code",
   "execution_count": 86,
   "metadata": {},
   "outputs": [
    {
     "data": {
      "text/plain": [
       "dtype('O')"
      ]
     },
     "execution_count": 86,
     "metadata": {},
     "output_type": "execute_result"
    }
   ],
   "source": [
    "data.time.dtype"
   ]
  },
  {
   "cell_type": "code",
   "execution_count": 87,
   "metadata": {},
   "outputs": [
    {
     "data": {
      "text/plain": [
       "'2015-03-23T00:00:00.000-0400'"
      ]
     },
     "execution_count": 87,
     "metadata": {},
     "output_type": "execute_result"
    }
   ],
   "source": [
    "data.time.loc[0]"
   ]
  },
  {
   "cell_type": "code",
   "execution_count": 88,
   "metadata": {},
   "outputs": [
    {
     "data": {
      "text/plain": [
       "datetime.datetime(2015, 3, 23, 0, 0, tzinfo=datetime.timezone(datetime.timedelta(days=-1, seconds=72000)))"
      ]
     },
     "execution_count": 88,
     "metadata": {},
     "output_type": "execute_result"
    }
   ],
   "source": [
    "from datetime import datetime\n",
    "datetime.strptime(\"2015-03-23T00:00:00.000-0400\", \"%Y-%m-%dT%H:%M:%S.%f%z\")"
   ]
  },
  {
   "cell_type": "markdown",
   "metadata": {},
   "source": [
    "converting all the dates of time column by using the `apply` method."
   ]
  },
  {
   "cell_type": "code",
   "execution_count": 89,
   "metadata": {},
   "outputs": [],
   "source": [
    "data.time = data.time.apply(lambda d: datetime.strptime(d, \"%Y-%m-%dT%H:%M:%S.%f%z\"))   "
   ]
  },
  {
   "cell_type": "code",
   "execution_count": 91,
   "metadata": {},
   "outputs": [
    {
     "data": {
      "text/plain": [
       "0    2015-03-23 00:00:00-04:00\n",
       "1    2015-03-23 00:00:00-04:00\n",
       "2    2015-03-23 00:00:00-04:00\n",
       "3    2015-03-23 00:00:00-04:00\n",
       "4    2015-03-23 00:00:00-04:00\n",
       "Name: time, dtype: object"
      ]
     },
     "execution_count": 91,
     "metadata": {},
     "output_type": "execute_result"
    }
   ],
   "source": [
    "time = data.time\n",
    "time.head()"
   ]
  },
  {
   "cell_type": "markdown",
   "metadata": {},
   "source": [
    "Metric Names and the number of metric values associated with the corresponding metric name. Number of times a metric name appeared in the data set"
   ]
  },
  {
   "cell_type": "code",
   "execution_count": 93,
   "metadata": {},
   "outputs": [
    {
     "data": {
      "text/plain": [
       "google.docs:num_1day_active_users                                 1585\n",
       "google.docs:num_7day_active_users                                 1584\n",
       "google.gmail:num_outbound_delivered_emails                        1584\n",
       "google.gmail:num_inbound_encrypted_emails                         1584\n",
       "google.gmail:num_inbound_delivered_emails                         1584\n",
       "google.gmail:num_outbound_rerouted_emails                         1584\n",
       "google.docs:num_30day_active_users                                1584\n",
       "google.gmail:num_inbound_unencrypted_emails                       1584\n",
       "google.gmail:num_inbound_spam_emails                              1584\n",
       "google.gmail:num_inbound_non_spam_emails                          1584\n",
       "google.gmail:num_inbound_rerouted_emails                          1584\n",
       "google.gmail:num_inbound_rejected_emails                          1584\n",
       "google.gmail:num_outbound_unencrypted_emails                      1584\n",
       "google.gmail:num_outbound_rejected_emails                         1584\n",
       "google.gmail:num_outbound_encrypted_emails                        1584\n",
       "google.gmail:num_emails_sent                                      1577\n",
       "google.accounts:num_users_2sv_enrolled                            1577\n",
       "google.gmail:num_emails_exchanged                                 1577\n",
       "google.accounts:num_30day_logins                                  1577\n",
       "google.accounts:drive_used_quota_in_mb                            1577\n",
       "google.gmail:num_1day_webmail_users                               1577\n",
       "google.gmail:num_1day_imap_users                                  1577\n",
       "google.accounts:num_delegated_admins                              1577\n",
       "google.gmail:num_30day_imap_users                                 1577\n",
       "google.accounts:num_users_2sv_not_enforced                        1577\n",
       "google.accounts:num_disabled_accounts                             1577\n",
       "google.accounts:num_users_2sv_not_enrolled_but_enforced           1577\n",
       "google.accounts:gplus_photos_used_quota_in_mb                     1577\n",
       "google.accounts:num_users                                         1577\n",
       "google.accounts:num_users_2sv_not_enrolled_and_not_enforced       1577\n",
       "                                                                  ... \n",
       "google.device_management:num_30day_ios_7_managed_users            1465\n",
       "google.device_management:num_30day_ios_7_managed_devices          1465\n",
       "google.device_management:num_7day_android_3_1_managed_users       1465\n",
       "google.device_management:num_7day_android_4_0_managed_devices     1465\n",
       "google.device_management:num_30day_google_sync_managed_devices    1465\n",
       "google.device_management:num_7day_ios_managed_users               1465\n",
       "google.device_management:num_1day_android_4_1_managed_devices     1465\n",
       "google.device_management:num_1day_android_3_2_managed_users       1465\n",
       "google.device_management:num_1day_android_4_2_managed_devices     1465\n",
       "google.device_management:num_1day_android_3_2_managed_devices     1465\n",
       "google.device_management:num_7day_android_2_1_managed_users       1465\n",
       "google.device_management:num_7day_ios_5_managed_users             1465\n",
       "google.device_management:num_30day_ios_2_managed_devices          1465\n",
       "google.device_management:num_7day_android_3_1_managed_devices     1465\n",
       "google.device_management:num_30day_google_sync_managed_users      1465\n",
       "google.device_management:num_7day_android_3_0_managed_devices     1465\n",
       "google.device_management:num_7day_android_2_4_managed_devices     1465\n",
       "google.device_management:num_7day_ios_4_managed_devices           1465\n",
       "google.device_management:num_30day_ios_6_managed_devices          1465\n",
       "google.device_management:num_7day_android_managed_devices         1465\n",
       "google.device_management:num_30day_android_4_3_managed_devices    1465\n",
       "google.device_management:num_30day_ios_4_managed_users            1465\n",
       "google.device_management:num_7day_android_4_3_managed_users       1465\n",
       "google.device_management:num_30day_android_3_2_managed_users      1465\n",
       "google.device_management:num_7day_android_2_4_managed_users       1465\n",
       "google.device_management:num_30day_total_managed_devices          1465\n",
       "google.device_management:num_7day_android_4_0_managed_users       1465\n",
       "google.device_management:num_30day_android_3_0_managed_users      1465\n",
       "google.device_management:num_7day_ios_7_managed_devices           1465\n",
       "google.device_management:num_30day_ios_3_managed_devices          1465\n",
       "Name: metric_name, Length: 100, dtype: int64"
      ]
     },
     "execution_count": 93,
     "metadata": {},
     "output_type": "execute_result"
    }
   ],
   "source": [
    "counts = data['metric_name'].value_counts()\n",
    "counts.head(100)"
   ]
  },
  {
   "cell_type": "code",
   "execution_count": 94,
   "metadata": {},
   "outputs": [],
   "source": [
    "data.time = data['time'].apply(lambda x: pd.to_datetime(x).tz_convert('US/Eastern'))"
   ]
  },
  {
   "cell_type": "markdown",
   "metadata": {},
   "source": [
    "Extracting year from time stamp"
   ]
  },
  {
   "cell_type": "code",
   "execution_count": 95,
   "metadata": {},
   "outputs": [],
   "source": [
    "data['year'] = pd.DatetimeIndex(data['time']).year"
   ]
  },
  {
   "cell_type": "code",
   "execution_count": 96,
   "metadata": {},
   "outputs": [
    {
     "data": {
      "text/html": [
       "<div>\n",
       "<style scoped>\n",
       "    .dataframe tbody tr th:only-of-type {\n",
       "        vertical-align: middle;\n",
       "    }\n",
       "\n",
       "    .dataframe tbody tr th {\n",
       "        vertical-align: top;\n",
       "    }\n",
       "\n",
       "    .dataframe thead th {\n",
       "        text-align: right;\n",
       "    }\n",
       "</style>\n",
       "<table border=\"1\" class=\"dataframe\">\n",
       "  <thead>\n",
       "    <tr style=\"text-align: right;\">\n",
       "      <th></th>\n",
       "      <th>time</th>\n",
       "      <th>metric_name</th>\n",
       "      <th>metric_value</th>\n",
       "      <th>year</th>\n",
       "    </tr>\n",
       "  </thead>\n",
       "  <tbody>\n",
       "    <tr>\n",
       "      <th>0</th>\n",
       "      <td>2015-03-23 00:00:00-04:00</td>\n",
       "      <td>google.device_management:num_7day_android_4_1_...</td>\n",
       "      <td>0</td>\n",
       "      <td>2015</td>\n",
       "    </tr>\n",
       "    <tr>\n",
       "      <th>1</th>\n",
       "      <td>2015-03-23 00:00:00-04:00</td>\n",
       "      <td>google.device_management:num_7day_android_4_1_...</td>\n",
       "      <td>0</td>\n",
       "      <td>2015</td>\n",
       "    </tr>\n",
       "    <tr>\n",
       "      <th>2</th>\n",
       "      <td>2015-03-23 00:00:00-04:00</td>\n",
       "      <td>google.device_management:num_7day_android_4_2_...</td>\n",
       "      <td>0</td>\n",
       "      <td>2015</td>\n",
       "    </tr>\n",
       "    <tr>\n",
       "      <th>3</th>\n",
       "      <td>2015-03-23 00:00:00-04:00</td>\n",
       "      <td>google.device_management:num_7day_android_4_2_...</td>\n",
       "      <td>0</td>\n",
       "      <td>2015</td>\n",
       "    </tr>\n",
       "    <tr>\n",
       "      <th>4</th>\n",
       "      <td>2015-03-23 00:00:00-04:00</td>\n",
       "      <td>google.device_management:num_7day_android_4_3_...</td>\n",
       "      <td>0</td>\n",
       "      <td>2015</td>\n",
       "    </tr>\n",
       "  </tbody>\n",
       "</table>\n",
       "</div>"
      ],
      "text/plain": [
       "                       time  \\\n",
       "0 2015-03-23 00:00:00-04:00   \n",
       "1 2015-03-23 00:00:00-04:00   \n",
       "2 2015-03-23 00:00:00-04:00   \n",
       "3 2015-03-23 00:00:00-04:00   \n",
       "4 2015-03-23 00:00:00-04:00   \n",
       "\n",
       "                                         metric_name  metric_value  year  \n",
       "0  google.device_management:num_7day_android_4_1_...             0  2015  \n",
       "1  google.device_management:num_7day_android_4_1_...             0  2015  \n",
       "2  google.device_management:num_7day_android_4_2_...             0  2015  \n",
       "3  google.device_management:num_7day_android_4_2_...             0  2015  \n",
       "4  google.device_management:num_7day_android_4_3_...             0  2015  "
      ]
     },
     "execution_count": 96,
     "metadata": {},
     "output_type": "execute_result"
    }
   ],
   "source": [
    "data.head()"
   ]
  },
  {
   "cell_type": "code",
   "execution_count": 97,
   "metadata": {
    "scrolled": false
   },
   "outputs": [
    {
     "data": {
      "text/html": [
       "<div>\n",
       "<style scoped>\n",
       "    .dataframe tbody tr th:only-of-type {\n",
       "        vertical-align: middle;\n",
       "    }\n",
       "\n",
       "    .dataframe tbody tr th {\n",
       "        vertical-align: top;\n",
       "    }\n",
       "\n",
       "    .dataframe thead th {\n",
       "        text-align: right;\n",
       "    }\n",
       "</style>\n",
       "<table border=\"1\" class=\"dataframe\">\n",
       "  <thead>\n",
       "    <tr style=\"text-align: right;\">\n",
       "      <th></th>\n",
       "      <th></th>\n",
       "      <th>time</th>\n",
       "      <th>metric_value</th>\n",
       "    </tr>\n",
       "    <tr>\n",
       "      <th>metric_name</th>\n",
       "      <th>year</th>\n",
       "      <th></th>\n",
       "      <th></th>\n",
       "    </tr>\n",
       "  </thead>\n",
       "  <tbody>\n",
       "    <tr>\n",
       "      <th rowspan=\"3\" valign=\"top\">google._empty_</th>\n",
       "      <th>2017</th>\n",
       "      <td>103</td>\n",
       "      <td>103</td>\n",
       "    </tr>\n",
       "    <tr>\n",
       "      <th>2018</th>\n",
       "      <td>346</td>\n",
       "      <td>346</td>\n",
       "    </tr>\n",
       "    <tr>\n",
       "      <th>2019</th>\n",
       "      <td>144</td>\n",
       "      <td>144</td>\n",
       "    </tr>\n",
       "    <tr>\n",
       "      <th rowspan=\"4\" valign=\"top\">google.accounts:apps_total_licenses</th>\n",
       "      <th>2015</th>\n",
       "      <td>283</td>\n",
       "      <td>283</td>\n",
       "    </tr>\n",
       "    <tr>\n",
       "      <th>2016</th>\n",
       "      <td>361</td>\n",
       "      <td>361</td>\n",
       "    </tr>\n",
       "    <tr>\n",
       "      <th>2017</th>\n",
       "      <td>346</td>\n",
       "      <td>346</td>\n",
       "    </tr>\n",
       "    <tr>\n",
       "      <th>2018</th>\n",
       "      <td>171</td>\n",
       "      <td>171</td>\n",
       "    </tr>\n",
       "    <tr>\n",
       "      <th rowspan=\"4\" valign=\"top\">google.accounts:apps_used_licenses</th>\n",
       "      <th>2015</th>\n",
       "      <td>283</td>\n",
       "      <td>283</td>\n",
       "    </tr>\n",
       "    <tr>\n",
       "      <th>2016</th>\n",
       "      <td>361</td>\n",
       "      <td>361</td>\n",
       "    </tr>\n",
       "    <tr>\n",
       "      <th>2017</th>\n",
       "      <td>346</td>\n",
       "      <td>346</td>\n",
       "    </tr>\n",
       "    <tr>\n",
       "      <th>2018</th>\n",
       "      <td>171</td>\n",
       "      <td>171</td>\n",
       "    </tr>\n",
       "    <tr>\n",
       "      <th rowspan=\"5\" valign=\"top\">google.accounts:authorized_apps</th>\n",
       "      <th>2015</th>\n",
       "      <td>282</td>\n",
       "      <td>282</td>\n",
       "    </tr>\n",
       "    <tr>\n",
       "      <th>2016</th>\n",
       "      <td>357</td>\n",
       "      <td>357</td>\n",
       "    </tr>\n",
       "    <tr>\n",
       "      <th>2017</th>\n",
       "      <td>349</td>\n",
       "      <td>349</td>\n",
       "    </tr>\n",
       "    <tr>\n",
       "      <th>2018</th>\n",
       "      <td>334</td>\n",
       "      <td>334</td>\n",
       "    </tr>\n",
       "    <tr>\n",
       "      <th>2019</th>\n",
       "      <td>220</td>\n",
       "      <td>220</td>\n",
       "    </tr>\n",
       "    <tr>\n",
       "      <th rowspan=\"4\" valign=\"top\">google.accounts:coordinate_total_licenses</th>\n",
       "      <th>2015</th>\n",
       "      <td>283</td>\n",
       "      <td>283</td>\n",
       "    </tr>\n",
       "    <tr>\n",
       "      <th>2016</th>\n",
       "      <td>361</td>\n",
       "      <td>361</td>\n",
       "    </tr>\n",
       "    <tr>\n",
       "      <th>2017</th>\n",
       "      <td>346</td>\n",
       "      <td>346</td>\n",
       "    </tr>\n",
       "    <tr>\n",
       "      <th>2018</th>\n",
       "      <td>171</td>\n",
       "      <td>171</td>\n",
       "    </tr>\n",
       "    <tr>\n",
       "      <th rowspan=\"5\" valign=\"top\">google.accounts:drive_used_quota_in_mb</th>\n",
       "      <th>2015</th>\n",
       "      <td>284</td>\n",
       "      <td>284</td>\n",
       "    </tr>\n",
       "    <tr>\n",
       "      <th>2016</th>\n",
       "      <td>362</td>\n",
       "      <td>362</td>\n",
       "    </tr>\n",
       "    <tr>\n",
       "      <th>2017</th>\n",
       "      <td>358</td>\n",
       "      <td>358</td>\n",
       "    </tr>\n",
       "    <tr>\n",
       "      <th>2018</th>\n",
       "      <td>343</td>\n",
       "      <td>343</td>\n",
       "    </tr>\n",
       "    <tr>\n",
       "      <th>2019</th>\n",
       "      <td>230</td>\n",
       "      <td>230</td>\n",
       "    </tr>\n",
       "    <tr>\n",
       "      <th rowspan=\"5\" valign=\"top\">google.accounts:gmail_used_quota_in_mb</th>\n",
       "      <th>2015</th>\n",
       "      <td>284</td>\n",
       "      <td>284</td>\n",
       "    </tr>\n",
       "    <tr>\n",
       "      <th>2016</th>\n",
       "      <td>362</td>\n",
       "      <td>362</td>\n",
       "    </tr>\n",
       "    <tr>\n",
       "      <th>2017</th>\n",
       "      <td>358</td>\n",
       "      <td>358</td>\n",
       "    </tr>\n",
       "    <tr>\n",
       "      <th>2018</th>\n",
       "      <td>343</td>\n",
       "      <td>343</td>\n",
       "    </tr>\n",
       "    <tr>\n",
       "      <th>2019</th>\n",
       "      <td>230</td>\n",
       "      <td>230</td>\n",
       "    </tr>\n",
       "    <tr>\n",
       "      <th>...</th>\n",
       "      <th>...</th>\n",
       "      <td>...</td>\n",
       "      <td>...</td>\n",
       "    </tr>\n",
       "    <tr>\n",
       "      <th rowspan=\"2\" valign=\"top\">google.meet:total_call_minutes_by_internal_users</th>\n",
       "      <th>2018</th>\n",
       "      <td>328</td>\n",
       "      <td>328</td>\n",
       "    </tr>\n",
       "    <tr>\n",
       "      <th>2019</th>\n",
       "      <td>213</td>\n",
       "      <td>213</td>\n",
       "    </tr>\n",
       "    <tr>\n",
       "      <th rowspan=\"2\" valign=\"top\">google.meet:total_call_minutes_by_pstn_in_users</th>\n",
       "      <th>2018</th>\n",
       "      <td>328</td>\n",
       "      <td>328</td>\n",
       "    </tr>\n",
       "    <tr>\n",
       "      <th>2019</th>\n",
       "      <td>213</td>\n",
       "      <td>213</td>\n",
       "    </tr>\n",
       "    <tr>\n",
       "      <th rowspan=\"2\" valign=\"top\">google.meet:total_call_minutes_by_pstn_out_users</th>\n",
       "      <th>2018</th>\n",
       "      <td>225</td>\n",
       "      <td>225</td>\n",
       "    </tr>\n",
       "    <tr>\n",
       "      <th>2019</th>\n",
       "      <td>213</td>\n",
       "      <td>213</td>\n",
       "    </tr>\n",
       "    <tr>\n",
       "      <th rowspan=\"2\" valign=\"top\">google.meet:total_call_minutes_chromebase</th>\n",
       "      <th>2018</th>\n",
       "      <td>328</td>\n",
       "      <td>328</td>\n",
       "    </tr>\n",
       "    <tr>\n",
       "      <th>2019</th>\n",
       "      <td>213</td>\n",
       "      <td>213</td>\n",
       "    </tr>\n",
       "    <tr>\n",
       "      <th rowspan=\"2\" valign=\"top\">google.meet:total_call_minutes_chromebox</th>\n",
       "      <th>2018</th>\n",
       "      <td>328</td>\n",
       "      <td>328</td>\n",
       "    </tr>\n",
       "    <tr>\n",
       "      <th>2019</th>\n",
       "      <td>213</td>\n",
       "      <td>213</td>\n",
       "    </tr>\n",
       "    <tr>\n",
       "      <th rowspan=\"2\" valign=\"top\">google.meet:total_call_minutes_ios</th>\n",
       "      <th>2018</th>\n",
       "      <td>328</td>\n",
       "      <td>328</td>\n",
       "    </tr>\n",
       "    <tr>\n",
       "      <th>2019</th>\n",
       "      <td>213</td>\n",
       "      <td>213</td>\n",
       "    </tr>\n",
       "    <tr>\n",
       "      <th rowspan=\"2\" valign=\"top\">google.meet:total_call_minutes_jamboard</th>\n",
       "      <th>2018</th>\n",
       "      <td>328</td>\n",
       "      <td>328</td>\n",
       "    </tr>\n",
       "    <tr>\n",
       "      <th>2019</th>\n",
       "      <td>213</td>\n",
       "      <td>213</td>\n",
       "    </tr>\n",
       "    <tr>\n",
       "      <th rowspan=\"2\" valign=\"top\">google.meet:total_call_minutes_unknown_client</th>\n",
       "      <th>2018</th>\n",
       "      <td>328</td>\n",
       "      <td>328</td>\n",
       "    </tr>\n",
       "    <tr>\n",
       "      <th>2019</th>\n",
       "      <td>213</td>\n",
       "      <td>213</td>\n",
       "    </tr>\n",
       "    <tr>\n",
       "      <th rowspan=\"2\" valign=\"top\">google.meet:total_call_minutes_web</th>\n",
       "      <th>2018</th>\n",
       "      <td>328</td>\n",
       "      <td>328</td>\n",
       "    </tr>\n",
       "    <tr>\n",
       "      <th>2019</th>\n",
       "      <td>213</td>\n",
       "      <td>213</td>\n",
       "    </tr>\n",
       "    <tr>\n",
       "      <th rowspan=\"2\" valign=\"top\">google.meet:total_meeting_minutes</th>\n",
       "      <th>2018</th>\n",
       "      <td>328</td>\n",
       "      <td>328</td>\n",
       "    </tr>\n",
       "    <tr>\n",
       "      <th>2019</th>\n",
       "      <td>213</td>\n",
       "      <td>213</td>\n",
       "    </tr>\n",
       "    <tr>\n",
       "      <th rowspan=\"5\" valign=\"top\">google.sites:num_sites</th>\n",
       "      <th>2015</th>\n",
       "      <td>284</td>\n",
       "      <td>284</td>\n",
       "    </tr>\n",
       "    <tr>\n",
       "      <th>2016</th>\n",
       "      <td>363</td>\n",
       "      <td>363</td>\n",
       "    </tr>\n",
       "    <tr>\n",
       "      <th>2017</th>\n",
       "      <td>336</td>\n",
       "      <td>336</td>\n",
       "    </tr>\n",
       "    <tr>\n",
       "      <th>2018</th>\n",
       "      <td>345</td>\n",
       "      <td>345</td>\n",
       "    </tr>\n",
       "    <tr>\n",
       "      <th>2019</th>\n",
       "      <td>228</td>\n",
       "      <td>228</td>\n",
       "    </tr>\n",
       "    <tr>\n",
       "      <th rowspan=\"5\" valign=\"top\">google.sites:num_sites_created</th>\n",
       "      <th>2015</th>\n",
       "      <td>284</td>\n",
       "      <td>284</td>\n",
       "    </tr>\n",
       "    <tr>\n",
       "      <th>2016</th>\n",
       "      <td>363</td>\n",
       "      <td>363</td>\n",
       "    </tr>\n",
       "    <tr>\n",
       "      <th>2017</th>\n",
       "      <td>336</td>\n",
       "      <td>336</td>\n",
       "    </tr>\n",
       "    <tr>\n",
       "      <th>2018</th>\n",
       "      <td>345</td>\n",
       "      <td>345</td>\n",
       "    </tr>\n",
       "    <tr>\n",
       "      <th>2019</th>\n",
       "      <td>228</td>\n",
       "      <td>228</td>\n",
       "    </tr>\n",
       "  </tbody>\n",
       "</table>\n",
       "<p>2296 rows × 2 columns</p>\n",
       "</div>"
      ],
      "text/plain": [
       "                                                       time  metric_value\n",
       "metric_name                                      year                    \n",
       "google._empty_                                   2017   103           103\n",
       "                                                 2018   346           346\n",
       "                                                 2019   144           144\n",
       "google.accounts:apps_total_licenses              2015   283           283\n",
       "                                                 2016   361           361\n",
       "                                                 2017   346           346\n",
       "                                                 2018   171           171\n",
       "google.accounts:apps_used_licenses               2015   283           283\n",
       "                                                 2016   361           361\n",
       "                                                 2017   346           346\n",
       "                                                 2018   171           171\n",
       "google.accounts:authorized_apps                  2015   282           282\n",
       "                                                 2016   357           357\n",
       "                                                 2017   349           349\n",
       "                                                 2018   334           334\n",
       "                                                 2019   220           220\n",
       "google.accounts:coordinate_total_licenses        2015   283           283\n",
       "                                                 2016   361           361\n",
       "                                                 2017   346           346\n",
       "                                                 2018   171           171\n",
       "google.accounts:drive_used_quota_in_mb           2015   284           284\n",
       "                                                 2016   362           362\n",
       "                                                 2017   358           358\n",
       "                                                 2018   343           343\n",
       "                                                 2019   230           230\n",
       "google.accounts:gmail_used_quota_in_mb           2015   284           284\n",
       "                                                 2016   362           362\n",
       "                                                 2017   358           358\n",
       "                                                 2018   343           343\n",
       "                                                 2019   230           230\n",
       "...                                                     ...           ...\n",
       "google.meet:total_call_minutes_by_internal_users 2018   328           328\n",
       "                                                 2019   213           213\n",
       "google.meet:total_call_minutes_by_pstn_in_users  2018   328           328\n",
       "                                                 2019   213           213\n",
       "google.meet:total_call_minutes_by_pstn_out_users 2018   225           225\n",
       "                                                 2019   213           213\n",
       "google.meet:total_call_minutes_chromebase        2018   328           328\n",
       "                                                 2019   213           213\n",
       "google.meet:total_call_minutes_chromebox         2018   328           328\n",
       "                                                 2019   213           213\n",
       "google.meet:total_call_minutes_ios               2018   328           328\n",
       "                                                 2019   213           213\n",
       "google.meet:total_call_minutes_jamboard          2018   328           328\n",
       "                                                 2019   213           213\n",
       "google.meet:total_call_minutes_unknown_client    2018   328           328\n",
       "                                                 2019   213           213\n",
       "google.meet:total_call_minutes_web               2018   328           328\n",
       "                                                 2019   213           213\n",
       "google.meet:total_meeting_minutes                2018   328           328\n",
       "                                                 2019   213           213\n",
       "google.sites:num_sites                           2015   284           284\n",
       "                                                 2016   363           363\n",
       "                                                 2017   336           336\n",
       "                                                 2018   345           345\n",
       "                                                 2019   228           228\n",
       "google.sites:num_sites_created                   2015   284           284\n",
       "                                                 2016   363           363\n",
       "                                                 2017   336           336\n",
       "                                                 2018   345           345\n",
       "                                                 2019   228           228\n",
       "\n",
       "[2296 rows x 2 columns]"
      ]
     },
     "execution_count": 97,
     "metadata": {},
     "output_type": "execute_result"
    }
   ],
   "source": [
    "data.groupby(['metric_name', 'year']).count()"
   ]
  },
  {
   "cell_type": "markdown",
   "metadata": {},
   "source": [
    "Number of Metric Names based on year"
   ]
  },
  {
   "cell_type": "code",
   "execution_count": 98,
   "metadata": {},
   "outputs": [
    {
     "data": {
      "text/plain": [
       "nunique      273\n",
       "size       69729\n",
       "Name: metric_name, dtype: int64"
      ]
     },
     "execution_count": 98,
     "metadata": {},
     "output_type": "execute_result"
    }
   ],
   "source": [
    "data.query('year == \"2015\"')['metric_name'].agg(['nunique','size'])"
   ]
  },
  {
   "cell_type": "code",
   "execution_count": 99,
   "metadata": {},
   "outputs": [
    {
     "data": {
      "text/plain": [
       "nunique      343\n",
       "size       96867\n",
       "Name: metric_name, dtype: int64"
      ]
     },
     "execution_count": 99,
     "metadata": {},
     "output_type": "execute_result"
    }
   ],
   "source": [
    "data.query('year == \"2016\"')['metric_name'].agg(['nunique','size'])"
   ]
  },
  {
   "cell_type": "code",
   "execution_count": 100,
   "metadata": {},
   "outputs": [
    {
     "data": {
      "text/plain": [
       "nunique       497\n",
       "size       145606\n",
       "Name: metric_name, dtype: int64"
      ]
     },
     "execution_count": 100,
     "metadata": {},
     "output_type": "execute_result"
    }
   ],
   "source": [
    "data.query('year == \"2017\"')['metric_name'].agg(['nunique','size'])"
   ]
  },
  {
   "cell_type": "code",
   "execution_count": 101,
   "metadata": {},
   "outputs": [
    {
     "data": {
      "text/plain": [
       "nunique       593\n",
       "size       179275\n",
       "Name: metric_name, dtype: int64"
      ]
     },
     "execution_count": 101,
     "metadata": {},
     "output_type": "execute_result"
    }
   ],
   "source": [
    "data.query('year == \"2018\"')['metric_name'].agg(['nunique','size'])"
   ]
  },
  {
   "cell_type": "code",
   "execution_count": 102,
   "metadata": {},
   "outputs": [
    {
     "data": {
      "text/plain": [
       "nunique       590\n",
       "size       120436\n",
       "Name: metric_name, dtype: int64"
      ]
     },
     "execution_count": 102,
     "metadata": {},
     "output_type": "execute_result"
    }
   ],
   "source": [
    "data.query('year == \"2019\"')['metric_name'].agg(['nunique','size'])"
   ]
  },
  {
   "cell_type": "code",
   "execution_count": 104,
   "metadata": {
    "scrolled": true
   },
   "outputs": [
    {
     "data": {
      "text/plain": [
       "<matplotlib.axes._subplots.AxesSubplot at 0x23218408630>"
      ]
     },
     "execution_count": 104,
     "metadata": {},
     "output_type": "execute_result"
    },
    {
     "data": {
      "image/png": "[encoded data removed]",
      "text/plain": [
       "<Figure size 1224x360 with 1 Axes>"
      ]
     },
     "metadata": {
      "needs_background": "light"
     },
     "output_type": "display_data"
    }
   ],
   "source": [
    "import matplotlib as plt\n",
    "fig, ax = plt.pyplot.subplots(figsize=(17,5))\n",
    "data.groupby(['year']).count()['metric_name'].plot(ax=ax)"
   ]
  },
  {
   "cell_type": "markdown",
   "metadata": {},
   "source": [
    "using stack method to rotate the data frame to represent columns in rows"
   ]
  },
  {
   "cell_type": "code",
   "execution_count": 118,
   "metadata": {},
   "outputs": [
    {
     "data": {
      "text/plain": [
       "0  time                                    2015-03-23 00:00:00-04:00\n",
       "   metric_name     google.device_management:num_7day_android_4_1_...\n",
       "   metric_value                                                    0\n",
       "   year                                                         2015\n",
       "1  time                                    2015-03-23 00:00:00-04:00\n",
       "   metric_name     google.device_management:num_7day_android_4_1_...\n",
       "   metric_value                                                    0\n",
       "   year                                                         2015\n",
       "2  time                                    2015-03-23 00:00:00-04:00\n",
       "   metric_name     google.device_management:num_7day_android_4_2_...\n",
       "dtype: object"
      ]
     },
     "execution_count": 118,
     "metadata": {},
     "output_type": "execute_result"
    }
   ],
   "source": [
    "stacked = data.stack()\n",
    "stacked.head(10)"
   ]
  },
  {
   "cell_type": "markdown",
   "metadata": {},
   "source": [
    "To represent back in normal format"
   ]
  },
  {
   "cell_type": "code",
   "execution_count": 119,
   "metadata": {},
   "outputs": [
    {
     "data": {
      "text/html": [
       "<div>\n",
       "<style scoped>\n",
       "    .dataframe tbody tr th:only-of-type {\n",
       "        vertical-align: middle;\n",
       "    }\n",
       "\n",
       "    .dataframe tbody tr th {\n",
       "        vertical-align: top;\n",
       "    }\n",
       "\n",
       "    .dataframe thead th {\n",
       "        text-align: right;\n",
       "    }\n",
       "</style>\n",
       "<table border=\"1\" class=\"dataframe\">\n",
       "  <thead>\n",
       "    <tr style=\"text-align: right;\">\n",
       "      <th></th>\n",
       "      <th>time</th>\n",
       "      <th>metric_name</th>\n",
       "      <th>metric_value</th>\n",
       "      <th>year</th>\n",
       "    </tr>\n",
       "  </thead>\n",
       "  <tbody>\n",
       "    <tr>\n",
       "      <th>0</th>\n",
       "      <td>2015-03-23 00:00:00-04:00</td>\n",
       "      <td>google.device_management:num_7day_android_4_1_...</td>\n",
       "      <td>0</td>\n",
       "      <td>2015</td>\n",
       "    </tr>\n",
       "    <tr>\n",
       "      <th>1</th>\n",
       "      <td>2015-03-23 00:00:00-04:00</td>\n",
       "      <td>google.device_management:num_7day_android_4_1_...</td>\n",
       "      <td>0</td>\n",
       "      <td>2015</td>\n",
       "    </tr>\n",
       "    <tr>\n",
       "      <th>2</th>\n",
       "      <td>2015-03-23 00:00:00-04:00</td>\n",
       "      <td>google.device_management:num_7day_android_4_2_...</td>\n",
       "      <td>0</td>\n",
       "      <td>2015</td>\n",
       "    </tr>\n",
       "    <tr>\n",
       "      <th>3</th>\n",
       "      <td>2015-03-23 00:00:00-04:00</td>\n",
       "      <td>google.device_management:num_7day_android_4_2_...</td>\n",
       "      <td>0</td>\n",
       "      <td>2015</td>\n",
       "    </tr>\n",
       "    <tr>\n",
       "      <th>4</th>\n",
       "      <td>2015-03-23 00:00:00-04:00</td>\n",
       "      <td>google.device_management:num_7day_android_4_3_...</td>\n",
       "      <td>0</td>\n",
       "      <td>2015</td>\n",
       "    </tr>\n",
       "  </tbody>\n",
       "</table>\n",
       "</div>"
      ],
      "text/plain": [
       "                        time  \\\n",
       "0  2015-03-23 00:00:00-04:00   \n",
       "1  2015-03-23 00:00:00-04:00   \n",
       "2  2015-03-23 00:00:00-04:00   \n",
       "3  2015-03-23 00:00:00-04:00   \n",
       "4  2015-03-23 00:00:00-04:00   \n",
       "\n",
       "                                         metric_name metric_value  year  \n",
       "0  google.device_management:num_7day_android_4_1_...            0  2015  \n",
       "1  google.device_management:num_7day_android_4_1_...            0  2015  \n",
       "2  google.device_management:num_7day_android_4_2_...            0  2015  \n",
       "3  google.device_management:num_7day_android_4_2_...            0  2015  \n",
       "4  google.device_management:num_7day_android_4_3_...            0  2015  "
      ]
     },
     "execution_count": 119,
     "metadata": {},
     "output_type": "execute_result"
    }
   ],
   "source": [
    "stacked.unstack().head()"
   ]
  },
  {
   "cell_type": "markdown",
   "metadata": {},
   "source": [
    "Number of observations for each year"
   ]
  },
  {
   "cell_type": "code",
   "execution_count": 130,
   "metadata": {},
   "outputs": [
    {
     "data": {
      "text/plain": [
       "2018    179275\n",
       "2017    145606\n",
       "2019    120436\n",
       "2016     96867\n",
       "2015     69729\n",
       "Name: year, dtype: int64"
      ]
     },
     "execution_count": 130,
     "metadata": {},
     "output_type": "execute_result"
    }
   ],
   "source": [
    "data.year.value_counts()"
   ]
  },
  {
   "cell_type": "markdown",
   "metadata": {},
   "source": [
    "Finding the metric value by passing quantile value. In the lowest quantile values are negative. "
   ]
  },
  {
   "cell_type": "code",
   "execution_count": 134,
   "metadata": {},
   "outputs": [
    {
     "data": {
      "text/plain": [
       "-376732.0"
      ]
     },
     "execution_count": 134,
     "metadata": {},
     "output_type": "execute_result"
    }
   ],
   "source": [
    "data['metric_value'].quantile(0)"
   ]
  },
  {
   "cell_type": "markdown",
   "metadata": {},
   "source": [
    "Median of metric values"
   ]
  },
  {
   "cell_type": "code",
   "execution_count": 135,
   "metadata": {},
   "outputs": [
    {
     "data": {
      "text/plain": [
       "0.0"
      ]
     },
     "execution_count": 135,
     "metadata": {},
     "output_type": "execute_result"
    }
   ],
   "source": [
    "data['metric_value'].quantile(0.5)"
   ]
  },
  {
   "cell_type": "markdown",
   "metadata": {},
   "source": [
    "Highest values are around 274032962. "
   ]
  },
  {
   "cell_type": "code",
   "execution_count": 140,
   "metadata": {},
   "outputs": [
    {
     "data": {
      "text/plain": [
       "274032962.0"
      ]
     },
     "execution_count": 140,
     "metadata": {},
     "output_type": "execute_result"
    }
   ],
   "source": [
    "data['metric_value'].quantile(1.0)"
   ]
  },
  {
   "cell_type": "markdown",
   "metadata": {},
   "source": [
    "Mean value is far away from median as our data is not homogeneous. Some metric names include values in mb which is very high in number compared to number of users metric."
   ]
  },
  {
   "cell_type": "code",
   "execution_count": 147,
   "metadata": {},
   "outputs": [
    {
     "data": {
      "text/plain": [
       "1027552.0052425753"
      ]
     },
     "execution_count": 147,
     "metadata": {},
     "output_type": "execute_result"
    }
   ],
   "source": [
    "data.metric_value.mean()"
   ]
  },
  {
   "cell_type": "code",
   "execution_count": null,
   "metadata": {},
   "outputs": [],
   "source": []
  }
 ],
 "metadata": {
  "kernelspec": {
   "display_name": "Python 3",
   "language": "python",
   "name": "python3"
  },
  "language_info": {
   "codemirror_mode": {
    "name": "ipython",
    "version": 3
   },
   "file_extension": ".py",
   "mimetype": "text/x-python",
   "name": "python",
   "nbconvert_exporter": "python",
   "pygments_lexer": "ipython3",
   "version": "3.7.3"
  }
 },
 "nbformat": 4,
 "nbformat_minor": 2
}
