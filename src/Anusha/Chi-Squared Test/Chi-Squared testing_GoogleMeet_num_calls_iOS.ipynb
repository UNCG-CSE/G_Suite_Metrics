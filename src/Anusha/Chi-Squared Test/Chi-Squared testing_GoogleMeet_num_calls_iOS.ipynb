{
 "cells": [
  {
   "cell_type": "markdown",
   "metadata": {},
   "source": [
    "The chi-squared goodness-of-fit test is used to test whether the distribution of sample categorical data matches an expected distribution.\n",
    "The Chi-Squared test is a statistical hypothesis test that assumes (the null hypothesis) that the observed frequencies for a categorical variable match the expected frequencies for the categorical variable"
   ]
  },
  {
   "cell_type": "code",
   "execution_count": 7,
   "metadata": {},
   "outputs": [],
   "source": [
    "import numpy as np\n",
    "import pandas as pd\n",
    "import scipy.stats as stats\n",
    "import matplotlib.pyplot as plt\n",
    "import math\n",
    "import datetime "
   ]
  },
  {
   "cell_type": "code",
   "execution_count": 8,
   "metadata": {
    "scrolled": true
   },
   "outputs": [],
   "source": [
    "data_path3 = \"C:/Users/Anusha/Documents/Copied on 9_26_19/Fall 2019/Data Science/Project/20150323-20190817-google-metrics-export - 20150323-20190817-google-metrics-export.csv\"\n",
    "df = pd.read_csv(data_path3)\n",
    "df['date'] = pd.DatetimeIndex(df['time']).date\n",
    "df['year'] = pd.DatetimeIndex(df['time']).year\n",
    "df['month'] = pd.DatetimeIndex(df['time']).month"
   ]
  },
  {
   "cell_type": "code",
   "execution_count": 9,
   "metadata": {},
   "outputs": [],
   "source": [
    "df1 = df[df['metric_name'].str.startswith('google.meet')]"
   ]
  },
  {
   "cell_type": "code",
   "execution_count": 12,
   "metadata": {},
   "outputs": [],
   "source": [
    "data = df1[df1['metric_name'].str.startswith('google.meet:num_calls_ios')]\n",
    "data1 = df1[(df1['year'] == 2019) & (df1['metric_name'].str.startswith('google.meet:num_calls_ios'))]"
   ]
  },
  {
   "cell_type": "code",
   "execution_count": 23,
   "metadata": {},
   "outputs": [
    {
     "name": "stdout",
     "output_type": "stream",
     "text": [
      "Number of observations\n",
      "col_0         count\n",
      "metric_value       \n",
      "0               261\n",
      "1                64\n",
      "2                56\n",
      "3                35\n",
      "4                32\n",
      "5                23\n",
      "6                16\n",
      "7                16\n",
      "8                 5\n",
      "9                13\n",
      "10                4\n",
      "11                4\n",
      "12                6\n",
      "13                3\n",
      "15                1\n",
      "17                1\n",
      "19                1\n",
      " \n",
      "Number of observations of Year 2019\n",
      "col_0         count\n",
      "metric_value       \n",
      "0                46\n",
      "1                34\n",
      "2                36\n",
      "3                24\n",
      "4                19\n",
      "5                12\n",
      "6                 7\n",
      "7                 9\n",
      "8                 2\n",
      "9                 8\n",
      "10                3\n",
      "11                2\n",
      "12                6\n",
      "13                2\n",
      "15                1\n",
      "17                1\n",
      "19                1\n"
     ]
    }
   ],
   "source": [
    "Total = pd.crosstab(index=data['metric_value'], columns=\"count\")\n",
    "Year_2019 = pd.crosstab(index=data1['metric_value'], columns=\"count\")\n",
    "\n",
    "print(\"Number of observations\")\n",
    "print(Total)\n",
    "print(\" \")\n",
    "print(\"Number of observations of Year 2019\")\n",
    "print(Year_2019)"
   ]
  },
  {
   "cell_type": "code",
   "execution_count": 24,
   "metadata": {},
   "outputs": [
    {
     "data": {
      "text/plain": [
       "col_0\n",
       "count    17\n",
       "dtype: int64"
      ]
     },
     "execution_count": 24,
     "metadata": {},
     "output_type": "execute_result"
    }
   ],
   "source": [
    "Total.count()"
   ]
  },
  {
   "cell_type": "code",
   "execution_count": 25,
   "metadata": {},
   "outputs": [
    {
     "data": {
      "text/plain": [
       "col_0\n",
       "count    17\n",
       "dtype: int64"
      ]
     },
     "execution_count": 25,
     "metadata": {},
     "output_type": "execute_result"
    }
   ],
   "source": [
    "Year_2019.count()"
   ]
  },
  {
   "cell_type": "markdown",
   "metadata": {},
   "source": [
    "In the formula, observed is the actual observed count for each category, and expected is the expected count based on the distribution of the population for the corresponding category."
   ]
  },
  {
   "cell_type": "markdown",
   "metadata": {},
   "source": [
    "Let's calculate the chi-squared statistic for our data to illustrate:"
   ]
  },
  {
   "cell_type": "code",
   "execution_count": 28,
   "metadata": {},
   "outputs": [
    {
     "name": "stdout",
     "output_type": "stream",
     "text": [
      "Chi_Squared_Stat: 68.277608\n"
     ]
    }
   ],
   "source": [
    "observed = Year_2019\n",
    "\n",
    "national_ratios = Total/len(data)  # Get population ratios\n",
    "\n",
    "expected = national_ratios * len(data1)   # Get expected counts\n",
    "\n",
    "chi_squared_stat = (((observed-expected)**2)/expected).sum()\n",
    "\n",
    "print(\"Chi_Squared_Stat: %f\" % chi_squared_stat)"
   ]
  },
  {
   "cell_type": "markdown",
   "metadata": {},
   "source": [
    "Finding the critical value for 95% confidence level and checking the p-value of our result:\n",
    "In the chi-square test we compare the chi-square test statistic to a critical value based on the chi-square distribution to determine whether the result is significant"
   ]
  },
  {
   "cell_type": "code",
   "execution_count": 29,
   "metadata": {},
   "outputs": [
    {
     "name": "stdout",
     "output_type": "stream",
     "text": [
      "Critical value\n",
      "26.29622760486423\n",
      "P value\n",
      "[1.99476925e-08]\n"
     ]
    }
   ],
   "source": [
    "crit = stats.chi2.ppf(q = 0.95, # Find the critical value for 95% confidence*\n",
    "                      df = 16)   # Df = number of variable categories - 1\n",
    "\n",
    "print(\"Critical value\")\n",
    "print(crit)\n",
    "\n",
    "p_value = 1 - stats.chi2.cdf(x=chi_squared_stat,  # Find the p-value\n",
    "                             df=16)\n",
    "print(\"P value\")\n",
    "print(p_value)"
   ]
  },
  {
   "cell_type": "code",
   "execution_count": 30,
   "metadata": {},
   "outputs": [
    {
     "data": {
      "text/plain": [
       "Power_divergenceResult(statistic=array([68.27760774]), pvalue=array([1.99476925e-08]))"
      ]
     },
     "execution_count": 30,
     "metadata": {},
     "output_type": "execute_result"
    }
   ],
   "source": [
    "stats.chisquare(f_obs= observed,   # Array of observed counts\n",
    "                f_exp= expected) "
   ]
  }
 ],
 "metadata": {
  "kernelspec": {
   "display_name": "Python 3",
   "language": "python",
   "name": "python3"
  },
  "language_info": {
   "codemirror_mode": {
    "name": "ipython",
    "version": 3
   },
   "file_extension": ".py",
   "mimetype": "text/x-python",
   "name": "python",
   "nbconvert_exporter": "python",
   "pygments_lexer": "ipython3",
   "version": "3.7.1"
  }
 },
 "nbformat": 4,
 "nbformat_minor": 2
}
