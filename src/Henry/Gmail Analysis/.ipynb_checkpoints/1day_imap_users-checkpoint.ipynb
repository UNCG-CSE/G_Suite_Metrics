{
 "cells": [
  {
   "cell_type": "code",
   "execution_count": null,
   "metadata": {},
   "outputs": [],
   "source": [
    "from dateutil.parser import parse\n",
    "import numpy as np\n",
    "import matplotlib.pyplot as plt\n",
    "import seaborn as sns\n",
    "import pandas as pd\n",
    "from scipy.optimize import newton\n",
    "from scipy.special import psi, polygamma\n",
    "from scipy.stats import norm, kde, kstest\n",
    "\n",
    "\n",
    "\n",
    "%matplotlib inline\n",
    "sns.set()\n",
    "pd.set_option('display.max_rows', 2000)\n",
    "pd.set_option('display.max_columns', 500)\n",
    "pd.set_option('display.width', 1000)\n",
    "data_path = \"C:\\\\Users\\\\Henry\\\\Documents\\\\405-DataScience\\\\G_Suite_Metrics\\\\data\\\\Gmail\\\\One_day_users.csv\"\n",
    "data_path2 = \"\"\n",
    "data = pd.read_csv(data_path)\n",
    "data_path_write = 'C:\\\\Users\\\\Henry\\\\Documents\\\\405-DataScience\\\\G_Suite_Metrics\\\\data\\\\Gmail\\\\'"
   ]
  }
 ],
 "metadata": {
  "kernelspec": {
   "display_name": "Python 3",
   "language": "python",
   "name": "python3"
  },
  "language_info": {
   "codemirror_mode": {
    "name": "ipython",
    "version": 3
   },
   "file_extension": ".py",
   "mimetype": "text/x-python",
   "name": "python",
   "nbconvert_exporter": "python",
   "pygments_lexer": "ipython3",
   "version": "3.7.3"
  }
 },
 "nbformat": 4,
 "nbformat_minor": 2
}
