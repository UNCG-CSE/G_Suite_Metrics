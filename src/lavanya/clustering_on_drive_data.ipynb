{
 "cells": [
  {
   "cell_type": "code",
   "execution_count": 51,
   "metadata": {},
   "outputs": [],
   "source": [
    "\n",
    "import pandas as pd\n",
    "import numpy as np\n",
    "from sklearn.cluster import KMeans\n",
    "from sklearn.preprocessing import LabelEncoder\n",
    "from sklearn.preprocessing import MinMaxScaler\n",
    "import seaborn as sns\n",
    "import matplotlib.pyplot as plt\n",
    "%matplotlib inline\n",
    "import sklearn.cluster as cluster"
   ]
  },
  {
   "cell_type": "code",
   "execution_count": 52,
   "metadata": {},
   "outputs": [],
   "source": [
    "df = pd.read_csv('google_drive_nanreplaced.csv')"
   ]
  },
  {
   "cell_type": "code",
   "execution_count": 53,
   "metadata": {},
   "outputs": [
    {
     "data": {
      "text/html": [
       "<div>\n",
       "<style scoped>\n",
       "    .dataframe tbody tr th:only-of-type {\n",
       "        vertical-align: middle;\n",
       "    }\n",
       "\n",
       "    .dataframe tbody tr th {\n",
       "        vertical-align: top;\n",
       "    }\n",
       "\n",
       "    .dataframe thead th {\n",
       "        text-align: right;\n",
       "    }\n",
       "</style>\n",
       "<table border=\"1\" class=\"dataframe\">\n",
       "  <thead>\n",
       "    <tr style=\"text-align: right;\">\n",
       "      <th></th>\n",
       "      <th>time</th>\n",
       "      <th>1day_active_users</th>\n",
       "      <th>1day_google_documents_active_users</th>\n",
       "      <th>1day_google_drawings_active_users</th>\n",
       "      <th>1day_google_forms_active_users</th>\n",
       "      <th>1day_google_presentations_active_users</th>\n",
       "      <th>1day_google_sites_active_users</th>\n",
       "      <th>1day_google_spreadsheets_active_users</th>\n",
       "      <th>1day_other_types_active_users</th>\n",
       "      <th>30day_active_users</th>\n",
       "      <th>...</th>\n",
       "      <th>owned_items_with_visibility_unknown_delta</th>\n",
       "      <th>owned_items_with_visibility_unknown_removed</th>\n",
       "      <th>owned_other_types_added</th>\n",
       "      <th>owned_other_types_created</th>\n",
       "      <th>owned_other_types_delta</th>\n",
       "      <th>owned_other_types_edited</th>\n",
       "      <th>owned_other_types_removed</th>\n",
       "      <th>owned_other_types_trashed</th>\n",
       "      <th>owned_other_types_viewed</th>\n",
       "      <th>sharers</th>\n",
       "    </tr>\n",
       "  </thead>\n",
       "  <tbody>\n",
       "    <tr>\n",
       "      <th>0</th>\n",
       "      <td>2017-03-12 05:00:00</td>\n",
       "      <td>1543.0</td>\n",
       "      <td>2499.954068</td>\n",
       "      <td>7.240157</td>\n",
       "      <td>54.104987</td>\n",
       "      <td>474.077428</td>\n",
       "      <td>25.604369</td>\n",
       "      <td>1107.56168</td>\n",
       "      <td>1314.187664</td>\n",
       "      <td>15955.695538</td>\n",
       "      <td>...</td>\n",
       "      <td>0.0</td>\n",
       "      <td>0.0</td>\n",
       "      <td>0.0</td>\n",
       "      <td>3509.0</td>\n",
       "      <td>0.0</td>\n",
       "      <td>193.0</td>\n",
       "      <td>0.0</td>\n",
       "      <td>173.0</td>\n",
       "      <td>1173.0</td>\n",
       "      <td>0.0</td>\n",
       "    </tr>\n",
       "    <tr>\n",
       "      <th>1</th>\n",
       "      <td>2017-03-14 04:00:00</td>\n",
       "      <td>2495.0</td>\n",
       "      <td>2499.954068</td>\n",
       "      <td>7.240157</td>\n",
       "      <td>54.104987</td>\n",
       "      <td>474.077428</td>\n",
       "      <td>25.604369</td>\n",
       "      <td>1107.56168</td>\n",
       "      <td>1314.187664</td>\n",
       "      <td>15955.695538</td>\n",
       "      <td>...</td>\n",
       "      <td>0.0</td>\n",
       "      <td>0.0</td>\n",
       "      <td>0.0</td>\n",
       "      <td>6275.0</td>\n",
       "      <td>0.0</td>\n",
       "      <td>837.0</td>\n",
       "      <td>0.0</td>\n",
       "      <td>1018.0</td>\n",
       "      <td>1759.0</td>\n",
       "      <td>0.0</td>\n",
       "    </tr>\n",
       "    <tr>\n",
       "      <th>2</th>\n",
       "      <td>2017-03-16 04:00:00</td>\n",
       "      <td>2403.0</td>\n",
       "      <td>2499.954068</td>\n",
       "      <td>7.240157</td>\n",
       "      <td>54.104987</td>\n",
       "      <td>474.077428</td>\n",
       "      <td>25.604369</td>\n",
       "      <td>1107.56168</td>\n",
       "      <td>1314.187664</td>\n",
       "      <td>15955.695538</td>\n",
       "      <td>...</td>\n",
       "      <td>0.0</td>\n",
       "      <td>0.0</td>\n",
       "      <td>0.0</td>\n",
       "      <td>22084.0</td>\n",
       "      <td>0.0</td>\n",
       "      <td>820.0</td>\n",
       "      <td>0.0</td>\n",
       "      <td>805.0</td>\n",
       "      <td>1451.0</td>\n",
       "      <td>0.0</td>\n",
       "    </tr>\n",
       "    <tr>\n",
       "      <th>3</th>\n",
       "      <td>2017-03-19 04:00:00</td>\n",
       "      <td>2848.0</td>\n",
       "      <td>2499.954068</td>\n",
       "      <td>7.240157</td>\n",
       "      <td>54.104987</td>\n",
       "      <td>474.077428</td>\n",
       "      <td>25.604369</td>\n",
       "      <td>1107.56168</td>\n",
       "      <td>1314.187664</td>\n",
       "      <td>15955.695538</td>\n",
       "      <td>...</td>\n",
       "      <td>0.0</td>\n",
       "      <td>0.0</td>\n",
       "      <td>0.0</td>\n",
       "      <td>51355.0</td>\n",
       "      <td>0.0</td>\n",
       "      <td>725.0</td>\n",
       "      <td>0.0</td>\n",
       "      <td>737.0</td>\n",
       "      <td>1247.0</td>\n",
       "      <td>0.0</td>\n",
       "    </tr>\n",
       "    <tr>\n",
       "      <th>4</th>\n",
       "      <td>2017-03-20 04:00:00</td>\n",
       "      <td>5302.0</td>\n",
       "      <td>2499.954068</td>\n",
       "      <td>7.240157</td>\n",
       "      <td>54.104987</td>\n",
       "      <td>474.077428</td>\n",
       "      <td>25.604369</td>\n",
       "      <td>1107.56168</td>\n",
       "      <td>1314.187664</td>\n",
       "      <td>15955.695538</td>\n",
       "      <td>...</td>\n",
       "      <td>0.0</td>\n",
       "      <td>0.0</td>\n",
       "      <td>0.0</td>\n",
       "      <td>9979.0</td>\n",
       "      <td>0.0</td>\n",
       "      <td>1330.0</td>\n",
       "      <td>0.0</td>\n",
       "      <td>924.0</td>\n",
       "      <td>2339.0</td>\n",
       "      <td>0.0</td>\n",
       "    </tr>\n",
       "  </tbody>\n",
       "</table>\n",
       "<p>5 rows × 144 columns</p>\n",
       "</div>"
      ],
      "text/plain": [
       "                  time  1day_active_users  1day_google_documents_active_users  \\\n",
       "0  2017-03-12 05:00:00             1543.0                         2499.954068   \n",
       "1  2017-03-14 04:00:00             2495.0                         2499.954068   \n",
       "2  2017-03-16 04:00:00             2403.0                         2499.954068   \n",
       "3  2017-03-19 04:00:00             2848.0                         2499.954068   \n",
       "4  2017-03-20 04:00:00             5302.0                         2499.954068   \n",
       "\n",
       "   1day_google_drawings_active_users  1day_google_forms_active_users  \\\n",
       "0                           7.240157                       54.104987   \n",
       "1                           7.240157                       54.104987   \n",
       "2                           7.240157                       54.104987   \n",
       "3                           7.240157                       54.104987   \n",
       "4                           7.240157                       54.104987   \n",
       "\n",
       "   1day_google_presentations_active_users  1day_google_sites_active_users  \\\n",
       "0                              474.077428                       25.604369   \n",
       "1                              474.077428                       25.604369   \n",
       "2                              474.077428                       25.604369   \n",
       "3                              474.077428                       25.604369   \n",
       "4                              474.077428                       25.604369   \n",
       "\n",
       "   1day_google_spreadsheets_active_users  1day_other_types_active_users  \\\n",
       "0                             1107.56168                    1314.187664   \n",
       "1                             1107.56168                    1314.187664   \n",
       "2                             1107.56168                    1314.187664   \n",
       "3                             1107.56168                    1314.187664   \n",
       "4                             1107.56168                    1314.187664   \n",
       "\n",
       "   30day_active_users   ...     owned_items_with_visibility_unknown_delta  \\\n",
       "0        15955.695538   ...                                           0.0   \n",
       "1        15955.695538   ...                                           0.0   \n",
       "2        15955.695538   ...                                           0.0   \n",
       "3        15955.695538   ...                                           0.0   \n",
       "4        15955.695538   ...                                           0.0   \n",
       "\n",
       "   owned_items_with_visibility_unknown_removed  owned_other_types_added  \\\n",
       "0                                          0.0                      0.0   \n",
       "1                                          0.0                      0.0   \n",
       "2                                          0.0                      0.0   \n",
       "3                                          0.0                      0.0   \n",
       "4                                          0.0                      0.0   \n",
       "\n",
       "   owned_other_types_created  owned_other_types_delta  \\\n",
       "0                     3509.0                      0.0   \n",
       "1                     6275.0                      0.0   \n",
       "2                    22084.0                      0.0   \n",
       "3                    51355.0                      0.0   \n",
       "4                     9979.0                      0.0   \n",
       "\n",
       "   owned_other_types_edited  owned_other_types_removed  \\\n",
       "0                     193.0                        0.0   \n",
       "1                     837.0                        0.0   \n",
       "2                     820.0                        0.0   \n",
       "3                     725.0                        0.0   \n",
       "4                    1330.0                        0.0   \n",
       "\n",
       "   owned_other_types_trashed  owned_other_types_viewed  sharers  \n",
       "0                      173.0                    1173.0      0.0  \n",
       "1                     1018.0                    1759.0      0.0  \n",
       "2                      805.0                    1451.0      0.0  \n",
       "3                      737.0                    1247.0      0.0  \n",
       "4                      924.0                    2339.0      0.0  \n",
       "\n",
       "[5 rows x 144 columns]"
      ]
     },
     "execution_count": 53,
     "metadata": {},
     "output_type": "execute_result"
    }
   ],
   "source": [
    "df.head()"
   ]
  },
  {
   "cell_type": "code",
   "execution_count": 54,
   "metadata": {},
   "outputs": [],
   "source": [
    "df1= df[['time','google_forms_created','google_forms_edited']]"
   ]
  },
  {
   "cell_type": "code",
   "execution_count": 55,
   "metadata": {},
   "outputs": [
    {
     "data": {
      "text/html": [
       "<div>\n",
       "<style scoped>\n",
       "    .dataframe tbody tr th:only-of-type {\n",
       "        vertical-align: middle;\n",
       "    }\n",
       "\n",
       "    .dataframe tbody tr th {\n",
       "        vertical-align: top;\n",
       "    }\n",
       "\n",
       "    .dataframe thead th {\n",
       "        text-align: right;\n",
       "    }\n",
       "</style>\n",
       "<table border=\"1\" class=\"dataframe\">\n",
       "  <thead>\n",
       "    <tr style=\"text-align: right;\">\n",
       "      <th></th>\n",
       "      <th>time</th>\n",
       "      <th>google_forms_created</th>\n",
       "      <th>google_forms_edited</th>\n",
       "    </tr>\n",
       "  </thead>\n",
       "  <tbody>\n",
       "    <tr>\n",
       "      <th>0</th>\n",
       "      <td>2017-03-12 05:00:00</td>\n",
       "      <td>0.0</td>\n",
       "      <td>0.0</td>\n",
       "    </tr>\n",
       "    <tr>\n",
       "      <th>1</th>\n",
       "      <td>2017-03-14 04:00:00</td>\n",
       "      <td>0.0</td>\n",
       "      <td>0.0</td>\n",
       "    </tr>\n",
       "    <tr>\n",
       "      <th>2</th>\n",
       "      <td>2017-03-16 04:00:00</td>\n",
       "      <td>0.0</td>\n",
       "      <td>0.0</td>\n",
       "    </tr>\n",
       "    <tr>\n",
       "      <th>3</th>\n",
       "      <td>2017-03-19 04:00:00</td>\n",
       "      <td>0.0</td>\n",
       "      <td>0.0</td>\n",
       "    </tr>\n",
       "    <tr>\n",
       "      <th>4</th>\n",
       "      <td>2017-03-20 04:00:00</td>\n",
       "      <td>0.0</td>\n",
       "      <td>0.0</td>\n",
       "    </tr>\n",
       "  </tbody>\n",
       "</table>\n",
       "</div>"
      ],
      "text/plain": [
       "                  time  google_forms_created  google_forms_edited\n",
       "0  2017-03-12 05:00:00                   0.0                  0.0\n",
       "1  2017-03-14 04:00:00                   0.0                  0.0\n",
       "2  2017-03-16 04:00:00                   0.0                  0.0\n",
       "3  2017-03-19 04:00:00                   0.0                  0.0\n",
       "4  2017-03-20 04:00:00                   0.0                  0.0"
      ]
     },
     "execution_count": 55,
     "metadata": {},
     "output_type": "execute_result"
    }
   ],
   "source": [
    "df1.head()"
   ]
  },
  {
   "cell_type": "code",
   "execution_count": 56,
   "metadata": {},
   "outputs": [
    {
     "data": {
      "text/plain": [
       "dtype('O')"
      ]
     },
     "execution_count": 56,
     "metadata": {},
     "output_type": "execute_result"
    }
   ],
   "source": [
    "df1.time.dtype"
   ]
  },
  {
   "cell_type": "code",
   "execution_count": 57,
   "metadata": {},
   "outputs": [
    {
     "data": {
      "text/plain": [
       "'2017-03-12 05:00:00'"
      ]
     },
     "execution_count": 57,
     "metadata": {},
     "output_type": "execute_result"
    }
   ],
   "source": [
    "df1.time.loc[0]"
   ]
  },
  {
   "cell_type": "code",
   "execution_count": 58,
   "metadata": {},
   "outputs": [
    {
     "data": {
      "text/plain": [
       "datetime.datetime(2017, 3, 12, 5, 0)"
      ]
     },
     "execution_count": 58,
     "metadata": {},
     "output_type": "execute_result"
    }
   ],
   "source": [
    "\n",
    "from datetime import datetime\n",
    "datetime.strptime(\"2017-03-12:05:00:00\", \"%Y-%m-%d:%H:%M:%S\")"
   ]
  },
  {
   "cell_type": "code",
   "execution_count": 59,
   "metadata": {},
   "outputs": [],
   "source": [
    "\n",
    "df1.time = df1.time.apply(lambda d: datetime.strptime(d, \"%Y-%m-%d %H:%M:%S\"))"
   ]
  },
  {
   "cell_type": "code",
   "execution_count": 60,
   "metadata": {},
   "outputs": [],
   "source": [
    "df1['Month'] = df1['time'].dt.month\n",
    "df1['day'] = df1['time'].dt.day\n",
    "df1['week']=df1['time'].dt.week"
   ]
  },
  {
   "cell_type": "code",
   "execution_count": 61,
   "metadata": {},
   "outputs": [
    {
     "data": {
      "text/html": [
       "<div>\n",
       "<style scoped>\n",
       "    .dataframe tbody tr th:only-of-type {\n",
       "        vertical-align: middle;\n",
       "    }\n",
       "\n",
       "    .dataframe tbody tr th {\n",
       "        vertical-align: top;\n",
       "    }\n",
       "\n",
       "    .dataframe thead th {\n",
       "        text-align: right;\n",
       "    }\n",
       "</style>\n",
       "<table border=\"1\" class=\"dataframe\">\n",
       "  <thead>\n",
       "    <tr style=\"text-align: right;\">\n",
       "      <th></th>\n",
       "      <th>time</th>\n",
       "      <th>google_forms_created</th>\n",
       "      <th>google_forms_edited</th>\n",
       "      <th>Month</th>\n",
       "      <th>day</th>\n",
       "      <th>week</th>\n",
       "    </tr>\n",
       "  </thead>\n",
       "  <tbody>\n",
       "    <tr>\n",
       "      <th>0</th>\n",
       "      <td>2017-03-12 05:00:00</td>\n",
       "      <td>0.0</td>\n",
       "      <td>0.0</td>\n",
       "      <td>3</td>\n",
       "      <td>12</td>\n",
       "      <td>10</td>\n",
       "    </tr>\n",
       "    <tr>\n",
       "      <th>1</th>\n",
       "      <td>2017-03-14 04:00:00</td>\n",
       "      <td>0.0</td>\n",
       "      <td>0.0</td>\n",
       "      <td>3</td>\n",
       "      <td>14</td>\n",
       "      <td>11</td>\n",
       "    </tr>\n",
       "    <tr>\n",
       "      <th>2</th>\n",
       "      <td>2017-03-16 04:00:00</td>\n",
       "      <td>0.0</td>\n",
       "      <td>0.0</td>\n",
       "      <td>3</td>\n",
       "      <td>16</td>\n",
       "      <td>11</td>\n",
       "    </tr>\n",
       "    <tr>\n",
       "      <th>3</th>\n",
       "      <td>2017-03-19 04:00:00</td>\n",
       "      <td>0.0</td>\n",
       "      <td>0.0</td>\n",
       "      <td>3</td>\n",
       "      <td>19</td>\n",
       "      <td>11</td>\n",
       "    </tr>\n",
       "    <tr>\n",
       "      <th>4</th>\n",
       "      <td>2017-03-20 04:00:00</td>\n",
       "      <td>0.0</td>\n",
       "      <td>0.0</td>\n",
       "      <td>3</td>\n",
       "      <td>20</td>\n",
       "      <td>12</td>\n",
       "    </tr>\n",
       "  </tbody>\n",
       "</table>\n",
       "</div>"
      ],
      "text/plain": [
       "                 time  google_forms_created  google_forms_edited  Month  day  \\\n",
       "0 2017-03-12 05:00:00                   0.0                  0.0      3   12   \n",
       "1 2017-03-14 04:00:00                   0.0                  0.0      3   14   \n",
       "2 2017-03-16 04:00:00                   0.0                  0.0      3   16   \n",
       "3 2017-03-19 04:00:00                   0.0                  0.0      3   19   \n",
       "4 2017-03-20 04:00:00                   0.0                  0.0      3   20   \n",
       "\n",
       "   week  \n",
       "0    10  \n",
       "1    11  \n",
       "2    11  \n",
       "3    11  \n",
       "4    12  "
      ]
     },
     "execution_count": 61,
     "metadata": {},
     "output_type": "execute_result"
    }
   ],
   "source": [
    "df1.head()"
   ]
  },
  {
   "cell_type": "code",
   "execution_count": 62,
   "metadata": {},
   "outputs": [
    {
     "name": "stdout",
     "output_type": "stream",
     "text": [
      "True\n"
     ]
    },
    {
     "data": {
      "image/png": "[encoded data removed]",
      "text/plain": [
       "<Figure size 432x288 with 1 Axes>"
      ]
     },
     "metadata": {
      "needs_background": "light"
     },
     "output_type": "display_data"
    }
   ],
   "source": [
    "ax1 = df1.plot(kind='scatter', x='google_forms_created', y='week', color='r')    \n",
    "ax2 = df1.plot(kind='scatter', x='google_forms_edited', y='week', color='g', ax=ax1)    \n",
    "print(ax1==ax2)"
   ]
  },
  {
   "cell_type": "code",
   "execution_count": 65,
   "metadata": {},
   "outputs": [],
   "source": [
    "def plot_clusters(data, algorithm, args, kwds):\n",
    "    labels = algorithm(*args, **kwds).fit_predict(data)\n",
    "    palette = sns.color_palette('deep', np.unique(labels).max() + 1)\n",
    "    colors = [palette[x] if x >= 0 else (0.0, 0.0, 0.0) for x in labels]\n",
    "    plt.scatter(data.T[0], data.T[1], c=colors, **plot_kwds)\n",
    "    frame = plt.gca()\n",
    "    frame.axes.get_xaxis().set_visible(False)\n",
    "    frame.axes.get_yaxis().set_visible(False)\n",
    "    plt.title('Clusters found by {}'.format(str(algorithm.__name__)), fontsize=24)\n",
    "    plt.text(-0.5, 0.7, 'Clustering took {:.2f} s'.format(end_time - start_time), fontsize=14)"
   ]
  },
  {
   "cell_type": "code",
   "execution_count": 98,
   "metadata": {},
   "outputs": [],
   "source": [
    "# Using scikit-learn to perform K-Means clustering\n",
    "from sklearn.cluster import KMeans\n",
    "df2=df1[['google_forms_created','google_forms_edited','Month','day','week']]\n",
    "X=df2\n",
    "# Specify the number of clusters (3) and fit the data X\n",
    "kmeans = KMeans(n_clusters=20, random_state=0).fit(X)"
   ]
  },
  {
   "cell_type": "code",
   "execution_count": 99,
   "metadata": {},
   "outputs": [
    {
     "name": "stdout",
     "output_type": "stream",
     "text": [
      "[[ 40.39622642  99.98113208   2.86792453  14.83018868  10.79245283]\n",
      " [ 14.80434783  38.2173913   10.06521739  15.2826087   41.67391304]\n",
      " [ 69.77777778 222.66666667   8.66666667  16.44444444  36.22222222]\n",
      " [ 13.17460317  29.14285714   3.50793651  19.65079365  13.74603175]\n",
      " [ 29.04105559  71.84816018   5.10169492  24.05084746  20.74576271]\n",
      " [ 33.25        90.71666667   9.58333333  16.66666667  40.11666667]\n",
      " [ 41.4        161.36         8.68        17.84        36.44      ]\n",
      " [  4.68518519  12.46296296   4.62962963   7.33333333  16.75925926]\n",
      " [  7.05263158  17.60526316   9.5          9.60526316  38.26315789]\n",
      " [ 24.13113743  64.78799655   8.36904762  10.4047619   33.85714286]\n",
      " [ 21.13043478  53.43478261   5.91304348  23.47826087  24.97826087]\n",
      " [ 49.11111111 115.58333333   9.66666667  14.11111111  40.16666667]\n",
      " [  3.22641509   6.73584906   4.71698113  23.47169811  19.47169811]\n",
      " [207.         263.5          9.5         18.5         40.        ]\n",
      " [107.16666667 178.58333333   4.58333333  19.58333333  19.        ]\n",
      " [ 78.         145.13636364   5.68181818  15.09090909  23.04545455]\n",
      " [ 27.09944201  70.42516939   2.84615385   7.51923077   9.51923077]\n",
      " [  3.55555556   8.72222222  11.38888889  24.77777778  48.80555556]\n",
      " [ 16.16326531  42.18367347   5.51020408   6.95918367  20.83673469]\n",
      " [ 53.90625    124.8125       2.875       18.4375      11.40625   ]]\n",
      "[ 7 12 12 12 12 12 12 12 12 12 12 12 12 12 12 12  7  3  0 16  0 16 16  7\n",
      " 18 16  0  0 18  7  7  7  4 19 19  6 15 12 10 19  6 19  0  4 12  3 16 16\n",
      " 16 15 18  7  7 19 18 18  3  3  7 12 18  4  4  4  3 12  3 10  4 10 10 12\n",
      "  3 12 10  4 18 18  7  7 18 16 18  9  7  7 18 18  3  3  3 12 10 10 10 10\n",
      "  3 12 12 10 10 10 10  3  7  7 18  7 18  8 18  7  7 18 18 18  8 12 10 10\n",
      "  1 13 10 12 12 10  4 10  4 10 12 12 10 18 18  9 18  8  8  5 14  5 11  9\n",
      "  8  1  5 11  5 10  8  8 11  5  5  4  4  8  1 11 11  4  9  8  8  1  5  9\n",
      "  1  1  8  9  9 11  5  1  8  1 11  5 17  1 15  5 10 17  8 11  5  5  9  1\n",
      "  8  8  1  9 11  2 11  8  9  6 11  5  5  9 17  1 11  5  5  5  5 17  1  5\n",
      "  5 11  9  9  8  9  5  5  5  6  6  1  1  2  6 11  2  9  8  1  6  9  1 17\n",
      " 17 17  1  6 11  5  5  9  8  8 11  6  5  5  9  8  1  5  9  9 15  1 17 17\n",
      "  9  1  1  1 17 17 17 17 17 17 17 17 17 17  7 16 16  0  0  0 16 16  7  7\n",
      " 16  0 16  3 10  3  3 15 14  4  3  3  0  0  0  0 16  7  3  2  6  6  0 19\n",
      "  3 16 19 19  0 16  3  3 15 19  4  3  3 19  0 16 16  7  7 18 18 18 18 18\n",
      "  7  7 16  0 16 16  7  3 19  0  0  4  4  3  3  0 19  0  4  3 12  7  0 15\n",
      "  0  0 18  3  0  0 16 16 15  3  3  0  0  4  4  4  3  3 14  2  6  6  3 10\n",
      "  0 16 18  7  7  0 18 18 10  7  7 10  0  0 10 19 12 12  4 10  4  4  3 12\n",
      " 12 12 10  4 10 18  7  7 18 18  9 18 18 18 10  3 12 12 10 10  3 12 12 10\n",
      " 10 10 12  7  9  7  9 18  7  7  9  9  9 10  9 12 12  9  9 15  4  1 12  4\n",
      "  4  8  8  5  9  5  9  9  1  5  5  5  5  5  1  1 15 15 15  5  9  8 10  5\n",
      " 11 14 14  4  8  1  8 11 11 11  5  8  9  6  2  5  9  1  8  1 11  6  6  9\n",
      "  6  1  9  2  6  6  5  5 17  4 11  9  9  9  9  9  1  5 11 11  5  9  8  8\n",
      "  9 11 11 15 11  8  1  5  5  5  5  1 17 10  6 11  5 11  5  1  1  6 15  5\n",
      " 11  9  1  1 11  6  2 11  9  8  9 11  1  1 17 17 17 17 14  6  6  2  5  8\n",
      "  8  5 11  5  9  1  8  8  1  1  5  6 15 17  1 13  5  5  1 17 17 17 17 17\n",
      " 17 17 17 17 17  4 16 16 16 16  7  7  0  0  0 16 16  3 16 19 16  0 16  0\n",
      "  3  3  3 19  0 19  0 12  3 14  4  0  4 16  7 16 14 14  0 16 16  3 16 15\n",
      " 15  0 19 19  3  3 19 15 19 19  4  3  3 19 19  0  4 16  7  3 16 16 18 16\n",
      "  3  7  3  0 19 19 14  0  7  3 16 15 19 14  4  3  3 15  4 19 19  4 12  3\n",
      " 15 15 16 19  0 18 18 19 16  0 16 18  7  3  0  4  0  0  3 12  3 19  0 14\n",
      "  4 10  3  3  4  4 16 16 18  7  7 16 18 18 16 16  7  7  0  4  4 10 18 12\n",
      " 12  4  4  0 10  3 12 12 12  4 10  4 10 18  7 18  9  9  9  7  7  9  9  9\n",
      "  9  9  9  4 19  4 11  4  4  4  3  4  4  4  4 12 12  9  9  9  7  9  9  7\n",
      "  5  9  9  9  9  9  9  9  9  9  9  9  9  3  4 10  5  3  4  3  5 10  4 18\n",
      "  8 18  9  9  9  9  9  9  8  9  5  9  9 11  1]\n"
     ]
    }
   ],
   "source": [
    "# Get the cluster centroids\n",
    "print(kmeans.cluster_centers_)\n",
    "    \n",
    "# Get the cluster labels\n",
    "print(kmeans.labels_)"
   ]
  },
  {
   "cell_type": "code",
   "execution_count": 100,
   "metadata": {},
   "outputs": [
    {
     "data": {
      "image/png": "[encoded data removed]",
      "text/plain": [
       "<Figure size 432x288 with 1 Axes>"
      ]
     },
     "metadata": {
      "needs_background": "light"
     },
     "output_type": "display_data"
    }
   ],
   "source": [
    " \n",
    "# Plotting the cluster centers and the data points on a 2D plane\n",
    "plt.scatter(X.iloc[:,0], X.iloc[:,-1])\n",
    "    \n",
    "plt.scatter(kmeans.cluster_centers_[:, 0], kmeans.cluster_centers_[:, 1], c='red', marker='x')\n",
    "    \n",
    "plt.title('Data points and cluster centroids')\n",
    "plt.show()"
   ]
  },
  {
   "cell_type": "code",
   "execution_count": 82,
   "metadata": {},
   "outputs": [
    {
     "name": "stdout",
     "output_type": "stream",
     "text": [
      "0.42483927404481425\n"
     ]
    }
   ],
   "source": [
    "# Calculate silhouette_score\n",
    "from sklearn.metrics import silhouette_score\n",
    "\n",
    "print(silhouette_score(X, kmeans.labels_))"
   ]
  },
  {
   "cell_type": "code",
   "execution_count": null,
   "metadata": {},
   "outputs": [],
   "source": []
  },
  {
   "cell_type": "code",
   "execution_count": null,
   "metadata": {},
   "outputs": [],
   "source": []
  },
  {
   "cell_type": "code",
   "execution_count": null,
   "metadata": {},
   "outputs": [],
   "source": []
  }
 ],
 "metadata": {
  "kernelspec": {
   "display_name": "Python 3",
   "language": "python",
   "name": "python3"
  },
  "language_info": {
   "codemirror_mode": {
    "name": "ipython",
    "version": 3
   },
   "file_extension": ".py",
   "mimetype": "text/x-python",
   "name": "python",
   "nbconvert_exporter": "python",
   "pygments_lexer": "ipython3",
   "version": "3.7.1"
  }
 },
 "nbformat": 4,
 "nbformat_minor": 2
}
