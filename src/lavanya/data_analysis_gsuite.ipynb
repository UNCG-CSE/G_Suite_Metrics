{
 "cells": [
  {
   "cell_type": "markdown",
   "metadata": {},
   "source": [
    "Reading the data set using pandas"
   ]
  },
  {
   "cell_type": "code",
   "execution_count": 53,
   "metadata": {},
   "outputs": [],
   "source": [
    "%matplotlib inline\n",
    "import pandas as pd\n",
    "import numpy as np\n",
    "df = pd.read_csv('gsuite.csv')"
   ]
  },
  {
   "cell_type": "markdown",
   "metadata": {},
   "source": [
    "Here head retrieves the first 10 of the data set"
   ]
  },
  {
   "cell_type": "code",
   "execution_count": 54,
   "metadata": {},
   "outputs": [
    {
     "data": {
      "text/html": [
       "<div>\n",
       "<style scoped>\n",
       "    .dataframe tbody tr th:only-of-type {\n",
       "        vertical-align: middle;\n",
       "    }\n",
       "\n",
       "    .dataframe tbody tr th {\n",
       "        vertical-align: top;\n",
       "    }\n",
       "\n",
       "    .dataframe thead th {\n",
       "        text-align: right;\n",
       "    }\n",
       "</style>\n",
       "<table border=\"1\" class=\"dataframe\">\n",
       "  <thead>\n",
       "    <tr style=\"text-align: right;\">\n",
       "      <th></th>\n",
       "      <th>time</th>\n",
       "      <th>metric_name</th>\n",
       "      <th>metric_value</th>\n",
       "    </tr>\n",
       "  </thead>\n",
       "  <tbody>\n",
       "    <tr>\n",
       "      <th>0</th>\n",
       "      <td>2015-03-23T00:00:00.000-0400</td>\n",
       "      <td>google.accounts:apps_total_licenses</td>\n",
       "      <td>0</td>\n",
       "    </tr>\n",
       "    <tr>\n",
       "      <th>1</th>\n",
       "      <td>2015-03-23T00:00:00.000-0400</td>\n",
       "      <td>google.accounts:apps_used_licenses</td>\n",
       "      <td>0</td>\n",
       "    </tr>\n",
       "    <tr>\n",
       "      <th>2</th>\n",
       "      <td>2015-03-23T00:00:00.000-0400</td>\n",
       "      <td>google.accounts:authorized_apps</td>\n",
       "      <td>0</td>\n",
       "    </tr>\n",
       "    <tr>\n",
       "      <th>3</th>\n",
       "      <td>2015-03-23T00:00:00.000-0400</td>\n",
       "      <td>google.accounts:coordinate_total_licenses</td>\n",
       "      <td>0</td>\n",
       "    </tr>\n",
       "    <tr>\n",
       "      <th>4</th>\n",
       "      <td>2015-03-23T00:00:00.000-0400</td>\n",
       "      <td>google.accounts:drive_used_quota_in_mb</td>\n",
       "      <td>9537833</td>\n",
       "    </tr>\n",
       "    <tr>\n",
       "      <th>5</th>\n",
       "      <td>2015-03-23T00:00:00.000-0400</td>\n",
       "      <td>google.accounts:gmail_used_quota_in_mb</td>\n",
       "      <td>29158045</td>\n",
       "    </tr>\n",
       "    <tr>\n",
       "      <th>6</th>\n",
       "      <td>2015-03-23T00:00:00.000-0400</td>\n",
       "      <td>google.accounts:gplus_photos_used_quota_in_mb</td>\n",
       "      <td>659544</td>\n",
       "    </tr>\n",
       "    <tr>\n",
       "      <th>7</th>\n",
       "      <td>2015-03-23T00:00:00.000-0400</td>\n",
       "      <td>google.accounts:num_1day_logins</td>\n",
       "      <td>16814</td>\n",
       "    </tr>\n",
       "    <tr>\n",
       "      <th>8</th>\n",
       "      <td>2015-03-23T00:00:00.000-0400</td>\n",
       "      <td>google.accounts:num_30day_logins</td>\n",
       "      <td>24022</td>\n",
       "    </tr>\n",
       "    <tr>\n",
       "      <th>9</th>\n",
       "      <td>2015-03-23T00:00:00.000-0400</td>\n",
       "      <td>google.accounts:num_7day_logins</td>\n",
       "      <td>21763</td>\n",
       "    </tr>\n",
       "  </tbody>\n",
       "</table>\n",
       "</div>"
      ],
      "text/plain": [
       "                           time  \\\n",
       "0  2015-03-23T00:00:00.000-0400   \n",
       "1  2015-03-23T00:00:00.000-0400   \n",
       "2  2015-03-23T00:00:00.000-0400   \n",
       "3  2015-03-23T00:00:00.000-0400   \n",
       "4  2015-03-23T00:00:00.000-0400   \n",
       "5  2015-03-23T00:00:00.000-0400   \n",
       "6  2015-03-23T00:00:00.000-0400   \n",
       "7  2015-03-23T00:00:00.000-0400   \n",
       "8  2015-03-23T00:00:00.000-0400   \n",
       "9  2015-03-23T00:00:00.000-0400   \n",
       "\n",
       "                                     metric_name  metric_value  \n",
       "0            google.accounts:apps_total_licenses             0  \n",
       "1             google.accounts:apps_used_licenses             0  \n",
       "2                google.accounts:authorized_apps             0  \n",
       "3      google.accounts:coordinate_total_licenses             0  \n",
       "4         google.accounts:drive_used_quota_in_mb       9537833  \n",
       "5         google.accounts:gmail_used_quota_in_mb      29158045  \n",
       "6  google.accounts:gplus_photos_used_quota_in_mb        659544  \n",
       "7                google.accounts:num_1day_logins         16814  \n",
       "8               google.accounts:num_30day_logins         24022  \n",
       "9                google.accounts:num_7day_logins         21763  "
      ]
     },
     "execution_count": 54,
     "metadata": {},
     "output_type": "execute_result"
    }
   ],
   "source": [
    "df.head(10)"
   ]
  },
  {
   "cell_type": "markdown",
   "metadata": {},
   "source": [
    "Tail gives the last 5 rows in the data set"
   ]
  },
  {
   "cell_type": "code",
   "execution_count": 55,
   "metadata": {},
   "outputs": [
    {
     "data": {
      "text/html": [
       "<div>\n",
       "<style scoped>\n",
       "    .dataframe tbody tr th:only-of-type {\n",
       "        vertical-align: middle;\n",
       "    }\n",
       "\n",
       "    .dataframe tbody tr th {\n",
       "        vertical-align: top;\n",
       "    }\n",
       "\n",
       "    .dataframe thead th {\n",
       "        text-align: right;\n",
       "    }\n",
       "</style>\n",
       "<table border=\"1\" class=\"dataframe\">\n",
       "  <thead>\n",
       "    <tr style=\"text-align: right;\">\n",
       "      <th></th>\n",
       "      <th>time</th>\n",
       "      <th>metric_name</th>\n",
       "      <th>metric_value</th>\n",
       "    </tr>\n",
       "  </thead>\n",
       "  <tbody>\n",
       "    <tr>\n",
       "      <th>611908</th>\n",
       "      <td>2019-08-17T00:00:00.000-0400</td>\n",
       "      <td>google.meet:total_call_minutes_unknown_client</td>\n",
       "      <td>0</td>\n",
       "    </tr>\n",
       "    <tr>\n",
       "      <th>611909</th>\n",
       "      <td>2019-08-17T00:00:00.000-0400</td>\n",
       "      <td>google.meet:total_call_minutes_web</td>\n",
       "      <td>0</td>\n",
       "    </tr>\n",
       "    <tr>\n",
       "      <th>611910</th>\n",
       "      <td>2019-08-17T00:00:00.000-0400</td>\n",
       "      <td>google.meet:total_meeting_minutes</td>\n",
       "      <td>0</td>\n",
       "    </tr>\n",
       "    <tr>\n",
       "      <th>611911</th>\n",
       "      <td>2019-08-17T00:00:00.000-0400</td>\n",
       "      <td>google.sites:num_sites</td>\n",
       "      <td>11130</td>\n",
       "    </tr>\n",
       "    <tr>\n",
       "      <th>611912</th>\n",
       "      <td>2019-08-17T00:00:00.000-0400</td>\n",
       "      <td>google.sites:num_sites_created</td>\n",
       "      <td>0</td>\n",
       "    </tr>\n",
       "  </tbody>\n",
       "</table>\n",
       "</div>"
      ],
      "text/plain": [
       "                                time  \\\n",
       "611908  2019-08-17T00:00:00.000-0400   \n",
       "611909  2019-08-17T00:00:00.000-0400   \n",
       "611910  2019-08-17T00:00:00.000-0400   \n",
       "611911  2019-08-17T00:00:00.000-0400   \n",
       "611912  2019-08-17T00:00:00.000-0400   \n",
       "\n",
       "                                          metric_name  metric_value  \n",
       "611908  google.meet:total_call_minutes_unknown_client             0  \n",
       "611909             google.meet:total_call_minutes_web             0  \n",
       "611910              google.meet:total_meeting_minutes             0  \n",
       "611911                         google.sites:num_sites         11130  \n",
       "611912                 google.sites:num_sites_created             0  "
      ]
     },
     "execution_count": 55,
     "metadata": {},
     "output_type": "execute_result"
    }
   ],
   "source": [
    "df.tail()"
   ]
  },
  {
   "cell_type": "markdown",
   "metadata": {},
   "source": [
    "size gives the total data points rows * columns"
   ]
  },
  {
   "cell_type": "code",
   "execution_count": 56,
   "metadata": {},
   "outputs": [
    {
     "data": {
      "text/plain": [
       "1835739"
      ]
     },
     "execution_count": 56,
     "metadata": {},
     "output_type": "execute_result"
    }
   ],
   "source": [
    "df.size"
   ]
  },
  {
   "cell_type": "markdown",
   "metadata": {},
   "source": [
    "Shape gives the dimensionality of the data set."
   ]
  },
  {
   "cell_type": "code",
   "execution_count": 57,
   "metadata": {},
   "outputs": [
    {
     "data": {
      "text/plain": [
       "(611913, 3)"
      ]
     },
     "execution_count": 57,
     "metadata": {},
     "output_type": "execute_result"
    }
   ],
   "source": [
    "df.shape"
   ]
  },
  {
   "cell_type": "markdown",
   "metadata": {},
   "source": [
    "columns gives us the index names and the data type"
   ]
  },
  {
   "cell_type": "code",
   "execution_count": 58,
   "metadata": {},
   "outputs": [
    {
     "data": {
      "text/plain": [
       "Index(['time', 'metric_name', 'metric_value'], dtype='object')"
      ]
     },
     "execution_count": 58,
     "metadata": {},
     "output_type": "execute_result"
    }
   ],
   "source": [
    "df.columns"
   ]
  },
  {
   "cell_type": "code",
   "execution_count": 59,
   "metadata": {},
   "outputs": [
    {
     "data": {
      "text/plain": [
       "0          google.accounts:apps_total_licenses\n",
       "1           google.accounts:apps_used_licenses\n",
       "2              google.accounts:authorized_apps\n",
       "3    google.accounts:coordinate_total_licenses\n",
       "4       google.accounts:drive_used_quota_in_mb\n",
       "Name: metric_name, dtype: object"
      ]
     },
     "execution_count": 59,
     "metadata": {},
     "output_type": "execute_result"
    }
   ],
   "source": [
    "df['metric_name'].head()"
   ]
  },
  {
   "cell_type": "markdown",
   "metadata": {},
   "source": [
    "Gives the two columns metric_name and metric_value."
   ]
  },
  {
   "cell_type": "code",
   "execution_count": 60,
   "metadata": {},
   "outputs": [
    {
     "data": {
      "text/html": [
       "<div>\n",
       "<style scoped>\n",
       "    .dataframe tbody tr th:only-of-type {\n",
       "        vertical-align: middle;\n",
       "    }\n",
       "\n",
       "    .dataframe tbody tr th {\n",
       "        vertical-align: top;\n",
       "    }\n",
       "\n",
       "    .dataframe thead th {\n",
       "        text-align: right;\n",
       "    }\n",
       "</style>\n",
       "<table border=\"1\" class=\"dataframe\">\n",
       "  <thead>\n",
       "    <tr style=\"text-align: right;\">\n",
       "      <th></th>\n",
       "      <th>metric_name</th>\n",
       "      <th>metric_value</th>\n",
       "    </tr>\n",
       "  </thead>\n",
       "  <tbody>\n",
       "    <tr>\n",
       "      <th>0</th>\n",
       "      <td>google.accounts:apps_total_licenses</td>\n",
       "      <td>0</td>\n",
       "    </tr>\n",
       "    <tr>\n",
       "      <th>1</th>\n",
       "      <td>google.accounts:apps_used_licenses</td>\n",
       "      <td>0</td>\n",
       "    </tr>\n",
       "    <tr>\n",
       "      <th>2</th>\n",
       "      <td>google.accounts:authorized_apps</td>\n",
       "      <td>0</td>\n",
       "    </tr>\n",
       "    <tr>\n",
       "      <th>3</th>\n",
       "      <td>google.accounts:coordinate_total_licenses</td>\n",
       "      <td>0</td>\n",
       "    </tr>\n",
       "    <tr>\n",
       "      <th>4</th>\n",
       "      <td>google.accounts:drive_used_quota_in_mb</td>\n",
       "      <td>9537833</td>\n",
       "    </tr>\n",
       "  </tbody>\n",
       "</table>\n",
       "</div>"
      ],
      "text/plain": [
       "                                 metric_name  metric_value\n",
       "0        google.accounts:apps_total_licenses             0\n",
       "1         google.accounts:apps_used_licenses             0\n",
       "2            google.accounts:authorized_apps             0\n",
       "3  google.accounts:coordinate_total_licenses             0\n",
       "4     google.accounts:drive_used_quota_in_mb       9537833"
      ]
     },
     "execution_count": 60,
     "metadata": {},
     "output_type": "execute_result"
    }
   ],
   "source": [
    "df[['metric_name','metric_value']].head()"
   ]
  },
  {
   "cell_type": "markdown",
   "metadata": {},
   "source": [
    "Sorting the values of a column metric_values"
   ]
  },
  {
   "cell_type": "code",
   "execution_count": 61,
   "metadata": {},
   "outputs": [
    {
     "data": {
      "text/html": [
       "<div>\n",
       "<style scoped>\n",
       "    .dataframe tbody tr th:only-of-type {\n",
       "        vertical-align: middle;\n",
       "    }\n",
       "\n",
       "    .dataframe tbody tr th {\n",
       "        vertical-align: top;\n",
       "    }\n",
       "\n",
       "    .dataframe thead th {\n",
       "        text-align: right;\n",
       "    }\n",
       "</style>\n",
       "<table border=\"1\" class=\"dataframe\">\n",
       "  <thead>\n",
       "    <tr style=\"text-align: right;\">\n",
       "      <th></th>\n",
       "      <th>time</th>\n",
       "      <th>metric_name</th>\n",
       "      <th>metric_value</th>\n",
       "    </tr>\n",
       "  </thead>\n",
       "  <tbody>\n",
       "    <tr>\n",
       "      <th>214008</th>\n",
       "      <td>2017-05-18T00:00:00.000-0400</td>\n",
       "      <td>google.drive:num_owned_items_with_visibility_p...</td>\n",
       "      <td>-376732</td>\n",
       "    </tr>\n",
       "    <tr>\n",
       "      <th>214021</th>\n",
       "      <td>2017-05-18T00:00:00.000-0400</td>\n",
       "      <td>google.drive:num_owned_other_types_delta</td>\n",
       "      <td>-375495</td>\n",
       "    </tr>\n",
       "    <tr>\n",
       "      <th>213993</th>\n",
       "      <td>2017-05-18T00:00:00.000-0400</td>\n",
       "      <td>google.drive:num_owned_items_delta</td>\n",
       "      <td>-374954</td>\n",
       "    </tr>\n",
       "    <tr>\n",
       "      <th>213561</th>\n",
       "      <td>2017-05-17T00:00:00.000-0400</td>\n",
       "      <td>google.drive:num_owned_items_with_visibility_p...</td>\n",
       "      <td>-195240</td>\n",
       "    </tr>\n",
       "    <tr>\n",
       "      <th>562716</th>\n",
       "      <td>2019-05-08T00:00:00.000-0400</td>\n",
       "      <td>google.drive:num_owned_items_with_visibility_p...</td>\n",
       "      <td>-185944</td>\n",
       "    </tr>\n",
       "  </tbody>\n",
       "</table>\n",
       "</div>"
      ],
      "text/plain": [
       "                                time  \\\n",
       "214008  2017-05-18T00:00:00.000-0400   \n",
       "214021  2017-05-18T00:00:00.000-0400   \n",
       "213993  2017-05-18T00:00:00.000-0400   \n",
       "213561  2017-05-17T00:00:00.000-0400   \n",
       "562716  2019-05-08T00:00:00.000-0400   \n",
       "\n",
       "                                              metric_name  metric_value  \n",
       "214008  google.drive:num_owned_items_with_visibility_p...       -376732  \n",
       "214021           google.drive:num_owned_other_types_delta       -375495  \n",
       "213993                 google.drive:num_owned_items_delta       -374954  \n",
       "213561  google.drive:num_owned_items_with_visibility_p...       -195240  \n",
       "562716  google.drive:num_owned_items_with_visibility_p...       -185944  "
      ]
     },
     "execution_count": 61,
     "metadata": {},
     "output_type": "execute_result"
    }
   ],
   "source": [
    "df.sort_values(['metric_value']).head()"
   ]
  },
  {
   "cell_type": "markdown",
   "metadata": {},
   "source": [
    "Retreiving data set with negative values for number of users. We can drop the negative data values for the users"
   ]
  },
  {
   "cell_type": "code",
   "execution_count": 62,
   "metadata": {},
   "outputs": [
    {
     "data": {
      "text/html": [
       "<div>\n",
       "<style scoped>\n",
       "    .dataframe tbody tr th:only-of-type {\n",
       "        vertical-align: middle;\n",
       "    }\n",
       "\n",
       "    .dataframe tbody tr th {\n",
       "        vertical-align: top;\n",
       "    }\n",
       "\n",
       "    .dataframe thead th {\n",
       "        text-align: right;\n",
       "    }\n",
       "</style>\n",
       "<table border=\"1\" class=\"dataframe\">\n",
       "  <thead>\n",
       "    <tr style=\"text-align: right;\">\n",
       "      <th></th>\n",
       "      <th>time</th>\n",
       "      <th>metric_name</th>\n",
       "      <th>metric_value</th>\n",
       "    </tr>\n",
       "  </thead>\n",
       "  <tbody>\n",
       "    <tr>\n",
       "      <th>25</th>\n",
       "      <td>2015-03-23T00:00:00.000-0400</td>\n",
       "      <td>google.accounts:total_quota_in_mb</td>\n",
       "      <td>-63989</td>\n",
       "    </tr>\n",
       "    <tr>\n",
       "      <th>274</th>\n",
       "      <td>2015-03-24T00:00:00.000-0400</td>\n",
       "      <td>google.accounts:total_quota_in_mb</td>\n",
       "      <td>-64049</td>\n",
       "    </tr>\n",
       "    <tr>\n",
       "      <th>523</th>\n",
       "      <td>2015-03-25T00:00:00.000-0400</td>\n",
       "      <td>google.accounts:total_quota_in_mb</td>\n",
       "      <td>-64115</td>\n",
       "    </tr>\n",
       "    <tr>\n",
       "      <th>772</th>\n",
       "      <td>2015-03-26T00:00:00.000-0400</td>\n",
       "      <td>google.accounts:total_quota_in_mb</td>\n",
       "      <td>-64154</td>\n",
       "    </tr>\n",
       "    <tr>\n",
       "      <th>1021</th>\n",
       "      <td>2015-03-27T00:00:00.000-0400</td>\n",
       "      <td>google.accounts:total_quota_in_mb</td>\n",
       "      <td>-64174</td>\n",
       "    </tr>\n",
       "  </tbody>\n",
       "</table>\n",
       "</div>"
      ],
      "text/plain": [
       "                              time                        metric_name  \\\n",
       "25    2015-03-23T00:00:00.000-0400  google.accounts:total_quota_in_mb   \n",
       "274   2015-03-24T00:00:00.000-0400  google.accounts:total_quota_in_mb   \n",
       "523   2015-03-25T00:00:00.000-0400  google.accounts:total_quota_in_mb   \n",
       "772   2015-03-26T00:00:00.000-0400  google.accounts:total_quota_in_mb   \n",
       "1021  2015-03-27T00:00:00.000-0400  google.accounts:total_quota_in_mb   \n",
       "\n",
       "      metric_value  \n",
       "25          -63989  \n",
       "274         -64049  \n",
       "523         -64115  \n",
       "772         -64154  \n",
       "1021        -64174  "
      ]
     },
     "execution_count": 62,
     "metadata": {},
     "output_type": "execute_result"
    }
   ],
   "source": [
    "df.loc[(df.metric_value < 0)].head()"
   ]
  },
  {
   "cell_type": "markdown",
   "metadata": {},
   "source": [
    "Dropping the rows with negative for metric_vlaues"
   ]
  },
  {
   "cell_type": "code",
   "execution_count": 63,
   "metadata": {},
   "outputs": [],
   "source": [
    "df = df[df['metric_value'] >= 0]"
   ]
  },
  {
   "cell_type": "markdown",
   "metadata": {},
   "source": [
    "No of values for a particular data, it is like how many times a particular metric_name is repeated. It is sorted by value."
   ]
  },
  {
   "cell_type": "code",
   "execution_count": 64,
   "metadata": {},
   "outputs": [
    {
     "data": {
      "text/plain": [
       "google.docs:num_1day_active_users             1585\n",
       "google.docs:num_7day_active_users             1584\n",
       "google.gmail:num_inbound_encrypted_emails     1584\n",
       "google.gmail:num_inbound_delivered_emails     1584\n",
       "google.gmail:num_outbound_encrypted_emails    1584\n",
       "Name: metric_name, dtype: int64"
      ]
     },
     "execution_count": 64,
     "metadata": {},
     "output_type": "execute_result"
    }
   ],
   "source": [
    "metric_names_counts= df['metric_name'].value_counts()\n",
    "metric_names_counts.head()"
   ]
  },
  {
   "cell_type": "markdown",
   "metadata": {},
   "source": [
    "sorting the metric_names based on index"
   ]
  },
  {
   "cell_type": "code",
   "execution_count": 65,
   "metadata": {},
   "outputs": [
    {
     "data": {
      "text/plain": [
       "google._empty_                                593\n",
       "google.accounts:apps_total_licenses          1161\n",
       "google.accounts:apps_used_licenses           1161\n",
       "google.accounts:authorized_apps              1542\n",
       "google.accounts:coordinate_total_licenses    1161\n",
       "Name: metric_name, dtype: int64"
      ]
     },
     "execution_count": 65,
     "metadata": {},
     "output_type": "execute_result"
    }
   ],
   "source": [
    "metric_names_counts= df['metric_name'].value_counts().sort_index()\n",
    "metric_names_counts.head()"
   ]
  },
  {
   "cell_type": "markdown",
   "metadata": {},
   "source": [
    "Finding the metric values with a zero users."
   ]
  },
  {
   "cell_type": "code",
   "execution_count": 66,
   "metadata": {},
   "outputs": [
    {
     "data": {
      "text/html": [
       "<div>\n",
       "<style scoped>\n",
       "    .dataframe tbody tr th:only-of-type {\n",
       "        vertical-align: middle;\n",
       "    }\n",
       "\n",
       "    .dataframe tbody tr th {\n",
       "        vertical-align: top;\n",
       "    }\n",
       "\n",
       "    .dataframe thead th {\n",
       "        text-align: right;\n",
       "    }\n",
       "</style>\n",
       "<table border=\"1\" class=\"dataframe\">\n",
       "  <thead>\n",
       "    <tr style=\"text-align: right;\">\n",
       "      <th></th>\n",
       "      <th>time</th>\n",
       "      <th>metric_name</th>\n",
       "      <th>metric_value</th>\n",
       "    </tr>\n",
       "  </thead>\n",
       "  <tbody>\n",
       "    <tr>\n",
       "      <th>0</th>\n",
       "      <td>2015-03-23T00:00:00.000-0400</td>\n",
       "      <td>google.accounts:apps_total_licenses</td>\n",
       "      <td>0</td>\n",
       "    </tr>\n",
       "    <tr>\n",
       "      <th>1</th>\n",
       "      <td>2015-03-23T00:00:00.000-0400</td>\n",
       "      <td>google.accounts:apps_used_licenses</td>\n",
       "      <td>0</td>\n",
       "    </tr>\n",
       "    <tr>\n",
       "      <th>2</th>\n",
       "      <td>2015-03-23T00:00:00.000-0400</td>\n",
       "      <td>google.accounts:authorized_apps</td>\n",
       "      <td>0</td>\n",
       "    </tr>\n",
       "    <tr>\n",
       "      <th>3</th>\n",
       "      <td>2015-03-23T00:00:00.000-0400</td>\n",
       "      <td>google.accounts:coordinate_total_licenses</td>\n",
       "      <td>0</td>\n",
       "    </tr>\n",
       "    <tr>\n",
       "      <th>17</th>\n",
       "      <td>2015-03-23T00:00:00.000-0400</td>\n",
       "      <td>google.accounts:num_users_2sv_enforced</td>\n",
       "      <td>0</td>\n",
       "    </tr>\n",
       "  </tbody>\n",
       "</table>\n",
       "</div>"
      ],
      "text/plain": [
       "                            time                                metric_name  \\\n",
       "0   2015-03-23T00:00:00.000-0400        google.accounts:apps_total_licenses   \n",
       "1   2015-03-23T00:00:00.000-0400         google.accounts:apps_used_licenses   \n",
       "2   2015-03-23T00:00:00.000-0400            google.accounts:authorized_apps   \n",
       "3   2015-03-23T00:00:00.000-0400  google.accounts:coordinate_total_licenses   \n",
       "17  2015-03-23T00:00:00.000-0400     google.accounts:num_users_2sv_enforced   \n",
       "\n",
       "    metric_value  \n",
       "0              0  \n",
       "1              0  \n",
       "2              0  \n",
       "3              0  \n",
       "17             0  "
      ]
     },
     "execution_count": 66,
     "metadata": {},
     "output_type": "execute_result"
    }
   ],
   "source": [
    "zero_users = df[df.metric_value==0]\n",
    "zero_users.head()"
   ]
  },
  {
   "cell_type": "markdown",
   "metadata": {},
   "source": [
    "Metric with maximum number of user"
   ]
  },
  {
   "cell_type": "code",
   "execution_count": 67,
   "metadata": {},
   "outputs": [
    {
     "data": {
      "text/plain": [
       "274032962"
      ]
     },
     "execution_count": 67,
     "metadata": {},
     "output_type": "execute_result"
    }
   ],
   "source": [
    "df.metric_value.max()"
   ]
  },
  {
   "cell_type": "markdown",
   "metadata": {},
   "source": [
    "Finding all the rows in a dataset with a particular metric_name"
   ]
  },
  {
   "cell_type": "code",
   "execution_count": 68,
   "metadata": {},
   "outputs": [
    {
     "data": {
      "text/html": [
       "<div>\n",
       "<style scoped>\n",
       "    .dataframe tbody tr th:only-of-type {\n",
       "        vertical-align: middle;\n",
       "    }\n",
       "\n",
       "    .dataframe tbody tr th {\n",
       "        vertical-align: top;\n",
       "    }\n",
       "\n",
       "    .dataframe thead th {\n",
       "        text-align: right;\n",
       "    }\n",
       "</style>\n",
       "<table border=\"1\" class=\"dataframe\">\n",
       "  <thead>\n",
       "    <tr style=\"text-align: right;\">\n",
       "      <th></th>\n",
       "      <th>time</th>\n",
       "      <th>metric_name</th>\n",
       "      <th>metric_value</th>\n",
       "    </tr>\n",
       "  </thead>\n",
       "  <tbody>\n",
       "    <tr>\n",
       "      <th>2</th>\n",
       "      <td>2015-03-23T00:00:00.000-0400</td>\n",
       "      <td>google.accounts:authorized_apps</td>\n",
       "      <td>0</td>\n",
       "    </tr>\n",
       "    <tr>\n",
       "      <th>251</th>\n",
       "      <td>2015-03-24T00:00:00.000-0400</td>\n",
       "      <td>google.accounts:authorized_apps</td>\n",
       "      <td>0</td>\n",
       "    </tr>\n",
       "    <tr>\n",
       "      <th>500</th>\n",
       "      <td>2015-03-25T00:00:00.000-0400</td>\n",
       "      <td>google.accounts:authorized_apps</td>\n",
       "      <td>0</td>\n",
       "    </tr>\n",
       "    <tr>\n",
       "      <th>749</th>\n",
       "      <td>2015-03-26T00:00:00.000-0400</td>\n",
       "      <td>google.accounts:authorized_apps</td>\n",
       "      <td>0</td>\n",
       "    </tr>\n",
       "    <tr>\n",
       "      <th>998</th>\n",
       "      <td>2015-03-27T00:00:00.000-0400</td>\n",
       "      <td>google.accounts:authorized_apps</td>\n",
       "      <td>0</td>\n",
       "    </tr>\n",
       "  </tbody>\n",
       "</table>\n",
       "</div>"
      ],
      "text/plain": [
       "                             time                      metric_name  \\\n",
       "2    2015-03-23T00:00:00.000-0400  google.accounts:authorized_apps   \n",
       "251  2015-03-24T00:00:00.000-0400  google.accounts:authorized_apps   \n",
       "500  2015-03-25T00:00:00.000-0400  google.accounts:authorized_apps   \n",
       "749  2015-03-26T00:00:00.000-0400  google.accounts:authorized_apps   \n",
       "998  2015-03-27T00:00:00.000-0400  google.accounts:authorized_apps   \n",
       "\n",
       "     metric_value  \n",
       "2               0  \n",
       "251             0  \n",
       "500             0  \n",
       "749             0  \n",
       "998             0  "
      ]
     },
     "execution_count": 68,
     "metadata": {},
     "output_type": "execute_result"
    }
   ],
   "source": [
    "df.loc[df['metric_name'] =='google.accounts:authorized_apps'].head()\n"
   ]
  },
  {
   "cell_type": "markdown",
   "metadata": {},
   "source": [
    "Grouping the rows by a metric_name"
   ]
  },
  {
   "cell_type": "code",
   "execution_count": null,
   "metadata": {},
   "outputs": [],
   "source": [
    "for g in df.groupby(['metric_name']):\n",
    "    print(g)"
   ]
  },
  {
   "cell_type": "markdown",
   "metadata": {},
   "source": [
    "To find all the metric at has atleast one user"
   ]
  },
  {
   "cell_type": "code",
   "execution_count": 70,
   "metadata": {},
   "outputs": [
    {
     "data": {
      "text/html": [
       "<div>\n",
       "<style scoped>\n",
       "    .dataframe tbody tr th:only-of-type {\n",
       "        vertical-align: middle;\n",
       "    }\n",
       "\n",
       "    .dataframe tbody tr th {\n",
       "        vertical-align: top;\n",
       "    }\n",
       "\n",
       "    .dataframe thead th {\n",
       "        text-align: right;\n",
       "    }\n",
       "</style>\n",
       "<table border=\"1\" class=\"dataframe\">\n",
       "  <thead>\n",
       "    <tr style=\"text-align: right;\">\n",
       "      <th></th>\n",
       "      <th>time</th>\n",
       "      <th>metric_name</th>\n",
       "      <th>metric_value</th>\n",
       "    </tr>\n",
       "  </thead>\n",
       "  <tbody>\n",
       "    <tr>\n",
       "      <th>4</th>\n",
       "      <td>2015-03-23T00:00:00.000-0400</td>\n",
       "      <td>google.accounts:drive_used_quota_in_mb</td>\n",
       "      <td>9537833</td>\n",
       "    </tr>\n",
       "    <tr>\n",
       "      <th>5</th>\n",
       "      <td>2015-03-23T00:00:00.000-0400</td>\n",
       "      <td>google.accounts:gmail_used_quota_in_mb</td>\n",
       "      <td>29158045</td>\n",
       "    </tr>\n",
       "    <tr>\n",
       "      <th>6</th>\n",
       "      <td>2015-03-23T00:00:00.000-0400</td>\n",
       "      <td>google.accounts:gplus_photos_used_quota_in_mb</td>\n",
       "      <td>659544</td>\n",
       "    </tr>\n",
       "    <tr>\n",
       "      <th>7</th>\n",
       "      <td>2015-03-23T00:00:00.000-0400</td>\n",
       "      <td>google.accounts:num_1day_logins</td>\n",
       "      <td>16814</td>\n",
       "    </tr>\n",
       "    <tr>\n",
       "      <th>8</th>\n",
       "      <td>2015-03-23T00:00:00.000-0400</td>\n",
       "      <td>google.accounts:num_30day_logins</td>\n",
       "      <td>24022</td>\n",
       "    </tr>\n",
       "  </tbody>\n",
       "</table>\n",
       "</div>"
      ],
      "text/plain": [
       "                           time  \\\n",
       "4  2015-03-23T00:00:00.000-0400   \n",
       "5  2015-03-23T00:00:00.000-0400   \n",
       "6  2015-03-23T00:00:00.000-0400   \n",
       "7  2015-03-23T00:00:00.000-0400   \n",
       "8  2015-03-23T00:00:00.000-0400   \n",
       "\n",
       "                                     metric_name  metric_value  \n",
       "4         google.accounts:drive_used_quota_in_mb       9537833  \n",
       "5         google.accounts:gmail_used_quota_in_mb      29158045  \n",
       "6  google.accounts:gplus_photos_used_quota_in_mb        659544  \n",
       "7                google.accounts:num_1day_logins         16814  \n",
       "8               google.accounts:num_30day_logins         24022  "
      ]
     },
     "execution_count": 70,
     "metadata": {},
     "output_type": "execute_result"
    }
   ],
   "source": [
    "\n",
    "df[(df['metric_value']>0)].head()"
   ]
  },
  {
   "cell_type": "markdown",
   "metadata": {},
   "source": [
    "Finding all the metrics which has greater than a 1000 users"
   ]
  },
  {
   "cell_type": "code",
   "execution_count": 71,
   "metadata": {},
   "outputs": [
    {
     "data": {
      "text/html": [
       "<div>\n",
       "<style scoped>\n",
       "    .dataframe tbody tr th:only-of-type {\n",
       "        vertical-align: middle;\n",
       "    }\n",
       "\n",
       "    .dataframe tbody tr th {\n",
       "        vertical-align: top;\n",
       "    }\n",
       "\n",
       "    .dataframe thead th {\n",
       "        text-align: right;\n",
       "    }\n",
       "</style>\n",
       "<table border=\"1\" class=\"dataframe\">\n",
       "  <thead>\n",
       "    <tr style=\"text-align: right;\">\n",
       "      <th></th>\n",
       "      <th>time</th>\n",
       "      <th>metric_name</th>\n",
       "      <th>metric_value</th>\n",
       "    </tr>\n",
       "  </thead>\n",
       "  <tbody>\n",
       "    <tr>\n",
       "      <th>4</th>\n",
       "      <td>2015-03-23T00:00:00.000-0400</td>\n",
       "      <td>google.accounts:drive_used_quota_in_mb</td>\n",
       "      <td>9537833</td>\n",
       "    </tr>\n",
       "    <tr>\n",
       "      <th>5</th>\n",
       "      <td>2015-03-23T00:00:00.000-0400</td>\n",
       "      <td>google.accounts:gmail_used_quota_in_mb</td>\n",
       "      <td>29158045</td>\n",
       "    </tr>\n",
       "    <tr>\n",
       "      <th>6</th>\n",
       "      <td>2015-03-23T00:00:00.000-0400</td>\n",
       "      <td>google.accounts:gplus_photos_used_quota_in_mb</td>\n",
       "      <td>659544</td>\n",
       "    </tr>\n",
       "    <tr>\n",
       "      <th>7</th>\n",
       "      <td>2015-03-23T00:00:00.000-0400</td>\n",
       "      <td>google.accounts:num_1day_logins</td>\n",
       "      <td>16814</td>\n",
       "    </tr>\n",
       "    <tr>\n",
       "      <th>8</th>\n",
       "      <td>2015-03-23T00:00:00.000-0400</td>\n",
       "      <td>google.accounts:num_30day_logins</td>\n",
       "      <td>24022</td>\n",
       "    </tr>\n",
       "  </tbody>\n",
       "</table>\n",
       "</div>"
      ],
      "text/plain": [
       "                           time  \\\n",
       "4  2015-03-23T00:00:00.000-0400   \n",
       "5  2015-03-23T00:00:00.000-0400   \n",
       "6  2015-03-23T00:00:00.000-0400   \n",
       "7  2015-03-23T00:00:00.000-0400   \n",
       "8  2015-03-23T00:00:00.000-0400   \n",
       "\n",
       "                                     metric_name  metric_value  \n",
       "4         google.accounts:drive_used_quota_in_mb       9537833  \n",
       "5         google.accounts:gmail_used_quota_in_mb      29158045  \n",
       "6  google.accounts:gplus_photos_used_quota_in_mb        659544  \n",
       "7                google.accounts:num_1day_logins         16814  \n",
       "8               google.accounts:num_30day_logins         24022  "
      ]
     },
     "execution_count": 71,
     "metadata": {},
     "output_type": "execute_result"
    }
   ],
   "source": [
    "df[(df['metric_value']>1000)].head()"
   ]
  },
  {
   "cell_type": "markdown",
   "metadata": {},
   "source": [
    "Analysis using Date/Time data type\n",
    "dtypes gives the data types in the data set"
   ]
  },
  {
   "cell_type": "code",
   "execution_count": 72,
   "metadata": {},
   "outputs": [
    {
     "data": {
      "text/plain": [
       "time            object\n",
       "metric_name     object\n",
       "metric_value     int64\n",
       "dtype: object"
      ]
     },
     "execution_count": 72,
     "metadata": {},
     "output_type": "execute_result"
    }
   ],
   "source": [
    "df.dtypes"
   ]
  },
  {
   "cell_type": "markdown",
   "metadata": {},
   "source": [
    "Changing time object to pandas datatime data type"
   ]
  },
  {
   "cell_type": "code",
   "execution_count": 73,
   "metadata": {},
   "outputs": [],
   "source": [
    "df['time']= pd.to_datetime(df.time)"
   ]
  },
  {
   "cell_type": "code",
   "execution_count": 74,
   "metadata": {},
   "outputs": [
    {
     "data": {
      "text/plain": [
       "time            datetime64[ns]\n",
       "metric_name             object\n",
       "metric_value             int64\n",
       "dtype: object"
      ]
     },
     "execution_count": 74,
     "metadata": {},
     "output_type": "execute_result"
    }
   ],
   "source": [
    "df.dtypes"
   ]
  },
  {
   "cell_type": "code",
   "execution_count": 75,
   "metadata": {},
   "outputs": [
    {
     "data": {
      "text/html": [
       "<div>\n",
       "<style scoped>\n",
       "    .dataframe tbody tr th:only-of-type {\n",
       "        vertical-align: middle;\n",
       "    }\n",
       "\n",
       "    .dataframe tbody tr th {\n",
       "        vertical-align: top;\n",
       "    }\n",
       "\n",
       "    .dataframe thead th {\n",
       "        text-align: right;\n",
       "    }\n",
       "</style>\n",
       "<table border=\"1\" class=\"dataframe\">\n",
       "  <thead>\n",
       "    <tr style=\"text-align: right;\">\n",
       "      <th></th>\n",
       "      <th>time</th>\n",
       "      <th>metric_name</th>\n",
       "      <th>metric_value</th>\n",
       "    </tr>\n",
       "  </thead>\n",
       "  <tbody>\n",
       "    <tr>\n",
       "      <th>0</th>\n",
       "      <td>2015-03-23 04:00:00</td>\n",
       "      <td>google.accounts:apps_total_licenses</td>\n",
       "      <td>0</td>\n",
       "    </tr>\n",
       "    <tr>\n",
       "      <th>1</th>\n",
       "      <td>2015-03-23 04:00:00</td>\n",
       "      <td>google.accounts:apps_used_licenses</td>\n",
       "      <td>0</td>\n",
       "    </tr>\n",
       "    <tr>\n",
       "      <th>2</th>\n",
       "      <td>2015-03-23 04:00:00</td>\n",
       "      <td>google.accounts:authorized_apps</td>\n",
       "      <td>0</td>\n",
       "    </tr>\n",
       "    <tr>\n",
       "      <th>3</th>\n",
       "      <td>2015-03-23 04:00:00</td>\n",
       "      <td>google.accounts:coordinate_total_licenses</td>\n",
       "      <td>0</td>\n",
       "    </tr>\n",
       "    <tr>\n",
       "      <th>4</th>\n",
       "      <td>2015-03-23 04:00:00</td>\n",
       "      <td>google.accounts:drive_used_quota_in_mb</td>\n",
       "      <td>9537833</td>\n",
       "    </tr>\n",
       "  </tbody>\n",
       "</table>\n",
       "</div>"
      ],
      "text/plain": [
       "                 time                                metric_name  metric_value\n",
       "0 2015-03-23 04:00:00        google.accounts:apps_total_licenses             0\n",
       "1 2015-03-23 04:00:00         google.accounts:apps_used_licenses             0\n",
       "2 2015-03-23 04:00:00            google.accounts:authorized_apps             0\n",
       "3 2015-03-23 04:00:00  google.accounts:coordinate_total_licenses             0\n",
       "4 2015-03-23 04:00:00     google.accounts:drive_used_quota_in_mb       9537833"
      ]
     },
     "execution_count": 75,
     "metadata": {},
     "output_type": "execute_result"
    }
   ],
   "source": [
    "df.head()"
   ]
  },
  {
   "cell_type": "code",
   "execution_count": 76,
   "metadata": {},
   "outputs": [
    {
     "data": {
      "text/html": [
       "<div>\n",
       "<style scoped>\n",
       "    .dataframe tbody tr th:only-of-type {\n",
       "        vertical-align: middle;\n",
       "    }\n",
       "\n",
       "    .dataframe tbody tr th {\n",
       "        vertical-align: top;\n",
       "    }\n",
       "\n",
       "    .dataframe thead th {\n",
       "        text-align: right;\n",
       "    }\n",
       "</style>\n",
       "<table border=\"1\" class=\"dataframe\">\n",
       "  <thead>\n",
       "    <tr style=\"text-align: right;\">\n",
       "      <th></th>\n",
       "      <th>time</th>\n",
       "      <th>metric_name</th>\n",
       "      <th>metric_value</th>\n",
       "    </tr>\n",
       "  </thead>\n",
       "  <tbody>\n",
       "    <tr>\n",
       "      <th>597046</th>\n",
       "      <td>2019-07-19 04:00:00</td>\n",
       "      <td>google.accounts:authorized_apps</td>\n",
       "      <td>0</td>\n",
       "    </tr>\n",
       "    <tr>\n",
       "      <th>597047</th>\n",
       "      <td>2019-07-19 04:00:00</td>\n",
       "      <td>google.accounts:drive_used_quota_in_mb</td>\n",
       "      <td>175724121</td>\n",
       "    </tr>\n",
       "    <tr>\n",
       "      <th>597048</th>\n",
       "      <td>2019-07-19 04:00:00</td>\n",
       "      <td>google.accounts:gmail_used_quota_in_mb</td>\n",
       "      <td>89342759</td>\n",
       "    </tr>\n",
       "    <tr>\n",
       "      <th>597049</th>\n",
       "      <td>2019-07-19 04:00:00</td>\n",
       "      <td>google.accounts:gplus_photos_used_quota_in_mb</td>\n",
       "      <td>2818742</td>\n",
       "    </tr>\n",
       "    <tr>\n",
       "      <th>597050</th>\n",
       "      <td>2019-07-19 04:00:00</td>\n",
       "      <td>google.accounts:num_1day_logins</td>\n",
       "      <td>3017</td>\n",
       "    </tr>\n",
       "  </tbody>\n",
       "</table>\n",
       "</div>"
      ],
      "text/plain": [
       "                      time                                    metric_name  \\\n",
       "597046 2019-07-19 04:00:00                google.accounts:authorized_apps   \n",
       "597047 2019-07-19 04:00:00         google.accounts:drive_used_quota_in_mb   \n",
       "597048 2019-07-19 04:00:00         google.accounts:gmail_used_quota_in_mb   \n",
       "597049 2019-07-19 04:00:00  google.accounts:gplus_photos_used_quota_in_mb   \n",
       "597050 2019-07-19 04:00:00                google.accounts:num_1day_logins   \n",
       "\n",
       "        metric_value  \n",
       "597046             0  \n",
       "597047     175724121  \n",
       "597048      89342759  \n",
       "597049       2818742  \n",
       "597050          3017  "
      ]
     },
     "execution_count": 76,
     "metadata": {},
     "output_type": "execute_result"
    }
   ],
   "source": [
    "# Different ways we can use the datatime functionalities in pandas\n",
    "df.time.dt.weekday_name #prints the days of the week for time column\n",
    "df.time.dt.dayofyear  # prints which of the year is it for the entire time column\n",
    "\n",
    "# Retrieving columns after a particular date\n",
    "\n",
    "timestamp= pd.to_datetime('07/19/2019')\n",
    "df.loc[df.time>= timestamp,:].head()\n",
    "\n",
    "\n"
   ]
  },
  {
   "cell_type": "markdown",
   "metadata": {},
   "source": [
    "Finding over how many days the data is collected "
   ]
  },
  {
   "cell_type": "code",
   "execution_count": 77,
   "metadata": {},
   "outputs": [
    {
     "data": {
      "text/plain": [
       "Timedelta('1608 days 00:00:00')"
      ]
     },
     "execution_count": 77,
     "metadata": {},
     "output_type": "execute_result"
    }
   ],
   "source": [
    "df.time.max()-df.time.min()"
   ]
  },
  {
   "cell_type": "markdown",
   "metadata": {},
   "source": [
    "Taking a column by month on which data is collected"
   ]
  },
  {
   "cell_type": "code",
   "execution_count": 78,
   "metadata": {},
   "outputs": [],
   "source": [
    "df['month']= df.time.dt.month"
   ]
  },
  {
   "cell_type": "markdown",
   "metadata": {},
   "source": [
    "Plotting the data against month."
   ]
  },
  {
   "cell_type": "code",
   "execution_count": 79,
   "metadata": {},
   "outputs": [
    {
     "data": {
      "text/plain": [
       "<matplotlib.axes._subplots.AxesSubplot at 0x231002f93c8>"
      ]
     },
     "execution_count": 79,
     "metadata": {},
     "output_type": "execute_result"
    },
    {
     "data": {
      "image/png": "[encoded data removed]",
      "text/plain": [
       "<Figure size 432x288 with 1 Axes>"
      ]
     },
     "metadata": {
      "needs_background": "light"
     },
     "output_type": "display_data"
    }
   ],
   "source": [
    "df.month.value_counts().sort_index().plot()"
   ]
  },
  {
   "cell_type": "markdown",
   "metadata": {},
   "source": [
    "Similarly, finding the data column by year and plotting the data against month"
   ]
  },
  {
   "cell_type": "code",
   "execution_count": 80,
   "metadata": {},
   "outputs": [
    {
     "data": {
      "text/plain": [
       "<matplotlib.axes._subplots.AxesSubplot at 0x23169f4bcc0>"
      ]
     },
     "execution_count": 80,
     "metadata": {},
     "output_type": "execute_result"
    },
    {
     "data": {
      "image/png": "[encoded data removed]",
      "text/plain": [
       "<Figure size 432x288 with 1 Axes>"
      ]
     },
     "metadata": {
      "needs_background": "light"
     },
     "output_type": "display_data"
    }
   ],
   "source": [
    "df['year']= df.time.dt.year\n",
    "df.year.value_counts().sort_index().plot()"
   ]
  },
  {
   "cell_type": "code",
   "execution_count": 81,
   "metadata": {},
   "outputs": [
    {
     "data": {
      "text/plain": [
       "time            datetime64[ns]\n",
       "metric_name             object\n",
       "metric_value             int64\n",
       "month                    int64\n",
       "year                     int64\n",
       "dtype: object"
      ]
     },
     "execution_count": 81,
     "metadata": {},
     "output_type": "execute_result"
    }
   ],
   "source": [
    "df.dtypes"
   ]
  },
  {
   "cell_type": "markdown",
   "metadata": {},
   "source": [
    "Changing the mm/dd/yy 00:00:00 to only mm/dd/yy format"
   ]
  },
  {
   "cell_type": "code",
   "execution_count": 82,
   "metadata": {},
   "outputs": [],
   "source": [
    "df['time']= df.time.dt.date"
   ]
  },
  {
   "cell_type": "code",
   "execution_count": 83,
   "metadata": {},
   "outputs": [
    {
     "data": {
      "text/html": [
       "<div>\n",
       "<style scoped>\n",
       "    .dataframe tbody tr th:only-of-type {\n",
       "        vertical-align: middle;\n",
       "    }\n",
       "\n",
       "    .dataframe tbody tr th {\n",
       "        vertical-align: top;\n",
       "    }\n",
       "\n",
       "    .dataframe thead th {\n",
       "        text-align: right;\n",
       "    }\n",
       "</style>\n",
       "<table border=\"1\" class=\"dataframe\">\n",
       "  <thead>\n",
       "    <tr style=\"text-align: right;\">\n",
       "      <th></th>\n",
       "      <th>time</th>\n",
       "      <th>metric_name</th>\n",
       "      <th>metric_value</th>\n",
       "      <th>month</th>\n",
       "      <th>year</th>\n",
       "    </tr>\n",
       "  </thead>\n",
       "  <tbody>\n",
       "    <tr>\n",
       "      <th>0</th>\n",
       "      <td>2015-03-23</td>\n",
       "      <td>google.accounts:apps_total_licenses</td>\n",
       "      <td>0</td>\n",
       "      <td>3</td>\n",
       "      <td>2015</td>\n",
       "    </tr>\n",
       "    <tr>\n",
       "      <th>1</th>\n",
       "      <td>2015-03-23</td>\n",
       "      <td>google.accounts:apps_used_licenses</td>\n",
       "      <td>0</td>\n",
       "      <td>3</td>\n",
       "      <td>2015</td>\n",
       "    </tr>\n",
       "    <tr>\n",
       "      <th>2</th>\n",
       "      <td>2015-03-23</td>\n",
       "      <td>google.accounts:authorized_apps</td>\n",
       "      <td>0</td>\n",
       "      <td>3</td>\n",
       "      <td>2015</td>\n",
       "    </tr>\n",
       "    <tr>\n",
       "      <th>3</th>\n",
       "      <td>2015-03-23</td>\n",
       "      <td>google.accounts:coordinate_total_licenses</td>\n",
       "      <td>0</td>\n",
       "      <td>3</td>\n",
       "      <td>2015</td>\n",
       "    </tr>\n",
       "    <tr>\n",
       "      <th>4</th>\n",
       "      <td>2015-03-23</td>\n",
       "      <td>google.accounts:drive_used_quota_in_mb</td>\n",
       "      <td>9537833</td>\n",
       "      <td>3</td>\n",
       "      <td>2015</td>\n",
       "    </tr>\n",
       "  </tbody>\n",
       "</table>\n",
       "</div>"
      ],
      "text/plain": [
       "         time                                metric_name  metric_value  month  \\\n",
       "0  2015-03-23        google.accounts:apps_total_licenses             0      3   \n",
       "1  2015-03-23         google.accounts:apps_used_licenses             0      3   \n",
       "2  2015-03-23            google.accounts:authorized_apps             0      3   \n",
       "3  2015-03-23  google.accounts:coordinate_total_licenses             0      3   \n",
       "4  2015-03-23     google.accounts:drive_used_quota_in_mb       9537833      3   \n",
       "\n",
       "   year  \n",
       "0  2015  \n",
       "1  2015  \n",
       "2  2015  \n",
       "3  2015  \n",
       "4  2015  "
      ]
     },
     "execution_count": 83,
     "metadata": {},
     "output_type": "execute_result"
    }
   ],
   "source": [
    "df.head()"
   ]
  },
  {
   "cell_type": "code",
   "execution_count": 84,
   "metadata": {},
   "outputs": [
    {
     "data": {
      "text/plain": [
       "pandas.core.frame.DataFrame"
      ]
     },
     "execution_count": 84,
     "metadata": {},
     "output_type": "execute_result"
    }
   ],
   "source": [
    "type(df)"
   ]
  },
  {
   "cell_type": "markdown",
   "metadata": {},
   "source": [
    "dropped all rows with zero users and users less than 500"
   ]
  },
  {
   "cell_type": "code",
   "execution_count": 86,
   "metadata": {},
   "outputs": [
    {
     "data": {
      "text/html": [
       "<div>\n",
       "<style scoped>\n",
       "    .dataframe tbody tr th:only-of-type {\n",
       "        vertical-align: middle;\n",
       "    }\n",
       "\n",
       "    .dataframe tbody tr th {\n",
       "        vertical-align: top;\n",
       "    }\n",
       "\n",
       "    .dataframe thead th {\n",
       "        text-align: right;\n",
       "    }\n",
       "</style>\n",
       "<table border=\"1\" class=\"dataframe\">\n",
       "  <thead>\n",
       "    <tr style=\"text-align: right;\">\n",
       "      <th></th>\n",
       "      <th>time</th>\n",
       "      <th>metric_name</th>\n",
       "      <th>metric_value</th>\n",
       "      <th>month</th>\n",
       "      <th>year</th>\n",
       "    </tr>\n",
       "  </thead>\n",
       "  <tbody>\n",
       "    <tr>\n",
       "      <th>4</th>\n",
       "      <td>2015-03-23</td>\n",
       "      <td>google.accounts:drive_used_quota_in_mb</td>\n",
       "      <td>9537833</td>\n",
       "      <td>3</td>\n",
       "      <td>2015</td>\n",
       "    </tr>\n",
       "    <tr>\n",
       "      <th>5</th>\n",
       "      <td>2015-03-23</td>\n",
       "      <td>google.accounts:gmail_used_quota_in_mb</td>\n",
       "      <td>29158045</td>\n",
       "      <td>3</td>\n",
       "      <td>2015</td>\n",
       "    </tr>\n",
       "    <tr>\n",
       "      <th>6</th>\n",
       "      <td>2015-03-23</td>\n",
       "      <td>google.accounts:gplus_photos_used_quota_in_mb</td>\n",
       "      <td>659544</td>\n",
       "      <td>3</td>\n",
       "      <td>2015</td>\n",
       "    </tr>\n",
       "    <tr>\n",
       "      <th>7</th>\n",
       "      <td>2015-03-23</td>\n",
       "      <td>google.accounts:num_1day_logins</td>\n",
       "      <td>16814</td>\n",
       "      <td>3</td>\n",
       "      <td>2015</td>\n",
       "    </tr>\n",
       "    <tr>\n",
       "      <th>8</th>\n",
       "      <td>2015-03-23</td>\n",
       "      <td>google.accounts:num_30day_logins</td>\n",
       "      <td>24022</td>\n",
       "      <td>3</td>\n",
       "      <td>2015</td>\n",
       "    </tr>\n",
       "  </tbody>\n",
       "</table>\n",
       "</div>"
      ],
      "text/plain": [
       "         time                                    metric_name  metric_value  \\\n",
       "4  2015-03-23         google.accounts:drive_used_quota_in_mb       9537833   \n",
       "5  2015-03-23         google.accounts:gmail_used_quota_in_mb      29158045   \n",
       "6  2015-03-23  google.accounts:gplus_photos_used_quota_in_mb        659544   \n",
       "7  2015-03-23                google.accounts:num_1day_logins         16814   \n",
       "8  2015-03-23               google.accounts:num_30day_logins         24022   \n",
       "\n",
       "   month  year  \n",
       "4      3  2015  \n",
       "5      3  2015  \n",
       "6      3  2015  \n",
       "7      3  2015  \n",
       "8      3  2015  "
      ]
     },
     "execution_count": 86,
     "metadata": {},
     "output_type": "execute_result"
    }
   ],
   "source": [
    "\n",
    "users_null= df[(df['metric_value']==0)]\n",
    "users_null.head()\n",
    "df = df[df['metric_value']!=0]\n",
    "df.head()"
   ]
  },
  {
   "cell_type": "code",
   "execution_count": 98,
   "metadata": {},
   "outputs": [
    {
     "data": {
      "text/plain": [
       "google.gmail:num_outbound_encrypted_emails     1584\n",
       "google.gmail:num_inbound_spam_emails           1584\n",
       "google.gmail:num_inbound_delivered_emails      1584\n",
       "google.gmail:num_inbound_unencrypted_emails    1584\n",
       "google.gmail:num_inbound_encrypted_emails      1584\n",
       "Name: metric_name, dtype: int64"
      ]
     },
     "execution_count": 98,
     "metadata": {},
     "output_type": "execute_result"
    }
   ],
   "source": [
    "metric_names_counts= df['metric_name'].value_counts()\n",
    "metric_names_counts.head()"
   ]
  },
  {
   "cell_type": "code",
   "execution_count": 97,
   "metadata": {},
   "outputs": [
    {
     "data": {
      "text/html": [
       "<div>\n",
       "<style scoped>\n",
       "    .dataframe tbody tr th:only-of-type {\n",
       "        vertical-align: middle;\n",
       "    }\n",
       "\n",
       "    .dataframe tbody tr th {\n",
       "        vertical-align: top;\n",
       "    }\n",
       "\n",
       "    .dataframe thead th {\n",
       "        text-align: right;\n",
       "    }\n",
       "</style>\n",
       "<table border=\"1\" class=\"dataframe\">\n",
       "  <thead>\n",
       "    <tr style=\"text-align: right;\">\n",
       "      <th></th>\n",
       "      <th>time</th>\n",
       "      <th>metric_name</th>\n",
       "      <th>metric_value</th>\n",
       "      <th>month</th>\n",
       "      <th>year</th>\n",
       "    </tr>\n",
       "  </thead>\n",
       "  <tbody>\n",
       "    <tr>\n",
       "      <th>4</th>\n",
       "      <td>2015-03-23</td>\n",
       "      <td>google.accounts:drive_used_quota_in_mb</td>\n",
       "      <td>9537833</td>\n",
       "      <td>3</td>\n",
       "      <td>2015</td>\n",
       "    </tr>\n",
       "    <tr>\n",
       "      <th>5</th>\n",
       "      <td>2015-03-23</td>\n",
       "      <td>google.accounts:gmail_used_quota_in_mb</td>\n",
       "      <td>29158045</td>\n",
       "      <td>3</td>\n",
       "      <td>2015</td>\n",
       "    </tr>\n",
       "    <tr>\n",
       "      <th>6</th>\n",
       "      <td>2015-03-23</td>\n",
       "      <td>google.accounts:gplus_photos_used_quota_in_mb</td>\n",
       "      <td>659544</td>\n",
       "      <td>3</td>\n",
       "      <td>2015</td>\n",
       "    </tr>\n",
       "    <tr>\n",
       "      <th>7</th>\n",
       "      <td>2015-03-23</td>\n",
       "      <td>google.accounts:num_1day_logins</td>\n",
       "      <td>16814</td>\n",
       "      <td>3</td>\n",
       "      <td>2015</td>\n",
       "    </tr>\n",
       "    <tr>\n",
       "      <th>8</th>\n",
       "      <td>2015-03-23</td>\n",
       "      <td>google.accounts:num_30day_logins</td>\n",
       "      <td>24022</td>\n",
       "      <td>3</td>\n",
       "      <td>2015</td>\n",
       "    </tr>\n",
       "  </tbody>\n",
       "</table>\n",
       "</div>"
      ],
      "text/plain": [
       "         time                                    metric_name  metric_value  \\\n",
       "4  2015-03-23         google.accounts:drive_used_quota_in_mb       9537833   \n",
       "5  2015-03-23         google.accounts:gmail_used_quota_in_mb      29158045   \n",
       "6  2015-03-23  google.accounts:gplus_photos_used_quota_in_mb        659544   \n",
       "7  2015-03-23                google.accounts:num_1day_logins         16814   \n",
       "8  2015-03-23               google.accounts:num_30day_logins         24022   \n",
       "\n",
       "   month  year  \n",
       "4      3  2015  \n",
       "5      3  2015  \n",
       "6      3  2015  \n",
       "7      3  2015  \n",
       "8      3  2015  "
      ]
     },
     "execution_count": 97,
     "metadata": {},
     "output_type": "execute_result"
    }
   ],
   "source": [
    "df = df[df['metric_value']>500]\n",
    "df.head()"
   ]
  },
  {
   "cell_type": "code",
   "execution_count": null,
   "metadata": {},
   "outputs": [],
   "source": [
    "df.loc[df['time']=2019-8-17]"
   ]
  },
  {
   "cell_type": "code",
   "execution_count": null,
   "metadata": {},
   "outputs": [],
   "source": []
  }
 ],
 "metadata": {
  "celltoolbar": "Slideshow",
  "kernelspec": {
   "display_name": "Python 3",
   "language": "python",
   "name": "python3"
  },
  "language_info": {
   "codemirror_mode": {
    "name": "ipython",
    "version": 3
   },
   "file_extension": ".py",
   "mimetype": "text/x-python",
   "name": "python",
   "nbconvert_exporter": "python",
   "pygments_lexer": "ipython3",
   "version": "3.7.1"
  }
 },
 "nbformat": 4,
 "nbformat_minor": 2
}
