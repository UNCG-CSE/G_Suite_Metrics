{
 "cells": [
  {
   "cell_type": "markdown",
   "metadata": {},
   "source": [
    "loading the packages and read the data set"
   ]
  },
  {
   "cell_type": "code",
   "execution_count": 6,
   "metadata": {},
   "outputs": [],
   "source": [
    "%matplotlib inline\n",
    "from fbprophet import Prophet\n",
    "import matplotlib.pyplot as plt\n",
    "#import datetime as dt\n",
    "import numpy as np\n",
    "import pandas as pd\n",
    "from dateutil.parser import parse\n",
    "from numpy import inf\n",
    "import matplotlib.pyplot as plt\n",
    "import seaborn as sns\n",
    "#from scipy.optimize import newton\n",
    "#from scipy.special import psi, polygamma\n",
    "from scipy.stats import norm, kde, kstest\n",
    "from numpy import inf,linspace\n",
    "import statsmodels.formula.api as smf\n",
    "\n",
    "df = pd.read_csv('google_drive_nanreplaced.csv')"
   ]
  },
  {
   "cell_type": "code",
   "execution_count": 7,
   "metadata": {},
   "outputs": [
    {
     "data": {
      "text/html": [
       "<div>\n",
       "<style scoped>\n",
       "    .dataframe tbody tr th:only-of-type {\n",
       "        vertical-align: middle;\n",
       "    }\n",
       "\n",
       "    .dataframe tbody tr th {\n",
       "        vertical-align: top;\n",
       "    }\n",
       "\n",
       "    .dataframe thead th {\n",
       "        text-align: right;\n",
       "    }\n",
       "</style>\n",
       "<table border=\"1\" class=\"dataframe\">\n",
       "  <thead>\n",
       "    <tr style=\"text-align: right;\">\n",
       "      <th></th>\n",
       "      <th>time</th>\n",
       "      <th>1day_active_users</th>\n",
       "      <th>1day_google_documents_active_users</th>\n",
       "      <th>1day_google_drawings_active_users</th>\n",
       "      <th>1day_google_forms_active_users</th>\n",
       "      <th>1day_google_presentations_active_users</th>\n",
       "      <th>1day_google_sites_active_users</th>\n",
       "      <th>1day_google_spreadsheets_active_users</th>\n",
       "      <th>1day_other_types_active_users</th>\n",
       "      <th>30day_active_users</th>\n",
       "      <th>...</th>\n",
       "      <th>owned_items_with_visibility_unknown_delta</th>\n",
       "      <th>owned_items_with_visibility_unknown_removed</th>\n",
       "      <th>owned_other_types_added</th>\n",
       "      <th>owned_other_types_created</th>\n",
       "      <th>owned_other_types_delta</th>\n",
       "      <th>owned_other_types_edited</th>\n",
       "      <th>owned_other_types_removed</th>\n",
       "      <th>owned_other_types_trashed</th>\n",
       "      <th>owned_other_types_viewed</th>\n",
       "      <th>sharers</th>\n",
       "    </tr>\n",
       "  </thead>\n",
       "  <tbody>\n",
       "    <tr>\n",
       "      <th>0</th>\n",
       "      <td>2017-03-12 05:00:00</td>\n",
       "      <td>1543.0</td>\n",
       "      <td>2499.954068</td>\n",
       "      <td>7.240157</td>\n",
       "      <td>54.104987</td>\n",
       "      <td>474.077428</td>\n",
       "      <td>25.604369</td>\n",
       "      <td>1107.56168</td>\n",
       "      <td>1314.187664</td>\n",
       "      <td>15955.695538</td>\n",
       "      <td>...</td>\n",
       "      <td>0.0</td>\n",
       "      <td>0.0</td>\n",
       "      <td>0.0</td>\n",
       "      <td>3509.0</td>\n",
       "      <td>0.0</td>\n",
       "      <td>193.0</td>\n",
       "      <td>0.0</td>\n",
       "      <td>173.0</td>\n",
       "      <td>1173.0</td>\n",
       "      <td>0.0</td>\n",
       "    </tr>\n",
       "    <tr>\n",
       "      <th>1</th>\n",
       "      <td>2017-03-14 04:00:00</td>\n",
       "      <td>2495.0</td>\n",
       "      <td>2499.954068</td>\n",
       "      <td>7.240157</td>\n",
       "      <td>54.104987</td>\n",
       "      <td>474.077428</td>\n",
       "      <td>25.604369</td>\n",
       "      <td>1107.56168</td>\n",
       "      <td>1314.187664</td>\n",
       "      <td>15955.695538</td>\n",
       "      <td>...</td>\n",
       "      <td>0.0</td>\n",
       "      <td>0.0</td>\n",
       "      <td>0.0</td>\n",
       "      <td>6275.0</td>\n",
       "      <td>0.0</td>\n",
       "      <td>837.0</td>\n",
       "      <td>0.0</td>\n",
       "      <td>1018.0</td>\n",
       "      <td>1759.0</td>\n",
       "      <td>0.0</td>\n",
       "    </tr>\n",
       "    <tr>\n",
       "      <th>2</th>\n",
       "      <td>2017-03-16 04:00:00</td>\n",
       "      <td>2403.0</td>\n",
       "      <td>2499.954068</td>\n",
       "      <td>7.240157</td>\n",
       "      <td>54.104987</td>\n",
       "      <td>474.077428</td>\n",
       "      <td>25.604369</td>\n",
       "      <td>1107.56168</td>\n",
       "      <td>1314.187664</td>\n",
       "      <td>15955.695538</td>\n",
       "      <td>...</td>\n",
       "      <td>0.0</td>\n",
       "      <td>0.0</td>\n",
       "      <td>0.0</td>\n",
       "      <td>22084.0</td>\n",
       "      <td>0.0</td>\n",
       "      <td>820.0</td>\n",
       "      <td>0.0</td>\n",
       "      <td>805.0</td>\n",
       "      <td>1451.0</td>\n",
       "      <td>0.0</td>\n",
       "    </tr>\n",
       "    <tr>\n",
       "      <th>3</th>\n",
       "      <td>2017-03-19 04:00:00</td>\n",
       "      <td>2848.0</td>\n",
       "      <td>2499.954068</td>\n",
       "      <td>7.240157</td>\n",
       "      <td>54.104987</td>\n",
       "      <td>474.077428</td>\n",
       "      <td>25.604369</td>\n",
       "      <td>1107.56168</td>\n",
       "      <td>1314.187664</td>\n",
       "      <td>15955.695538</td>\n",
       "      <td>...</td>\n",
       "      <td>0.0</td>\n",
       "      <td>0.0</td>\n",
       "      <td>0.0</td>\n",
       "      <td>51355.0</td>\n",
       "      <td>0.0</td>\n",
       "      <td>725.0</td>\n",
       "      <td>0.0</td>\n",
       "      <td>737.0</td>\n",
       "      <td>1247.0</td>\n",
       "      <td>0.0</td>\n",
       "    </tr>\n",
       "    <tr>\n",
       "      <th>4</th>\n",
       "      <td>2017-03-20 04:00:00</td>\n",
       "      <td>5302.0</td>\n",
       "      <td>2499.954068</td>\n",
       "      <td>7.240157</td>\n",
       "      <td>54.104987</td>\n",
       "      <td>474.077428</td>\n",
       "      <td>25.604369</td>\n",
       "      <td>1107.56168</td>\n",
       "      <td>1314.187664</td>\n",
       "      <td>15955.695538</td>\n",
       "      <td>...</td>\n",
       "      <td>0.0</td>\n",
       "      <td>0.0</td>\n",
       "      <td>0.0</td>\n",
       "      <td>9979.0</td>\n",
       "      <td>0.0</td>\n",
       "      <td>1330.0</td>\n",
       "      <td>0.0</td>\n",
       "      <td>924.0</td>\n",
       "      <td>2339.0</td>\n",
       "      <td>0.0</td>\n",
       "    </tr>\n",
       "  </tbody>\n",
       "</table>\n",
       "<p>5 rows × 144 columns</p>\n",
       "</div>"
      ],
      "text/plain": [
       "                  time  1day_active_users  1day_google_documents_active_users  \\\n",
       "0  2017-03-12 05:00:00             1543.0                         2499.954068   \n",
       "1  2017-03-14 04:00:00             2495.0                         2499.954068   \n",
       "2  2017-03-16 04:00:00             2403.0                         2499.954068   \n",
       "3  2017-03-19 04:00:00             2848.0                         2499.954068   \n",
       "4  2017-03-20 04:00:00             5302.0                         2499.954068   \n",
       "\n",
       "   1day_google_drawings_active_users  1day_google_forms_active_users  \\\n",
       "0                           7.240157                       54.104987   \n",
       "1                           7.240157                       54.104987   \n",
       "2                           7.240157                       54.104987   \n",
       "3                           7.240157                       54.104987   \n",
       "4                           7.240157                       54.104987   \n",
       "\n",
       "   1day_google_presentations_active_users  1day_google_sites_active_users  \\\n",
       "0                              474.077428                       25.604369   \n",
       "1                              474.077428                       25.604369   \n",
       "2                              474.077428                       25.604369   \n",
       "3                              474.077428                       25.604369   \n",
       "4                              474.077428                       25.604369   \n",
       "\n",
       "   1day_google_spreadsheets_active_users  1day_other_types_active_users  \\\n",
       "0                             1107.56168                    1314.187664   \n",
       "1                             1107.56168                    1314.187664   \n",
       "2                             1107.56168                    1314.187664   \n",
       "3                             1107.56168                    1314.187664   \n",
       "4                             1107.56168                    1314.187664   \n",
       "\n",
       "   30day_active_users   ...     owned_items_with_visibility_unknown_delta  \\\n",
       "0        15955.695538   ...                                           0.0   \n",
       "1        15955.695538   ...                                           0.0   \n",
       "2        15955.695538   ...                                           0.0   \n",
       "3        15955.695538   ...                                           0.0   \n",
       "4        15955.695538   ...                                           0.0   \n",
       "\n",
       "   owned_items_with_visibility_unknown_removed  owned_other_types_added  \\\n",
       "0                                          0.0                      0.0   \n",
       "1                                          0.0                      0.0   \n",
       "2                                          0.0                      0.0   \n",
       "3                                          0.0                      0.0   \n",
       "4                                          0.0                      0.0   \n",
       "\n",
       "   owned_other_types_created  owned_other_types_delta  \\\n",
       "0                     3509.0                      0.0   \n",
       "1                     6275.0                      0.0   \n",
       "2                    22084.0                      0.0   \n",
       "3                    51355.0                      0.0   \n",
       "4                     9979.0                      0.0   \n",
       "\n",
       "   owned_other_types_edited  owned_other_types_removed  \\\n",
       "0                     193.0                        0.0   \n",
       "1                     837.0                        0.0   \n",
       "2                     820.0                        0.0   \n",
       "3                     725.0                        0.0   \n",
       "4                    1330.0                        0.0   \n",
       "\n",
       "   owned_other_types_trashed  owned_other_types_viewed  sharers  \n",
       "0                      173.0                    1173.0      0.0  \n",
       "1                     1018.0                    1759.0      0.0  \n",
       "2                      805.0                    1451.0      0.0  \n",
       "3                      737.0                    1247.0      0.0  \n",
       "4                      924.0                    2339.0      0.0  \n",
       "\n",
       "[5 rows x 144 columns]"
      ]
     },
     "execution_count": 7,
     "metadata": {},
     "output_type": "execute_result"
    }
   ],
   "source": [
    "df.head()"
   ]
  },
  {
   "cell_type": "markdown",
   "metadata": {},
   "source": [
    "Fitting a linear regression model on to the data "
   ]
  },
  {
   "cell_type": "code",
   "execution_count": 20,
   "metadata": {},
   "outputs": [
    {
     "data": {
      "text/plain": [
       "Intercept               18.557732\n",
       "google_forms_created     1.769806\n",
       "dtype: float64"
      ]
     },
     "execution_count": 20,
     "metadata": {},
     "output_type": "execute_result"
    }
   ],
   "source": [
    "lg= smf.ols(formula='google_forms_edited ~ google_forms_created', data=df).fit()\n",
    "lg.params"
   ]
  },
  {
   "cell_type": "markdown",
   "metadata": {},
   "source": [
    "nterpreting Model Coefficients How do we interpret the google_forms_edited ( 𝛽1 )? A \"unit\" increase is associated with a 1.769806 \"unit\" increase in google_forms_created.\n",
    "\n",
    "Using the Model for Prediction Let's say that there are 1000 google_forms_created, then we can roughly predict the number of forms that can be edited\n",
    "𝑦=𝛽0+𝛽1𝑥\n",
    "\n",
    "𝑦=18.557732+1.769806(X)"
   ]
  },
  {
   "cell_type": "code",
   "execution_count": 26,
   "metadata": {},
   "outputs": [
    {
     "data": {
      "text/plain": [
       "1788.363732"
      ]
     },
     "execution_count": 26,
     "metadata": {},
     "output_type": "execute_result"
    }
   ],
   "source": [
    "𝑦=18.557732+1.769806*1000\n",
    "y"
   ]
  },
  {
   "cell_type": "code",
   "execution_count": 24,
   "metadata": {},
   "outputs": [
    {
     "data": {
      "text/html": [
       "<div>\n",
       "<style scoped>\n",
       "    .dataframe tbody tr th:only-of-type {\n",
       "        vertical-align: middle;\n",
       "    }\n",
       "\n",
       "    .dataframe tbody tr th {\n",
       "        vertical-align: top;\n",
       "    }\n",
       "\n",
       "    .dataframe thead th {\n",
       "        text-align: right;\n",
       "    }\n",
       "</style>\n",
       "<table border=\"1\" class=\"dataframe\">\n",
       "  <thead>\n",
       "    <tr style=\"text-align: right;\">\n",
       "      <th></th>\n",
       "      <th>google_forms_created</th>\n",
       "    </tr>\n",
       "  </thead>\n",
       "  <tbody>\n",
       "    <tr>\n",
       "      <th>0</th>\n",
       "      <td>1000</td>\n",
       "    </tr>\n",
       "  </tbody>\n",
       "</table>\n",
       "</div>"
      ],
      "text/plain": [
       "   google_forms_created\n",
       "0                  1000"
      ]
     },
     "execution_count": 24,
     "metadata": {},
     "output_type": "execute_result"
    }
   ],
   "source": [
    "#𝑦=𝛽0+𝛽1𝑥\n",
    "x_new=pd.DataFrame({'google_forms_created':[1000]})\n",
    "x_new.head()"
   ]
  },
  {
   "cell_type": "markdown",
   "metadata": {},
   "source": [
    "predicting te new x based on the model"
   ]
  },
  {
   "cell_type": "code",
   "execution_count": 25,
   "metadata": {},
   "outputs": [
    {
     "data": {
      "text/plain": [
       "0    1788.364094\n",
       "dtype: float64"
      ]
     },
     "execution_count": 25,
     "metadata": {},
     "output_type": "execute_result"
    }
   ],
   "source": [
    "lg.predict(x_new)"
   ]
  },
  {
   "cell_type": "code",
   "execution_count": 27,
   "metadata": {},
   "outputs": [
    {
     "data": {
      "text/html": [
       "<div>\n",
       "<style scoped>\n",
       "    .dataframe tbody tr th:only-of-type {\n",
       "        vertical-align: middle;\n",
       "    }\n",
       "\n",
       "    .dataframe tbody tr th {\n",
       "        vertical-align: top;\n",
       "    }\n",
       "\n",
       "    .dataframe thead th {\n",
       "        text-align: right;\n",
       "    }\n",
       "</style>\n",
       "<table border=\"1\" class=\"dataframe\">\n",
       "  <thead>\n",
       "    <tr style=\"text-align: right;\">\n",
       "      <th></th>\n",
       "      <th>google_forms_created</th>\n",
       "    </tr>\n",
       "  </thead>\n",
       "  <tbody>\n",
       "    <tr>\n",
       "      <th>0</th>\n",
       "      <td>0.0</td>\n",
       "    </tr>\n",
       "    <tr>\n",
       "      <th>1</th>\n",
       "      <td>251.0</td>\n",
       "    </tr>\n",
       "  </tbody>\n",
       "</table>\n",
       "</div>"
      ],
      "text/plain": [
       "   google_forms_created\n",
       "0                   0.0\n",
       "1                 251.0"
      ]
     },
     "execution_count": 27,
     "metadata": {},
     "output_type": "execute_result"
    }
   ],
   "source": [
    "x_new= pd.DataFrame({'google_forms_created':[df.google_forms_created.min(),df.google_forms_created.max()]})\n",
    "x_new.head()"
   ]
  },
  {
   "cell_type": "code",
   "execution_count": 28,
   "metadata": {},
   "outputs": [
    {
     "data": {
      "text/plain": [
       "0     18.557732\n",
       "1    462.779129\n",
       "dtype: float64"
      ]
     },
     "execution_count": 28,
     "metadata": {},
     "output_type": "execute_result"
    }
   ],
   "source": [
    "predicts=lg.predict(x_new)\n",
    "predicts"
   ]
  },
  {
   "cell_type": "markdown",
   "metadata": {},
   "source": [
    "plotting the classification of two attributes"
   ]
  },
  {
   "cell_type": "code",
   "execution_count": 29,
   "metadata": {},
   "outputs": [
    {
     "data": {
      "text/plain": [
       "[<matplotlib.lines.Line2D at 0x23306843a90>]"
      ]
     },
     "execution_count": 29,
     "metadata": {},
     "output_type": "execute_result"
    },
    {
     "data": {
      "image/png": "[encoded data removed]",
      "text/plain": [
       "<Figure size 432x288 with 1 Axes>"
      ]
     },
     "metadata": {
      "needs_background": "light"
     },
     "output_type": "display_data"
    }
   ],
   "source": [
    "# first, plot the observed data\n",
    "df.plot(kind='scatter', x='google_forms_created', y='google_forms_edited')\n",
    "\n",
    "# then, plot the least squares line\n",
    "plt.plot(x_new, predicts, c='red', linewidth=2)"
   ]
  },
  {
   "cell_type": "code",
   "execution_count": 30,
   "metadata": {},
   "outputs": [
    {
     "data": {
      "text/html": [
       "<div>\n",
       "<style scoped>\n",
       "    .dataframe tbody tr th:only-of-type {\n",
       "        vertical-align: middle;\n",
       "    }\n",
       "\n",
       "    .dataframe tbody tr th {\n",
       "        vertical-align: top;\n",
       "    }\n",
       "\n",
       "    .dataframe thead th {\n",
       "        text-align: right;\n",
       "    }\n",
       "</style>\n",
       "<table border=\"1\" class=\"dataframe\">\n",
       "  <thead>\n",
       "    <tr style=\"text-align: right;\">\n",
       "      <th></th>\n",
       "      <th>0</th>\n",
       "      <th>1</th>\n",
       "    </tr>\n",
       "  </thead>\n",
       "  <tbody>\n",
       "    <tr>\n",
       "      <th>Intercept</th>\n",
       "      <td>15.996475</td>\n",
       "      <td>21.118988</td>\n",
       "    </tr>\n",
       "    <tr>\n",
       "      <th>google_forms_created</th>\n",
       "      <td>1.696613</td>\n",
       "      <td>1.843000</td>\n",
       "    </tr>\n",
       "  </tbody>\n",
       "</table>\n",
       "</div>"
      ],
      "text/plain": [
       "                              0          1\n",
       "Intercept             15.996475  21.118988\n",
       "google_forms_created   1.696613   1.843000"
      ]
     },
     "execution_count": 30,
     "metadata": {},
     "output_type": "execute_result"
    }
   ],
   "source": [
    "# print the confidence intervals for the model coefficients\n",
    "lg.conf_int()"
   ]
  },
  {
   "cell_type": "code",
   "execution_count": 31,
   "metadata": {},
   "outputs": [
    {
     "data": {
      "text/plain": [
       "Intercept                3.118740e-41\n",
       "google_forms_created    1.439223e-238\n",
       "dtype: float64"
      ]
     },
     "execution_count": 31,
     "metadata": {},
     "output_type": "execute_result"
    }
   ],
   "source": [
    "# print the p-values for the model coefficients\n",
    "lg.pvalues"
   ]
  },
  {
   "cell_type": "markdown",
   "metadata": {},
   "source": [
    "From the above p values we see that the value are less than 0.05, so we reject the null hypothesis and there is significant corelation between forms_created and forms_edited. \n",
    "\n",
    "R-squared is the proportion of variance explained, meaning the proportion of variance in the observed data that is explained by the model, or the reduction in error over the null model. The null model just predicts the mean of the observed response, and thus it has an intercept and no slope.\n",
    "\n",
    "R-squared is between 0 and 1, and higher is better because it means that more variance is explained by the model."
   ]
  },
  {
   "cell_type": "code",
   "execution_count": 32,
   "metadata": {},
   "outputs": [
    {
     "data": {
      "text/plain": [
       "0.7309769564422748"
      ]
     },
     "execution_count": 32,
     "metadata": {},
     "output_type": "execute_result"
    }
   ],
   "source": [
    "# print the R-squared value for the model\n",
    "lg.rsquared"
   ]
  },
  {
   "cell_type": "markdown",
   "metadata": {},
   "source": [
    "Plotting the linear regression models by increasing the polynomial order, the model performed better when n=2, the r^2 value is 0.78"
   ]
  },
  {
   "cell_type": "code",
   "execution_count": 34,
   "metadata": {},
   "outputs": [
    {
     "data": {
      "text/plain": [
       "<matplotlib.legend.Legend at 0x23306aa1940>"
      ]
     },
     "execution_count": 34,
     "metadata": {},
     "output_type": "execute_result"
    },
    {
     "data": {
      "image/png": "[encoded data removed]",
      "text/plain": [
       "<Figure size 931.968x576 with 1 Axes>"
      ]
     },
     "metadata": {
      "needs_background": "light"
     },
     "output_type": "display_data"
    }
   ],
   "source": [
    "plt.figure(figsize=(8 * 1.618, 8))\n",
    "\n",
    "plt.scatter(df.google_forms_created, df.google_forms_edited)\n",
    "\n",
    "df1 = df\n",
    "\n",
    "poly_1 = smf.ols(formula='google_forms_edited ~ 1 + google_forms_created', data=df).fit()\n",
    "\n",
    "x = pd.DataFrame({'google_forms_created': np.linspace(df.google_forms_created.min(), df.google_forms_created.max(), 200)})\n",
    "\n",
    "\n",
    "plt.plot(x.google_forms_created, poly_1.predict(x), 'b-', label='Poly n=1 $R^2$=%.2f' % poly_1.rsquared, alpha=0.9)\n",
    "\n",
    "# 2-nd order polynomial\n",
    "poly_2 = smf.ols(formula='google_forms_edited ~ 1 + google_forms_created + I(google_forms_created ** 2.0)', data=df).fit()\n",
    "plt.plot(x.google_forms_created, poly_2.predict(x), 'g-', label='Poly n=2 $R^2$=%.2f' % poly_2.rsquared, alpha=0.9)\n",
    "\n",
    "# 3-rd order polynomial\n",
    "poly_3 = smf.ols(formula='google_forms_edited ~ 1 + google_forms_created + I(google_forms_created ** 2.0) + I(google_forms_created ** 3.0)', data=df).fit()\n",
    "plt.plot(x.google_forms_created, poly_3.predict(x), 'r-', alpha=0.9, label='Poly n=3 $R^2$=%.2f' % poly_3.rsquared)\n",
    "\n",
    "plt.legend()"
   ]
  },
  {
   "cell_type": "code",
   "execution_count": null,
   "metadata": {},
   "outputs": [],
   "source": []
  }
 ],
 "metadata": {
  "kernelspec": {
   "display_name": "Python 3",
   "language": "python",
   "name": "python3"
  },
  "language_info": {
   "codemirror_mode": {
    "name": "ipython",
    "version": 3
   },
   "file_extension": ".py",
   "mimetype": "text/x-python",
   "name": "python",
   "nbconvert_exporter": "python",
   "pygments_lexer": "ipython3",
   "version": "3.7.1"
  }
 },
 "nbformat": 4,
 "nbformat_minor": 2
}
