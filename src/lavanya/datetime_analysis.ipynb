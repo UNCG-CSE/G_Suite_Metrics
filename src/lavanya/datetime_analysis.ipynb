{
 "cells": [
  {
   "cell_type": "markdown",
   "metadata": {},
   "source": [
    "Reading the data set as data frame, Importing the required libraries"
   ]
  },
  {
   "cell_type": "code",
   "execution_count": 45,
   "metadata": {},
   "outputs": [
    {
     "data": {
      "text/html": [
       "<div>\n",
       "<style scoped>\n",
       "    .dataframe tbody tr th:only-of-type {\n",
       "        vertical-align: middle;\n",
       "    }\n",
       "\n",
       "    .dataframe tbody tr th {\n",
       "        vertical-align: top;\n",
       "    }\n",
       "\n",
       "    .dataframe thead th {\n",
       "        text-align: right;\n",
       "    }\n",
       "</style>\n",
       "<table border=\"1\" class=\"dataframe\">\n",
       "  <thead>\n",
       "    <tr style=\"text-align: right;\">\n",
       "      <th></th>\n",
       "      <th>time</th>\n",
       "      <th>metric_name</th>\n",
       "      <th>metric_value</th>\n",
       "    </tr>\n",
       "  </thead>\n",
       "  <tbody>\n",
       "    <tr>\n",
       "      <th>0</th>\n",
       "      <td>2015-03-23T00:00:00.000-0400</td>\n",
       "      <td>google.accounts:apps_total_licenses</td>\n",
       "      <td>0</td>\n",
       "    </tr>\n",
       "    <tr>\n",
       "      <th>1</th>\n",
       "      <td>2015-03-23T00:00:00.000-0400</td>\n",
       "      <td>google.accounts:apps_used_licenses</td>\n",
       "      <td>0</td>\n",
       "    </tr>\n",
       "    <tr>\n",
       "      <th>2</th>\n",
       "      <td>2015-03-23T00:00:00.000-0400</td>\n",
       "      <td>google.accounts:authorized_apps</td>\n",
       "      <td>0</td>\n",
       "    </tr>\n",
       "    <tr>\n",
       "      <th>3</th>\n",
       "      <td>2015-03-23T00:00:00.000-0400</td>\n",
       "      <td>google.accounts:coordinate_total_licenses</td>\n",
       "      <td>0</td>\n",
       "    </tr>\n",
       "    <tr>\n",
       "      <th>4</th>\n",
       "      <td>2015-03-23T00:00:00.000-0400</td>\n",
       "      <td>google.accounts:drive_used_quota_in_mb</td>\n",
       "      <td>9537833</td>\n",
       "    </tr>\n",
       "  </tbody>\n",
       "</table>\n",
       "</div>"
      ],
      "text/plain": [
       "                           time                                metric_name  \\\n",
       "0  2015-03-23T00:00:00.000-0400        google.accounts:apps_total_licenses   \n",
       "1  2015-03-23T00:00:00.000-0400         google.accounts:apps_used_licenses   \n",
       "2  2015-03-23T00:00:00.000-0400            google.accounts:authorized_apps   \n",
       "3  2015-03-23T00:00:00.000-0400  google.accounts:coordinate_total_licenses   \n",
       "4  2015-03-23T00:00:00.000-0400     google.accounts:drive_used_quota_in_mb   \n",
       "\n",
       "   metric_value  \n",
       "0             0  \n",
       "1             0  \n",
       "2             0  \n",
       "3             0  \n",
       "4       9537833  "
      ]
     },
     "execution_count": 45,
     "metadata": {},
     "output_type": "execute_result"
    }
   ],
   "source": [
    "import pandas as pd\n",
    "import matplotlib\n",
    "%matplotlib inline\n",
    "df= pd.read_csv(\"gsuite.csv\")\n",
    "df.head()"
   ]
  },
  {
   "cell_type": "code",
   "execution_count": 47,
   "metadata": {},
   "outputs": [
    {
     "data": {
      "text/plain": [
       "time            object\n",
       "metric_name     object\n",
       "metric_value     int64\n",
       "dtype: object"
      ]
     },
     "execution_count": 47,
     "metadata": {},
     "output_type": "execute_result"
    }
   ],
   "source": [
    "df.dtypes"
   ]
  },
  {
   "cell_type": "code",
   "execution_count": 33,
   "metadata": {},
   "outputs": [
    {
     "data": {
      "text/plain": [
       "RangeIndex(start=0, stop=611913, step=1)"
      ]
     },
     "execution_count": 33,
     "metadata": {},
     "output_type": "execute_result"
    }
   ],
   "source": [
    "df.index"
   ]
  },
  {
   "cell_type": "code",
   "execution_count": 34,
   "metadata": {},
   "outputs": [],
   "source": [
    "df['time']= pd.to_datetime(df.time)"
   ]
  },
  {
   "cell_type": "code",
   "execution_count": 35,
   "metadata": {},
   "outputs": [
    {
     "data": {
      "text/plain": [
       "time            datetime64[ns]\n",
       "metric_name             object\n",
       "metric_value             int64\n",
       "dtype: object"
      ]
     },
     "execution_count": 35,
     "metadata": {},
     "output_type": "execute_result"
    }
   ],
   "source": [
    "df.dtypes"
   ]
  },
  {
   "cell_type": "markdown",
   "metadata": {},
   "source": [
    "creating a new column with month"
   ]
  },
  {
   "cell_type": "code",
   "execution_count": 36,
   "metadata": {},
   "outputs": [
    {
     "data": {
      "text/html": [
       "<div>\n",
       "<style scoped>\n",
       "    .dataframe tbody tr th:only-of-type {\n",
       "        vertical-align: middle;\n",
       "    }\n",
       "\n",
       "    .dataframe tbody tr th {\n",
       "        vertical-align: top;\n",
       "    }\n",
       "\n",
       "    .dataframe thead th {\n",
       "        text-align: right;\n",
       "    }\n",
       "</style>\n",
       "<table border=\"1\" class=\"dataframe\">\n",
       "  <thead>\n",
       "    <tr style=\"text-align: right;\">\n",
       "      <th></th>\n",
       "      <th>time</th>\n",
       "      <th>metric_name</th>\n",
       "      <th>metric_value</th>\n",
       "      <th>month</th>\n",
       "    </tr>\n",
       "  </thead>\n",
       "  <tbody>\n",
       "    <tr>\n",
       "      <th>0</th>\n",
       "      <td>2015-03-23 04:00:00</td>\n",
       "      <td>google.accounts:apps_total_licenses</td>\n",
       "      <td>0</td>\n",
       "      <td>3</td>\n",
       "    </tr>\n",
       "    <tr>\n",
       "      <th>1</th>\n",
       "      <td>2015-03-23 04:00:00</td>\n",
       "      <td>google.accounts:apps_used_licenses</td>\n",
       "      <td>0</td>\n",
       "      <td>3</td>\n",
       "    </tr>\n",
       "    <tr>\n",
       "      <th>2</th>\n",
       "      <td>2015-03-23 04:00:00</td>\n",
       "      <td>google.accounts:authorized_apps</td>\n",
       "      <td>0</td>\n",
       "      <td>3</td>\n",
       "    </tr>\n",
       "    <tr>\n",
       "      <th>3</th>\n",
       "      <td>2015-03-23 04:00:00</td>\n",
       "      <td>google.accounts:coordinate_total_licenses</td>\n",
       "      <td>0</td>\n",
       "      <td>3</td>\n",
       "    </tr>\n",
       "    <tr>\n",
       "      <th>4</th>\n",
       "      <td>2015-03-23 04:00:00</td>\n",
       "      <td>google.accounts:drive_used_quota_in_mb</td>\n",
       "      <td>9537833</td>\n",
       "      <td>3</td>\n",
       "    </tr>\n",
       "  </tbody>\n",
       "</table>\n",
       "</div>"
      ],
      "text/plain": [
       "                 time                                metric_name  \\\n",
       "0 2015-03-23 04:00:00        google.accounts:apps_total_licenses   \n",
       "1 2015-03-23 04:00:00         google.accounts:apps_used_licenses   \n",
       "2 2015-03-23 04:00:00            google.accounts:authorized_apps   \n",
       "3 2015-03-23 04:00:00  google.accounts:coordinate_total_licenses   \n",
       "4 2015-03-23 04:00:00     google.accounts:drive_used_quota_in_mb   \n",
       "\n",
       "   metric_value  month  \n",
       "0             0      3  \n",
       "1             0      3  \n",
       "2             0      3  \n",
       "3             0      3  \n",
       "4       9537833      3  "
      ]
     },
     "execution_count": 36,
     "metadata": {},
     "output_type": "execute_result"
    }
   ],
   "source": [
    "df['month']= df.time.dt.month\n",
    "df.head()"
   ]
  },
  {
   "cell_type": "markdown",
   "metadata": {},
   "source": [
    "Dropping all rows with negative no of users and 0 users."
   ]
  },
  {
   "cell_type": "code",
   "execution_count": 37,
   "metadata": {},
   "outputs": [
    {
     "data": {
      "text/html": [
       "<div>\n",
       "<style scoped>\n",
       "    .dataframe tbody tr th:only-of-type {\n",
       "        vertical-align: middle;\n",
       "    }\n",
       "\n",
       "    .dataframe tbody tr th {\n",
       "        vertical-align: top;\n",
       "    }\n",
       "\n",
       "    .dataframe thead th {\n",
       "        text-align: right;\n",
       "    }\n",
       "</style>\n",
       "<table border=\"1\" class=\"dataframe\">\n",
       "  <thead>\n",
       "    <tr style=\"text-align: right;\">\n",
       "      <th></th>\n",
       "      <th>time</th>\n",
       "      <th>metric_name</th>\n",
       "      <th>metric_value</th>\n",
       "      <th>month</th>\n",
       "    </tr>\n",
       "  </thead>\n",
       "  <tbody>\n",
       "    <tr>\n",
       "      <th>4</th>\n",
       "      <td>2015-03-23 04:00:00</td>\n",
       "      <td>google.accounts:drive_used_quota_in_mb</td>\n",
       "      <td>9537833</td>\n",
       "      <td>3</td>\n",
       "    </tr>\n",
       "    <tr>\n",
       "      <th>5</th>\n",
       "      <td>2015-03-23 04:00:00</td>\n",
       "      <td>google.accounts:gmail_used_quota_in_mb</td>\n",
       "      <td>29158045</td>\n",
       "      <td>3</td>\n",
       "    </tr>\n",
       "    <tr>\n",
       "      <th>6</th>\n",
       "      <td>2015-03-23 04:00:00</td>\n",
       "      <td>google.accounts:gplus_photos_used_quota_in_mb</td>\n",
       "      <td>659544</td>\n",
       "      <td>3</td>\n",
       "    </tr>\n",
       "    <tr>\n",
       "      <th>7</th>\n",
       "      <td>2015-03-23 04:00:00</td>\n",
       "      <td>google.accounts:num_1day_logins</td>\n",
       "      <td>16814</td>\n",
       "      <td>3</td>\n",
       "    </tr>\n",
       "    <tr>\n",
       "      <th>8</th>\n",
       "      <td>2015-03-23 04:00:00</td>\n",
       "      <td>google.accounts:num_30day_logins</td>\n",
       "      <td>24022</td>\n",
       "      <td>3</td>\n",
       "    </tr>\n",
       "  </tbody>\n",
       "</table>\n",
       "</div>"
      ],
      "text/plain": [
       "                 time                                    metric_name  \\\n",
       "4 2015-03-23 04:00:00         google.accounts:drive_used_quota_in_mb   \n",
       "5 2015-03-23 04:00:00         google.accounts:gmail_used_quota_in_mb   \n",
       "6 2015-03-23 04:00:00  google.accounts:gplus_photos_used_quota_in_mb   \n",
       "7 2015-03-23 04:00:00                google.accounts:num_1day_logins   \n",
       "8 2015-03-23 04:00:00               google.accounts:num_30day_logins   \n",
       "\n",
       "   metric_value  month  \n",
       "4       9537833      3  \n",
       "5      29158045      3  \n",
       "6        659544      3  \n",
       "7         16814      3  \n",
       "8         24022      3  "
      ]
     },
     "execution_count": 37,
     "metadata": {},
     "output_type": "execute_result"
    }
   ],
   "source": [
    "df = df[df['metric_value'] > 0]\n",
    "\n",
    "df.head()"
   ]
  },
  {
   "cell_type": "code",
   "execution_count": 38,
   "metadata": {},
   "outputs": [
    {
     "name": "stdout",
     "output_type": "stream",
     "text": [
      "Int64Index([     4,      5,      6,      7,      8,      9,     10,     11,\n",
      "                12,     13,\n",
      "            ...\n",
      "            611849, 611850, 611851, 611852, 611854, 611855, 611866, 611867,\n",
      "            611868, 611911],\n",
      "           dtype='int64', length=263310)\n",
      "       metric_value          month\n",
      "count  2.633100e+05  263310.000000\n",
      "mean   2.387988e+06       6.461502\n",
      "std    1.756390e+07       3.323856\n",
      "min    1.000000e+00       1.000000\n",
      "25%    4.000000e+01       4.000000\n",
      "50%    8.510000e+02       6.000000\n",
      "75%    1.050900e+04       9.000000\n",
      "max    2.740330e+08      12.000000\n"
     ]
    },
    {
     "data": {
      "text/html": [
       "<div>\n",
       "<style scoped>\n",
       "    .dataframe tbody tr th:only-of-type {\n",
       "        vertical-align: middle;\n",
       "    }\n",
       "\n",
       "    .dataframe tbody tr th {\n",
       "        vertical-align: top;\n",
       "    }\n",
       "\n",
       "    .dataframe thead th {\n",
       "        text-align: right;\n",
       "    }\n",
       "</style>\n",
       "<table border=\"1\" class=\"dataframe\">\n",
       "  <thead>\n",
       "    <tr style=\"text-align: right;\">\n",
       "      <th></th>\n",
       "      <th>time</th>\n",
       "      <th>metric_name</th>\n",
       "      <th>metric_value</th>\n",
       "      <th>month</th>\n",
       "    </tr>\n",
       "  </thead>\n",
       "  <tbody>\n",
       "    <tr>\n",
       "      <th>4</th>\n",
       "      <td>2015-03-23 04:00:00</td>\n",
       "      <td>google.accounts:drive_used_quota_in_mb</td>\n",
       "      <td>9537833</td>\n",
       "      <td>3</td>\n",
       "    </tr>\n",
       "    <tr>\n",
       "      <th>5</th>\n",
       "      <td>2015-03-23 04:00:00</td>\n",
       "      <td>google.accounts:gmail_used_quota_in_mb</td>\n",
       "      <td>29158045</td>\n",
       "      <td>3</td>\n",
       "    </tr>\n",
       "    <tr>\n",
       "      <th>6</th>\n",
       "      <td>2015-03-23 04:00:00</td>\n",
       "      <td>google.accounts:gplus_photos_used_quota_in_mb</td>\n",
       "      <td>659544</td>\n",
       "      <td>3</td>\n",
       "    </tr>\n",
       "    <tr>\n",
       "      <th>7</th>\n",
       "      <td>2015-03-23 04:00:00</td>\n",
       "      <td>google.accounts:num_1day_logins</td>\n",
       "      <td>16814</td>\n",
       "      <td>3</td>\n",
       "    </tr>\n",
       "    <tr>\n",
       "      <th>8</th>\n",
       "      <td>2015-03-23 04:00:00</td>\n",
       "      <td>google.accounts:num_30day_logins</td>\n",
       "      <td>24022</td>\n",
       "      <td>3</td>\n",
       "    </tr>\n",
       "    <tr>\n",
       "      <th>9</th>\n",
       "      <td>2015-03-23 04:00:00</td>\n",
       "      <td>google.accounts:num_7day_logins</td>\n",
       "      <td>21763</td>\n",
       "      <td>3</td>\n",
       "    </tr>\n",
       "    <tr>\n",
       "      <th>10</th>\n",
       "      <td>2015-03-23 04:00:00</td>\n",
       "      <td>google.accounts:num_authorized_apps</td>\n",
       "      <td>2393</td>\n",
       "      <td>3</td>\n",
       "    </tr>\n",
       "    <tr>\n",
       "      <th>11</th>\n",
       "      <td>2015-03-23 04:00:00</td>\n",
       "      <td>google.accounts:num_delegated_admins</td>\n",
       "      <td>25</td>\n",
       "      <td>3</td>\n",
       "    </tr>\n",
       "    <tr>\n",
       "      <th>12</th>\n",
       "      <td>2015-03-23 04:00:00</td>\n",
       "      <td>google.accounts:num_disabled_accounts</td>\n",
       "      <td>34125</td>\n",
       "      <td>3</td>\n",
       "    </tr>\n",
       "    <tr>\n",
       "      <th>13</th>\n",
       "      <td>2015-03-23 04:00:00</td>\n",
       "      <td>google.accounts:num_locked_users</td>\n",
       "      <td>2</td>\n",
       "      <td>3</td>\n",
       "    </tr>\n",
       "  </tbody>\n",
       "</table>\n",
       "</div>"
      ],
      "text/plain": [
       "                  time                                    metric_name  \\\n",
       "4  2015-03-23 04:00:00         google.accounts:drive_used_quota_in_mb   \n",
       "5  2015-03-23 04:00:00         google.accounts:gmail_used_quota_in_mb   \n",
       "6  2015-03-23 04:00:00  google.accounts:gplus_photos_used_quota_in_mb   \n",
       "7  2015-03-23 04:00:00                google.accounts:num_1day_logins   \n",
       "8  2015-03-23 04:00:00               google.accounts:num_30day_logins   \n",
       "9  2015-03-23 04:00:00                google.accounts:num_7day_logins   \n",
       "10 2015-03-23 04:00:00            google.accounts:num_authorized_apps   \n",
       "11 2015-03-23 04:00:00           google.accounts:num_delegated_admins   \n",
       "12 2015-03-23 04:00:00          google.accounts:num_disabled_accounts   \n",
       "13 2015-03-23 04:00:00               google.accounts:num_locked_users   \n",
       "\n",
       "    metric_value  month  \n",
       "4        9537833      3  \n",
       "5       29158045      3  \n",
       "6         659544      3  \n",
       "7          16814      3  \n",
       "8          24022      3  \n",
       "9          21763      3  \n",
       "10          2393      3  \n",
       "11            25      3  \n",
       "12         34125      3  \n",
       "13             2      3  "
      ]
     },
     "execution_count": 38,
     "metadata": {},
     "output_type": "execute_result"
    }
   ],
   "source": [
    "print(df.index)\n",
    "print(df.describe())\n",
    "df.head(10)"
   ]
  },
  {
   "cell_type": "code",
   "execution_count": 39,
   "metadata": {},
   "outputs": [
    {
     "data": {
      "text/plain": [
       "<matplotlib.axes._subplots.AxesSubplot at 0x130a57c3470>"
      ]
     },
     "execution_count": 39,
     "metadata": {},
     "output_type": "execute_result"
    },
    {
     "data": {
      "image/png": "[encoded data removed]",
      "text/plain": [
       "<Figure size 432x288 with 1 Axes>"
      ]
     },
     "metadata": {
      "needs_background": "light"
     },
     "output_type": "display_data"
    }
   ],
   "source": [
    "df['month'].plot(grid=True)"
   ]
  },
  {
   "cell_type": "markdown",
   "metadata": {},
   "source": [
    "retrieving data between two dates by masking the rest of the dataset"
   ]
  },
  {
   "cell_type": "code",
   "execution_count": 40,
   "metadata": {},
   "outputs": [
    {
     "data": {
      "text/html": [
       "<div>\n",
       "<style scoped>\n",
       "    .dataframe tbody tr th:only-of-type {\n",
       "        vertical-align: middle;\n",
       "    }\n",
       "\n",
       "    .dataframe tbody tr th {\n",
       "        vertical-align: top;\n",
       "    }\n",
       "\n",
       "    .dataframe thead th {\n",
       "        text-align: right;\n",
       "    }\n",
       "</style>\n",
       "<table border=\"1\" class=\"dataframe\">\n",
       "  <thead>\n",
       "    <tr style=\"text-align: right;\">\n",
       "      <th></th>\n",
       "      <th>time</th>\n",
       "      <th>metric_name</th>\n",
       "      <th>metric_value</th>\n",
       "      <th>month</th>\n",
       "    </tr>\n",
       "  </thead>\n",
       "  <tbody>\n",
       "    <tr>\n",
       "      <th>312206</th>\n",
       "      <td>2018-01-01 05:00:00</td>\n",
       "      <td>google.accounts:drive_used_quota_in_mb</td>\n",
       "      <td>125169168</td>\n",
       "      <td>1</td>\n",
       "    </tr>\n",
       "    <tr>\n",
       "      <th>312207</th>\n",
       "      <td>2018-01-01 05:00:00</td>\n",
       "      <td>google.accounts:gmail_used_quota_in_mb</td>\n",
       "      <td>70401973</td>\n",
       "      <td>1</td>\n",
       "    </tr>\n",
       "    <tr>\n",
       "      <th>312208</th>\n",
       "      <td>2018-01-01 05:00:00</td>\n",
       "      <td>google.accounts:gplus_photos_used_quota_in_mb</td>\n",
       "      <td>2047455</td>\n",
       "      <td>1</td>\n",
       "    </tr>\n",
       "    <tr>\n",
       "      <th>312209</th>\n",
       "      <td>2018-01-01 05:00:00</td>\n",
       "      <td>google.accounts:num_1day_logins</td>\n",
       "      <td>3667</td>\n",
       "      <td>1</td>\n",
       "    </tr>\n",
       "    <tr>\n",
       "      <th>312210</th>\n",
       "      <td>2018-01-01 05:00:00</td>\n",
       "      <td>google.accounts:num_30day_logins</td>\n",
       "      <td>22214</td>\n",
       "      <td>1</td>\n",
       "    </tr>\n",
       "  </tbody>\n",
       "</table>\n",
       "</div>"
      ],
      "text/plain": [
       "                      time                                    metric_name  \\\n",
       "312206 2018-01-01 05:00:00         google.accounts:drive_used_quota_in_mb   \n",
       "312207 2018-01-01 05:00:00         google.accounts:gmail_used_quota_in_mb   \n",
       "312208 2018-01-01 05:00:00  google.accounts:gplus_photos_used_quota_in_mb   \n",
       "312209 2018-01-01 05:00:00                google.accounts:num_1day_logins   \n",
       "312210 2018-01-01 05:00:00               google.accounts:num_30day_logins   \n",
       "\n",
       "        metric_value  month  \n",
       "312206     125169168      1  \n",
       "312207      70401973      1  \n",
       "312208       2047455      1  \n",
       "312209          3667      1  \n",
       "312210         22214      1  "
      ]
     },
     "execution_count": 40,
     "metadata": {},
     "output_type": "execute_result"
    }
   ],
   "source": [
    "\n",
    "from datetime import datetime\n",
    "start= datetime(2018, 1 ,1)\n",
    "end= datetime(2018, 6, 30)\n",
    "mask = (df['time'] > start) & (df['time'] <= end)\n",
    "df.loc[mask].head()\n",
    "\n"
   ]
  },
  {
   "cell_type": "code",
   "execution_count": null,
   "metadata": {},
   "outputs": [],
   "source": []
  }
 ],
 "metadata": {
  "kernelspec": {
   "display_name": "Python 3",
   "language": "python",
   "name": "python3"
  },
  "language_info": {
   "codemirror_mode": {
    "name": "ipython",
    "version": 3
   },
   "file_extension": ".py",
   "mimetype": "text/x-python",
   "name": "python",
   "nbconvert_exporter": "python",
   "pygments_lexer": "ipython3",
   "version": "3.7.1"
  }
 },
 "nbformat": 4,
 "nbformat_minor": 2
}
