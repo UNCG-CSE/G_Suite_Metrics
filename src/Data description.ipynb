{
 "cells": [
  {
   "cell_type": "markdown",
   "metadata": {},
   "source": [
    "Raw data extraction to Pandas dataframes.\n",
    "I took Anusha's code and applied the cleaned dataset."
   ]
  },
  {
   "cell_type": "code",
   "execution_count": 72,
   "metadata": {},
   "outputs": [],
   "source": [
    "import pandas as pd\n",
    "data_path = \"C:\\\\Users\\\\Henry\\\\Documents\\\\405-DataScience\\\\G_Suite_Metrics\\\\data\\\\Somewhat_cleaned_data.csv\"\n",
    "data = pd.read_csv(data_path)\n",
    "data_path_write = 'C:\\\\Users\\\\Henry\\\\Documents\\\\405-DataScience\\\\G_Suite_Metrics\\\\data\\\\'"
   ]
  },
  {
   "cell_type": "markdown",
   "metadata": {},
   "source": [
    "Column names "
   ]
  },
  {
   "cell_type": "code",
   "execution_count": 62,
   "metadata": {},
   "outputs": [
    {
     "data": {
      "text/html": [
       "<div>\n",
       "<style scoped>\n",
       "    .dataframe tbody tr th:only-of-type {\n",
       "        vertical-align: middle;\n",
       "    }\n",
       "\n",
       "    .dataframe tbody tr th {\n",
       "        vertical-align: top;\n",
       "    }\n",
       "\n",
       "    .dataframe thead th {\n",
       "        text-align: right;\n",
       "    }\n",
       "</style>\n",
       "<table border=\"1\" class=\"dataframe\">\n",
       "  <thead>\n",
       "    <tr style=\"text-align: right;\">\n",
       "      <th></th>\n",
       "      <th>time</th>\n",
       "      <th>metric_name</th>\n",
       "      <th>metric_value</th>\n",
       "    </tr>\n",
       "  </thead>\n",
       "  <tbody>\n",
       "    <tr>\n",
       "      <th>0</th>\n",
       "      <td>2015-03-23T00:00:00.000-0400</td>\n",
       "      <td>google.accounts:drive_used_quota_in_mb</td>\n",
       "      <td>9537833</td>\n",
       "    </tr>\n",
       "    <tr>\n",
       "      <th>1</th>\n",
       "      <td>2015-03-23T00:00:00.000-0400</td>\n",
       "      <td>google.accounts:gmail_used_quota_in_mb</td>\n",
       "      <td>29158045</td>\n",
       "    </tr>\n",
       "    <tr>\n",
       "      <th>2</th>\n",
       "      <td>2015-03-23T00:00:00.000-0400</td>\n",
       "      <td>google.accounts:gplus_photos_used_quota_in_mb</td>\n",
       "      <td>659544</td>\n",
       "    </tr>\n",
       "    <tr>\n",
       "      <th>3</th>\n",
       "      <td>2015-03-23T00:00:00.000-0400</td>\n",
       "      <td>google.accounts:num_1day_logins</td>\n",
       "      <td>16814</td>\n",
       "    </tr>\n",
       "    <tr>\n",
       "      <th>4</th>\n",
       "      <td>2015-03-23T00:00:00.000-0400</td>\n",
       "      <td>google.accounts:num_30day_logins</td>\n",
       "      <td>24022</td>\n",
       "    </tr>\n",
       "  </tbody>\n",
       "</table>\n",
       "</div>"
      ],
      "text/plain": [
       "                           time  \\\n",
       "0  2015-03-23T00:00:00.000-0400   \n",
       "1  2015-03-23T00:00:00.000-0400   \n",
       "2  2015-03-23T00:00:00.000-0400   \n",
       "3  2015-03-23T00:00:00.000-0400   \n",
       "4  2015-03-23T00:00:00.000-0400   \n",
       "\n",
       "                                     metric_name  metric_value  \n",
       "0         google.accounts:drive_used_quota_in_mb       9537833  \n",
       "1         google.accounts:gmail_used_quota_in_mb      29158045  \n",
       "2  google.accounts:gplus_photos_used_quota_in_mb        659544  \n",
       "3                google.accounts:num_1day_logins         16814  \n",
       "4               google.accounts:num_30day_logins         24022  "
      ]
     },
     "execution_count": 62,
     "metadata": {},
     "output_type": "execute_result"
    }
   ],
   "source": [
    "data.head()"
   ]
  },
  {
   "cell_type": "markdown",
   "metadata": {},
   "source": [
    "Shape of data"
   ]
  },
  {
   "cell_type": "code",
   "execution_count": 63,
   "metadata": {},
   "outputs": [
    {
     "data": {
      "text/plain": [
       "(349580, 3)"
      ]
     },
     "execution_count": 63,
     "metadata": {},
     "output_type": "execute_result"
    }
   ],
   "source": [
    "data.shape"
   ]
  },
  {
   "cell_type": "markdown",
   "metadata": {},
   "source": [
    "Total number of elements"
   ]
  },
  {
   "cell_type": "code",
   "execution_count": 64,
   "metadata": {},
   "outputs": [
    {
     "data": {
      "text/plain": [
       "1048740"
      ]
     },
     "execution_count": 64,
     "metadata": {},
     "output_type": "execute_result"
    }
   ],
   "source": [
    "data.size"
   ]
  },
  {
   "cell_type": "markdown",
   "metadata": {},
   "source": [
    "Number of dimensions"
   ]
  },
  {
   "cell_type": "code",
   "execution_count": 65,
   "metadata": {},
   "outputs": [
    {
     "data": {
      "text/plain": [
       "2"
      ]
     },
     "execution_count": 65,
     "metadata": {},
     "output_type": "execute_result"
    }
   ],
   "source": [
    "data.ndim"
   ]
  },
  {
   "cell_type": "markdown",
   "metadata": {},
   "source": [
    "Maximum value in dataframe"
   ]
  },
  {
   "cell_type": "code",
   "execution_count": 66,
   "metadata": {
    "scrolled": true
   },
   "outputs": [
    {
     "data": {
      "text/plain": [
       "time                2019-08-17T00:00:00.000-0400\n",
       "metric_name     google.accounts:used_quota_in_mb\n",
       "metric_value                           274032962\n",
       "Name: 349231, dtype: object"
      ]
     },
     "execution_count": 66,
     "metadata": {},
     "output_type": "execute_result"
    }
   ],
   "source": [
    "data.loc[data['metric_value'].idxmax()]"
   ]
  },
  {
   "cell_type": "markdown",
   "metadata": {},
   "source": [
    "Minimun value in dataframe"
   ]
  },
  {
   "cell_type": "code",
   "execution_count": 67,
   "metadata": {},
   "outputs": [
    {
     "data": {
      "text/plain": [
       "time                                 2017-05-18T00:00:00.000-0400\n",
       "metric_name     google.drive:num_owned_items_with_visibility_p...\n",
       "metric_value                                              -376732\n",
       "Name: 97988, dtype: object"
      ]
     },
     "execution_count": 67,
     "metadata": {},
     "output_type": "execute_result"
    }
   ],
   "source": [
    "data.loc[data['metric_value'].idxmin()]"
   ]
  },
  {
   "cell_type": "markdown",
   "metadata": {},
   "source": [
    "Finding total number of metric names"
   ]
  },
  {
   "cell_type": "code",
   "execution_count": 68,
   "metadata": {},
   "outputs": [
    {
     "data": {
      "text/plain": [
       "434"
      ]
     },
     "execution_count": 68,
     "metadata": {},
     "output_type": "execute_result"
    }
   ],
   "source": [
    "group_names = data.metric_name.unique()\n",
    "len(group_names)"
   ]
  },
  {
   "cell_type": "markdown",
   "metadata": {},
   "source": [
    "Displaying Metric names in dataset"
   ]
  },
  {
   "cell_type": "code",
   "execution_count": 52,
   "metadata": {},
   "outputs": [
    {
     "data": {
      "text/plain": [
       "array(['google.accounts:drive_used_quota_in_mb',\n",
       "       'google.accounts:gmail_used_quota_in_mb',\n",
       "       'google.accounts:gplus_photos_used_quota_in_mb',\n",
       "       'google.accounts:num_1day_logins',\n",
       "       'google.accounts:num_30day_logins',\n",
       "       'google.accounts:num_7day_logins',\n",
       "       'google.accounts:num_authorized_apps',\n",
       "       'google.accounts:num_delegated_admins',\n",
       "       'google.accounts:num_disabled_accounts',\n",
       "       'google.accounts:num_locked_users',\n",
       "       'google.accounts:num_super_admins',\n",
       "       'google.accounts:num_suspended_users', 'google.accounts:num_users',\n",
       "       'google.accounts:num_users_2sv_enforced',\n",
       "       'google.accounts:num_users_2sv_enrolled',\n",
       "       'google.accounts:num_users_2sv_enrolled_and_enforced',\n",
       "       'google.accounts:num_users_2sv_not_enforced',\n",
       "       'google.accounts:num_users_2sv_not_enrolled',\n",
       "       'google.accounts:num_users_2sv_not_enrolled_and_not_enforced',\n",
       "       'google.accounts:num_users_2sv_not_enrolled_but_enforced',\n",
       "       'google.accounts:num_users_used_quota_lt_50percent',\n",
       "       'google.accounts:total_quota_in_mb',\n",
       "       'google.accounts:used_quota_in_mb',\n",
       "       'google.calendar:num_1day_active_users',\n",
       "       'google.calendar:num_30day_active_users',\n",
       "       'google.calendar:num_7day_active_users',\n",
       "       'google.device_management:num_1day_google_sync_managed_devices',\n",
       "       'google.device_management:num_1day_google_sync_managed_users',\n",
       "       'google.device_management:num_1day_total_managed_devices',\n",
       "       'google.device_management:num_1day_total_managed_users',\n",
       "       'google.device_management:num_30day_google_sync_managed_devices',\n",
       "       'google.device_management:num_30day_google_sync_managed_users',\n",
       "       'google.device_management:num_30day_total_managed_devices',\n",
       "       'google.device_management:num_30day_total_managed_users',\n",
       "       'google.device_management:num_7day_google_sync_managed_devices',\n",
       "       'google.device_management:num_7day_google_sync_managed_users',\n",
       "       'google.device_management:num_7day_total_managed_devices',\n",
       "       'google.device_management:num_7day_total_managed_users',\n",
       "       'google.docs:num_1day_active_users',\n",
       "       'google.docs:num_30day_active_users',\n",
       "       'google.docs:num_7day_active_users', 'google.docs:num_docs',\n",
       "       'google.docs:num_docs_edited',\n",
       "       'google.docs:num_docs_externally_visible',\n",
       "       'google.docs:num_docs_internally_visible',\n",
       "       'google.docs:num_docs_not_edited_for_12months',\n",
       "       'google.docs:num_docs_not_edited_for_3months',\n",
       "       'google.docs:num_docs_not_edited_for_6months',\n",
       "       'google.docs:num_docs_not_viewed_for_12months',\n",
       "       'google.docs:num_docs_not_viewed_for_3months',\n",
       "       'google.docs:num_docs_not_viewed_for_6months',\n",
       "       'google.docs:num_docs_shared_outside_domain',\n",
       "       'google.docs:num_docs_viewed',\n",
       "       'google.docs:num_docs_with_visibility_anyone_with_link',\n",
       "       'google.docs:num_docs_with_visibility_people_at_domain',\n",
       "       'google.docs:num_docs_with_visibility_people_at_domain_with_link',\n",
       "       'google.docs:num_docs_with_visibility_private',\n",
       "       'google.docs:num_docs_with_visibility_public',\n",
       "       'google.docs:num_drawings', 'google.docs:num_drawings_edited',\n",
       "       'google.docs:num_drawings_viewed', 'google.docs:num_forms',\n",
       "       'google.docs:num_forms_edited', 'google.docs:num_forms_viewed',\n",
       "       'google.docs:num_presentations',\n",
       "       'google.docs:num_presentations_edited',\n",
       "       'google.docs:num_presentations_viewed',\n",
       "       'google.docs:num_shared_docs', 'google.docs:num_spreadsheets',\n",
       "       'google.docs:num_spreadsheets_edited',\n",
       "       'google.docs:num_spreadsheets_viewed',\n",
       "       'google.docs:num_text_documents',\n",
       "       'google.docs:num_text_documents_edited',\n",
       "       'google.docs:num_text_documents_viewed',\n",
       "       'google.docs:num_uploaded_files',\n",
       "       'google.docs:num_uploaded_files_edited',\n",
       "       'google.docs:num_uploaded_files_viewed',\n",
       "       'google.gmail:num_1day_active_users',\n",
       "       'google.gmail:num_1day_imap_users',\n",
       "       'google.gmail:num_1day_pop_users',\n",
       "       'google.gmail:num_1day_webmail_users',\n",
       "       'google.gmail:num_30day_active_users',\n",
       "       'google.gmail:num_30day_imap_users',\n",
       "       'google.gmail:num_30day_pop_users',\n",
       "       'google.gmail:num_30day_webmail_users',\n",
       "       'google.gmail:num_7day_active_users',\n",
       "       'google.gmail:num_7day_imap_users',\n",
       "       'google.gmail:num_7day_pop_users',\n",
       "       'google.gmail:num_7day_webmail_users',\n",
       "       'google.gmail:num_emails_exchanged',\n",
       "       'google.gmail:num_emails_received', 'google.gmail:num_emails_sent',\n",
       "       'google.gmail:num_inbound_delivered_emails',\n",
       "       'google.gmail:num_inbound_encrypted_emails',\n",
       "       'google.gmail:num_inbound_non_spam_emails',\n",
       "       'google.gmail:num_inbound_rejected_emails',\n",
       "       'google.gmail:num_inbound_rerouted_emails',\n",
       "       'google.gmail:num_inbound_spam_emails',\n",
       "       'google.gmail:num_inbound_unencrypted_emails',\n",
       "       'google.gmail:num_outbound_delivered_emails',\n",
       "       'google.gmail:num_outbound_encrypted_emails',\n",
       "       'google.gmail:num_outbound_rejected_emails',\n",
       "       'google.gmail:num_outbound_rerouted_emails',\n",
       "       'google.gmail:num_outbound_unencrypted_emails',\n",
       "       'google.gplus:num_1day_active_users',\n",
       "       'google.gplus:num_30day_active_users',\n",
       "       'google.gplus:num_7day_active_users',\n",
       "       'google.gplus:num_video_calls',\n",
       "       'google.gplus:num_video_conferences',\n",
       "       'google.gplus:total_video_call_minutes', 'google.sites:num_sites',\n",
       "       'google.sites:num_sites_created',\n",
       "       'google.accounts:num_security_keys',\n",
       "       'google.accounts:num_users_less_secure_apps_access_allowed',\n",
       "       'google.accounts:num_users_less_secure_apps_access_denied',\n",
       "       'google.accounts:num_users_overridden_names',\n",
       "       'google.device_management:num_total_unmanaged_users',\n",
       "       'google.device_management:num_total_users',\n",
       "       'google.accounts:num_chrome_30day_active_users',\n",
       "       'google.accounts:num_chrome_7day_active_users',\n",
       "       'google.accounts:num_desktop_30day_active_users',\n",
       "       'google.accounts:num_desktop_7day_active_users',\n",
       "       'google.accounts:num_firefox_30day_active_users',\n",
       "       'google.accounts:num_firefox_7day_active_users',\n",
       "       'google.accounts:num_ie_30day_active_users',\n",
       "       'google.accounts:num_ie_7day_active_users',\n",
       "       'google.accounts:num_mobile_30day_active_users',\n",
       "       'google.accounts:num_mobile_7day_active_users',\n",
       "       'google.accounts:num_opera_30day_active_users',\n",
       "       'google.accounts:num_opera_7day_active_users',\n",
       "       'google.accounts:num_other_browsers_30day_active_users',\n",
       "       'google.accounts:num_other_browsers_7day_active_users',\n",
       "       'google.accounts:num_safari_30day_active_users',\n",
       "       'google.accounts:num_safari_7day_active_users',\n",
       "       'google.gplus:num_video_calls_cfm',\n",
       "       'google.gplus:num_video_calls_web',\n",
       "       'google.gplus:num_video_conferences_cfm',\n",
       "       'google.gplus:num_video_conferences_mobile',\n",
       "       'google.gplus:num_video_conferences_web',\n",
       "       'google.gplus:total_video_call_minutes_cfm',\n",
       "       'google.gplus:total_video_call_minutes_web',\n",
       "       'google.docs:num_active_users',\n",
       "       'google.docs:num_owned_google_documents_created',\n",
       "       'google.docs:num_owned_google_documents_edited',\n",
       "       'google.docs:num_owned_google_documents_trashed',\n",
       "       'google.docs:num_owned_google_documents_viewed',\n",
       "       'google.docs:num_owned_google_drawings_created',\n",
       "       'google.docs:num_owned_google_drawings_edited',\n",
       "       'google.docs:num_owned_google_drawings_trashed',\n",
       "       'google.docs:num_owned_google_drawings_viewed',\n",
       "       'google.docs:num_owned_google_forms_created',\n",
       "       'google.docs:num_owned_google_forms_edited',\n",
       "       'google.docs:num_owned_google_forms_trashed',\n",
       "       'google.docs:num_owned_google_forms_viewed',\n",
       "       'google.docs:num_owned_google_presentations_created',\n",
       "       'google.docs:num_owned_google_presentations_edited',\n",
       "       'google.docs:num_owned_google_presentations_trashed',\n",
       "       'google.docs:num_owned_google_presentations_viewed',\n",
       "       'google.docs:num_owned_google_spreadsheets_created',\n",
       "       'google.docs:num_owned_google_spreadsheets_edited',\n",
       "       'google.docs:num_owned_google_spreadsheets_trashed',\n",
       "       'google.docs:num_owned_google_spreadsheets_viewed',\n",
       "       'google.docs:num_owned_items_created',\n",
       "       'google.docs:num_owned_items_edited',\n",
       "       'google.docs:num_owned_items_trashed',\n",
       "       'google.docs:num_owned_items_viewed',\n",
       "       'google.docs:num_owned_other_types_created',\n",
       "       'google.docs:num_owned_other_types_edited',\n",
       "       'google.docs:num_owned_other_types_trashed',\n",
       "       'google.docs:num_owned_other_types_viewed',\n",
       "       'google.gplus:num_new_users', 'google.gplus:num_plusones',\n",
       "       'google.gplus:num_replies', 'google.gplus:num_reshares',\n",
       "       'google.gplus:num_shares', 'google.gplus:num_stream_items_read',\n",
       "       'google._empty_', 'google.drive:num_1day_active_users',\n",
       "       'google.drive:num_collaborators', 'google.drive:num_consumers',\n",
       "       'google.drive:num_creators',\n",
       "       'google.drive:num_google_documents_created',\n",
       "       'google.drive:num_google_documents_edited',\n",
       "       'google.drive:num_google_documents_trashed',\n",
       "       'google.drive:num_google_documents_viewed',\n",
       "       'google.drive:num_google_drawings_created',\n",
       "       'google.drive:num_google_drawings_edited',\n",
       "       'google.drive:num_google_drawings_trashed',\n",
       "       'google.drive:num_google_drawings_viewed',\n",
       "       'google.drive:num_google_forms_created',\n",
       "       'google.drive:num_google_forms_edited',\n",
       "       'google.drive:num_google_forms_trashed',\n",
       "       'google.drive:num_google_forms_viewed',\n",
       "       'google.drive:num_google_presentations_created',\n",
       "       'google.drive:num_google_presentations_edited',\n",
       "       'google.drive:num_google_presentations_trashed',\n",
       "       'google.drive:num_google_presentations_viewed',\n",
       "       'google.drive:num_google_spreadsheets_created',\n",
       "       'google.drive:num_google_spreadsheets_edited',\n",
       "       'google.drive:num_google_spreadsheets_trashed',\n",
       "       'google.drive:num_google_spreadsheets_viewed',\n",
       "       'google.drive:num_items_created', 'google.drive:num_items_edited',\n",
       "       'google.drive:num_items_trashed', 'google.drive:num_items_viewed',\n",
       "       'google.drive:num_other_types_created',\n",
       "       'google.drive:num_other_types_edited',\n",
       "       'google.drive:num_other_types_trashed',\n",
       "       'google.drive:num_other_types_viewed',\n",
       "       'google.drive:num_owned_google_documents_added',\n",
       "       'google.drive:num_owned_google_documents_created',\n",
       "       'google.drive:num_owned_google_documents_delta',\n",
       "       'google.drive:num_owned_google_documents_edited',\n",
       "       'google.drive:num_owned_google_documents_removed',\n",
       "       'google.drive:num_owned_google_documents_trashed',\n",
       "       'google.drive:num_owned_google_documents_viewed',\n",
       "       'google.drive:num_owned_google_drawings_added',\n",
       "       'google.drive:num_owned_google_drawings_created',\n",
       "       'google.drive:num_owned_google_drawings_delta',\n",
       "       'google.drive:num_owned_google_drawings_edited',\n",
       "       'google.drive:num_owned_google_drawings_removed',\n",
       "       'google.drive:num_owned_google_drawings_trashed',\n",
       "       'google.drive:num_owned_google_drawings_viewed',\n",
       "       'google.drive:num_owned_google_forms_added',\n",
       "       'google.drive:num_owned_google_forms_created',\n",
       "       'google.drive:num_owned_google_forms_delta',\n",
       "       'google.drive:num_owned_google_forms_edited',\n",
       "       'google.drive:num_owned_google_forms_removed',\n",
       "       'google.drive:num_owned_google_forms_trashed',\n",
       "       'google.drive:num_owned_google_forms_viewed',\n",
       "       'google.drive:num_owned_google_presentations_added',\n",
       "       'google.drive:num_owned_google_presentations_created',\n",
       "       'google.drive:num_owned_google_presentations_delta',\n",
       "       'google.drive:num_owned_google_presentations_edited',\n",
       "       'google.drive:num_owned_google_presentations_removed',\n",
       "       'google.drive:num_owned_google_presentations_trashed',\n",
       "       'google.drive:num_owned_google_presentations_viewed',\n",
       "       'google.drive:num_owned_google_spreadsheets_added',\n",
       "       'google.drive:num_owned_google_spreadsheets_created',\n",
       "       'google.drive:num_owned_google_spreadsheets_delta',\n",
       "       'google.drive:num_owned_google_spreadsheets_edited',\n",
       "       'google.drive:num_owned_google_spreadsheets_removed',\n",
       "       'google.drive:num_owned_google_spreadsheets_trashed',\n",
       "       'google.drive:num_owned_google_spreadsheets_viewed',\n",
       "       'google.drive:num_owned_items_added',\n",
       "       'google.drive:num_owned_items_created',\n",
       "       'google.drive:num_owned_items_delta',\n",
       "       'google.drive:num_owned_items_edited',\n",
       "       'google.drive:num_owned_items_removed',\n",
       "       'google.drive:num_owned_items_trashed',\n",
       "       'google.drive:num_owned_items_viewed',\n",
       "       'google.drive:num_owned_items_with_visibility_anyone_in_domain_added',\n",
       "       'google.drive:num_owned_items_with_visibility_anyone_in_domain_delta',\n",
       "       'google.drive:num_owned_items_with_visibility_anyone_in_domain_removed',\n",
       "       'google.drive:num_owned_items_with_visibility_anyone_in_domain_with_link_added',\n",
       "       'google.drive:num_owned_items_with_visibility_anyone_in_domain_with_link_delta',\n",
       "       'google.drive:num_owned_items_with_visibility_anyone_in_domain_with_link_removed',\n",
       "       'google.drive:num_owned_items_with_visibility_anyone_with_link_added',\n",
       "       'google.drive:num_owned_items_with_visibility_anyone_with_link_delta',\n",
       "       'google.drive:num_owned_items_with_visibility_anyone_with_link_removed',\n",
       "       'google.drive:num_owned_items_with_visibility_private_added',\n",
       "       'google.drive:num_owned_items_with_visibility_private_delta',\n",
       "       'google.drive:num_owned_items_with_visibility_private_removed',\n",
       "       'google.drive:num_owned_items_with_visibility_public_added',\n",
       "       'google.drive:num_owned_items_with_visibility_public_delta',\n",
       "       'google.drive:num_owned_items_with_visibility_public_removed',\n",
       "       'google.drive:num_owned_items_with_visibility_shared_externally_added',\n",
       "       'google.drive:num_owned_items_with_visibility_shared_externally_delta',\n",
       "       'google.drive:num_owned_items_with_visibility_shared_externally_removed',\n",
       "       'google.drive:num_owned_items_with_visibility_shared_internally_added',\n",
       "       'google.drive:num_owned_items_with_visibility_shared_internally_delta',\n",
       "       'google.drive:num_owned_items_with_visibility_shared_internally_removed',\n",
       "       'google.drive:num_owned_items_with_visibility_unknown_added',\n",
       "       'google.drive:num_owned_items_with_visibility_unknown_delta',\n",
       "       'google.drive:num_owned_items_with_visibility_unknown_removed',\n",
       "       'google.drive:num_owned_other_types_added',\n",
       "       'google.drive:num_owned_other_types_created',\n",
       "       'google.drive:num_owned_other_types_delta',\n",
       "       'google.drive:num_owned_other_types_edited',\n",
       "       'google.drive:num_owned_other_types_removed',\n",
       "       'google.drive:num_owned_other_types_trashed',\n",
       "       'google.drive:num_owned_other_types_viewed',\n",
       "       'google.drive:num_sharers', 'google.cros:num_30day_active_devices',\n",
       "       'google.cros:num_7day_active_devices',\n",
       "       'google.cros:num_beta_channel_devices',\n",
       "       'google.cros:num_dev_boot_devices',\n",
       "       'google.cros:num_dev_channel_devices',\n",
       "       'google.cros:num_other_channel_devices',\n",
       "       'google.cros:num_stable_channel_devices',\n",
       "       'google.cros:num_unreported_boot_devices',\n",
       "       'google.cros:num_unreported_channel_devices',\n",
       "       'google.cros:num_verified_boot_devices',\n",
       "       'google.gplus:num_7day_active_cfm_devices',\n",
       "       'google.classroom:num_14day_active_courses',\n",
       "       'google.classroom:num_1day_students',\n",
       "       'google.classroom:num_1day_teachers',\n",
       "       'google.classroom:num_1day_users',\n",
       "       'google.classroom:num_30day_students',\n",
       "       'google.classroom:num_30day_teachers',\n",
       "       'google.classroom:num_30day_users',\n",
       "       'google.classroom:num_7day_students',\n",
       "       'google.classroom:num_7day_teachers',\n",
       "       'google.classroom:num_7day_users',\n",
       "       'google.classroom:num_courses_created',\n",
       "       'google.classroom:num_student_posts_created',\n",
       "       'google.classroom:num_teacher_posts_created',\n",
       "       'google.drive:num_1day_google_documents_active_users',\n",
       "       'google.drive:num_1day_google_drawings_active_users',\n",
       "       'google.drive:num_1day_google_forms_active_users',\n",
       "       'google.drive:num_1day_google_presentations_active_users',\n",
       "       'google.drive:num_1day_google_spreadsheets_active_users',\n",
       "       'google.drive:num_1day_other_types_active_users',\n",
       "       'google.drive:num_30day_active_users',\n",
       "       'google.drive:num_30day_google_documents_active_users',\n",
       "       'google.drive:num_30day_google_drawings_active_users',\n",
       "       'google.drive:num_30day_google_forms_active_users',\n",
       "       'google.drive:num_30day_google_presentations_active_users',\n",
       "       'google.drive:num_30day_google_spreadsheets_active_users',\n",
       "       'google.drive:num_30day_other_types_active_users',\n",
       "       'google.drive:num_7day_active_users',\n",
       "       'google.drive:num_7day_google_documents_active_users',\n",
       "       'google.drive:num_7day_google_drawings_active_users',\n",
       "       'google.drive:num_7day_google_forms_active_users',\n",
       "       'google.drive:num_7day_google_presentations_active_users',\n",
       "       'google.drive:num_7day_google_spreadsheets_active_users',\n",
       "       'google.drive:num_7day_other_types_active_users',\n",
       "       'google.gplus:num_collections',\n",
       "       'google.gplus:num_collections_organization_private',\n",
       "       'google.gplus:num_collections_organization_wide',\n",
       "       'google.gplus:num_collections_public',\n",
       "       'google.gplus:num_communities',\n",
       "       'google.gplus:num_communities_organization_private',\n",
       "       'google.gplus:num_communities_organization_wide',\n",
       "       'google.gplus:num_communities_private',\n",
       "       'google.gplus:num_communities_public',\n",
       "       'google.app_maker:num_1day_active_apps',\n",
       "       'google.app_maker:num_1day_active_users',\n",
       "       'google.apps_scripts:num_1day_active_apps',\n",
       "       'google.apps_scripts:num_1day_active_users',\n",
       "       'google.drive:num_owned_external_items_added',\n",
       "       'google.drive:num_owned_internal_items_added',\n",
       "       'google.meet:average_meeting_minutes',\n",
       "       'google.meet:average_meeting_minutes_with_11_to_15_calls',\n",
       "       'google.meet:average_meeting_minutes_with_16_to_25_calls',\n",
       "       'google.meet:average_meeting_minutes_with_2_calls',\n",
       "       'google.meet:average_meeting_minutes_with_26_to_50_calls',\n",
       "       'google.meet:average_meeting_minutes_with_3_to_5_calls',\n",
       "       'google.meet:average_meeting_minutes_with_6_to_10_calls',\n",
       "       'google.meet:lonely_meetings',\n",
       "       'google.meet:max_concurrent_usage_chromebase',\n",
       "       'google.meet:max_concurrent_usage_chromebox',\n",
       "       'google.meet:num_1day_active_users',\n",
       "       'google.meet:num_30day_active_users',\n",
       "       'google.meet:num_7day_active_users', 'google.meet:num_calls',\n",
       "       'google.meet:num_calls_by_external_users',\n",
       "       'google.meet:num_calls_by_internal_users',\n",
       "       'google.meet:num_calls_by_pstn_in_users',\n",
       "       'google.meet:num_calls_chromebase',\n",
       "       'google.meet:num_calls_chromebox',\n",
       "       'google.meet:num_calls_jamboard',\n",
       "       'google.meet:num_calls_unknown_client',\n",
       "       'google.meet:num_calls_web', 'google.meet:num_meetings',\n",
       "       'google.meet:num_meetings_chromebase',\n",
       "       'google.meet:num_meetings_chromebox',\n",
       "       'google.meet:num_meetings_jamboard',\n",
       "       'google.meet:num_meetings_unknown_client',\n",
       "       'google.meet:num_meetings_web',\n",
       "       'google.meet:num_meetings_with_11_to_15_calls',\n",
       "       'google.meet:num_meetings_with_16_to_25_calls',\n",
       "       'google.meet:num_meetings_with_2_calls',\n",
       "       'google.meet:num_meetings_with_26_to_50_calls',\n",
       "       'google.meet:num_meetings_with_3_to_5_calls',\n",
       "       'google.meet:num_meetings_with_6_to_10_calls',\n",
       "       'google.meet:num_meetings_with_external_users',\n",
       "       'google.meet:num_meetings_with_pstn_in_users',\n",
       "       'google.meet:total_call_minutes',\n",
       "       'google.meet:total_call_minutes_by_external_users',\n",
       "       'google.meet:total_call_minutes_by_internal_users',\n",
       "       'google.meet:total_call_minutes_by_pstn_in_users',\n",
       "       'google.meet:total_call_minutes_chromebase',\n",
       "       'google.meet:total_call_minutes_chromebox',\n",
       "       'google.meet:total_call_minutes_jamboard',\n",
       "       'google.meet:total_call_minutes_unknown_client',\n",
       "       'google.meet:total_call_minutes_web',\n",
       "       'google.meet:total_meeting_minutes',\n",
       "       'google.drive:num_1day_google_sites_active_users',\n",
       "       'google.drive:num_30day_google_sites_active_users',\n",
       "       'google.drive:num_7day_google_sites_active_users',\n",
       "       'google.drive:num_google_sites_created',\n",
       "       'google.drive:num_google_sites_edited',\n",
       "       'google.drive:num_google_sites_trashed',\n",
       "       'google.drive:num_google_sites_viewed',\n",
       "       'google.drive:num_owned_google_sites_added',\n",
       "       'google.drive:num_owned_google_sites_created',\n",
       "       'google.drive:num_owned_google_sites_delta',\n",
       "       'google.drive:num_owned_google_sites_edited',\n",
       "       'google.drive:num_owned_google_sites_removed',\n",
       "       'google.drive:num_owned_google_sites_trashed',\n",
       "       'google.drive:num_owned_google_sites_viewed',\n",
       "       'google.meet:num_calls_by_pstn_out_users',\n",
       "       'google.meet:num_meetings_with_pstn_out_users',\n",
       "       'google.meet:total_call_minutes_by_pstn_out_users',\n",
       "       'google.accounts:num_archived_users',\n",
       "       'google.accounts:team_drive_used_quota_in_mb',\n",
       "       'google.drive:num_monthly_active_users',\n",
       "       'google.device_management:num_1day_desktop_chrome_managed_devices',\n",
       "       'google.device_management:num_1day_desktop_chrome_managed_users',\n",
       "       'google.device_management:num_1day_desktop_linux_managed_devices',\n",
       "       'google.device_management:num_1day_desktop_linux_managed_users',\n",
       "       'google.device_management:num_1day_desktop_mac_managed_devices',\n",
       "       'google.device_management:num_1day_desktop_mac_managed_users',\n",
       "       'google.device_management:num_1day_desktop_windows_managed_devices',\n",
       "       'google.device_management:num_1day_desktop_windows_managed_users',\n",
       "       'google.device_management:num_30day_desktop_chrome_managed_devices',\n",
       "       'google.device_management:num_30day_desktop_chrome_managed_users',\n",
       "       'google.device_management:num_30day_desktop_linux_managed_devices',\n",
       "       'google.device_management:num_30day_desktop_linux_managed_users',\n",
       "       'google.device_management:num_30day_desktop_mac_managed_devices',\n",
       "       'google.device_management:num_30day_desktop_mac_managed_users',\n",
       "       'google.device_management:num_30day_desktop_windows_managed_devices',\n",
       "       'google.device_management:num_30day_desktop_windows_managed_users',\n",
       "       'google.device_management:num_7day_desktop_chrome_managed_devices',\n",
       "       'google.device_management:num_7day_desktop_chrome_managed_users',\n",
       "       'google.device_management:num_7day_desktop_linux_managed_devices',\n",
       "       'google.device_management:num_7day_desktop_linux_managed_users',\n",
       "       'google.device_management:num_7day_desktop_mac_managed_devices',\n",
       "       'google.device_management:num_7day_desktop_mac_managed_users',\n",
       "       'google.device_management:num_7day_desktop_windows_managed_devices',\n",
       "       'google.device_management:num_7day_desktop_windows_managed_users',\n",
       "       'google.cros:device_version_distribution',\n",
       "       'google.accounts:shared_drive_used_quota_in_mb'], dtype=object)"
      ]
     },
     "execution_count": 52,
     "metadata": {},
     "output_type": "execute_result"
    }
   ],
   "source": [
    "group_names"
   ]
  },
  {
   "cell_type": "markdown",
   "metadata": {},
   "source": [
    "Splitting data based on the year"
   ]
  },
  {
   "cell_type": "code",
   "execution_count": 69,
   "metadata": {},
   "outputs": [],
   "source": [
    "year2015 = data[data['time'].str.startswith('2015')]\n"
   ]
  },
  {
   "cell_type": "code",
   "execution_count": 73,
   "metadata": {},
   "outputs": [],
   "source": [
    "year2015.to_csv(data_path_write + 'FirstYear_cleaned.csv')"
   ]
  },
  {
   "cell_type": "code",
   "execution_count": 74,
   "metadata": {},
   "outputs": [],
   "source": [
    "year2016 = data[data['time'].str.startswith('2016')]\n"
   ]
  },
  {
   "cell_type": "code",
   "execution_count": 83,
   "metadata": {},
   "outputs": [],
   "source": [
    "year2016.to_csv(data_path_write + 'SecondYear_cleaned.csv')"
   ]
  },
  {
   "cell_type": "code",
   "execution_count": 76,
   "metadata": {},
   "outputs": [],
   "source": [
    "year2017 = data[data['time'].str.startswith('2017')]\n"
   ]
  },
  {
   "cell_type": "code",
   "execution_count": 85,
   "metadata": {},
   "outputs": [],
   "source": [
    "year2017.to_csv(data_path_write +'ThirdYear_cleaned.csv')"
   ]
  },
  {
   "cell_type": "code",
   "execution_count": 79,
   "metadata": {},
   "outputs": [],
   "source": [
    "year2018 = data[data['time'].str.startswith('2018')]\n"
   ]
  },
  {
   "cell_type": "code",
   "execution_count": 84,
   "metadata": {},
   "outputs": [],
   "source": [
    "year2018.to_csv(data_path_write + 'FourthYear_cleaned.csv')"
   ]
  },
  {
   "cell_type": "code",
   "execution_count": 81,
   "metadata": {},
   "outputs": [],
   "source": [
    "year2019 = data[data['time'].str.startswith('2019')]\n"
   ]
  },
  {
   "cell_type": "code",
   "execution_count": 82,
   "metadata": {},
   "outputs": [],
   "source": [
    "year2019.to_csv(data_path_write + 'FifthYear_cleaned.csv')"
   ]
  },
  {
   "cell_type": "code",
   "execution_count": null,
   "metadata": {},
   "outputs": [],
   "source": []
  },
  {
   "cell_type": "code",
   "execution_count": null,
   "metadata": {},
   "outputs": [],
   "source": []
  }
 ],
 "metadata": {
  "kernelspec": {
   "display_name": "Python 3",
   "language": "python",
   "name": "python3"
  },
  "language_info": {
   "codemirror_mode": {
    "name": "ipython",
    "version": 3
   },
   "file_extension": ".py",
   "mimetype": "text/x-python",
   "name": "python",
   "nbconvert_exporter": "python",
   "pygments_lexer": "ipython3",
   "version": "3.7.3"
  }
 },
 "nbformat": 4,
 "nbformat_minor": 2
}
