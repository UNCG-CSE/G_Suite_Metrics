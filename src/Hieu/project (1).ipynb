{
 "cells": [
  {
   "cell_type": "markdown",
   "metadata": {},
   "source": [
    "Data cleaning."
   ]
  },
  {
   "cell_type": "code",
   "execution_count": 147,
   "metadata": {
    "scrolled": true
   },
   "outputs": [
    {
     "name": "stdout",
     "output_type": "stream",
     "text": [
      "google.accounts:num_1day_logins                                      1577\n",
      "google.calendar:num_1day_active_users                                1561\n",
      "google.gmail:num_1day_imap_users                                     1536\n",
      "google.gmail:num_1day_webmail_users                                  1536\n",
      "google.gmail:num_1day_active_users                                   1531\n",
      "google.drive:num_1day_active_users                                    774\n",
      "google.drive:num_1day_google_documents_active_users                   757\n",
      "google.drive:num_1day_other_types_active_users                        757\n",
      "google.drive:num_1day_google_spreadsheets_active_users                756\n",
      "google.apps_scripts:num_1day_active_users                             750\n",
      "google.drive:num_1day_google_presentations_active_users               638\n",
      "google.apps_scripts:num_1day_active_apps                              606\n",
      "google.gplus:num_1day_active_users                                    472\n",
      "google.docs:num_1day_active_users                                     332\n",
      "google.gmail:num_1day_pop_users                                       304\n",
      "google.drive:num_1day_google_forms_active_users                        74\n",
      "google.device_management:num_1day_total_managed_devices                22\n",
      "google.device_management:num_1day_total_managed_users                  16\n",
      "google.device_management:num_1day_google_sync_managed_devices          13\n",
      "google.device_management:num_1day_desktop_windows_managed_devices       7\n",
      "Name: metric_name, dtype: int64\n"
     ]
    }
   ],
   "source": [
    "import pandas as pd\n",
    "import numpy as np\n",
    "import matplotlib.pyplot as plt\n",
    "df = pd.read_csv('Data.csv')\n",
    "# top20 = df.nlargest(20,['metric_value'])\n",
    "df = df[df.metric_value > 100]\n",
    "df = df[df['metric_name'].str.contains(\"1day\")]\n",
    "count = df['metric_name'].value_counts().head(20) \n",
    "print(count) "
   ]
  },
  {
   "cell_type": "markdown",
   "metadata": {},
   "source": [
    "Function to analyze data and create line_graph."
   ]
  },
  {
   "cell_type": "code",
   "execution_count": 148,
   "metadata": {
    "scrolled": true
   },
   "outputs": [
    {
     "data": {
      "image/png": "[encoded data removed]",
      "text/plain": [
       "<Figure size 432x288 with 1 Axes>"
      ]
     },
     "metadata": {
      "needs_background": "light"
     },
     "output_type": "display_data"
    }
   ],
   "source": [
    "df['time'] = pd.to_datetime(df['time'])\n",
    "df = df[df.metric_value != 0]\n",
    "df = df[pd.to_datetime(df['time']).dt.month == 5]\n",
    "df = df[pd.to_datetime(df['time']).dt.year == 2015]\n",
    "df = df[df.metric_name == 'google.docs:num_1day_active_users']\n",
    "df[\"time\"] = df['time'].dt.strftime(\"%d\").astype(int)\n",
    "ax = plt.gca()\n",
    "df.plot(kind='line',x='time',y='metric_value', color='red', ax=ax)\n",
    "plt.show()"
   ]
  },
  {
   "cell_type": "markdown",
   "metadata": {},
   "source": [
    "Create bar-graph and 5-number summary."
   ]
  },
  {
   "cell_type": "code",
   "execution_count": 146,
   "metadata": {},
   "outputs": [
    {
     "data": {
      "image/png": "[encoded data removed]",
      "text/plain": [
       "<Figure size 432x288 with 1 Axes>"
      ]
     },
     "metadata": {
      "needs_background": "light"
     },
     "output_type": "display_data"
    },
    {
     "name": "stdout",
     "output_type": "stream",
     "text": [
      "Minimum:  350\n",
      "Q1:  493.0\n",
      "Median:  1098.0\n",
      "Q3:  1294.0\n",
      "Maximum:  2324\n",
      "       time                        metric_name  metric_value\n",
      "9842      1  google.docs:num_1day_active_users          1986\n",
      "10092     2  google.docs:num_1day_active_users           937\n",
      "10342     3  google.docs:num_1day_active_users          1507\n",
      "10592     4  google.docs:num_1day_active_users          2324\n",
      "10842     5  google.docs:num_1day_active_users          2019\n",
      "11092     6  google.docs:num_1day_active_users          1702\n",
      "11342     7  google.docs:num_1day_active_users          1359\n",
      "11592     8  google.docs:num_1day_active_users           954\n",
      "11842     9  google.docs:num_1day_active_users           386\n",
      "12092    10  google.docs:num_1day_active_users           367\n",
      "12342    11  google.docs:num_1day_active_users          1145\n",
      "12592    12  google.docs:num_1day_active_users          1064\n",
      "12839    13  google.docs:num_1day_active_users          1086\n",
      "13086    14  google.docs:num_1day_active_users          1098\n",
      "13333    15  google.docs:num_1day_active_users           927\n",
      "13580    16  google.docs:num_1day_active_users           373\n",
      "13827    17  google.docs:num_1day_active_users           493\n",
      "14074    18  google.docs:num_1day_active_users          1294\n",
      "14321    19  google.docs:num_1day_active_users          1289\n",
      "14568    20  google.docs:num_1day_active_users          1223\n",
      "14815    21  google.docs:num_1day_active_users          1180\n",
      "15062    22  google.docs:num_1day_active_users           841\n",
      "15309    23  google.docs:num_1day_active_users           350\n",
      "15556    24  google.docs:num_1day_active_users           377\n",
      "15803    25  google.docs:num_1day_active_users           489\n",
      "16050    26  google.docs:num_1day_active_users          1273\n",
      "16153    27  google.docs:num_1day_active_users          1303\n",
      "16400    28  google.docs:num_1day_active_users          1191\n",
      "16864    30  google.docs:num_1day_active_users           405\n"
     ]
    }
   ],
   "source": [
    "df.plot(kind='bar',x='time',y='metric_value',color='red')\n",
    "plt.show()\n",
    "\n",
    "# calculate a 5-number summary\n",
    "from numpy import percentile\n",
    "# calculate quartiles\n",
    "quartiles = percentile(df['metric_value'], [25, 50, 75])\n",
    "# calculate min/max\n",
    "data_min, data_max = df['metric_value'].min(), df['metric_value'].max()\n",
    "# print 5-number summary\n",
    "print('Minimum: ',data_min)\n",
    "print('Q1: ',quartiles[0])\n",
    "print('Median: ',quartiles[1])\n",
    "print('Q3: ',quartiles[2])\n",
    "print('Maximum: ',data_max)\n",
    "print(df)"
   ]
  }
 ],
 "metadata": {
  "kernelspec": {
   "display_name": "Python 3",
   "language": "python",
   "name": "python3"
  },
  "language_info": {
   "codemirror_mode": {
    "name": "ipython",
    "version": 3
   },
   "file_extension": ".py",
   "mimetype": "text/x-python",
   "name": "python",
   "nbconvert_exporter": "python",
   "pygments_lexer": "ipython3",
   "version": "3.7.1"
  }
 },
 "nbformat": 4,
 "nbformat_minor": 2
}
