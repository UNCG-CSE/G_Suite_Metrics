{
 "cells": [
  {
   "cell_type": "code",
   "execution_count": 100,
   "metadata": {},
   "outputs": [
    {
     "name": "stdout",
     "output_type": "stream",
     "text": [
      "google.gmail:num_inbound_delivered_emails                      1584\n",
      "google.gmail:num_outbound_encrypted_emails                     1584\n",
      "google.gmail:num_inbound_spam_emails                           1584\n",
      "google.gmail:num_inbound_encrypted_emails                      1584\n",
      "google.gmail:num_inbound_non_spam_emails                       1584\n",
      "google.gmail:num_inbound_unencrypted_emails                    1583\n",
      "google.accounts:num_suspended_users                            1577\n",
      "google.accounts:num_1day_logins                                1577\n",
      "google.accounts:num_users_2sv_not_enrolled_and_not_enforced    1577\n",
      "google.accounts:num_users                                      1577\n",
      "google.accounts:num_users_2sv_not_enforced                     1577\n",
      "google.accounts:num_7day_logins                                1577\n",
      "google.accounts:num_disabled_accounts                          1577\n",
      "google.accounts:num_users_2sv_not_enrolled                     1577\n",
      "google.accounts:num_30day_logins                               1577\n",
      "google.calendar:num_30day_active_users                         1561\n",
      "google.calendar:num_7day_active_users                          1561\n",
      "google.sites:num_sites                                         1556\n",
      "google.gmail:num_outbound_delivered_emails                     1554\n",
      "google.accounts:num_authorized_apps                            1542\n",
      "Name: metric_name, dtype: int64\n"
     ]
    }
   ],
   "source": [
    "import pandas as pd\n",
    "import numpy as np\n",
    "import matplotlib.pyplot as plt\n",
    "df = pd.read_csv('Data.csv')\n",
    "# top20 = df.nlargest(20,['metric_value'])\n",
    "df = df[df.metric_value > 1000]\n",
    "count = df['metric_name'].value_counts().head(20) \n",
    "print(count) "
   ]
  },
  {
   "cell_type": "code",
   "execution_count": 85,
   "metadata": {},
   "outputs": [
    {
     "data": {
      "image/png": "[encoded data removed]",
      "text/plain": [
       "<Figure size 432x288 with 1 Axes>"
      ]
     },
     "metadata": {
      "needs_background": "light"
     },
     "output_type": "display_data"
    },
    {
     "name": "stdout",
     "output_type": "stream",
     "text": [
      "           time                        metric_name  metric_value\n",
      "9842   20150501  google.docs:num_1day_active_users          1986\n",
      "10092  20150502  google.docs:num_1day_active_users           937\n",
      "10342  20150503  google.docs:num_1day_active_users          1507\n",
      "10592  20150504  google.docs:num_1day_active_users          2324\n",
      "10842  20150505  google.docs:num_1day_active_users          2019\n",
      "11092  20150506  google.docs:num_1day_active_users          1702\n",
      "11342  20150507  google.docs:num_1day_active_users          1359\n",
      "11592  20150508  google.docs:num_1day_active_users           954\n",
      "11842  20150509  google.docs:num_1day_active_users           386\n",
      "12092  20150510  google.docs:num_1day_active_users           367\n",
      "12342  20150511  google.docs:num_1day_active_users          1145\n",
      "12592  20150512  google.docs:num_1day_active_users          1064\n",
      "12839  20150513  google.docs:num_1day_active_users          1086\n",
      "13086  20150514  google.docs:num_1day_active_users          1098\n",
      "13333  20150515  google.docs:num_1day_active_users           927\n",
      "13580  20150516  google.docs:num_1day_active_users           373\n",
      "13827  20150517  google.docs:num_1day_active_users           493\n",
      "14074  20150518  google.docs:num_1day_active_users          1294\n",
      "14321  20150519  google.docs:num_1day_active_users          1289\n",
      "14568  20150520  google.docs:num_1day_active_users          1223\n",
      "14815  20150521  google.docs:num_1day_active_users          1180\n",
      "15062  20150522  google.docs:num_1day_active_users           841\n",
      "15309  20150523  google.docs:num_1day_active_users           350\n",
      "15556  20150524  google.docs:num_1day_active_users           377\n",
      "15803  20150525  google.docs:num_1day_active_users           489\n",
      "16050  20150526  google.docs:num_1day_active_users          1273\n",
      "16153  20150527  google.docs:num_1day_active_users          1303\n",
      "16400  20150528  google.docs:num_1day_active_users          1191\n",
      "16864  20150530  google.docs:num_1day_active_users           405\n"
     ]
    }
   ],
   "source": [
    "df['time'] = pd.to_datetime(df['time'])\n",
    "df = df[df.metric_value != 0]\n",
    "df = df[pd.to_datetime(df['time']).dt.month == 5]\n",
    "df = df[pd.to_datetime(df['time']).dt.year == 2015]\n",
    "df = df[df.metric_name == 'google.docs:num_1day_active_users']\n",
    "df[\"time\"] = df['time'].dt.strftime(\"%Y%m%d\").astype(int)\n",
    "df.plot(kind='bar',x='time',y='metric_value',color='red')\n",
    "plt.show()\n",
    "print(df)"
   ]
  },
  {
   "cell_type": "code",
   "execution_count": null,
   "metadata": {},
   "outputs": [],
   "source": []
  }
 ],
 "metadata": {
  "kernelspec": {
   "display_name": "Python 3",
   "language": "python",
   "name": "python3"
  },
  "language_info": {
   "codemirror_mode": {
    "name": "ipython",
    "version": 3
   },
   "file_extension": ".py",
   "mimetype": "text/x-python",
   "name": "python",
   "nbconvert_exporter": "python",
   "pygments_lexer": "ipython3",
   "version": "3.7.1"
  }
 },
 "nbformat": 4,
 "nbformat_minor": 2
}
